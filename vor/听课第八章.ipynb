{
 "cells": [
  {
   "cell_type": "markdown",
   "id": "4ebd4a7b",
   "metadata": {},
   "source": [
    "# 进入编程世界 第八课 iterable iterator"
   ]
  },
  {
   "cell_type": "markdown",
   "id": "9dbd5f61",
   "metadata": {},
   "source": [
    "## iterable iterator"
   ]
  },
  {
   "cell_type": "markdown",
   "id": "7870a92b",
   "metadata": {},
   "source": [
    "可迭代对象\n",
    "\n",
    "迭代器\n",
    "\n",
    "iterable iterator 搞计算机的人造出来的词。\n",
    "\n",
    "iterate 动词 迭代，重复、反复地做或者说。"
   ]
  },
  {
   "cell_type": "markdown",
   "id": "1e87c0c2",
   "metadata": {},
   "source": [
    "计算机通常都是处理一批数据。"
   ]
  },
  {
   "cell_type": "code",
   "execution_count": null,
   "id": "e40f6d41",
   "metadata": {},
   "outputs": [],
   "source": [
    "lst = [2, 3, 5, 7, 11, 13, 17]\n",
    "\n",
    "for n in lst:\n",
    "    do_something(n)"
   ]
  },
  {
   "cell_type": "markdown",
   "id": "358325d9",
   "metadata": {},
   "source": [
    "任何 iterable object 都可以放在 for in 后面。"
   ]
  },
  {
   "cell_type": "markdown",
   "id": "0a3188b4",
   "metadata": {},
   "source": [
    "> iterable is a **protocol**"
   ]
  },
  {
   "cell_type": "markdown",
   "id": "92dc8d84",
   "metadata": {},
   "source": [
    "所谓迭代，就是从头开始一个一个取数，把取出来的数做同样的事情，然后输出。"
   ]
  },
  {
   "cell_type": "markdown",
   "id": "cb9c22c8",
   "metadata": {},
   "source": [
    "任何一个对象，只要满足一定要求，就是可迭代的。遵循这个协议去写一个数据对象，它就是可迭代的。\n",
    "\n",
    "要求：\n",
    "\n",
    "1. `__iter__` 作用就是，返回一个迭代器。\n",
    "2. `__next__` 迭代器所需要的方法，\n",
    "3. 终止循环条件 `StopIteration`，可以没有，然后使用 itertools 的 islice 方法切片。"
   ]
  },
  {
   "cell_type": "markdown",
   "id": "2c60a071",
   "metadata": {},
   "source": [
    "iter() 这个函数，里面的参数是一个可迭代对象。"
   ]
  },
  {
   "cell_type": "code",
   "execution_count": 6,
   "id": "79daa15d",
   "metadata": {},
   "outputs": [],
   "source": [
    "class Squares:\n",
    "    def __init__(self, high):\n",
    "        self.base = 0\n",
    "        self.high = high\n",
    "        \n",
    "    def __iter__(self):\n",
    "        return self\n",
    "    \n",
    "    def __next__(self):\n",
    "        self.base += 1\n",
    "        if self.base > self.high:\n",
    "            raise StopIteration\n",
    "        else:\n",
    "            return self.base * self.base\n",
    "    \n",
    "    next = __next__"
   ]
  },
  {
   "cell_type": "code",
   "execution_count": 3,
   "id": "615c988b",
   "metadata": {},
   "outputs": [
    {
     "data": {
      "text/plain": [
       "<__main__.squares at 0x1be62c70400>"
      ]
     },
     "execution_count": 3,
     "metadata": {},
     "output_type": "execute_result"
    }
   ],
   "source": [
    "i = iter(Squares(10))\n",
    "i"
   ]
  },
  {
   "cell_type": "code",
   "execution_count": 40,
   "id": "44e739a1",
   "metadata": {},
   "outputs": [
    {
     "name": "stdout",
     "output_type": "stream",
     "text": [
      "1\n",
      "4\n",
      "9\n",
      "16\n",
      "25\n",
      "36\n",
      "49\n",
      "64\n",
      "81\n",
      "100\n"
     ]
    }
   ],
   "source": [
    "for n in squares(10):\n",
    "    print(n)"
   ]
  },
  {
   "cell_type": "markdown",
   "id": "5f8d1102",
   "metadata": {},
   "source": [
    "这个 for 循环和下面的 while 是同样的。或者说下面的 while 是拆开 for 看到的。"
   ]
  },
  {
   "cell_type": "code",
   "execution_count": 4,
   "id": "db7d5d8c",
   "metadata": {},
   "outputs": [
    {
     "name": "stdout",
     "output_type": "stream",
     "text": [
      "1\n",
      "4\n",
      "9\n",
      "16\n",
      "25\n",
      "36\n",
      "49\n",
      "64\n",
      "81\n",
      "100\n",
      "No element!\n"
     ]
    }
   ],
   "source": [
    "while True:\n",
    "    try:\n",
    "        n = next(i)\n",
    "        print(n)\n",
    "    except StopIteration:\n",
    "        print('No element!')\n",
    "        break"
   ]
  },
  {
   "cell_type": "code",
   "execution_count": 7,
   "id": "0fe0bafb",
   "metadata": {},
   "outputs": [
    {
     "data": {
      "text/plain": [
       "<__main__.Squares at 0x1be657e0670>"
      ]
     },
     "execution_count": 7,
     "metadata": {},
     "output_type": "execute_result"
    }
   ],
   "source": [
    "Squares(10).__iter__()"
   ]
  },
  {
   "cell_type": "code",
   "execution_count": 14,
   "id": "0158fec1",
   "metadata": {},
   "outputs": [
    {
     "data": {
      "text/plain": [
       "1"
      ]
     },
     "execution_count": 14,
     "metadata": {},
     "output_type": "execute_result"
    }
   ],
   "source": [
    "Squares(10).__next__()"
   ]
  },
  {
   "cell_type": "code",
   "execution_count": 15,
   "id": "6729b145",
   "metadata": {},
   "outputs": [],
   "source": [
    "i = Squares(10)"
   ]
  },
  {
   "cell_type": "code",
   "execution_count": 27,
   "id": "df0471e3",
   "metadata": {},
   "outputs": [
    {
     "ename": "StopIteration",
     "evalue": "",
     "output_type": "error",
     "traceback": [
      "\u001b[1;31m---------------------------------------------------------------------------\u001b[0m",
      "\u001b[1;31mStopIteration\u001b[0m                             Traceback (most recent call last)",
      "\u001b[1;32mC:\\Users\\ADMINI~1\\AppData\\Local\\Temp/ipykernel_2136/2142742944.py\u001b[0m in \u001b[0;36m<module>\u001b[1;34m\u001b[0m\n\u001b[1;32m----> 1\u001b[1;33m \u001b[0mi\u001b[0m\u001b[1;33m.\u001b[0m\u001b[0m__next__\u001b[0m\u001b[1;33m(\u001b[0m\u001b[1;33m)\u001b[0m\u001b[1;33m\u001b[0m\u001b[1;33m\u001b[0m\u001b[0m\n\u001b[0m",
      "\u001b[1;32mC:\\Users\\ADMINI~1\\AppData\\Local\\Temp/ipykernel_2136/3291404289.py\u001b[0m in \u001b[0;36m__next__\u001b[1;34m(self)\u001b[0m\n\u001b[0;32m     10\u001b[0m         \u001b[0mself\u001b[0m\u001b[1;33m.\u001b[0m\u001b[0mbase\u001b[0m \u001b[1;33m+=\u001b[0m \u001b[1;36m1\u001b[0m\u001b[1;33m\u001b[0m\u001b[1;33m\u001b[0m\u001b[0m\n\u001b[0;32m     11\u001b[0m         \u001b[1;32mif\u001b[0m \u001b[0mself\u001b[0m\u001b[1;33m.\u001b[0m\u001b[0mbase\u001b[0m \u001b[1;33m>\u001b[0m \u001b[0mself\u001b[0m\u001b[1;33m.\u001b[0m\u001b[0mhigh\u001b[0m\u001b[1;33m:\u001b[0m\u001b[1;33m\u001b[0m\u001b[1;33m\u001b[0m\u001b[0m\n\u001b[1;32m---> 12\u001b[1;33m             \u001b[1;32mraise\u001b[0m \u001b[0mStopIteration\u001b[0m\u001b[1;33m\u001b[0m\u001b[1;33m\u001b[0m\u001b[0m\n\u001b[0m\u001b[0;32m     13\u001b[0m         \u001b[1;32melse\u001b[0m\u001b[1;33m:\u001b[0m\u001b[1;33m\u001b[0m\u001b[1;33m\u001b[0m\u001b[0m\n\u001b[0;32m     14\u001b[0m             \u001b[1;32mreturn\u001b[0m \u001b[0mself\u001b[0m\u001b[1;33m.\u001b[0m\u001b[0mbase\u001b[0m \u001b[1;33m*\u001b[0m \u001b[0mself\u001b[0m\u001b[1;33m.\u001b[0m\u001b[0mbase\u001b[0m\u001b[1;33m\u001b[0m\u001b[1;33m\u001b[0m\u001b[0m\n",
      "\u001b[1;31mStopIteration\u001b[0m: "
     ]
    }
   ],
   "source": [
    "i.__next__()"
   ]
  },
  {
   "cell_type": "code",
   "execution_count": 28,
   "id": "909f3e4c",
   "metadata": {},
   "outputs": [],
   "source": [
    "i = Squares(10)"
   ]
  },
  {
   "cell_type": "code",
   "execution_count": 39,
   "id": "3b6bac9a",
   "metadata": {},
   "outputs": [
    {
     "ename": "StopIteration",
     "evalue": "",
     "output_type": "error",
     "traceback": [
      "\u001b[1;31m---------------------------------------------------------------------------\u001b[0m",
      "\u001b[1;31mStopIteration\u001b[0m                             Traceback (most recent call last)",
      "\u001b[1;32mC:\\Users\\ADMINI~1\\AppData\\Local\\Temp/ipykernel_2136/2809199483.py\u001b[0m in \u001b[0;36m<module>\u001b[1;34m\u001b[0m\n\u001b[1;32m----> 1\u001b[1;33m \u001b[0mi\u001b[0m\u001b[1;33m.\u001b[0m\u001b[0mnext\u001b[0m\u001b[1;33m(\u001b[0m\u001b[1;33m)\u001b[0m\u001b[1;33m\u001b[0m\u001b[1;33m\u001b[0m\u001b[0m\n\u001b[0m",
      "\u001b[1;32mC:\\Users\\ADMINI~1\\AppData\\Local\\Temp/ipykernel_2136/3291404289.py\u001b[0m in \u001b[0;36m__next__\u001b[1;34m(self)\u001b[0m\n\u001b[0;32m     10\u001b[0m         \u001b[0mself\u001b[0m\u001b[1;33m.\u001b[0m\u001b[0mbase\u001b[0m \u001b[1;33m+=\u001b[0m \u001b[1;36m1\u001b[0m\u001b[1;33m\u001b[0m\u001b[1;33m\u001b[0m\u001b[0m\n\u001b[0;32m     11\u001b[0m         \u001b[1;32mif\u001b[0m \u001b[0mself\u001b[0m\u001b[1;33m.\u001b[0m\u001b[0mbase\u001b[0m \u001b[1;33m>\u001b[0m \u001b[0mself\u001b[0m\u001b[1;33m.\u001b[0m\u001b[0mhigh\u001b[0m\u001b[1;33m:\u001b[0m\u001b[1;33m\u001b[0m\u001b[1;33m\u001b[0m\u001b[0m\n\u001b[1;32m---> 12\u001b[1;33m             \u001b[1;32mraise\u001b[0m \u001b[0mStopIteration\u001b[0m\u001b[1;33m\u001b[0m\u001b[1;33m\u001b[0m\u001b[0m\n\u001b[0m\u001b[0;32m     13\u001b[0m         \u001b[1;32melse\u001b[0m\u001b[1;33m:\u001b[0m\u001b[1;33m\u001b[0m\u001b[1;33m\u001b[0m\u001b[0m\n\u001b[0;32m     14\u001b[0m             \u001b[1;32mreturn\u001b[0m \u001b[0mself\u001b[0m\u001b[1;33m.\u001b[0m\u001b[0mbase\u001b[0m \u001b[1;33m*\u001b[0m \u001b[0mself\u001b[0m\u001b[1;33m.\u001b[0m\u001b[0mbase\u001b[0m\u001b[1;33m\u001b[0m\u001b[1;33m\u001b[0m\u001b[0m\n",
      "\u001b[1;31mStopIteration\u001b[0m: "
     ]
    }
   ],
   "source": [
    "i.next()"
   ]
  },
  {
   "cell_type": "markdown",
   "id": "8b728dab",
   "metadata": {},
   "source": [
    "迭代器的基本逻辑就是不断通过 `next()` 来返回下一个数。"
   ]
  },
  {
   "cell_type": "markdown",
   "id": "9876f3e7",
   "metadata": {},
   "source": [
    "an iterable object is an object with methods `__iter__()` and `__next__()`.\n",
    "\n",
    "an iterable object can be lterated by a `for` loop.\n",
    "\n",
    "to avoid infinite loop the iterable object need and exit mechanism such as raising `StopIteration` runtime error or using `itertools.islice` to slice an infinite iterator to finite range."
   ]
  },
  {
   "cell_type": "markdown",
   "id": "d475c13b",
   "metadata": {},
   "source": [
    "后者更加灵活，更加通用。**责任分离原则**。\n",
    "\n",
    "迭代器本身只负责产生数，产生数的数量是另外的程序的事情。"
   ]
  },
  {
   "cell_type": "markdown",
   "id": "dcb1ea97",
   "metadata": {},
   "source": [
    "## generator"
   ]
  },
  {
   "cell_type": "markdown",
   "id": "26e6207d",
   "metadata": {},
   "source": [
    "a generator is a function with yield statement instead of return.\n",
    "\n",
    "> python interpretor wraps generator into iterable object for your. python 解释器把生成器装饰成一个可迭代对象。"
   ]
  },
  {
   "cell_type": "markdown",
   "id": "e1eabe4c",
   "metadata": {},
   "source": [
    "真正关键性的就是**怎么产生下一个数**的问题。\n",
    "\n",
    "就是迭代器中 `__next__()` 方法是核心。"
   ]
  },
  {
   "cell_type": "markdown",
   "id": "3294e653",
   "metadata": {},
   "source": [
    "`yield` 关键字/语句\n",
    "\n",
    "所有的函数都有返回值。普通函数如果不写 return，会自动写上 `return None`。\n",
    "\n",
    "带 `yield` 参数的函数，python 会做特殊处理，会让这个函数返回一个 iterable object。\n",
    "\n",
    "运作模式：\n",
    "\n",
    "`yield` 会返回一个值，并把函数的执行状态保留下来挂起，暂停。 当这个函数下一次被调用时，从 `yield` 后的下一行开始执行。"
   ]
  },
  {
   "cell_type": "code",
   "execution_count": null,
   "id": "73324b7e",
   "metadata": {},
   "outputs": [],
   "source": []
  }
 ],
 "metadata": {
  "kernelspec": {
   "display_name": "Python 3 (ipykernel)",
   "language": "python",
   "name": "python3"
  },
  "language_info": {
   "codemirror_mode": {
    "name": "ipython",
    "version": 3
   },
   "file_extension": ".py",
   "mimetype": "text/x-python",
   "name": "python",
   "nbconvert_exporter": "python",
   "pygments_lexer": "ipython3",
   "version": "3.9.5"
  },
  "toc": {
   "base_numbering": 1,
   "nav_menu": {},
   "number_sections": true,
   "sideBar": true,
   "skip_h1_title": false,
   "title_cell": "Table of Contents",
   "title_sidebar": "Contents",
   "toc_cell": false,
   "toc_position": {},
   "toc_section_display": true,
   "toc_window_display": false
  }
 },
 "nbformat": 4,
 "nbformat_minor": 5
}
