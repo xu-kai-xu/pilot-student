{
 "cells": [
  {
   "cell_type": "markdown",
   "id": "9ff82a01",
   "metadata": {},
   "source": [
    "# 关于正则表达式\n"
   ]
  },
  {
   "cell_type": "markdown",
   "id": "f60b0f3c",
   "metadata": {},
   "source": [
    "https://docs.python.org/3/howto/regex.html#regex-howto"
   ]
  },
  {
   "cell_type": "code",
   "execution_count": 1,
   "id": "efcbc931",
   "metadata": {},
   "outputs": [],
   "source": [
    "import re"
   ]
  },
  {
   "cell_type": "markdown",
   "id": "2d2479b4",
   "metadata": {},
   "source": [
    "## matching characters"
   ]
  },
  {
   "cell_type": "markdown",
   "id": "d1bb18c1",
   "metadata": {},
   "source": [
    "```python\n",
    ". ^ $ * + ? { } [ ] \\ | ( )\n",
    "```"
   ]
  },
  {
   "cell_type": "markdown",
   "id": "17444652",
   "metadata": {},
   "source": [
    "`[ ] ` specify a character class.\n",
    "\n",
    "元字符在方括号内成为本身的含义，不具有其他特别的功能。\n",
    "\n",
    "`[^ ]` 表示匹配除去对应字符之外的内容。但是当 `^` 不是紧挨着括号时，就不具有这一功能，而变为匹配这个字符的含义。"
   ]
  },
  {
   "cell_type": "markdown",
   "id": "89c4287c",
   "metadata": {},
   "source": [
    "转义字符的标志 `\\`"
   ]
  },
  {
   "cell_type": "markdown",
   "id": "3bfd3032",
   "metadata": {},
   "source": [
    "`*` 匹配方式的贪婪模式。"
   ]
  },
  {
   "cell_type": "code",
   "execution_count": 2,
   "id": "61087de4",
   "metadata": {},
   "outputs": [
    {
     "data": {
      "text/plain": [
       "<re.Match object; span=(0, 4), match='abcb'>"
      ]
     },
     "execution_count": 2,
     "metadata": {},
     "output_type": "execute_result"
    }
   ],
   "source": [
    "pattern = r'a[bcd]*b'\n",
    "strs = 'abcbd'\n",
    "re.match(pattern, strs)"
   ]
  },
  {
   "cell_type": "code",
   "execution_count": 3,
   "id": "e37eab5f",
   "metadata": {},
   "outputs": [
    {
     "data": {
      "text/plain": [
       "<re.Match object; span=(0, 5), match='abcbd'>"
      ]
     },
     "execution_count": 3,
     "metadata": {},
     "output_type": "execute_result"
    }
   ],
   "source": [
    "pattern = r'a[bcd]*'\n",
    "strs = 'abcbd'\n",
    "re.match(pattern, strs)"
   ]
  },
  {
   "cell_type": "code",
   "execution_count": 10,
   "id": "d9040e37",
   "metadata": {},
   "outputs": [
    {
     "data": {
      "text/plain": [
       "<re.Match object; span=(0, 2), match='ab'>"
      ]
     },
     "execution_count": 10,
     "metadata": {},
     "output_type": "execute_result"
    }
   ],
   "source": [
    "pattern = r'a[bcd]*b'\n",
    "strs = 'abced'\n",
    "re.match(pattern, strs)"
   ]
  },
  {
   "cell_type": "markdown",
   "id": "bf030bd8",
   "metadata": {},
   "source": [
    "`{m,n}`"
   ]
  },
  {
   "cell_type": "code",
   "execution_count": 11,
   "id": "33d47ac5",
   "metadata": {},
   "outputs": [
    {
     "data": {
      "text/plain": [
       "<re.Match object; span=(0, 5), match='a///b'>"
      ]
     },
     "execution_count": 11,
     "metadata": {},
     "output_type": "execute_result"
    }
   ],
   "source": [
    "pattern = r'a/{1,3}b'\n",
    "strs = 'a///b'\n",
    "re.match(pattern, strs)"
   ]
  },
  {
   "cell_type": "code",
   "execution_count": 12,
   "id": "69680837",
   "metadata": {},
   "outputs": [
    {
     "data": {
      "text/plain": [
       "re.compile(r'ab*', re.UNICODE)"
      ]
     },
     "execution_count": 12,
     "metadata": {},
     "output_type": "execute_result"
    }
   ],
   "source": [
    "p = re.compile('ab*')\n",
    "p"
   ]
  },
  {
   "cell_type": "code",
   "execution_count": 13,
   "id": "7a98f5ad",
   "metadata": {},
   "outputs": [
    {
     "data": {
      "text/plain": [
       "re.compile(r'ab*', re.IGNORECASE|re.UNICODE)"
      ]
     },
     "execution_count": 13,
     "metadata": {},
     "output_type": "execute_result"
    }
   ],
   "source": [
    "p = re.compile('ab*', re.IGNORECASE)\n",
    "p"
   ]
  },
  {
   "cell_type": "markdown",
   "id": "311db75a",
   "metadata": {},
   "source": [
    "## the backslash plague\n",
    "\n",
    "python 以字符串的形式处理正则表达式的优势的同时，也导致了一些问题。"
   ]
  },
  {
   "cell_type": "markdown",
   "id": "acf7c28a",
   "metadata": {},
   "source": [
    "就是转义字符的 `\\` 的处理，应对方法是使用 raw string。"
   ]
  },
  {
   "cell_type": "code",
   "execution_count": 14,
   "id": "71394685",
   "metadata": {},
   "outputs": [
    {
     "data": {
      "text/plain": [
       "re.compile(r'[a-z]+', re.UNICODE)"
      ]
     },
     "execution_count": 14,
     "metadata": {},
     "output_type": "execute_result"
    }
   ],
   "source": [
    "p = re.compile(r'[a-z]+')\n",
    "p"
   ]
  },
  {
   "cell_type": "code",
   "execution_count": 20,
   "id": "98463213",
   "metadata": {},
   "outputs": [],
   "source": [
    "p.match('')"
   ]
  },
  {
   "cell_type": "code",
   "execution_count": 21,
   "id": "00af2fdf",
   "metadata": {},
   "outputs": [
    {
     "name": "stdout",
     "output_type": "stream",
     "text": [
      "None\n"
     ]
    }
   ],
   "source": [
    "print(p.match(''))"
   ]
  },
  {
   "cell_type": "code",
   "execution_count": 24,
   "id": "e1e88b22",
   "metadata": {},
   "outputs": [],
   "source": [
    "m = p.match('tempo')"
   ]
  },
  {
   "cell_type": "code",
   "execution_count": 25,
   "id": "5316b609",
   "metadata": {},
   "outputs": [
    {
     "data": {
      "text/plain": [
       "'tempo'"
      ]
     },
     "execution_count": 25,
     "metadata": {},
     "output_type": "execute_result"
    }
   ],
   "source": [
    "m.group()"
   ]
  },
  {
   "cell_type": "code",
   "execution_count": 26,
   "id": "3edaa77e",
   "metadata": {},
   "outputs": [
    {
     "data": {
      "text/plain": [
       "0"
      ]
     },
     "execution_count": 26,
     "metadata": {},
     "output_type": "execute_result"
    }
   ],
   "source": [
    "m.start()"
   ]
  },
  {
   "cell_type": "code",
   "execution_count": 27,
   "id": "a565306c",
   "metadata": {},
   "outputs": [
    {
     "data": {
      "text/plain": [
       "5"
      ]
     },
     "execution_count": 27,
     "metadata": {},
     "output_type": "execute_result"
    }
   ],
   "source": [
    "m.end()"
   ]
  },
  {
   "cell_type": "code",
   "execution_count": 28,
   "id": "d86f11e9",
   "metadata": {},
   "outputs": [
    {
     "data": {
      "text/plain": [
       "(0, 5)"
      ]
     },
     "execution_count": 28,
     "metadata": {},
     "output_type": "execute_result"
    }
   ],
   "source": [
    "m.span()"
   ]
  },
  {
   "cell_type": "code",
   "execution_count": 40,
   "id": "4e2d896d",
   "metadata": {},
   "outputs": [
    {
     "name": "stdout",
     "output_type": "stream",
     "text": [
      "<re.Match object; span=(4, 11), match='message'>\n"
     ]
    }
   ],
   "source": [
    "m = p.search('::: message'); print(m)"
   ]
  },
  {
   "cell_type": "code",
   "execution_count": 41,
   "id": "2e3f36b1",
   "metadata": {},
   "outputs": [
    {
     "data": {
      "text/plain": [
       "'message'"
      ]
     },
     "execution_count": 41,
     "metadata": {},
     "output_type": "execute_result"
    }
   ],
   "source": [
    "m.group()"
   ]
  },
  {
   "cell_type": "code",
   "execution_count": 42,
   "id": "b5ec6fc2",
   "metadata": {},
   "outputs": [
    {
     "data": {
      "text/plain": [
       "(4, 11)"
      ]
     },
     "execution_count": 42,
     "metadata": {},
     "output_type": "execute_result"
    }
   ],
   "source": [
    "m.span()"
   ]
  },
  {
   "cell_type": "markdown",
   "id": "7d7da75f",
   "metadata": {},
   "source": [
    "```python\n",
    "p = re.compile(...)\n",
    "m = p.match('string goes here')\n",
    "if m:\n",
    "    print('Match found: ', m.group())\n",
    "else:\n",
    "    print('No match')\n",
    "```"
   ]
  },
  {
   "cell_type": "markdown",
   "id": "c177e00f",
   "metadata": {},
   "source": [
    "返回所有匹配结果。"
   ]
  },
  {
   "cell_type": "code",
   "execution_count": 43,
   "id": "9dc0415b",
   "metadata": {},
   "outputs": [
    {
     "data": {
      "text/plain": [
       "['12', '11', '10', '10']"
      ]
     },
     "execution_count": 43,
     "metadata": {},
     "output_type": "execute_result"
    }
   ],
   "source": [
    "p = re.compile(r'\\d+')\n",
    "p.findall('12 drummers drumming, 11 pippers piping, 10 lords 10 lords a leaping')"
   ]
  },
  {
   "cell_type": "code",
   "execution_count": 47,
   "id": "3f0556c1",
   "metadata": {},
   "outputs": [
    {
     "data": {
      "text/plain": [
       "<callable_iterator at 0x235de9b8730>"
      ]
     },
     "execution_count": 47,
     "metadata": {},
     "output_type": "execute_result"
    }
   ],
   "source": [
    "iterator = p.finditer('12 drummers drumming, 11 ... 10 ...')\n",
    "iterator"
   ]
  },
  {
   "cell_type": "code",
   "execution_count": 45,
   "id": "aecb4147",
   "metadata": {},
   "outputs": [
    {
     "name": "stdout",
     "output_type": "stream",
     "text": [
      "(0, 2)\n",
      "(22, 24)\n",
      "(29, 31)\n"
     ]
    }
   ],
   "source": [
    "for match in iterator:\n",
    "    print(match.span())"
   ]
  },
  {
   "cell_type": "code",
   "execution_count": 48,
   "id": "6d647221",
   "metadata": {},
   "outputs": [
    {
     "name": "stdout",
     "output_type": "stream",
     "text": [
      "12\n",
      "11\n",
      "10\n"
     ]
    }
   ],
   "source": [
    "for match in iterator:\n",
    "    print(match.group())"
   ]
  },
  {
   "cell_type": "code",
   "execution_count": 50,
   "id": "f1b66f5a",
   "metadata": {},
   "outputs": [
    {
     "name": "stdout",
     "output_type": "stream",
     "text": [
      "None\n"
     ]
    }
   ],
   "source": [
    "print(re.match(r'From\\s+', 'Fromage amk'))"
   ]
  },
  {
   "cell_type": "code",
   "execution_count": 51,
   "id": "f7eebe63",
   "metadata": {},
   "outputs": [
    {
     "data": {
      "text/plain": [
       "<re.Match object; span=(0, 5), match='From '>"
      ]
     },
     "execution_count": 51,
     "metadata": {},
     "output_type": "execute_result"
    }
   ],
   "source": [
    "re.match(r'From\\s+', 'From amk Thu May 14 19:12:10 1998')"
   ]
  },
  {
   "cell_type": "markdown",
   "id": "3ff41c6b",
   "metadata": {},
   "source": [
    "关于使用模块级方法（`re.method()`）或者自己编译正则表达模式（`pattern =  ...`）的建议：\n",
    "\n",
    "> 如果是在循环中调用，预先编译会节省一些函数调用。在循环之外，两者没多大区别。"
   ]
  },
  {
   "cell_type": "markdown",
   "id": "b6741347",
   "metadata": {},
   "source": [
    "## compliation flags"
   ]
  },
  {
   "cell_type": "markdown",
   "id": "c894d69d",
   "metadata": {},
   "source": [
    "flags 们可以用全名和对应的一个字母的缩写表示。\n",
    "\n",
    "如果想用多个 flag，那不同 flag 之间用 `|` 表示，这是**按位与**的符号。\n",
    "\n",
    "以下是一些可用的 flags："
   ]
  },
  {
   "cell_type": "markdown",
   "id": "aa6a91dc",
   "metadata": {},
   "source": [
    "`ASCII, A`    让部分转义字符仅匹配 ASCII 码，默认会匹配unicode码。\n",
    "\n",
    "`DOTALL, S`   让 `.` 匹配包括换行符在内的所有字符，默认是不匹配换行符的。\n",
    "\n",
    "`IGNORECASE, I`    忽略大小写，默认会区分大小写进行匹配。\n",
    "\n",
    "`LOCALE, L`    地点匹配，即与一国所用语言、表述方式有关。"
   ]
  },
  {
   "cell_type": "markdown",
   "id": "c4025b33",
   "metadata": {},
   "source": [
    "`MULTILINE, M`    多行匹配，此时`^` 会匹配字符串开头和每行开头，`$` 会匹配字符串末尾和每行行尾。"
   ]
  },
  {
   "cell_type": "markdown",
   "id": "343da41e",
   "metadata": {},
   "source": [
    "`VERBOSE, X`    冗长匹配，更清晰易懂。【我不懂了】，有助于书写更易读的正则表达式。这种模式下，空格被忽略（当然，除去字符类或者转义字符之后的空格）。你还可以在表达式中写注释。例如："
   ]
  },
  {
   "cell_type": "code",
   "execution_count": 4,
   "id": "442f3a52",
   "metadata": {},
   "outputs": [],
   "source": [
    "import re\n",
    "\n",
    "charref = re.compile(r\"\"\"\n",
    "&[#]                 # start of a numeric entity reference\n",
    "(\n",
    "    0[0-7]+          # octal form\n",
    "  | [0-9]+           # decimal form\n",
    "  | x[0-9a-fA_F]+    # hexadecimal form\n",
    ")\n",
    ";                    # trailing semicolon 结尾符号\n",
    "\"\"\", re.VERBOSE)"
   ]
  },
  {
   "cell_type": "markdown",
   "id": "f91c0071",
   "metadata": {},
   "source": [
    "如果没有 verbose 标志，这个表达式应该长这个样子："
   ]
  },
  {
   "cell_type": "code",
   "execution_count": 9,
   "id": "57dcbb5a",
   "metadata": {},
   "outputs": [],
   "source": [
    "charref = re.compile(\"&#([0-7]+\"\n",
    "                     \"|[0-9]+\"\n",
    "                     \"|x[0-9a-fA-F]+);\")"
   ]
  },
  {
   "cell_type": "code",
   "execution_count": 10,
   "id": "0326c849",
   "metadata": {},
   "outputs": [
    {
     "data": {
      "text/plain": [
       "<re.Match object; span=(0, 8), match='&#74586;'>"
      ]
     },
     "execution_count": 10,
     "metadata": {},
     "output_type": "execute_result"
    }
   ],
   "source": [
    "charref.match('&#74586;')"
   ]
  },
  {
   "cell_type": "markdown",
   "id": "8cb815e3",
   "metadata": {},
   "source": [
    "## more pattern power\n",
    "\n",
    "zero-width assertions. 不会重复的判断，比如，字符边界 `\\b`。这一判断不会改变位置。"
   ]
  },
  {
   "cell_type": "markdown",
   "id": "544e0475",
   "metadata": {},
   "source": [
    "`^ $` 在明确多行flag的情况下会自动匹配每行，在多行flag没有给定之后，才会只判断字符串开头和结尾。"
   ]
  },
  {
   "cell_type": "code",
   "execution_count": 15,
   "id": "849f58c9",
   "metadata": {},
   "outputs": [
    {
     "data": {
      "text/plain": [
       "['w', 'w', 'w']"
      ]
     },
     "execution_count": 15,
     "metadata": {},
     "output_type": "execute_result"
    }
   ],
   "source": [
    "strs = \"\"\"\n",
    "When i was just a little girl\n",
    "i ask my mother\n",
    "what will i be\n",
    "will i be pretty\n",
    "will i be reach\"\"\"\n",
    "\n",
    "pattern = re.compile(r'^w', re.MULTILINE)\n",
    "pattern.findall(strs)"
   ]
  },
  {
   "cell_type": "code",
   "execution_count": 16,
   "id": "71009583",
   "metadata": {},
   "outputs": [
    {
     "data": {
      "text/plain": [
       "[]"
      ]
     },
     "execution_count": 16,
     "metadata": {},
     "output_type": "execute_result"
    }
   ],
   "source": [
    "strs = \"\"\"\n",
    "When i was just a little girl\n",
    "i ask my mother\n",
    "what will i be\n",
    "will i be pretty\n",
    "will i be reach\"\"\"\n",
    "\n",
    "pattern = re.compile(r'^w')\n",
    "pattern.findall(strs)"
   ]
  },
  {
   "cell_type": "code",
   "execution_count": 17,
   "id": "c7723573",
   "metadata": {},
   "outputs": [
    {
     "data": {
      "text/plain": [
       "['l', 'r', 'e', 'y', 'h']"
      ]
     },
     "execution_count": 17,
     "metadata": {},
     "output_type": "execute_result"
    }
   ],
   "source": [
    "strs = \"\"\"\n",
    "When i was just a little girl\n",
    "i ask my mother\n",
    "what will i be\n",
    "will i be pretty\n",
    "will i be reach\"\"\"\n",
    "\n",
    "pattern = re.compile(r'\\w$', re.MULTILINE)\n",
    "pattern.findall(strs)"
   ]
  },
  {
   "cell_type": "code",
   "execution_count": 18,
   "id": "c6167300",
   "metadata": {},
   "outputs": [
    {
     "data": {
      "text/plain": [
       "['h']"
      ]
     },
     "execution_count": 18,
     "metadata": {},
     "output_type": "execute_result"
    }
   ],
   "source": [
    "strs = \"\"\"\n",
    "When i was just a little girl\n",
    "i ask my mother\n",
    "what will i be\n",
    "will i be pretty\n",
    "will i be reach\"\"\"\n",
    "\n",
    "pattern = re.compile(r'\\w$')\n",
    "pattern.findall(strs)"
   ]
  },
  {
   "cell_type": "code",
   "execution_count": 22,
   "id": "f5c2ec6c",
   "metadata": {},
   "outputs": [
    {
     "data": {
      "text/plain": [
       "['']"
      ]
     },
     "execution_count": 22,
     "metadata": {},
     "output_type": "execute_result"
    }
   ],
   "source": [
    "strs = \"\"\"\n",
    "When i was just a little girl\n",
    "i ask my mother\n",
    "what will i be\n",
    "will i be pretty\n",
    "will i be reach\"\"\"\n",
    "\n",
    "pattern = re.compile(r'\\A')\n",
    "pattern.findall(strs)"
   ]
  },
  {
   "cell_type": "code",
   "execution_count": 20,
   "id": "6f870e99",
   "metadata": {},
   "outputs": [
    {
     "data": {
      "text/plain": [
       "[]"
      ]
     },
     "execution_count": 20,
     "metadata": {},
     "output_type": "execute_result"
    }
   ],
   "source": [
    "strs = \"\"\"\n",
    "When i was just a little girl\n",
    "i ask my mother\n",
    "what will i be\n",
    "will i be pretty\n",
    "will i be reach\"\"\"\n",
    "\n",
    "pattern = re.compile(r'\\Aw')\n",
    "pattern.findall(strs)"
   ]
  },
  {
   "cell_type": "code",
   "execution_count": 21,
   "id": "93a83633",
   "metadata": {},
   "outputs": [
    {
     "data": {
      "text/plain": [
       "[]"
      ]
     },
     "execution_count": 21,
     "metadata": {},
     "output_type": "execute_result"
    }
   ],
   "source": [
    "strs = \"\"\"\n",
    "When i was just a little girl\n",
    "i ask my mother\n",
    "what will i be\n",
    "will i be pretty\n",
    "will i be reach\"\"\"\n",
    "\n",
    "pattern = re.compile(r'\\Aw', re.MULTILINE)\n",
    "pattern.findall(strs)"
   ]
  },
  {
   "cell_type": "code",
   "execution_count": 23,
   "id": "933c95c2",
   "metadata": {},
   "outputs": [
    {
     "data": {
      "text/plain": [
       "['']"
      ]
     },
     "execution_count": 23,
     "metadata": {},
     "output_type": "execute_result"
    }
   ],
   "source": [
    "strs = \"\"\"\n",
    "When i was just a little girl\n",
    "i ask my mother\n",
    "what will i be\n",
    "will i be pretty\n",
    "will i be reach\"\"\"\n",
    "\n",
    "pattern = re.compile(r'\\A', re.MULTILINE)\n",
    "pattern.findall(strs)"
   ]
  },
  {
   "cell_type": "markdown",
   "id": "5baa8e0b",
   "metadata": {},
   "source": [
    "`\\b` 单词边界，单词边界包括空格和非字母字符。\n",
    "\n",
    "也是一个零宽字符。"
   ]
  },
  {
   "cell_type": "code",
   "execution_count": 24,
   "id": "2c483826",
   "metadata": {},
   "outputs": [
    {
     "data": {
      "text/plain": [
       "<re.Match object; span=(3, 8), match='class'>"
      ]
     },
     "execution_count": 24,
     "metadata": {},
     "output_type": "execute_result"
    }
   ],
   "source": [
    "p = re.compile(r'\\bclass\\b')\n",
    "\n",
    "p.search('no class at all')"
   ]
  },
  {
   "cell_type": "code",
   "execution_count": 25,
   "id": "a4173535",
   "metadata": {},
   "outputs": [],
   "source": [
    "p.search('the declassified algorithm')"
   ]
  },
  {
   "cell_type": "code",
   "execution_count": 26,
   "id": "2391dfc5",
   "metadata": {},
   "outputs": [
    {
     "data": {
      "text/plain": [
       "<re.Match object; span=(4, 9), match='class'>"
      ]
     },
     "execution_count": 26,
     "metadata": {},
     "output_type": "execute_result"
    }
   ],
   "source": [
    "p.search('the-class-algorithm')"
   ]
  },
  {
   "cell_type": "code",
   "execution_count": 28,
   "id": "93e25915",
   "metadata": {},
   "outputs": [
    {
     "data": {
      "text/plain": [
       "<re.Match object; span=(4, 9), match='class'>"
      ]
     },
     "execution_count": 28,
     "metadata": {},
     "output_type": "execute_result"
    }
   ],
   "source": [
    "p = re.compile(r'\\bclass')\n",
    "p.search('the-classalgorithm')"
   ]
  },
  {
   "cell_type": "markdown",
   "id": "09ba15eb",
   "metadata": {},
   "source": [
    "需要注意的是，`\\b` 在python中是退格键的符号，ascii码为8。所以在有这个符号的时候如果不用 raw string，就会出问题。下面的例子"
   ]
  },
  {
   "cell_type": "code",
   "execution_count": 30,
   "id": "06b07b0a",
   "metadata": {},
   "outputs": [
    {
     "name": "stdout",
     "output_type": "stream",
     "text": [
      "\bclass\b\n"
     ]
    }
   ],
   "source": [
    "print('\\bclass\\b')"
   ]
  },
  {
   "cell_type": "code",
   "execution_count": 31,
   "id": "6891e5af",
   "metadata": {},
   "outputs": [],
   "source": [
    "p = re.compile('\\bclass\\b')\n",
    "p.search('no class at all')"
   ]
  },
  {
   "cell_type": "markdown",
   "id": "aa7e253a",
   "metadata": {},
   "source": [
    "## grouping"
   ]
  },
  {
   "cell_type": "markdown",
   "id": "f5bd9a8d",
   "metadata": {},
   "source": [
    "分组用圆括号。`( )`"
   ]
  },
  {
   "cell_type": "code",
   "execution_count": 1,
   "id": "b94ee7de",
   "metadata": {},
   "outputs": [
    {
     "data": {
      "text/plain": [
       "(0, 12)"
      ]
     },
     "execution_count": 1,
     "metadata": {},
     "output_type": "execute_result"
    }
   ],
   "source": [
    "import re\n",
    "\n",
    "p = re.compile('(ab)*')\n",
    "p.match('ababababababa').span()"
   ]
  },
  {
   "cell_type": "code",
   "execution_count": 5,
   "id": "5726ab5b",
   "metadata": {},
   "outputs": [
    {
     "data": {
      "text/plain": [
       "'ab'"
      ]
     },
     "execution_count": 5,
     "metadata": {},
     "output_type": "execute_result"
    }
   ],
   "source": [
    "p = re.compile('(a)b')\n",
    "m = p.match('ab')\n",
    "m.group()"
   ]
  },
  {
   "cell_type": "code",
   "execution_count": 6,
   "id": "3781410e",
   "metadata": {},
   "outputs": [
    {
     "data": {
      "text/plain": [
       "'ab'"
      ]
     },
     "execution_count": 6,
     "metadata": {},
     "output_type": "execute_result"
    }
   ],
   "source": [
    "m.group(0)"
   ]
  },
  {
   "cell_type": "code",
   "execution_count": 9,
   "id": "6903050e",
   "metadata": {},
   "outputs": [
    {
     "data": {
      "text/plain": [
       "'aaaaab'"
      ]
     },
     "execution_count": 9,
     "metadata": {},
     "output_type": "execute_result"
    }
   ],
   "source": [
    "p = re.compile('(a)+b')\n",
    "m = p.match('aaaaabababab')\n",
    "m.group()"
   ]
  },
  {
   "cell_type": "code",
   "execution_count": 10,
   "id": "3504c443",
   "metadata": {},
   "outputs": [
    {
     "data": {
      "text/plain": [
       "'aaaaab'"
      ]
     },
     "execution_count": 10,
     "metadata": {},
     "output_type": "execute_result"
    }
   ],
   "source": [
    "m.group(0)"
   ]
  },
  {
   "cell_type": "code",
   "execution_count": 14,
   "id": "460d3c97",
   "metadata": {},
   "outputs": [
    {
     "data": {
      "text/plain": [
       "'a'"
      ]
     },
     "execution_count": 14,
     "metadata": {},
     "output_type": "execute_result"
    }
   ],
   "source": [
    "m.group(1)"
   ]
  },
  {
   "cell_type": "code",
   "execution_count": 16,
   "id": "83994211",
   "metadata": {},
   "outputs": [
    {
     "ename": "IndexError",
     "evalue": "no such group",
     "output_type": "error",
     "traceback": [
      "\u001b[1;31m---------------------------------------------------------------------------\u001b[0m",
      "\u001b[1;31mIndexError\u001b[0m                                Traceback (most recent call last)",
      "\u001b[1;32mC:\\Users\\ADMINI~1\\AppData\\Local\\Temp/ipykernel_23476/642131434.py\u001b[0m in \u001b[0;36m<module>\u001b[1;34m\u001b[0m\n\u001b[1;32m----> 1\u001b[1;33m \u001b[0mm\u001b[0m\u001b[1;33m.\u001b[0m\u001b[0mgroup\u001b[0m\u001b[1;33m(\u001b[0m\u001b[1;36m2\u001b[0m\u001b[1;33m)\u001b[0m\u001b[1;33m\u001b[0m\u001b[1;33m\u001b[0m\u001b[0m\n\u001b[0m",
      "\u001b[1;31mIndexError\u001b[0m: no such group"
     ]
    }
   ],
   "source": [
    "m.group(2)"
   ]
  },
  {
   "cell_type": "markdown",
   "id": "2ea0f36e",
   "metadata": {},
   "source": [
    "正则表达式中 group 是可以嵌套的。`group(数字)` 是匹配得到的字符，0 表示匹配到的整个字符串，1 表示从左往右第一个括号，依次类推。"
   ]
  },
  {
   "cell_type": "code",
   "execution_count": 17,
   "id": "1bcbf4e5",
   "metadata": {},
   "outputs": [
    {
     "data": {
      "text/plain": [
       "'abcd'"
      ]
     },
     "execution_count": 17,
     "metadata": {},
     "output_type": "execute_result"
    }
   ],
   "source": [
    "p = re.compile('(a(b)c)d')\n",
    "m = p.match('abcd')\n",
    "m.group()"
   ]
  },
  {
   "cell_type": "code",
   "execution_count": 18,
   "id": "3eb52b13",
   "metadata": {},
   "outputs": [
    {
     "data": {
      "text/plain": [
       "'abcd'"
      ]
     },
     "execution_count": 18,
     "metadata": {},
     "output_type": "execute_result"
    }
   ],
   "source": [
    "m.group(0)"
   ]
  },
  {
   "cell_type": "code",
   "execution_count": 19,
   "id": "bdfdc7c6",
   "metadata": {},
   "outputs": [
    {
     "data": {
      "text/plain": [
       "'abc'"
      ]
     },
     "execution_count": 19,
     "metadata": {},
     "output_type": "execute_result"
    }
   ],
   "source": [
    "m.group(1)"
   ]
  },
  {
   "cell_type": "code",
   "execution_count": 20,
   "id": "57c88402",
   "metadata": {},
   "outputs": [
    {
     "data": {
      "text/plain": [
       "'b'"
      ]
     },
     "execution_count": 20,
     "metadata": {},
     "output_type": "execute_result"
    }
   ],
   "source": [
    "m.group(2)"
   ]
  },
  {
   "cell_type": "code",
   "execution_count": 21,
   "id": "2c7f25fd",
   "metadata": {},
   "outputs": [
    {
     "ename": "NameError",
     "evalue": "name 'group' is not defined",
     "output_type": "error",
     "traceback": [
      "\u001b[1;31m---------------------------------------------------------------------------\u001b[0m",
      "\u001b[1;31mNameError\u001b[0m                                 Traceback (most recent call last)",
      "\u001b[1;32mC:\\Users\\ADMINI~1\\AppData\\Local\\Temp/ipykernel_23476/1530450518.py\u001b[0m in \u001b[0;36m<module>\u001b[1;34m\u001b[0m\n\u001b[1;32m----> 1\u001b[1;33m \u001b[0mm\u001b[0m\u001b[1;33m,\u001b[0m\u001b[0mgroup\u001b[0m\u001b[1;33m(\u001b[0m\u001b[1;36m3\u001b[0m\u001b[1;33m)\u001b[0m\u001b[1;33m\u001b[0m\u001b[1;33m\u001b[0m\u001b[0m\n\u001b[0m",
      "\u001b[1;31mNameError\u001b[0m: name 'group' is not defined"
     ]
    }
   ],
   "source": [
    "m,group(3)"
   ]
  },
  {
   "cell_type": "code",
   "execution_count": 22,
   "id": "5cb77619",
   "metadata": {},
   "outputs": [
    {
     "data": {
      "text/plain": [
       "('abcd', 'abc', 'b', 'abc', 'b')"
      ]
     },
     "execution_count": 22,
     "metadata": {},
     "output_type": "execute_result"
    }
   ],
   "source": [
    "m.group(0, 1, 2, 1, 2)"
   ]
  },
  {
   "cell_type": "code",
   "execution_count": 23,
   "id": "58f3b83a",
   "metadata": {},
   "outputs": [
    {
     "data": {
      "text/plain": [
       "('abc', 'b')"
      ]
     },
     "execution_count": 23,
     "metadata": {},
     "output_type": "execute_result"
    }
   ],
   "source": [
    "m.groups()"
   ]
  },
  {
   "cell_type": "markdown",
   "id": "685d5e13",
   "metadata": {},
   "source": [
    "`m.groups()` 返回的是从编号为 1 到最大编号的匹配组。"
   ]
  },
  {
   "cell_type": "markdown",
   "id": "d701842a",
   "metadata": {},
   "source": [
    "匹配到的表达式如何引用？用 `\\1 \\2` 这种形式。"
   ]
  },
  {
   "cell_type": "code",
   "execution_count": 24,
   "id": "807bed82",
   "metadata": {},
   "outputs": [
    {
     "data": {
      "text/plain": [
       "'the the'"
      ]
     },
     "execution_count": 24,
     "metadata": {},
     "output_type": "execute_result"
    }
   ],
   "source": [
    "p = re.compile(r'\\b(\\w+)\\s+\\1\\b')\n",
    "p.search('Paris in the the spring').group()\n",
    "# 匹配一个重复一次的单词"
   ]
  },
  {
   "cell_type": "code",
   "execution_count": 25,
   "id": "c41ba3eb",
   "metadata": {},
   "outputs": [
    {
     "data": {
      "text/plain": [
       "<re.Match object; span=(9, 16), match='the the'>"
      ]
     },
     "execution_count": 25,
     "metadata": {},
     "output_type": "execute_result"
    }
   ],
   "source": [
    "p.search('Paris in the the spring')"
   ]
  },
  {
   "cell_type": "code",
   "execution_count": 26,
   "id": "009b71b8",
   "metadata": {},
   "outputs": [
    {
     "data": {
      "text/plain": [
       "<re.Match object; span=(9, 21), match='the      the'>"
      ]
     },
     "execution_count": 26,
     "metadata": {},
     "output_type": "execute_result"
    }
   ],
   "source": [
    "p.search('Paris in the      the the spring')"
   ]
  },
  {
   "cell_type": "code",
   "execution_count": 27,
   "id": "3222c187",
   "metadata": {},
   "outputs": [],
   "source": [
    "p.search('Paris in thethe spring')"
   ]
  },
  {
   "cell_type": "code",
   "execution_count": 28,
   "id": "f3073564",
   "metadata": {},
   "outputs": [
    {
     "data": {
      "text/plain": [
       "('the',)"
      ]
     },
     "execution_count": 28,
     "metadata": {},
     "output_type": "execute_result"
    }
   ],
   "source": [
    "p.search('Paris in the the spring').groups()"
   ]
  },
  {
   "cell_type": "markdown",
   "id": "cdcbdc26",
   "metadata": {},
   "source": [
    "## non-capturing and named groups"
   ]
  },
  {
   "cell_type": "markdown",
   "id": "92f68af7",
   "metadata": {},
   "source": [
    "`(?P )` 问号后以 P 开头的，是python在perl基础上增加的扩展。\n",
    "\n",
    "非捕获分组 `(?:...)`"
   ]
  },
  {
   "cell_type": "code",
   "execution_count": 35,
   "id": "25e0bdfc",
   "metadata": {},
   "outputs": [
    {
     "data": {
      "text/plain": [
       "('c',)"
      ]
     },
     "execution_count": 35,
     "metadata": {},
     "output_type": "execute_result"
    }
   ],
   "source": [
    "m = re.match(\"([abc])+\", 'abc')\n",
    "m.groups()"
   ]
  },
  {
   "cell_type": "code",
   "execution_count": 36,
   "id": "a931b881",
   "metadata": {},
   "outputs": [
    {
     "data": {
      "text/plain": [
       "<re.Match object; span=(0, 3), match='abc'>"
      ]
     },
     "execution_count": 36,
     "metadata": {},
     "output_type": "execute_result"
    }
   ],
   "source": [
    "m"
   ]
  },
  {
   "cell_type": "markdown",
   "id": "87ffa6c3",
   "metadata": {},
   "source": [
    "> 这里为什么 group 里面是 c 而不是 abc？"
   ]
  },
  {
   "cell_type": "code",
   "execution_count": 39,
   "id": "cce18ded",
   "metadata": {},
   "outputs": [
    {
     "data": {
      "text/plain": [
       "'abc'"
      ]
     },
     "execution_count": 39,
     "metadata": {},
     "output_type": "execute_result"
    }
   ],
   "source": [
    "m.group(0)"
   ]
  },
  {
   "cell_type": "code",
   "execution_count": 38,
   "id": "203bb593",
   "metadata": {},
   "outputs": [
    {
     "data": {
      "text/plain": [
       "'c'"
      ]
     },
     "execution_count": 38,
     "metadata": {},
     "output_type": "execute_result"
    }
   ],
   "source": [
    "m.group(1)"
   ]
  },
  {
   "cell_type": "code",
   "execution_count": 30,
   "id": "53530390",
   "metadata": {},
   "outputs": [
    {
     "data": {
      "text/plain": [
       "()"
      ]
     },
     "execution_count": 30,
     "metadata": {},
     "output_type": "execute_result"
    }
   ],
   "source": [
    "m = re.match(\"(?:[abc])+\", \"abc\")\n",
    "m.groups()"
   ]
  },
  {
   "cell_type": "markdown",
   "id": "9c7dbf2c",
   "metadata": {},
   "source": [
    "可以给名字的分组\n",
    "\n",
    "`(?P<name>...)`"
   ]
  },
  {
   "cell_type": "code",
   "execution_count": 40,
   "id": "e3f23719",
   "metadata": {},
   "outputs": [
    {
     "data": {
      "text/plain": [
       "'Losts'"
      ]
     },
     "execution_count": 40,
     "metadata": {},
     "output_type": "execute_result"
    }
   ],
   "source": [
    "p = re.compile(r'(?P<word>\\b\\w+\\b)')\n",
    "m = p.search('((((Losts of punctuation)))')\n",
    "m.group('word')"
   ]
  },
  {
   "cell_type": "code",
   "execution_count": 41,
   "id": "00d6c30c",
   "metadata": {},
   "outputs": [
    {
     "data": {
      "text/plain": [
       "'Losts'"
      ]
     },
     "execution_count": 41,
     "metadata": {},
     "output_type": "execute_result"
    }
   ],
   "source": [
    "m.group(0)"
   ]
  },
  {
   "cell_type": "code",
   "execution_count": 42,
   "id": "defc03f7",
   "metadata": {},
   "outputs": [
    {
     "data": {
      "text/plain": [
       "'Losts'"
      ]
     },
     "execution_count": 42,
     "metadata": {},
     "output_type": "execute_result"
    }
   ],
   "source": [
    "m.group(1)"
   ]
  },
  {
   "cell_type": "markdown",
   "id": "2dc633d4",
   "metadata": {},
   "source": [
    "`groupdict()`"
   ]
  },
  {
   "cell_type": "code",
   "execution_count": 43,
   "id": "03362c93",
   "metadata": {},
   "outputs": [
    {
     "data": {
      "text/plain": [
       "{'fisrt': 'Jane', 'last': 'D'}"
      ]
     },
     "execution_count": 43,
     "metadata": {},
     "output_type": "execute_result"
    }
   ],
   "source": [
    "m = re.match(r'(?P<fisrt>\\w+) (?P<last>\\w)', 'Jane Doe')\n",
    "m.groupdict()"
   ]
  },
  {
   "cell_type": "code",
   "execution_count": 44,
   "id": "6144ac4d",
   "metadata": {},
   "outputs": [
    {
     "data": {
      "text/plain": [
       "('Jane', 'D')"
      ]
     },
     "execution_count": 44,
     "metadata": {},
     "output_type": "execute_result"
    }
   ],
   "source": [
    "m.groups()"
   ]
  },
  {
   "cell_type": "code",
   "execution_count": 45,
   "id": "2f6753b6",
   "metadata": {},
   "outputs": [
    {
     "data": {
      "text/plain": [
       "{'fisrt': 'Jane', 'last': 'Doe'}"
      ]
     },
     "execution_count": 45,
     "metadata": {},
     "output_type": "execute_result"
    }
   ],
   "source": [
    "m = re.match(r'(?P<fisrt>\\w+) (?P<last>\\w+)', 'Jane Doe')\n",
    "m.groupdict()"
   ]
  },
  {
   "cell_type": "code",
   "execution_count": 46,
   "id": "0663c568",
   "metadata": {},
   "outputs": [
    {
     "data": {
      "text/plain": [
       "('Jane', 'D')"
      ]
     },
     "execution_count": 46,
     "metadata": {},
     "output_type": "execute_result"
    }
   ],
   "source": [
    "m = re.match(r'(?P<fisrt>\\w+) (?P<last>\\w)', 'Jane Doe')\n",
    "m.groups()"
   ]
  },
  {
   "cell_type": "code",
   "execution_count": 47,
   "id": "5ce89c2e",
   "metadata": {},
   "outputs": [
    {
     "data": {
      "text/plain": [
       "'Jane D'"
      ]
     },
     "execution_count": 47,
     "metadata": {},
     "output_type": "execute_result"
    }
   ],
   "source": [
    "m.group(0)"
   ]
  },
  {
   "cell_type": "code",
   "execution_count": 48,
   "id": "7d2cfbc6",
   "metadata": {},
   "outputs": [
    {
     "data": {
      "text/plain": [
       "'Jane'"
      ]
     },
     "execution_count": 48,
     "metadata": {},
     "output_type": "execute_result"
    }
   ],
   "source": [
    "m.group(1)"
   ]
  },
  {
   "cell_type": "code",
   "execution_count": 49,
   "id": "05479f45",
   "metadata": {},
   "outputs": [
    {
     "data": {
      "text/plain": [
       "'D'"
      ]
     },
     "execution_count": 49,
     "metadata": {},
     "output_type": "execute_result"
    }
   ],
   "source": [
    "m.group(2)"
   ]
  },
  {
   "cell_type": "code",
   "execution_count": 50,
   "id": "d39265f3",
   "metadata": {},
   "outputs": [
    {
     "ename": "IndexError",
     "evalue": "no such group",
     "output_type": "error",
     "traceback": [
      "\u001b[1;31m---------------------------------------------------------------------------\u001b[0m",
      "\u001b[1;31mIndexError\u001b[0m                                Traceback (most recent call last)",
      "\u001b[1;32mC:\\Users\\ADMINI~1\\AppData\\Local\\Temp/ipykernel_23476/1412243995.py\u001b[0m in \u001b[0;36m<module>\u001b[1;34m\u001b[0m\n\u001b[1;32m----> 1\u001b[1;33m \u001b[0mm\u001b[0m\u001b[1;33m.\u001b[0m\u001b[0mgroup\u001b[0m\u001b[1;33m(\u001b[0m\u001b[1;36m3\u001b[0m\u001b[1;33m)\u001b[0m\u001b[1;33m\u001b[0m\u001b[1;33m\u001b[0m\u001b[0m\n\u001b[0m",
      "\u001b[1;31mIndexError\u001b[0m: no such group"
     ]
    }
   ],
   "source": [
    "m.group(3)"
   ]
  },
  {
   "cell_type": "code",
   "execution_count": 51,
   "id": "e7ea77f5",
   "metadata": {},
   "outputs": [
    {
     "data": {
      "text/plain": [
       "('Jane', 'Doe')"
      ]
     },
     "execution_count": 51,
     "metadata": {},
     "output_type": "execute_result"
    }
   ],
   "source": [
    "m = re.match(r'(?P<fisrt>\\w+) (?P<last>\\w+)', 'Jane Doe')\n",
    "m.groups()"
   ]
  },
  {
   "cell_type": "code",
   "execution_count": 52,
   "id": "274b40e9",
   "metadata": {},
   "outputs": [
    {
     "data": {
      "text/plain": [
       "'Jane Doe'"
      ]
     },
     "execution_count": 52,
     "metadata": {},
     "output_type": "execute_result"
    }
   ],
   "source": [
    "m.group(0)"
   ]
  },
  {
   "cell_type": "code",
   "execution_count": 53,
   "id": "65bb0c95",
   "metadata": {},
   "outputs": [
    {
     "data": {
      "text/plain": [
       "'Jane'"
      ]
     },
     "execution_count": 53,
     "metadata": {},
     "output_type": "execute_result"
    }
   ],
   "source": [
    "m.group(1)"
   ]
  },
  {
   "cell_type": "code",
   "execution_count": 54,
   "id": "fa3ad417",
   "metadata": {},
   "outputs": [
    {
     "data": {
      "text/plain": [
       "'Doe'"
      ]
     },
     "execution_count": 54,
     "metadata": {},
     "output_type": "execute_result"
    }
   ],
   "source": [
    "m.group(2)"
   ]
  },
  {
   "cell_type": "code",
   "execution_count": 55,
   "id": "4068c2ab",
   "metadata": {},
   "outputs": [
    {
     "ename": "IndexError",
     "evalue": "no such group",
     "output_type": "error",
     "traceback": [
      "\u001b[1;31m---------------------------------------------------------------------------\u001b[0m",
      "\u001b[1;31mIndexError\u001b[0m                                Traceback (most recent call last)",
      "\u001b[1;32mC:\\Users\\ADMINI~1\\AppData\\Local\\Temp/ipykernel_23476/1412243995.py\u001b[0m in \u001b[0;36m<module>\u001b[1;34m\u001b[0m\n\u001b[1;32m----> 1\u001b[1;33m \u001b[0mm\u001b[0m\u001b[1;33m.\u001b[0m\u001b[0mgroup\u001b[0m\u001b[1;33m(\u001b[0m\u001b[1;36m3\u001b[0m\u001b[1;33m)\u001b[0m\u001b[1;33m\u001b[0m\u001b[1;33m\u001b[0m\u001b[0m\n\u001b[0m",
      "\u001b[1;31mIndexError\u001b[0m: no such group"
     ]
    }
   ],
   "source": [
    "m.group(3)"
   ]
  },
  {
   "cell_type": "markdown",
   "id": "441439b6",
   "metadata": {},
   "source": [
    "back reference 即引用前面匹配到的结果。\n",
    "\n",
    "可以用 `\\1` 这样的数字，也可以用 `(P=nme)` 这种python独有的形式。"
   ]
  },
  {
   "cell_type": "code",
   "execution_count": 56,
   "id": "8a26c726",
   "metadata": {},
   "outputs": [
    {
     "data": {
      "text/plain": [
       "'the the'"
      ]
     },
     "execution_count": 56,
     "metadata": {},
     "output_type": "execute_result"
    }
   ],
   "source": [
    "p = re.compile(r'\\b(?P<word>\\w+)\\s+(?P=word)\\b')\n",
    "p.search('Paris in the the spring').group()"
   ]
  },
  {
   "cell_type": "code",
   "execution_count": 57,
   "id": "f9366adb",
   "metadata": {},
   "outputs": [
    {
     "data": {
      "text/plain": [
       "'the the'"
      ]
     },
     "execution_count": 57,
     "metadata": {},
     "output_type": "execute_result"
    }
   ],
   "source": [
    "p = re.compile(r'\\b(\\w+)\\s+\\1\\b')\n",
    "p.search('paris in the the sprint').group()"
   ]
  },
  {
   "cell_type": "markdown",
   "id": "e057f491",
   "metadata": {},
   "source": [
    "## lookahead assertions\n",
    "\n",
    "向前看的断言语句，即判断这个位置之前还判断一下它前面的内容。所谓前面，是指没有判断过的地方。【这是目前为止自己的理解】\n",
    "\n",
    "positive form `(?=...)`\n",
    "\n",
    "\n",
    "negative form `(?!...)`"
   ]
  },
  {
   "cell_type": "code",
   "execution_count": 58,
   "id": "1ef5cccf",
   "metadata": {},
   "outputs": [],
   "source": [
    "files = \"\"\"\n",
    "foo.bar\n",
    "autoexec.bat\n",
    "sendmail.cf\n",
    "printers.conf\n",
    "\"\"\""
   ]
  },
  {
   "cell_type": "code",
   "execution_count": 63,
   "id": "76ebbf89",
   "metadata": {},
   "outputs": [
    {
     "data": {
      "text/plain": [
       "['foo.bar', 'autoexec.bat', 'sendmail.cf', 'printers.conf']"
      ]
     },
     "execution_count": 63,
     "metadata": {},
     "output_type": "execute_result"
    }
   ],
   "source": [
    "p = re.compile(r\".*[.].*$\", re.MULTILINE)\n",
    "p.findall(files)"
   ]
  },
  {
   "cell_type": "code",
   "execution_count": 61,
   "id": "0824c00d",
   "metadata": {},
   "outputs": [
    {
     "data": {
      "text/plain": [
       "['sendmail.cf', 'printers.conf']"
      ]
     },
     "execution_count": 61,
     "metadata": {},
     "output_type": "execute_result"
    }
   ],
   "source": [
    "p = re.compile(r\".*[.][^b].*$\", re.MULTILINE)\n",
    "p.findall(files)"
   ]
  },
  {
   "cell_type": "code",
   "execution_count": 64,
   "id": "e035bfaf",
   "metadata": {},
   "outputs": [
    {
     "data": {
      "text/plain": [
       "['sendmail.cf', 'printers.conf']"
      ]
     },
     "execution_count": 64,
     "metadata": {},
     "output_type": "execute_result"
    }
   ],
   "source": [
    "p = re.compile(r\".*[.][^(bat)].*$\", re.MULTILINE)\n",
    "p.findall(files)"
   ]
  },
  {
   "cell_type": "code",
   "execution_count": 65,
   "id": "ec2de192",
   "metadata": {},
   "outputs": [
    {
     "data": {
      "text/plain": [
       "['bar']"
      ]
     },
     "execution_count": 65,
     "metadata": {},
     "output_type": "execute_result"
    }
   ],
   "source": [
    "p = re.compile(r\".*[.]([^b]..|.[^a].|..[^t])$\", re.MULTILINE)\n",
    "p.findall(files)"
   ]
  },
  {
   "cell_type": "code",
   "execution_count": 66,
   "id": "d2304542",
   "metadata": {},
   "outputs": [
    {
     "data": {
      "text/plain": [
       "['bar']"
      ]
     },
     "execution_count": 66,
     "metadata": {},
     "output_type": "execute_result"
    }
   ],
   "source": [
    "p = re.compile(r\".*[.]([^b]..|.[^a].|..[^t])$\", re.MULTILINE)\n",
    "p.findall(files)"
   ]
  },
  {
   "cell_type": "code",
   "execution_count": 74,
   "id": "05ffe3db",
   "metadata": {},
   "outputs": [
    {
     "data": {
      "text/plain": [
       "<re.Match object; span=(0, 7), match='foo.bar'>"
      ]
     },
     "execution_count": 74,
     "metadata": {},
     "output_type": "execute_result"
    }
   ],
   "source": [
    "re.match(r\".*[.]([^b]..|.[^a].|..[^t])$\", 'foo.bar')"
   ]
  },
  {
   "cell_type": "code",
   "execution_count": 75,
   "id": "6bb47f16",
   "metadata": {},
   "outputs": [],
   "source": [
    "re.match(r\".*[.]([^b]..|.[^a].|..[^t])$\", 'autoexec.bat')"
   ]
  },
  {
   "cell_type": "code",
   "execution_count": 76,
   "id": "2edb1ffb",
   "metadata": {},
   "outputs": [],
   "source": [
    "re.match(r\".*[.]([^b]..|.[^a].|..[^t])$\", 'sendmail.cf')"
   ]
  },
  {
   "cell_type": "code",
   "execution_count": 77,
   "id": "d4ff140d",
   "metadata": {},
   "outputs": [],
   "source": [
    "re.match(r\".*[.]([^b]..|.[^a].|..[^t])$\", 'printers.conf')"
   ]
  },
  {
   "cell_type": "code",
   "execution_count": 78,
   "id": "218c0df5",
   "metadata": {},
   "outputs": [],
   "source": [
    "re.match(r\".*[.][^(bat)].*$\", 'foo.bar')"
   ]
  },
  {
   "cell_type": "code",
   "execution_count": 79,
   "id": "e36409a0",
   "metadata": {},
   "outputs": [
    {
     "data": {
      "text/plain": [
       "<re.Match object; span=(0, 11), match='sendmail.cf'>"
      ]
     },
     "execution_count": 79,
     "metadata": {},
     "output_type": "execute_result"
    }
   ],
   "source": [
    "re.match(r\".*[.][^(bat)].*$\", 'sendmail.cf')"
   ]
  },
  {
   "cell_type": "code",
   "execution_count": 86,
   "id": "43fb0dbd",
   "metadata": {},
   "outputs": [
    {
     "data": {
      "text/plain": [
       "<re.Match object; span=(0, 4), match='adbt'>"
      ]
     },
     "execution_count": 86,
     "metadata": {},
     "output_type": "execute_result"
    }
   ],
   "source": [
    "re.match(r\".*[^(bat)].*\", 'adbt')"
   ]
  },
  {
   "cell_type": "code",
   "execution_count": 89,
   "id": "74083ebd",
   "metadata": {},
   "outputs": [],
   "source": [
    "re.match(r\".*[^(bat)].*\", 'abatba')"
   ]
  },
  {
   "cell_type": "markdown",
   "id": "8af2fb07",
   "metadata": {},
   "source": [
    "一个好的解决办法\n",
    "negative lookahead"
   ]
  },
  {
   "cell_type": "code",
   "execution_count": 3,
   "id": "dbf066c4",
   "metadata": {},
   "outputs": [],
   "source": [
    "files = \"\"\"\n",
    "foo.bar\n",
    "autoexec.bat\n",
    "sendmail.cf\n",
    "printers.conf\n",
    "\"\"\""
   ]
  },
  {
   "cell_type": "code",
   "execution_count": 4,
   "id": "cc462ff3",
   "metadata": {},
   "outputs": [
    {
     "data": {
      "text/plain": [
       "['foo.bar', 'sendmail.cf', 'printers.conf\\n']"
      ]
     },
     "execution_count": 4,
     "metadata": {},
     "output_type": "execute_result"
    }
   ],
   "source": [
    "import re\n",
    "\n",
    "p = re.compile(r\".*[.](?!bat$)[^.]*$\", re.MULTILINE)\n",
    "p.findall(files)"
   ]
  },
  {
   "cell_type": "markdown",
   "id": "7926da03",
   "metadata": {},
   "source": [
    "以下正则表达式模式排除所有以 `bat` 和 `exe` 结尾的文件名。\n",
    "\n",
    "\n",
    "`.*[.](?!bat$|exe$)[^.]*$`"
   ]
  },
  {
   "cell_type": "code",
   "execution_count": 5,
   "id": "8b41b54e",
   "metadata": {},
   "outputs": [],
   "source": [
    "files = \"\"\"\n",
    "foo.bar\n",
    "autoexec.bat\n",
    "sendmail.cf\n",
    "printers.conf\n",
    "foo.bat.exe\n",
    "foo.bat.cf\n",
    "foo.cf.bat\n",
    "foo.exe.cf\n",
    "\"\"\""
   ]
  },
  {
   "cell_type": "code",
   "execution_count": 6,
   "id": "42db918e",
   "metadata": {},
   "outputs": [
    {
     "data": {
      "text/plain": [
       "['foo.bar', 'sendmail.cf', 'printers.conf', 'foo.bat.cf', 'foo.exe.cf\\n']"
      ]
     },
     "execution_count": 6,
     "metadata": {},
     "output_type": "execute_result"
    }
   ],
   "source": [
    "p = re.compile(r\".*[.](?!bat$|exe$)[^.]*$\", re.MULTILINE)\n",
    "p.findall(files)"
   ]
  },
  {
   "cell_type": "markdown",
   "id": "907a542b",
   "metadata": {},
   "source": [
    "## modifying strings\n",
    "\n",
    "正则表达式操作字符串的方式：\n",
    "\n",
    "- `split()`，将字符串在符合正则表达式的地方切分成列表。\n",
    "- `sub()`，查找替换（所有）。\n",
    "- `subn()`，替换，并返回新的字符串和替换次数。 "
   ]
  },
  {
   "cell_type": "markdown",
   "id": "6295eace",
   "metadata": {},
   "source": [
    "### splitting strings\n",
    "\n",
    "通过 `maxsplit=0` 限制分割次数。下面的例子中，分隔符是所有的非字母字符。"
   ]
  },
  {
   "cell_type": "code",
   "execution_count": 7,
   "id": "8c7a944b",
   "metadata": {},
   "outputs": [
    {
     "data": {
      "text/plain": [
       "['This', 'is', 'a', 'test', 'short', 'and', 'sweet', 'of', 'split', '']"
      ]
     },
     "execution_count": 7,
     "metadata": {},
     "output_type": "execute_result"
    }
   ],
   "source": [
    "p = re.compile(r'\\W+')\n",
    "p.split('This is a test, short and sweet, of split().')"
   ]
  },
  {
   "cell_type": "code",
   "execution_count": 8,
   "id": "e7a87547",
   "metadata": {},
   "outputs": [
    {
     "data": {
      "text/plain": [
       "['This', 'is', 'a', 'test, short and sweet, of split().']"
      ]
     },
     "execution_count": 8,
     "metadata": {},
     "output_type": "execute_result"
    }
   ],
   "source": [
    "p.split('This is a test, short and sweet, of split().', 3)"
   ]
  },
  {
   "cell_type": "code",
   "execution_count": 9,
   "id": "d129d439",
   "metadata": {},
   "outputs": [
    {
     "data": {
      "text/plain": [
       "['This', 'is', 'a', 'test, short and sweet, of split().']"
      ]
     },
     "execution_count": 9,
     "metadata": {},
     "output_type": "execute_result"
    }
   ],
   "source": [
    "p.split('This is a test, short and sweet, of split().', maxsplit=3)"
   ]
  },
  {
   "cell_type": "markdown",
   "id": "a0b4feb9",
   "metadata": {},
   "source": [
    "当正则表达模式用圆括号括起来时，匹配到的内容也会作为返回值出现在 `split()` 方法的结果中。"
   ]
  },
  {
   "cell_type": "code",
   "execution_count": 10,
   "id": "29a08a4a",
   "metadata": {},
   "outputs": [],
   "source": [
    "p = re.compile(r'\\W+')\n",
    "p2 = re.compile(r'(\\W+)')"
   ]
  },
  {
   "cell_type": "code",
   "execution_count": 12,
   "id": "dff9c7b2",
   "metadata": {},
   "outputs": [
    {
     "data": {
      "text/plain": [
       "['This', 'is', 'a', 'test', '']"
      ]
     },
     "execution_count": 12,
     "metadata": {},
     "output_type": "execute_result"
    }
   ],
   "source": [
    "p.split('This... is a test.')"
   ]
  },
  {
   "cell_type": "code",
   "execution_count": 14,
   "id": "58be39b7",
   "metadata": {},
   "outputs": [
    {
     "data": {
      "text/plain": [
       "['This', 'is', 'a', 'test', '']"
      ]
     },
     "execution_count": 14,
     "metadata": {},
     "output_type": "execute_result"
    }
   ],
   "source": [
    "p.split('This ... is a test.')"
   ]
  },
  {
   "cell_type": "code",
   "execution_count": 13,
   "id": "7945a64a",
   "metadata": {},
   "outputs": [
    {
     "data": {
      "text/plain": [
       "['This', '... ', 'is', ' ', 'a', ' ', 'test', '.', '']"
      ]
     },
     "execution_count": 13,
     "metadata": {},
     "output_type": "execute_result"
    }
   ],
   "source": [
    "p2.split('This... is a test.')"
   ]
  },
  {
   "cell_type": "markdown",
   "id": "5f1882e0",
   "metadata": {},
   "source": [
    "模块级方法 split"
   ]
  },
  {
   "cell_type": "code",
   "execution_count": 15,
   "id": "4d0a2934",
   "metadata": {},
   "outputs": [
    {
     "data": {
      "text/plain": [
       "['Words', '', 'words', '', 'words', '']"
      ]
     },
     "execution_count": 15,
     "metadata": {},
     "output_type": "execute_result"
    }
   ],
   "source": [
    "re.split(r'[\\W+]', 'Words, words, words.')"
   ]
  },
  {
   "cell_type": "code",
   "execution_count": 16,
   "id": "364bf545",
   "metadata": {},
   "outputs": [
    {
     "data": {
      "text/plain": [
       "['Words', 'words', 'words', '']"
      ]
     },
     "execution_count": 16,
     "metadata": {},
     "output_type": "execute_result"
    }
   ],
   "source": [
    "re.split(r'\\W+', 'Words, words, words.')"
   ]
  },
  {
   "cell_type": "markdown",
   "id": "2ce41bfc",
   "metadata": {},
   "source": [
    "> 上面这两个搞不太懂。"
   ]
  },
  {
   "cell_type": "code",
   "execution_count": 17,
   "id": "c0bfcff5",
   "metadata": {},
   "outputs": [
    {
     "data": {
      "text/plain": [
       "['Words', ', ', 'words', ', ', 'words', '.', '']"
      ]
     },
     "execution_count": 17,
     "metadata": {},
     "output_type": "execute_result"
    }
   ],
   "source": [
    "re.split(r'(\\W+)', 'Words, words, words.')"
   ]
  },
  {
   "cell_type": "code",
   "execution_count": 18,
   "id": "824171f2",
   "metadata": {},
   "outputs": [
    {
     "data": {
      "text/plain": [
       "['Words', ' ', 'words', ' ', 'words']"
      ]
     },
     "execution_count": 18,
     "metadata": {},
     "output_type": "execute_result"
    }
   ],
   "source": [
    "re.split(r'([\\W])+', 'Words, words, words')"
   ]
  },
  {
   "cell_type": "code",
   "execution_count": 19,
   "id": "c2352744",
   "metadata": {},
   "outputs": [
    {
     "data": {
      "text/plain": [
       "['Words', 'words', 'words', '']"
      ]
     },
     "execution_count": 19,
     "metadata": {},
     "output_type": "execute_result"
    }
   ],
   "source": [
    "re.split(r'[\\W]+', 'Words, words, words.')"
   ]
  },
  {
   "cell_type": "markdown",
   "id": "6b28057e",
   "metadata": {},
   "source": [
    "> 上面这几个都看不懂。\n",
    "\n",
    "### search and replace"
   ]
  },
  {
   "cell_type": "code",
   "execution_count": 20,
   "id": "b056d43a",
   "metadata": {},
   "outputs": [
    {
     "data": {
      "text/plain": [
       "'colour socks and colour shoes'"
      ]
     },
     "execution_count": 20,
     "metadata": {},
     "output_type": "execute_result"
    }
   ],
   "source": [
    "p = re.compile('(blue|white|red)')\n",
    "p.sub('colour', 'blue socks and red shoes')"
   ]
  },
  {
   "cell_type": "code",
   "execution_count": 21,
   "id": "ab7ccd1b",
   "metadata": {},
   "outputs": [
    {
     "data": {
      "text/plain": [
       "'colour socks and red shoes'"
      ]
     },
     "execution_count": 21,
     "metadata": {},
     "output_type": "execute_result"
    }
   ],
   "source": [
    "p.sub('colour', 'blue socks and red shoes', count=1)"
   ]
  },
  {
   "cell_type": "code",
   "execution_count": 22,
   "id": "f8030fe0",
   "metadata": {},
   "outputs": [
    {
     "data": {
      "text/plain": [
       "('colour socks and colour shoes', 2)"
      ]
     },
     "execution_count": 22,
     "metadata": {},
     "output_type": "execute_result"
    }
   ],
   "source": [
    "p.subn('colour', 'blue socks and red shoes')"
   ]
  },
  {
   "cell_type": "code",
   "execution_count": 23,
   "id": "3978b5d7",
   "metadata": {},
   "outputs": [
    {
     "data": {
      "text/plain": [
       "('colour socks and red shoes', 1)"
      ]
     },
     "execution_count": 23,
     "metadata": {},
     "output_type": "execute_result"
    }
   ],
   "source": [
    "p.subn('colour', 'blue socks and red shoes', count=1)"
   ]
  },
  {
   "cell_type": "markdown",
   "id": "f35b34c2",
   "metadata": {},
   "source": [
    "Empty matches are replaced only when they’re not adjacent to a previous empty match.\n",
    "\n",
    "这句话没看懂。\n",
    "\n",
    "大概是说 b 和 d 中间有 x，然后替换了 两个 --，具体还是不懂。"
   ]
  },
  {
   "cell_type": "code",
   "execution_count": 25,
   "id": "cf16d050",
   "metadata": {},
   "outputs": [
    {
     "data": {
      "text/plain": [
       "'-a-b--d-'"
      ]
     },
     "execution_count": 25,
     "metadata": {},
     "output_type": "execute_result"
    }
   ],
   "source": [
    "p = re.compile('x*')  # * 表示0个或多个\n",
    "p.sub('-', 'abxd')"
   ]
  },
  {
   "cell_type": "code",
   "execution_count": 26,
   "id": "e5bd7f2d",
   "metadata": {},
   "outputs": [
    {
     "data": {
      "text/plain": [
       "'subsection{First} subsection{second} subsubsection{third}'"
      ]
     },
     "execution_count": 26,
     "metadata": {},
     "output_type": "execute_result"
    }
   ],
   "source": [
    "p = re.compile('section{ ( [^}]* ) }', re.VERBOSE)\n",
    "p.sub(r'subsection{\\1}', 'section{First} section{second} subsection{third}')"
   ]
  },
  {
   "cell_type": "code",
   "execution_count": 27,
   "id": "0ced379a",
   "metadata": {},
   "outputs": [
    {
     "data": {
      "text/plain": [
       "'subsection{First}'"
      ]
     },
     "execution_count": 27,
     "metadata": {},
     "output_type": "execute_result"
    }
   ],
   "source": [
    "p = re.compile('section{ (?P<name> [^}]* ) }', re.VERBOSE)\n",
    "p.sub(r'subsection{\\1}', 'section{First}')"
   ]
  },
  {
   "cell_type": "code",
   "execution_count": 28,
   "id": "653f9f2b",
   "metadata": {},
   "outputs": [
    {
     "data": {
      "text/plain": [
       "'subsectio{First}'"
      ]
     },
     "execution_count": 28,
     "metadata": {},
     "output_type": "execute_result"
    }
   ],
   "source": [
    "p.sub(r'subsectio{\\g<1>}', 'section{First}')"
   ]
  },
  {
   "cell_type": "code",
   "execution_count": 30,
   "id": "5f3010bc",
   "metadata": {},
   "outputs": [
    {
     "data": {
      "text/plain": [
       "'subsectio{section{First}}'"
      ]
     },
     "execution_count": 30,
     "metadata": {},
     "output_type": "execute_result"
    }
   ],
   "source": [
    "p.sub(r'subsectio{\\g<0>}', 'section{First}')"
   ]
  },
  {
   "cell_type": "code",
   "execution_count": 33,
   "id": "20c4ac05",
   "metadata": {},
   "outputs": [
    {
     "data": {
      "text/plain": [
       "'subsection{First}'"
      ]
     },
     "execution_count": 33,
     "metadata": {},
     "output_type": "execute_result"
    }
   ],
   "source": [
    "p = re.compile('section{ (?P<name> [^}]* ) }', re.VERBOSE)\n",
    "p.sub(r'subsection{\\g<name>}', 'section{First}')\n",
    "# 这里可以用 name，是因为在 compile 里面也给了组的名字是 name"
   ]
  },
  {
   "cell_type": "markdown",
   "id": "07e749b3",
   "metadata": {},
   "source": [
    "当 sub() 函数的 replacement 参数是一个函数的时候。\n",
    "\n",
    "下面的例子中，replacement 处的函数将十进制数转换为十六进制数。"
   ]
  },
  {
   "cell_type": "code",
   "execution_count": 35,
   "id": "7f7cac27",
   "metadata": {},
   "outputs": [],
   "source": [
    "def hexrepl(match):\n",
    "    \"\"\"Return the hex string for a decimal number.\"\"\"\n",
    "    value = int(match.group())\n",
    "    return hex(value)"
   ]
  },
  {
   "cell_type": "code",
   "execution_count": 36,
   "id": "3f9925a6",
   "metadata": {},
   "outputs": [
    {
     "data": {
      "text/plain": [
       "'Call 0xffd2 for printing, 0xc168 for user code.'"
      ]
     },
     "execution_count": 36,
     "metadata": {},
     "output_type": "execute_result"
    }
   ],
   "source": [
    "p = re.compile(r'\\d+')\n",
    "p.sub(hexrepl, 'Call 65490 for printing, 49512 for user code.')"
   ]
  },
  {
   "cell_type": "code",
   "execution_count": 34,
   "id": "3acfdbd3",
   "metadata": {},
   "outputs": [
    {
     "data": {
      "text/plain": [
       "'0xf'"
      ]
     },
     "execution_count": 34,
     "metadata": {},
     "output_type": "execute_result"
    }
   ],
   "source": [
    "hex(15)"
   ]
  },
  {
   "cell_type": "code",
   "execution_count": 52,
   "id": "e1fa7cfc",
   "metadata": {},
   "outputs": [
    {
     "data": {
      "text/plain": [
       "<re.Match object; span=(5, 10), match='65490'>"
      ]
     },
     "execution_count": 52,
     "metadata": {},
     "output_type": "execute_result"
    }
   ],
   "source": [
    "p = re.compile(r'\\d+')\n",
    "p.search('Call 65490 for printing, 49512 for user code.')\n",
    "# serach 找到一次就结束"
   ]
  },
  {
   "cell_type": "markdown",
   "id": "603dd82f",
   "metadata": {},
   "source": [
    "还有 inline flag 这种东西存在"
   ]
  },
  {
   "cell_type": "code",
   "execution_count": 53,
   "id": "00332c41",
   "metadata": {},
   "outputs": [
    {
     "data": {
      "text/plain": [
       "'x x'"
      ]
     },
     "execution_count": 53,
     "metadata": {},
     "output_type": "execute_result"
    }
   ],
   "source": [
    "re.sub(\"(?i)b+\", 'x', 'bbbb BBBB')\n",
    "# `(?i)` 就表示 re.IGNORECASE"
   ]
  },
  {
   "cell_type": "code",
   "execution_count": 54,
   "id": "ca3c1d64",
   "metadata": {},
   "outputs": [
    {
     "data": {
      "text/plain": [
       "'x BBBB'"
      ]
     },
     "execution_count": 54,
     "metadata": {},
     "output_type": "execute_result"
    }
   ],
   "source": [
    "re.sub(\"b+\", 'x', 'bbbb BBBB')"
   ]
  },
  {
   "cell_type": "markdown",
   "id": "7a1c6346",
   "metadata": {},
   "source": [
    "## common problems\n",
    "\n",
    "有时候我们无法让正则表达式按照我们期望的那样去实现效果。\n",
    "\n",
    "### use string methods\n",
    "\n",
    "如果只是匹配某个确定字符串，或某个字符类别，就不需要用 re 模块。可以使用 [`replace()`](https://docs.python.org/3/library/stdtypes.html#str.replace) method。\n",
    "\n",
    "`replace()` 也会把单词内的字符给替换掉。\n",
    "\n",
    "另一个是做简单的字符替换，可以考虑 `str.translate()` 【但是这个方法没看懂】"
   ]
  },
  {
   "cell_type": "code",
   "execution_count": 55,
   "id": "02a8d290",
   "metadata": {},
   "outputs": [
    {
     "data": {
      "text/plain": [
       "'\\nfoo.bar\\nautoexec.bat\\nsendmail.cf\\nprinters.conf\\nfoo.bat.exe\\nfoo.bat.cf\\nfoo.cf.bat\\nfoo.exe.cf\\n'"
      ]
     },
     "execution_count": 55,
     "metadata": {},
     "output_type": "execute_result"
    }
   ],
   "source": [
    "files"
   ]
  },
  {
   "cell_type": "markdown",
   "id": "a951d74e",
   "metadata": {},
   "source": [
    "### match() versus search()\n",
    "\n",
    "`match()` 只检查从字符串开始的匹配情况；\n",
    "\n",
    "`search()` 从头开始检查字符串，返回所有匹配结果。"
   ]
  },
  {
   "cell_type": "code",
   "execution_count": 60,
   "id": "b1871a92",
   "metadata": {},
   "outputs": [
    {
     "data": {
      "text/plain": [
       "(0, 5)"
      ]
     },
     "execution_count": 60,
     "metadata": {},
     "output_type": "execute_result"
    }
   ],
   "source": [
    "re.match('super', 'superstition').span()"
   ]
  },
  {
   "cell_type": "code",
   "execution_count": 61,
   "id": "2bffe7f8",
   "metadata": {},
   "outputs": [],
   "source": [
    "re.match('super', 'insuperable')"
   ]
  },
  {
   "cell_type": "code",
   "execution_count": 62,
   "id": "ec55acb7",
   "metadata": {},
   "outputs": [
    {
     "data": {
      "text/plain": [
       "(0, 5)"
      ]
     },
     "execution_count": 62,
     "metadata": {},
     "output_type": "execute_result"
    }
   ],
   "source": [
    "re.search('super', 'superstition').span()"
   ]
  },
  {
   "cell_type": "code",
   "execution_count": 63,
   "id": "b0d68e40",
   "metadata": {},
   "outputs": [
    {
     "data": {
      "text/plain": [
       "(2, 7)"
      ]
     },
     "execution_count": 63,
     "metadata": {},
     "output_type": "execute_result"
    }
   ],
   "source": [
    "re.search('super', 'insuperable').span()"
   ]
  },
  {
   "cell_type": "markdown",
   "id": "5f159b5a",
   "metadata": {},
   "source": [
    "### greedy versus non-greedy\n",
    "\n",
    "不懂说的啥，大概理解贪婪的意思就是尽可能多地匹配。"
   ]
  },
  {
   "cell_type": "code",
   "execution_count": 64,
   "id": "ffd2a9b6",
   "metadata": {},
   "outputs": [
    {
     "data": {
      "text/plain": [
       "32"
      ]
     },
     "execution_count": 64,
     "metadata": {},
     "output_type": "execute_result"
    }
   ],
   "source": [
    "s = '<html><head><title>Title</title>'\n",
    "len(s)"
   ]
  },
  {
   "cell_type": "code",
   "execution_count": 65,
   "id": "245aa660",
   "metadata": {},
   "outputs": [
    {
     "data": {
      "text/plain": [
       "(0, 32)"
      ]
     },
     "execution_count": 65,
     "metadata": {},
     "output_type": "execute_result"
    }
   ],
   "source": [
    "re.match('<.*>', s).span()"
   ]
  },
  {
   "cell_type": "code",
   "execution_count": 66,
   "id": "a2bb8352",
   "metadata": {},
   "outputs": [
    {
     "data": {
      "text/plain": [
       "'<html><head><title>Title</title>'"
      ]
     },
     "execution_count": 66,
     "metadata": {},
     "output_type": "execute_result"
    }
   ],
   "source": [
    "re.match('<.*>', s).group()"
   ]
  },
  {
   "cell_type": "code",
   "execution_count": 67,
   "id": "9d9b3f31",
   "metadata": {},
   "outputs": [
    {
     "data": {
      "text/plain": [
       "()"
      ]
     },
     "execution_count": 67,
     "metadata": {},
     "output_type": "execute_result"
    }
   ],
   "source": [
    "re.match('<.*>', s).groups()"
   ]
  },
  {
   "cell_type": "markdown",
   "id": "a95ebffc",
   "metadata": {},
   "source": [
    "好像懂了，本来是准备匹配 html 中的标签的。那要怎么做呢。"
   ]
  },
  {
   "cell_type": "markdown",
   "id": "7bb2ce09",
   "metadata": {},
   "source": [
    "non-greedy qualifiers\n",
    "\n",
    "```\n",
    "*? +? ?? {m,n}\n",
    "```\n",
    "\n",
    "这些符号会尽可能匹配更少文本。"
   ]
  },
  {
   "cell_type": "code",
   "execution_count": 69,
   "id": "0781f84a",
   "metadata": {},
   "outputs": [
    {
     "data": {
      "text/plain": [
       "'<html>'"
      ]
     },
     "execution_count": 69,
     "metadata": {},
     "output_type": "execute_result"
    }
   ],
   "source": [
    "re.match('<.*?>', s).group()"
   ]
  },
  {
   "cell_type": "markdown",
   "id": "1fd91f66",
   "metadata": {},
   "source": [
    "解析 html 或 xml 格式文件最好的办法还是用第三方包，自己写解析方法会让你头秃。"
   ]
  },
  {
   "cell_type": "markdown",
   "id": "b09aac9f",
   "metadata": {},
   "source": [
    "### using re.VERBOSE\n",
    "\n",
    "简短的正则表达式没关系，但是太过复杂的就让人看着难受，这时使用 verbose flag并写注释就很有用了。\n",
    "\n"
   ]
  },
  {
   "cell_type": "code",
   "execution_count": 73,
   "id": "995db5e3",
   "metadata": {},
   "outputs": [],
   "source": [
    "pat = re.compile(r\"\"\"\n",
    " \\s*                # skip leading whitespace\n",
    " (?P<header>[^:]+)  # header name\n",
    " \\s* :              # whitespace, and a colon\n",
    " (?P<value>.*?)     # the header's value  -- *? used to \n",
    "                    # lose the following trailing whitespace\n",
    " \\s*$               # Trailing whitespace to end-of-line\n",
    "\"\"\", re.VERBOSE)"
   ]
  },
  {
   "cell_type": "markdown",
   "id": "139b26a5",
   "metadata": {},
   "source": [
    "对应的非 verbose 的形式是"
   ]
  },
  {
   "cell_type": "code",
   "execution_count": 79,
   "id": "8d8347f9",
   "metadata": {},
   "outputs": [],
   "source": [
    "pat = re.compile(r\"\\s*(?P<header>[^:]+)\\s*:(?P<value>|.*?)\\s*$\")"
   ]
  },
  {
   "cell_type": "markdown",
   "id": "3e702c25",
   "metadata": {},
   "source": [
    "这个还要看看是匹配啥的。"
   ]
  },
  {
   "cell_type": "code",
   "execution_count": 77,
   "id": "27a42992",
   "metadata": {},
   "outputs": [],
   "source": [
    "pat = re.compile(r\"\\s*(?P<header>[^:]+)\\s*:(?P<value>.*?)\\s*$\")"
   ]
  },
  {
   "cell_type": "code",
   "execution_count": 80,
   "id": "a2f4e07e",
   "metadata": {},
   "outputs": [
    {
     "data": {
      "text/plain": [
       "<re.Match object; span=(0, 14), match='afafaef:egegeg'>"
      ]
     },
     "execution_count": 80,
     "metadata": {},
     "output_type": "execute_result"
    }
   ],
   "source": [
    "pat.search('afafaef:egegeg')"
   ]
  },
  {
   "cell_type": "code",
   "execution_count": 81,
   "id": "607bec18",
   "metadata": {},
   "outputs": [
    {
     "data": {
      "text/plain": [
       "<re.Match object; span=(0, 16), match='afafaef  : 123  '>"
      ]
     },
     "execution_count": 81,
     "metadata": {},
     "output_type": "execute_result"
    }
   ],
   "source": [
    "pat.search('afafaef  : 123  ')"
   ]
  },
  {
   "cell_type": "code",
   "execution_count": null,
   "id": "38f5224c",
   "metadata": {},
   "outputs": [],
   "source": []
  }
 ],
 "metadata": {
  "kernelspec": {
   "display_name": "Python 3 (ipykernel)",
   "language": "python",
   "name": "python3"
  },
  "language_info": {
   "codemirror_mode": {
    "name": "ipython",
    "version": 3
   },
   "file_extension": ".py",
   "mimetype": "text/x-python",
   "name": "python",
   "nbconvert_exporter": "python",
   "pygments_lexer": "ipython3",
   "version": "3.9.5"
  },
  "toc": {
   "base_numbering": 1,
   "nav_menu": {},
   "number_sections": true,
   "sideBar": true,
   "skip_h1_title": false,
   "title_cell": "Table of Contents",
   "title_sidebar": "Contents",
   "toc_cell": false,
   "toc_position": {},
   "toc_section_display": true,
   "toc_window_display": false
  }
 },
 "nbformat": 4,
 "nbformat_minor": 5
}
