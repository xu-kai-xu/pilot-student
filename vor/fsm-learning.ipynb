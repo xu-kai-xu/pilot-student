{
 "cells": [
  {
   "cell_type": "markdown",
   "id": "077384bb",
   "metadata": {},
   "source": [
    "# 有限状态机\n",
    "\n",
    "https://github.com/pytransitions/transitions\n",
    "\n",
    "transitions 包"
   ]
  },
  {
   "cell_type": "code",
   "execution_count": 2,
   "id": "56f1b5c5",
   "metadata": {},
   "outputs": [
    {
     "data": {
      "text/plain": [
       "True"
      ]
     },
     "execution_count": 2,
     "metadata": {},
     "output_type": "execute_result"
    }
   ],
   "source": [
    "def function():\n",
    "    return True\n",
    "\n",
    "function() is True"
   ]
  },
  {
   "cell_type": "code",
   "execution_count": 3,
   "id": "35221676",
   "metadata": {},
   "outputs": [
    {
     "data": {
      "text/plain": [
       "False"
      ]
     },
     "execution_count": 3,
     "metadata": {},
     "output_type": "execute_result"
    }
   ],
   "source": [
    "def function():\n",
    "    pass\n",
    "\n",
    "function() is True"
   ]
  },
  {
   "cell_type": "markdown",
   "id": "4cf08250",
   "metadata": {},
   "source": [
    "## quick start"
   ]
  },
  {
   "cell_type": "code",
   "execution_count": 37,
   "id": "91ef0220",
   "metadata": {},
   "outputs": [],
   "source": [
    "from transitions import Machine\n",
    "import random\n",
    "\n",
    "class NacrolepticSuperhero(object):\n",
    "    states = ['asleep', 'hanging out', 'hungry', 'sweaty', 'saving the world']\n",
    "    \n",
    "    def __init__(self, name):\n",
    "        self.name = name\n",
    "        self.kittens_rescued = 0\n",
    "        self.machine = Machine(model=self, states=NacrolepticSuperhero.states, initial='asleep')\n",
    "        \n",
    "        self.machine.add_transition(trigger='wake_up', source='asleep', dest='hanging out')\n",
    "        self.machine.add_transition(trigger='work_out', source='hanging out', dest='hungry')\n",
    "        self.machine.add_transition('eat', 'hungry', 'hanging out')\n",
    "        \n",
    "        self.machine.add_transition('distress_call', '*', 'saving the world',\n",
    "                                    before='change_into_super_secret_costume')\n",
    "        \n",
    "        self.machine.add_transition('complete_mission', 'saving the world', 'sweaty', \n",
    "                                    after='update_journal')\n",
    "        \n",
    "        self.machine.add_transition('clean_up', 'sweaty', 'asleep', conditions=['is_exhausted'])\n",
    "        self.machine.add_transition('clean_up', 'sweaty', 'hanging out')\n",
    "        \n",
    "        self.machine.add_transition('nap', '*', 'asleep')\n",
    "        \n",
    "    def update_journal(self):\n",
    "        \"\"\"dear diary, today i saved Mr. Whiskers. Again.\"\"\"\n",
    "        self.kittens_rescued += 1\n",
    "        \n",
    "    @property\n",
    "    def is_exhausted(self):\n",
    "        \"\"\"Basically a coin toss.\"\"\"\n",
    "        return random.random() < 0.5\n",
    "    \n",
    "    def change_into_super_secret_costume(self):\n",
    "        print(\"beauty, eh?\")"
   ]
  },
  {
   "cell_type": "code",
   "execution_count": 38,
   "id": "e5bb2aae",
   "metadata": {},
   "outputs": [
    {
     "data": {
      "text/plain": [
       "'asleep'"
      ]
     },
     "execution_count": 38,
     "metadata": {},
     "output_type": "execute_result"
    }
   ],
   "source": [
    "batman = NacrolepticSuperhero(\"Batman\")\n",
    "batman.state"
   ]
  },
  {
   "cell_type": "code",
   "execution_count": 39,
   "id": "093bd950",
   "metadata": {},
   "outputs": [
    {
     "data": {
      "text/plain": [
       "'hanging out'"
      ]
     },
     "execution_count": 39,
     "metadata": {},
     "output_type": "execute_result"
    }
   ],
   "source": [
    "batman.wake_up()\n",
    "batman.state"
   ]
  },
  {
   "cell_type": "code",
   "execution_count": 40,
   "id": "f1e862e2",
   "metadata": {},
   "outputs": [
    {
     "data": {
      "text/plain": [
       "'asleep'"
      ]
     },
     "execution_count": 40,
     "metadata": {},
     "output_type": "execute_result"
    }
   ],
   "source": [
    "batman.nap()\n",
    "batman.state"
   ]
  },
  {
   "cell_type": "code",
   "execution_count": 41,
   "id": "7cb1692e",
   "metadata": {},
   "outputs": [
    {
     "ename": "MachineError",
     "evalue": "\"Can't trigger event clean_up from state asleep!\"",
     "output_type": "error",
     "traceback": [
      "\u001b[1;31m---------------------------------------------------------------------------\u001b[0m",
      "\u001b[1;31mMachineError\u001b[0m                              Traceback (most recent call last)",
      "\u001b[1;32mC:\\Users\\ADMINI~1\\AppData\\Local\\Temp/ipykernel_2824/2903922203.py\u001b[0m in \u001b[0;36m<module>\u001b[1;34m\u001b[0m\n\u001b[1;32m----> 1\u001b[1;33m \u001b[0mbatman\u001b[0m\u001b[1;33m.\u001b[0m\u001b[0mclean_up\u001b[0m\u001b[1;33m(\u001b[0m\u001b[1;33m)\u001b[0m\u001b[1;33m\u001b[0m\u001b[1;33m\u001b[0m\u001b[0m\n\u001b[0m",
      "\u001b[1;32md:\\program_files\\conda\\lib\\site-packages\\transitions\\core.py\u001b[0m in \u001b[0;36mtrigger\u001b[1;34m(self, model, *args, **kwargs)\u001b[0m\n\u001b[0;32m    399\u001b[0m         \u001b[1;31m# Machine._process should not be called somewhere else. That's why it should not be exposed\u001b[0m\u001b[1;33m\u001b[0m\u001b[1;33m\u001b[0m\u001b[1;33m\u001b[0m\u001b[0m\n\u001b[0;32m    400\u001b[0m         \u001b[1;31m# to Machine users.\u001b[0m\u001b[1;33m\u001b[0m\u001b[1;33m\u001b[0m\u001b[1;33m\u001b[0m\u001b[0m\n\u001b[1;32m--> 401\u001b[1;33m         \u001b[1;32mreturn\u001b[0m \u001b[0mself\u001b[0m\u001b[1;33m.\u001b[0m\u001b[0mmachine\u001b[0m\u001b[1;33m.\u001b[0m\u001b[0m_process\u001b[0m\u001b[1;33m(\u001b[0m\u001b[0mfunc\u001b[0m\u001b[1;33m)\u001b[0m\u001b[1;33m\u001b[0m\u001b[1;33m\u001b[0m\u001b[0m\n\u001b[0m\u001b[0;32m    402\u001b[0m \u001b[1;33m\u001b[0m\u001b[0m\n\u001b[0;32m    403\u001b[0m     \u001b[1;32mdef\u001b[0m \u001b[0m_trigger\u001b[0m\u001b[1;33m(\u001b[0m\u001b[0mself\u001b[0m\u001b[1;33m,\u001b[0m \u001b[0mmodel\u001b[0m\u001b[1;33m,\u001b[0m \u001b[1;33m*\u001b[0m\u001b[0margs\u001b[0m\u001b[1;33m,\u001b[0m \u001b[1;33m**\u001b[0m\u001b[0mkwargs\u001b[0m\u001b[1;33m)\u001b[0m\u001b[1;33m:\u001b[0m\u001b[1;33m\u001b[0m\u001b[1;33m\u001b[0m\u001b[0m\n",
      "\u001b[1;32md:\\program_files\\conda\\lib\\site-packages\\transitions\\core.py\u001b[0m in \u001b[0;36m_process\u001b[1;34m(self, trigger)\u001b[0m\n\u001b[0;32m   1186\u001b[0m             \u001b[1;32mif\u001b[0m \u001b[1;32mnot\u001b[0m \u001b[0mself\u001b[0m\u001b[1;33m.\u001b[0m\u001b[0m_transition_queue\u001b[0m\u001b[1;33m:\u001b[0m\u001b[1;33m\u001b[0m\u001b[1;33m\u001b[0m\u001b[0m\n\u001b[0;32m   1187\u001b[0m                 \u001b[1;31m# if trigger raises an Error, it has to be handled by the Machine.process caller\u001b[0m\u001b[1;33m\u001b[0m\u001b[1;33m\u001b[0m\u001b[1;33m\u001b[0m\u001b[0m\n\u001b[1;32m-> 1188\u001b[1;33m                 \u001b[1;32mreturn\u001b[0m \u001b[0mtrigger\u001b[0m\u001b[1;33m(\u001b[0m\u001b[1;33m)\u001b[0m\u001b[1;33m\u001b[0m\u001b[1;33m\u001b[0m\u001b[0m\n\u001b[0m\u001b[0;32m   1189\u001b[0m             \u001b[1;32melse\u001b[0m\u001b[1;33m:\u001b[0m\u001b[1;33m\u001b[0m\u001b[1;33m\u001b[0m\u001b[0m\n\u001b[0;32m   1190\u001b[0m                 \u001b[1;32mraise\u001b[0m \u001b[0mMachineError\u001b[0m\u001b[1;33m(\u001b[0m\u001b[1;34m\"Attempt to process events synchronously while transition queue is not empty!\"\u001b[0m\u001b[1;33m)\u001b[0m\u001b[1;33m\u001b[0m\u001b[1;33m\u001b[0m\u001b[0m\n",
      "\u001b[1;32md:\\program_files\\conda\\lib\\site-packages\\transitions\\core.py\u001b[0m in \u001b[0;36m_trigger\u001b[1;34m(self, model, *args, **kwargs)\u001b[0m\n\u001b[0;32m    422\u001b[0m                 \u001b[1;32mreturn\u001b[0m \u001b[1;32mFalse\u001b[0m\u001b[1;33m\u001b[0m\u001b[1;33m\u001b[0m\u001b[0m\n\u001b[0;32m    423\u001b[0m             \u001b[1;32melse\u001b[0m\u001b[1;33m:\u001b[0m\u001b[1;33m\u001b[0m\u001b[1;33m\u001b[0m\u001b[0m\n\u001b[1;32m--> 424\u001b[1;33m                 \u001b[1;32mraise\u001b[0m \u001b[0mMachineError\u001b[0m\u001b[1;33m(\u001b[0m\u001b[0mmsg\u001b[0m\u001b[1;33m)\u001b[0m\u001b[1;33m\u001b[0m\u001b[1;33m\u001b[0m\u001b[0m\n\u001b[0m\u001b[0;32m    425\u001b[0m         \u001b[0mevent_data\u001b[0m \u001b[1;33m=\u001b[0m \u001b[0mEventData\u001b[0m\u001b[1;33m(\u001b[0m\u001b[0mstate\u001b[0m\u001b[1;33m,\u001b[0m \u001b[0mself\u001b[0m\u001b[1;33m,\u001b[0m \u001b[0mself\u001b[0m\u001b[1;33m.\u001b[0m\u001b[0mmachine\u001b[0m\u001b[1;33m,\u001b[0m \u001b[0mmodel\u001b[0m\u001b[1;33m,\u001b[0m \u001b[0margs\u001b[0m\u001b[1;33m=\u001b[0m\u001b[0margs\u001b[0m\u001b[1;33m,\u001b[0m \u001b[0mkwargs\u001b[0m\u001b[1;33m=\u001b[0m\u001b[0mkwargs\u001b[0m\u001b[1;33m)\u001b[0m\u001b[1;33m\u001b[0m\u001b[1;33m\u001b[0m\u001b[0m\n\u001b[0;32m    426\u001b[0m         \u001b[1;32mreturn\u001b[0m \u001b[0mself\u001b[0m\u001b[1;33m.\u001b[0m\u001b[0m_process\u001b[0m\u001b[1;33m(\u001b[0m\u001b[0mevent_data\u001b[0m\u001b[1;33m)\u001b[0m\u001b[1;33m\u001b[0m\u001b[1;33m\u001b[0m\u001b[0m\n",
      "\u001b[1;31mMachineError\u001b[0m: \"Can't trigger event clean_up from state asleep!\""
     ]
    }
   ],
   "source": [
    "batman.clean_up()"
   ]
  },
  {
   "cell_type": "code",
   "execution_count": 42,
   "id": "2798606d",
   "metadata": {},
   "outputs": [
    {
     "data": {
      "text/plain": [
       "'hanging out'"
      ]
     },
     "execution_count": 42,
     "metadata": {},
     "output_type": "execute_result"
    }
   ],
   "source": [
    "batman.wake_up()\n",
    "batman.state"
   ]
  },
  {
   "cell_type": "code",
   "execution_count": 43,
   "id": "af900f86",
   "metadata": {},
   "outputs": [
    {
     "data": {
      "text/plain": [
       "'hungry'"
      ]
     },
     "execution_count": 43,
     "metadata": {},
     "output_type": "execute_result"
    }
   ],
   "source": [
    "batman.work_out()\n",
    "batman.state"
   ]
  },
  {
   "cell_type": "code",
   "execution_count": 44,
   "id": "962d3050",
   "metadata": {},
   "outputs": [
    {
     "data": {
      "text/plain": [
       "0"
      ]
     },
     "execution_count": 44,
     "metadata": {},
     "output_type": "execute_result"
    }
   ],
   "source": [
    "batman.kittens_rescued"
   ]
  },
  {
   "cell_type": "code",
   "execution_count": 47,
   "id": "d89d8663",
   "metadata": {},
   "outputs": [
    {
     "name": "stdout",
     "output_type": "stream",
     "text": [
      "beauty, eh?\n"
     ]
    },
    {
     "data": {
      "text/plain": [
       "'saving the world'"
      ]
     },
     "execution_count": 47,
     "metadata": {},
     "output_type": "execute_result"
    }
   ],
   "source": [
    "batman.distress_call()\n",
    "batman.state"
   ]
  },
  {
   "cell_type": "code",
   "execution_count": 48,
   "id": "48c3e3d4",
   "metadata": {},
   "outputs": [
    {
     "data": {
      "text/plain": [
       "'sweaty'"
      ]
     },
     "execution_count": 48,
     "metadata": {},
     "output_type": "execute_result"
    }
   ],
   "source": [
    "batman.complete_mission()\n",
    "batman.state"
   ]
  },
  {
   "cell_type": "code",
   "execution_count": 49,
   "id": "fadf9636",
   "metadata": {},
   "outputs": [
    {
     "data": {
      "text/plain": [
       "'asleep'"
      ]
     },
     "execution_count": 49,
     "metadata": {},
     "output_type": "execute_result"
    }
   ],
   "source": [
    "batman.clean_up()\n",
    "batman.state"
   ]
  },
  {
   "cell_type": "code",
   "execution_count": 52,
   "id": "d27f72ac",
   "metadata": {},
   "outputs": [
    {
     "data": {
      "text/plain": [
       "1"
      ]
     },
     "execution_count": 52,
     "metadata": {},
     "output_type": "execute_result"
    }
   ],
   "source": [
    "batman.kittens_rescued"
   ]
  },
  {
   "cell_type": "code",
   "execution_count": 53,
   "id": "ae01d138",
   "metadata": {},
   "outputs": [
    {
     "ename": "MachineError",
     "evalue": "\"Can't trigger event complete_mission from state asleep!\"",
     "output_type": "error",
     "traceback": [
      "\u001b[1;31m---------------------------------------------------------------------------\u001b[0m",
      "\u001b[1;31mMachineError\u001b[0m                              Traceback (most recent call last)",
      "\u001b[1;32mC:\\Users\\ADMINI~1\\AppData\\Local\\Temp/ipykernel_2824/884505715.py\u001b[0m in \u001b[0;36m<module>\u001b[1;34m\u001b[0m\n\u001b[1;32m----> 1\u001b[1;33m \u001b[0mbatman\u001b[0m\u001b[1;33m.\u001b[0m\u001b[0mcomplete_mission\u001b[0m\u001b[1;33m(\u001b[0m\u001b[1;33m)\u001b[0m\u001b[1;33m\u001b[0m\u001b[1;33m\u001b[0m\u001b[0m\n\u001b[0m\u001b[0;32m      2\u001b[0m \u001b[0mbatman\u001b[0m\u001b[1;33m.\u001b[0m\u001b[0mkittens_rescued\u001b[0m\u001b[1;33m\u001b[0m\u001b[1;33m\u001b[0m\u001b[0m\n",
      "\u001b[1;32md:\\program_files\\conda\\lib\\site-packages\\transitions\\core.py\u001b[0m in \u001b[0;36mtrigger\u001b[1;34m(self, model, *args, **kwargs)\u001b[0m\n\u001b[0;32m    399\u001b[0m         \u001b[1;31m# Machine._process should not be called somewhere else. That's why it should not be exposed\u001b[0m\u001b[1;33m\u001b[0m\u001b[1;33m\u001b[0m\u001b[1;33m\u001b[0m\u001b[0m\n\u001b[0;32m    400\u001b[0m         \u001b[1;31m# to Machine users.\u001b[0m\u001b[1;33m\u001b[0m\u001b[1;33m\u001b[0m\u001b[1;33m\u001b[0m\u001b[0m\n\u001b[1;32m--> 401\u001b[1;33m         \u001b[1;32mreturn\u001b[0m \u001b[0mself\u001b[0m\u001b[1;33m.\u001b[0m\u001b[0mmachine\u001b[0m\u001b[1;33m.\u001b[0m\u001b[0m_process\u001b[0m\u001b[1;33m(\u001b[0m\u001b[0mfunc\u001b[0m\u001b[1;33m)\u001b[0m\u001b[1;33m\u001b[0m\u001b[1;33m\u001b[0m\u001b[0m\n\u001b[0m\u001b[0;32m    402\u001b[0m \u001b[1;33m\u001b[0m\u001b[0m\n\u001b[0;32m    403\u001b[0m     \u001b[1;32mdef\u001b[0m \u001b[0m_trigger\u001b[0m\u001b[1;33m(\u001b[0m\u001b[0mself\u001b[0m\u001b[1;33m,\u001b[0m \u001b[0mmodel\u001b[0m\u001b[1;33m,\u001b[0m \u001b[1;33m*\u001b[0m\u001b[0margs\u001b[0m\u001b[1;33m,\u001b[0m \u001b[1;33m**\u001b[0m\u001b[0mkwargs\u001b[0m\u001b[1;33m)\u001b[0m\u001b[1;33m:\u001b[0m\u001b[1;33m\u001b[0m\u001b[1;33m\u001b[0m\u001b[0m\n",
      "\u001b[1;32md:\\program_files\\conda\\lib\\site-packages\\transitions\\core.py\u001b[0m in \u001b[0;36m_process\u001b[1;34m(self, trigger)\u001b[0m\n\u001b[0;32m   1186\u001b[0m             \u001b[1;32mif\u001b[0m \u001b[1;32mnot\u001b[0m \u001b[0mself\u001b[0m\u001b[1;33m.\u001b[0m\u001b[0m_transition_queue\u001b[0m\u001b[1;33m:\u001b[0m\u001b[1;33m\u001b[0m\u001b[1;33m\u001b[0m\u001b[0m\n\u001b[0;32m   1187\u001b[0m                 \u001b[1;31m# if trigger raises an Error, it has to be handled by the Machine.process caller\u001b[0m\u001b[1;33m\u001b[0m\u001b[1;33m\u001b[0m\u001b[1;33m\u001b[0m\u001b[0m\n\u001b[1;32m-> 1188\u001b[1;33m                 \u001b[1;32mreturn\u001b[0m \u001b[0mtrigger\u001b[0m\u001b[1;33m(\u001b[0m\u001b[1;33m)\u001b[0m\u001b[1;33m\u001b[0m\u001b[1;33m\u001b[0m\u001b[0m\n\u001b[0m\u001b[0;32m   1189\u001b[0m             \u001b[1;32melse\u001b[0m\u001b[1;33m:\u001b[0m\u001b[1;33m\u001b[0m\u001b[1;33m\u001b[0m\u001b[0m\n\u001b[0;32m   1190\u001b[0m                 \u001b[1;32mraise\u001b[0m \u001b[0mMachineError\u001b[0m\u001b[1;33m(\u001b[0m\u001b[1;34m\"Attempt to process events synchronously while transition queue is not empty!\"\u001b[0m\u001b[1;33m)\u001b[0m\u001b[1;33m\u001b[0m\u001b[1;33m\u001b[0m\u001b[0m\n",
      "\u001b[1;32md:\\program_files\\conda\\lib\\site-packages\\transitions\\core.py\u001b[0m in \u001b[0;36m_trigger\u001b[1;34m(self, model, *args, **kwargs)\u001b[0m\n\u001b[0;32m    422\u001b[0m                 \u001b[1;32mreturn\u001b[0m \u001b[1;32mFalse\u001b[0m\u001b[1;33m\u001b[0m\u001b[1;33m\u001b[0m\u001b[0m\n\u001b[0;32m    423\u001b[0m             \u001b[1;32melse\u001b[0m\u001b[1;33m:\u001b[0m\u001b[1;33m\u001b[0m\u001b[1;33m\u001b[0m\u001b[0m\n\u001b[1;32m--> 424\u001b[1;33m                 \u001b[1;32mraise\u001b[0m \u001b[0mMachineError\u001b[0m\u001b[1;33m(\u001b[0m\u001b[0mmsg\u001b[0m\u001b[1;33m)\u001b[0m\u001b[1;33m\u001b[0m\u001b[1;33m\u001b[0m\u001b[0m\n\u001b[0m\u001b[0;32m    425\u001b[0m         \u001b[0mevent_data\u001b[0m \u001b[1;33m=\u001b[0m \u001b[0mEventData\u001b[0m\u001b[1;33m(\u001b[0m\u001b[0mstate\u001b[0m\u001b[1;33m,\u001b[0m \u001b[0mself\u001b[0m\u001b[1;33m,\u001b[0m \u001b[0mself\u001b[0m\u001b[1;33m.\u001b[0m\u001b[0mmachine\u001b[0m\u001b[1;33m,\u001b[0m \u001b[0mmodel\u001b[0m\u001b[1;33m,\u001b[0m \u001b[0margs\u001b[0m\u001b[1;33m=\u001b[0m\u001b[0margs\u001b[0m\u001b[1;33m,\u001b[0m \u001b[0mkwargs\u001b[0m\u001b[1;33m=\u001b[0m\u001b[0mkwargs\u001b[0m\u001b[1;33m)\u001b[0m\u001b[1;33m\u001b[0m\u001b[1;33m\u001b[0m\u001b[0m\n\u001b[0;32m    426\u001b[0m         \u001b[1;32mreturn\u001b[0m \u001b[0mself\u001b[0m\u001b[1;33m.\u001b[0m\u001b[0m_process\u001b[0m\u001b[1;33m(\u001b[0m\u001b[0mevent_data\u001b[0m\u001b[1;33m)\u001b[0m\u001b[1;33m\u001b[0m\u001b[1;33m\u001b[0m\u001b[0m\n",
      "\u001b[1;31mMachineError\u001b[0m: \"Can't trigger event complete_mission from state asleep!\""
     ]
    }
   ],
   "source": [
    "batman.complete_mission()\n",
    "batman.kittens_rescued"
   ]
  },
  {
   "cell_type": "markdown",
   "id": "3b5996ba",
   "metadata": {},
   "source": [
    "## the non-quickstart"
   ]
  },
  {
   "cell_type": "code",
   "execution_count": 54,
   "id": "1dc5dcc4",
   "metadata": {},
   "outputs": [],
   "source": [
    "class Matter(object):\n",
    "    pass\n",
    "\n",
    "lump = Matter()"
   ]
  },
  {
   "cell_type": "code",
   "execution_count": 55,
   "id": "d5822ca1",
   "metadata": {},
   "outputs": [
    {
     "data": {
      "text/plain": [
       "'solid'"
      ]
     },
     "execution_count": 55,
     "metadata": {},
     "output_type": "execute_result"
    }
   ],
   "source": [
    "from transitions import Machine\n",
    "\n",
    "machine = Machine(model=lump, states=['solid', 'liquid', 'gas', 'plasma'], initial='solid')\n",
    "\n",
    "lump.state"
   ]
  },
  {
   "cell_type": "code",
   "execution_count": 57,
   "id": "106d3907",
   "metadata": {},
   "outputs": [
    {
     "data": {
      "text/plain": [
       "'solid'"
      ]
     },
     "execution_count": 57,
     "metadata": {},
     "output_type": "execute_result"
    }
   ],
   "source": [
    "lump.state"
   ]
  },
  {
   "cell_type": "code",
   "execution_count": 58,
   "id": "1ecd5c10",
   "metadata": {},
   "outputs": [
    {
     "ename": "AttributeError",
     "evalue": "'Matter' object has no attribute 'states'",
     "output_type": "error",
     "traceback": [
      "\u001b[1;31m---------------------------------------------------------------------------\u001b[0m",
      "\u001b[1;31mAttributeError\u001b[0m                            Traceback (most recent call last)",
      "\u001b[1;32mC:\\Users\\ADMINI~1\\AppData\\Local\\Temp/ipykernel_2824/781881583.py\u001b[0m in \u001b[0;36m<module>\u001b[1;34m\u001b[0m\n\u001b[1;32m----> 1\u001b[1;33m \u001b[0mlump\u001b[0m\u001b[1;33m.\u001b[0m\u001b[0mstates\u001b[0m\u001b[1;33m\u001b[0m\u001b[1;33m\u001b[0m\u001b[0m\n\u001b[0m",
      "\u001b[1;31mAttributeError\u001b[0m: 'Matter' object has no attribute 'states'"
     ]
    }
   ],
   "source": [
    "lump.states"
   ]
  },
  {
   "cell_type": "code",
   "execution_count": 72,
   "id": "2d3d5670",
   "metadata": {},
   "outputs": [
    {
     "name": "stdout",
     "output_type": "stream",
     "text": [
      "<__main__.Matter object at 0x0000018A61FAE2E0>\n"
     ]
    }
   ],
   "source": [
    "print(lump)"
   ]
  },
  {
   "cell_type": "code",
   "execution_count": 70,
   "id": "4db2f3f3",
   "metadata": {},
   "outputs": [
    {
     "ename": "AttributeError",
     "evalue": "Do not know event named 'evaporate'.",
     "output_type": "error",
     "traceback": [
      "\u001b[1;31m---------------------------------------------------------------------------\u001b[0m",
      "\u001b[1;31mKeyError\u001b[0m                                  Traceback (most recent call last)",
      "\u001b[1;32md:\\program_files\\conda\\lib\\site-packages\\transitions\\core.py\u001b[0m in \u001b[0;36m_get_trigger\u001b[1;34m(self, model, trigger_name, *args, **kwargs)\u001b[0m\n\u001b[0;32m    890\u001b[0m         \u001b[1;32mtry\u001b[0m\u001b[1;33m:\u001b[0m\u001b[1;33m\u001b[0m\u001b[1;33m\u001b[0m\u001b[0m\n\u001b[1;32m--> 891\u001b[1;33m             \u001b[0mevent\u001b[0m \u001b[1;33m=\u001b[0m \u001b[0mself\u001b[0m\u001b[1;33m.\u001b[0m\u001b[0mevents\u001b[0m\u001b[1;33m[\u001b[0m\u001b[0mtrigger_name\u001b[0m\u001b[1;33m]\u001b[0m\u001b[1;33m\u001b[0m\u001b[1;33m\u001b[0m\u001b[0m\n\u001b[0m\u001b[0;32m    892\u001b[0m         \u001b[1;32mexcept\u001b[0m \u001b[0mKeyError\u001b[0m\u001b[1;33m:\u001b[0m\u001b[1;33m\u001b[0m\u001b[1;33m\u001b[0m\u001b[0m\n",
      "\u001b[1;31mKeyError\u001b[0m: 'evaporate'",
      "\nDuring handling of the above exception, another exception occurred:\n",
      "\u001b[1;31mAttributeError\u001b[0m                            Traceback (most recent call last)",
      "\u001b[1;32mC:\\Users\\ADMINI~1\\AppData\\Local\\Temp/ipykernel_2824/562341322.py\u001b[0m in \u001b[0;36m<module>\u001b[1;34m\u001b[0m\n\u001b[1;32m----> 1\u001b[1;33m \u001b[0mlump\u001b[0m\u001b[1;33m.\u001b[0m\u001b[0mtrigger\u001b[0m\u001b[1;33m(\u001b[0m\u001b[0mtrigger_name\u001b[0m\u001b[1;33m=\u001b[0m\u001b[1;34m'evaporate'\u001b[0m\u001b[1;33m)\u001b[0m\u001b[1;33m\u001b[0m\u001b[1;33m\u001b[0m\u001b[0m\n\u001b[0m",
      "\u001b[1;32md:\\program_files\\conda\\lib\\site-packages\\transitions\\core.py\u001b[0m in \u001b[0;36m_get_trigger\u001b[1;34m(self, model, trigger_name, *args, **kwargs)\u001b[0m\n\u001b[0;32m    895\u001b[0m                 \u001b[1;32melse\u001b[0m \u001b[0mself\u001b[0m\u001b[1;33m.\u001b[0m\u001b[0mignore_invalid_triggers\u001b[0m\u001b[1;33m\u001b[0m\u001b[1;33m\u001b[0m\u001b[0m\n\u001b[0;32m    896\u001b[0m             \u001b[1;32mif\u001b[0m \u001b[1;32mnot\u001b[0m \u001b[0mignore\u001b[0m\u001b[1;33m:\u001b[0m\u001b[1;33m\u001b[0m\u001b[1;33m\u001b[0m\u001b[0m\n\u001b[1;32m--> 897\u001b[1;33m                 \u001b[1;32mraise\u001b[0m \u001b[0mAttributeError\u001b[0m\u001b[1;33m(\u001b[0m\u001b[1;34m\"Do not know event named '%s'.\"\u001b[0m \u001b[1;33m%\u001b[0m \u001b[0mtrigger_name\u001b[0m\u001b[1;33m)\u001b[0m\u001b[1;33m\u001b[0m\u001b[1;33m\u001b[0m\u001b[0m\n\u001b[0m\u001b[0;32m    898\u001b[0m             \u001b[1;32mreturn\u001b[0m \u001b[1;32mFalse\u001b[0m\u001b[1;33m\u001b[0m\u001b[1;33m\u001b[0m\u001b[0m\n\u001b[0;32m    899\u001b[0m         \u001b[1;32mreturn\u001b[0m \u001b[0mevent\u001b[0m\u001b[1;33m.\u001b[0m\u001b[0mtrigger\u001b[0m\u001b[1;33m(\u001b[0m\u001b[0mmodel\u001b[0m\u001b[1;33m,\u001b[0m \u001b[1;33m*\u001b[0m\u001b[0margs\u001b[0m\u001b[1;33m,\u001b[0m \u001b[1;33m**\u001b[0m\u001b[0mkwargs\u001b[0m\u001b[1;33m)\u001b[0m\u001b[1;33m\u001b[0m\u001b[1;33m\u001b[0m\u001b[0m\n",
      "\u001b[1;31mAttributeError\u001b[0m: Do not know event named 'evaporate'."
     ]
    }
   ],
   "source": [
    "lump.trigger(trigger_name='evaporate')"
   ]
  },
  {
   "cell_type": "markdown",
   "id": "be3b2145",
   "metadata": {},
   "source": [
    "## states\n"
   ]
  },
  {
   "cell_type": "code",
   "execution_count": 82,
   "id": "0c6a138f",
   "metadata": {},
   "outputs": [],
   "source": [
    "from transitions import Machine, State\n",
    "\n",
    "class Matter(object):\n",
    "    def say_hello(self): print(\"hello, new state!\")\n",
    "    def say_goodby(self): print(\"goodbye, old state!\")\n",
    "        \n",
    "states = [\n",
    "    State(name='solid', on_exit=['say_goodbye']),\n",
    "    'liquid',\n",
    "    {'name': 'gas', 'on_exit': ['say_goodbye']}\n",
    "]\n",
    "\n",
    "machine = Machine(lump, states=states)"
   ]
  },
  {
   "cell_type": "code",
   "execution_count": 83,
   "id": "981f13cd",
   "metadata": {},
   "outputs": [],
   "source": [
    "machine.add_transition('sublimate', 'solid', 'gas')"
   ]
  },
  {
   "cell_type": "code",
   "execution_count": 84,
   "id": "ef0723b7",
   "metadata": {},
   "outputs": [],
   "source": [
    "machine.on_enter_gas('say_hello')"
   ]
  },
  {
   "cell_type": "code",
   "execution_count": 85,
   "id": "8a28201c",
   "metadata": {},
   "outputs": [],
   "source": [
    "machine.set_state('solid')"
   ]
  },
  {
   "cell_type": "code",
   "execution_count": 86,
   "id": "18e703d5",
   "metadata": {},
   "outputs": [
    {
     "name": "stdout",
     "output_type": "stream",
     "text": [
      "goodbye, old state!\n",
      "hello, new state!\n"
     ]
    },
    {
     "data": {
      "text/plain": [
       "True"
      ]
     },
     "execution_count": 86,
     "metadata": {},
     "output_type": "execute_result"
    }
   ],
   "source": [
    "lump.sublimate()"
   ]
  },
  {
   "cell_type": "code",
   "execution_count": 88,
   "id": "94d375a1",
   "metadata": {},
   "outputs": [
    {
     "name": "stdout",
     "output_type": "stream",
     "text": [
      "goodbye, old state!\n",
      "hello, new state!\n"
     ]
    },
    {
     "data": {
      "text/plain": [
       "True"
      ]
     },
     "execution_count": 88,
     "metadata": {},
     "output_type": "execute_result"
    }
   ],
   "source": []
  }
 ],
 "metadata": {
  "kernelspec": {
   "display_name": "Python 3 (ipykernel)",
   "language": "python",
   "name": "python3"
  },
  "language_info": {
   "codemirror_mode": {
    "name": "ipython",
    "version": 3
   },
   "file_extension": ".py",
   "mimetype": "text/x-python",
   "name": "python",
   "nbconvert_exporter": "python",
   "pygments_lexer": "ipython3",
   "version": "3.9.5"
  },
  "toc": {
   "base_numbering": 1,
   "nav_menu": {},
   "number_sections": true,
   "sideBar": true,
   "skip_h1_title": false,
   "title_cell": "Table of Contents",
   "title_sidebar": "Contents",
   "toc_cell": false,
   "toc_position": {},
   "toc_section_display": true,
   "toc_window_display": false
  }
 },
 "nbformat": 4,
 "nbformat_minor": 5
}
