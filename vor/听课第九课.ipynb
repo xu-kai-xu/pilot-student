{
 "cells": [
  {
   "cell_type": "markdown",
   "id": "ebca548c",
   "metadata": {},
   "source": [
    "# 听课 第九课 数据容器之一\n",
    "\n",
    "列表 list"
   ]
  },
  {
   "cell_type": "markdown",
   "id": "7c869f12",
   "metadata": {},
   "source": [
    "面对任何问题，思路是最重要的。"
   ]
  },
  {
   "cell_type": "markdown",
   "id": "2ff62757",
   "metadata": {},
   "source": [
    "## 持续输出素数"
   ]
  },
  {
   "cell_type": "markdown",
   "id": "45c89965",
   "metadata": {},
   "source": [
    "算法细节的不断迭代更新，降低复杂度、运行时间。不断优化。\n",
    "\n",
    "算法的时间复杂度。\n",
    "\n",
    "time complexity\n",
    "\n",
    "并不是一个绝对的时间，是比当计算规模 n 越大，计算量/计算次数上升的比例。"
   ]
  },
  {
   "cell_type": "markdown",
   "id": "8d4eb445",
   "metadata": {},
   "source": [
    "筛法的素数生成器。"
   ]
  },
  {
   "cell_type": "code",
   "execution_count": null,
   "id": "964d8727",
   "metadata": {},
   "outputs": [],
   "source": [
    "class primes:\n",
    "    \"\"\"Sieve of Eratosthenes，埃拉托斯特尼筛法找素数\"\"\"\n",
    "    def __init__(self, nlimit):\n",
    "        self.nlimit = nlimit\n",
    "        self.is_prime = [True] * nlimit\n",
    "        self._sieve()\n",
    "        self.next = 1\n",
    "        \n",
    "    def __iter__(self):\n",
    "        # 如果少了这个，就不是可迭代对象了\n",
    "        return self\n",
    "        \n",
    "    def _sieve(self):\n",
    "        self.is_prime[0] = False\n",
    "        self.is_prime[1] = False\n",
    "        for i in range(2, int(self.nlimit**0.5)+1):\n",
    "            if self.is_prime[i]:\n",
    "                for j in range(i*i, self.nlimit, i):\n",
    "                    self.is_prime[j] = False\n",
    "                    \n",
    "    def __next__(self):\n",
    "        n = self.next + 1\n",
    "        \n",
    "        while True:\n",
    "            if n >= self.nlimit:\n",
    "                raise StopIteration\n",
    "            elif self.is_prime[n]:\n",
    "                self.next = n\n",
    "                return self.next\n",
    "            else:\n",
    "                n += 1\n",
    "     \n",
    "    next = __next__\n",
    "        \n",
    "                \n",
    "if __name__ == '__main__'                \n",
    "print(list(primes(1000)))"
   ]
  },
  {
   "cell_type": "code",
   "execution_count": null,
   "id": "d67fe01a",
   "metadata": {},
   "outputs": [],
   "source": [
    "[True] * 6"
   ]
  },
  {
   "cell_type": "markdown",
   "id": "94d7c408",
   "metadata": {},
   "source": [
    "筛法 典型的用空间换时间。\n",
    "\n",
    "寻找最大的素数。"
   ]
  },
  {
   "cell_type": "markdown",
   "id": "ea297e49",
   "metadata": {},
   "source": [
    "算法实现的效率可以差别非常大。"
   ]
  },
  {
   "cell_type": "markdown",
   "id": "8867c1ad",
   "metadata": {},
   "source": [
    "列表 list\n",
    "\n",
    "数组 array\n",
    "\n",
    "向量 vector\n"
   ]
  },
  {
   "cell_type": "markdown",
   "id": "a1bed74e",
   "metadata": {},
   "source": [
    "把任何可迭代对象转化为列表。"
   ]
  },
  {
   "cell_type": "code",
   "execution_count": 1,
   "id": "cef65bc5",
   "metadata": {},
   "outputs": [],
   "source": [
    "lst1 = list(range(10))"
   ]
  },
  {
   "cell_type": "code",
   "execution_count": 2,
   "id": "c66f65bb",
   "metadata": {},
   "outputs": [
    {
     "data": {
      "text/plain": [
       "[0, 1, 2, 3, 4, 5, 6, 7, 8, 9]"
      ]
     },
     "execution_count": 2,
     "metadata": {},
     "output_type": "execute_result"
    }
   ],
   "source": [
    "lst1"
   ]
  },
  {
   "cell_type": "code",
   "execution_count": 4,
   "id": "3332190a",
   "metadata": {},
   "outputs": [
    {
     "ename": "IndexError",
     "evalue": "list index out of range",
     "output_type": "error",
     "traceback": [
      "\u001b[1;31m---------------------------------------------------------------------------\u001b[0m",
      "\u001b[1;31mIndexError\u001b[0m                                Traceback (most recent call last)",
      "\u001b[1;32mC:\\Users\\ADMINI~1\\AppData\\Local\\Temp/ipykernel_20716/434802691.py\u001b[0m in \u001b[0;36m<module>\u001b[1;34m\u001b[0m\n\u001b[1;32m----> 1\u001b[1;33m \u001b[0mlst1\u001b[0m\u001b[1;33m[\u001b[0m\u001b[1;36m10\u001b[0m\u001b[1;33m]\u001b[0m\u001b[1;33m\u001b[0m\u001b[1;33m\u001b[0m\u001b[0m\n\u001b[0m",
      "\u001b[1;31mIndexError\u001b[0m: list index out of range"
     ]
    }
   ],
   "source": [
    "lst1[10]"
   ]
  },
  {
   "cell_type": "markdown",
   "id": "271937d4",
   "metadata": {},
   "source": [
    "列表切片。"
   ]
  },
  {
   "cell_type": "markdown",
   "id": "1e920d84",
   "metadata": {},
   "source": [
    "切片是返回了一个全新的列表，而不是原来的列表。相当于在内存里复制了一份原来的列表，放到了新的地方去。"
   ]
  },
  {
   "cell_type": "markdown",
   "id": "032cee25",
   "metadata": {},
   "source": [
    "当列表切片在赋值号左边时，就会在原来的位置进行替换。"
   ]
  },
  {
   "cell_type": "markdown",
   "id": "b0dc3ca0",
   "metadata": {},
   "source": [
    "列表的常用操作\n",
    "\n",
    "- 只读型操作：不会改变原有列表里面的内容，查找 `index` 计算 `count` 。\n",
    "\n",
    "\n",
    "- 会改变列表里面的内容的操作：。\n",
    "\n",
    "\n",
    "> 学习编程语言，一定要清醒地知道某一个操作会不会改变原来的对象。不会改变一般来说是比较安全的。如果会改变原来的对象，那你要当心了。"
   ]
  },
  {
   "cell_type": "markdown",
   "id": "a5ba391a",
   "metadata": {},
   "source": [
    "排序，比较 移动。\n",
    "\n",
    "不同的比较和移动就构成了不同的算法。"
   ]
  },
  {
   "cell_type": "markdown",
   "id": "da4a1ca8",
   "metadata": {},
   "source": [
    "遍历 traverse。"
   ]
  },
  {
   "cell_type": "markdown",
   "id": "d0ee1c95",
   "metadata": {},
   "source": [
    "`enumerate` 自动增加编号/序号的函数。"
   ]
  },
  {
   "cell_type": "markdown",
   "id": "2b857df3",
   "metadata": {},
   "source": [
    "list comprehension。\n",
    "\n",
    "有人翻译为 推导式、解析式。\n",
    "\n"
   ]
  },
  {
   "cell_type": "markdown",
   "id": "e030ef3f",
   "metadata": {},
   "source": [
    "## 变量作用域"
   ]
  },
  {
   "cell_type": "markdown",
   "id": "085554d4",
   "metadata": {},
   "source": [
    "1. python 中的变量其实是值的名字。var is a name reference to the real object.\n",
    "2. 局部变量和全局变量是两个不同的东西。\n",
    "3. 赋值语句能够创建和打破原来引用值的变量。\n",
    "4. 对对象进行更改后，用它的索引获取对象后，看起来也改变了。"
   ]
  },
  {
   "cell_type": "markdown",
   "id": "c493d7f9",
   "metadata": {},
   "source": [
    "所以通过局部变量操作值之后，再用全局变量引用时，就会发现值发生了变化。"
   ]
  },
  {
   "cell_type": "code",
   "execution_count": null,
   "id": "7e00fb3d",
   "metadata": {},
   "outputs": [],
   "source": []
  }
 ],
 "metadata": {
  "kernelspec": {
   "display_name": "Python 3 (ipykernel)",
   "language": "python",
   "name": "python3"
  },
  "language_info": {
   "codemirror_mode": {
    "name": "ipython",
    "version": 3
   },
   "file_extension": ".py",
   "mimetype": "text/x-python",
   "name": "python",
   "nbconvert_exporter": "python",
   "pygments_lexer": "ipython3",
   "version": "3.9.5"
  },
  "toc": {
   "base_numbering": 1,
   "nav_menu": {},
   "number_sections": true,
   "sideBar": true,
   "skip_h1_title": false,
   "title_cell": "Table of Contents",
   "title_sidebar": "Contents",
   "toc_cell": false,
   "toc_position": {},
   "toc_section_display": true,
   "toc_window_display": false
  }
 },
 "nbformat": 4,
 "nbformat_minor": 5
}
