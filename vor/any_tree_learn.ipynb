{
 "cells": [
  {
   "cell_type": "markdown",
   "id": "a72cb0d5",
   "metadata": {},
   "source": [
    "# any python tree data\n",
    "\n",
    "any tree\n",
    "\n",
    "https://anytree.readthedocs.io/en/latest/"
   ]
  },
  {
   "cell_type": "code",
   "execution_count": null,
   "id": "e4f78b58",
   "metadata": {},
   "outputs": [],
   "source": [
    "from anytree import Node, RenderTree\n",
    "\n",
    "udo = Node(\"Udo\")\n",
    "marc = Node(\"Marc\")\n",
    "lian = Node(\"Lian\", parent=marc)\n",
    "print(RenderTree(udo))"
   ]
  },
  {
   "cell_type": "code",
   "execution_count": null,
   "id": "f2d498d6",
   "metadata": {},
   "outputs": [],
   "source": [
    "RenderTree(udo)"
   ]
  },
  {
   "cell_type": "code",
   "execution_count": null,
   "id": "dd7f24ef",
   "metadata": {},
   "outputs": [],
   "source": [
    "RenderTree(marc)"
   ]
  },
  {
   "cell_type": "code",
   "execution_count": null,
   "id": "f7401296",
   "metadata": {},
   "outputs": [],
   "source": [
    "print(RenderTree(marc))"
   ]
  },
  {
   "cell_type": "code",
   "execution_count": null,
   "id": "c5b13d56",
   "metadata": {},
   "outputs": [],
   "source": [
    "udo.children"
   ]
  },
  {
   "cell_type": "code",
   "execution_count": null,
   "id": "99c80b09",
   "metadata": {},
   "outputs": [],
   "source": [
    "marc.children"
   ]
  },
  {
   "cell_type": "code",
   "execution_count": null,
   "id": "8f4db9c2",
   "metadata": {},
   "outputs": [],
   "source": [
    "lian.children"
   ]
  },
  {
   "cell_type": "code",
   "execution_count": null,
   "id": "7858dc5c",
   "metadata": {},
   "outputs": [],
   "source": [
    "marc.parent = udo\n",
    "RenderTree(udo)"
   ]
  },
  {
   "cell_type": "code",
   "execution_count": null,
   "id": "4100e1f1",
   "metadata": {},
   "outputs": [],
   "source": [
    "print(RenderTree(udo))"
   ]
  },
  {
   "cell_type": "code",
   "execution_count": null,
   "id": "edfb2dad",
   "metadata": {},
   "outputs": [],
   "source": [
    "marc.is_root"
   ]
  },
  {
   "cell_type": "code",
   "execution_count": null,
   "id": "d7ae892f",
   "metadata": {},
   "outputs": [],
   "source": [
    "udo.is_root"
   ]
  },
  {
   "cell_type": "code",
   "execution_count": null,
   "id": "78b869ab",
   "metadata": {},
   "outputs": [],
   "source": [
    "marc.parent"
   ]
  },
  {
   "cell_type": "code",
   "execution_count": null,
   "id": "a7bb4bed",
   "metadata": {},
   "outputs": [],
   "source": [
    "marc.parent = None\n",
    "marc.is_root"
   ]
  },
  {
   "cell_type": "code",
   "execution_count": null,
   "id": "838f0b1e",
   "metadata": {},
   "outputs": [],
   "source": [
    "print(RenderTree(marc))"
   ]
  },
  {
   "cell_type": "code",
   "execution_count": null,
   "id": "676b9b3c",
   "metadata": {},
   "outputs": [],
   "source": [
    "n = Node(\"n\")\n",
    "a = Node(\"a\", parent=n)\n",
    "b = Node(\"b\", parent=n)\n",
    "c = Node(\"c\", parent=n)\n",
    "d = Node(\"d\")\n",
    "n.children"
   ]
  },
  {
   "cell_type": "code",
   "execution_count": null,
   "id": "a7b222b2",
   "metadata": {},
   "outputs": [],
   "source": [
    "n.children = [a, b]\n",
    "n.children"
   ]
  },
  {
   "cell_type": "code",
   "execution_count": null,
   "id": "48851a3a",
   "metadata": {},
   "outputs": [],
   "source": [
    "c"
   ]
  },
  {
   "cell_type": "code",
   "execution_count": null,
   "id": "9e2c3899",
   "metadata": {},
   "outputs": [],
   "source": [
    "c.parent"
   ]
  },
  {
   "cell_type": "code",
   "execution_count": null,
   "id": "c555a032",
   "metadata": {},
   "outputs": [],
   "source": [
    "d"
   ]
  },
  {
   "cell_type": "code",
   "execution_count": null,
   "id": "b4c77f30",
   "metadata": {},
   "outputs": [],
   "source": [
    "n.children = [a, b, d]\n",
    "n.children"
   ]
  },
  {
   "cell_type": "code",
   "execution_count": null,
   "id": "39ba3180",
   "metadata": {},
   "outputs": [],
   "source": [
    "d"
   ]
  },
  {
   "cell_type": "code",
   "execution_count": null,
   "id": "d6ef93ea",
   "metadata": {},
   "outputs": [],
   "source": [
    "d.parent"
   ]
  },
  {
   "cell_type": "code",
   "execution_count": null,
   "id": "d6de63da",
   "metadata": {},
   "outputs": [],
   "source": [
    "class NotifiedNode(Node):\n",
    "    def _pre_detach(self, parent):\n",
    "        print(\"_pre_detach\", parent)\n",
    "    def _post_detach(self, parent):\n",
    "        print(\"_post_detach\", parent)\n",
    "    def _pre_attach(self, parent):\n",
    "        print(\"_pre_attach\", parent)\n",
    "    def _post_attach(self, parent):\n",
    "        print(\"_post_attach\", parent)"
   ]
  },
  {
   "cell_type": "code",
   "execution_count": null,
   "id": "9774f052",
   "metadata": {},
   "outputs": [],
   "source": [
    "a = NotifiedNode(\"a\")\n",
    "b = NotifiedNode(\"b\")\n",
    "c = NotifiedNode(\"c\")"
   ]
  },
  {
   "cell_type": "code",
   "execution_count": null,
   "id": "e8fae188",
   "metadata": {},
   "outputs": [],
   "source": [
    "a"
   ]
  },
  {
   "cell_type": "code",
   "execution_count": null,
   "id": "9fabf7a7",
   "metadata": {},
   "outputs": [],
   "source": [
    "type(a)"
   ]
  },
  {
   "cell_type": "code",
   "execution_count": null,
   "id": "252c89d9",
   "metadata": {},
   "outputs": [],
   "source": [
    "a.children"
   ]
  },
  {
   "cell_type": "code",
   "execution_count": null,
   "id": "8ce55cf3",
   "metadata": {},
   "outputs": [],
   "source": [
    "c.parent = a"
   ]
  },
  {
   "cell_type": "code",
   "execution_count": null,
   "id": "0980515d",
   "metadata": {},
   "outputs": [],
   "source": [
    "c. parent = b"
   ]
  },
  {
   "cell_type": "code",
   "execution_count": null,
   "id": "d324bf5f",
   "metadata": {},
   "outputs": [],
   "source": [
    "c.parent = b"
   ]
  },
  {
   "cell_type": "code",
   "execution_count": null,
   "id": "3a899f99",
   "metadata": {},
   "outputs": [],
   "source": [
    "c.parent"
   ]
  },
  {
   "cell_type": "code",
   "execution_count": null,
   "id": "a26da628",
   "metadata": {},
   "outputs": [],
   "source": [
    "c.parent = None"
   ]
  },
  {
   "cell_type": "code",
   "execution_count": null,
   "id": "8f65cf6f",
   "metadata": {},
   "outputs": [],
   "source": [
    "class MyNode(Node):\n",
    "    separator = \"|\"\n",
    "    \n",
    "udo = MyNode(\"udo\")\n",
    "dan = MyNode(\"dan\", parent=udo)\n",
    "marc = MyNode(\"marc\", parent=udo)"
   ]
  },
  {
   "cell_type": "code",
   "execution_count": null,
   "id": "981c647c",
   "metadata": {},
   "outputs": [],
   "source": [
    "print(RenderTree(udo))"
   ]
  },
  {
   "cell_type": "code",
   "execution_count": null,
   "id": "58fd1e1b",
   "metadata": {},
   "outputs": [],
   "source": [
    "from anytree import Resolver\n",
    "r = Resolver()\n",
    "r.glob(udo, \"|udo|*\")"
   ]
  },
  {
   "cell_type": "code",
   "execution_count": null,
   "id": "ccccb9c3",
   "metadata": {},
   "outputs": [],
   "source": [
    "print(RenderTree(udo))"
   ]
  },
  {
   "cell_type": "code",
   "execution_count": null,
   "id": "f471218b",
   "metadata": {},
   "outputs": [],
   "source": [
    "print(r.glob(udo, \"|udo|*\"))"
   ]
  },
  {
   "cell_type": "markdown",
   "id": "29459d9d",
   "metadata": {},
   "source": [
    "## api\n",
    "\n",
    "### nodeclass"
   ]
  },
  {
   "cell_type": "code",
   "execution_count": null,
   "id": "3056093d",
   "metadata": {},
   "outputs": [],
   "source": [
    "from anytree import AnyNode, RenderTree\n",
    "root = AnyNode(id=\"root\")\n",
    "s0 = AnyNode(id=\"sub0\", parent=root)\n",
    "s0b = AnyNode(id=\"sub0B\", parent=s0, foo=4, bar=109)\n",
    "s0a = AnyNode(id=\"sub0A\", parent=s0)\n",
    "s1 = AnyNode(id=\"sub1\", parent=root)\n",
    "s1a = AnyNode(id=\"sub1A\", parent=s1)\n",
    "s1b = AnyNode(id=\"sub1B\", parent=s1, bar=8)\n",
    "s1c = AnyNode(id=\"sub1C\", parent=s1)\n",
    "s1ca = AnyNode(id=\"sub1Ca\", parent=s1c)"
   ]
  },
  {
   "cell_type": "code",
   "execution_count": null,
   "id": "add2cc2e",
   "metadata": {},
   "outputs": [],
   "source": [
    "print(RenderTree(root))"
   ]
  },
  {
   "cell_type": "code",
   "execution_count": null,
   "id": "3a9e1a75",
   "metadata": {},
   "outputs": [],
   "source": [
    "root.new = 'a new attribute'\n",
    "s0b.bar = 110  # modified\n",
    "del s1b.bar\n",
    "print(RenderTree(root))"
   ]
  },
  {
   "cell_type": "code",
   "execution_count": null,
   "id": "a23cd6c8",
   "metadata": {},
   "outputs": [],
   "source": []
  },
  {
   "cell_type": "code",
   "execution_count": null,
   "id": "d9fbbfd8",
   "metadata": {},
   "outputs": [],
   "source": [
    "root = Node(\"root\", children=[\n",
    "    Node(\"sub0\", children=[\n",
    "        Node(\"sub0B\", bar=109, foo=4),\n",
    "        Node(\"sub0A\", children=None),\n",
    "    ]),\n",
    "    Node(\"sub1\", children=[\n",
    "        Node(\"sub1A\"),\n",
    "        Node(\"sub1B\", bar=8, children=[]),\n",
    "        Node(\"sub1C\", children=[\n",
    "            Node(\"sub1Ca\"),\n",
    "        ]),\n",
    "    ]),\n",
    "])"
   ]
  },
  {
   "cell_type": "code",
   "execution_count": null,
   "id": "b99a5142",
   "metadata": {},
   "outputs": [],
   "source": [
    "print(RenderTree(root))"
   ]
  },
  {
   "cell_type": "code",
   "execution_count": null,
   "id": "8eae96f0",
   "metadata": {},
   "outputs": [],
   "source": [
    "RenderTree(root)"
   ]
  },
  {
   "cell_type": "code",
   "execution_count": null,
   "id": "572afedd",
   "metadata": {},
   "outputs": [],
   "source": [
    "from anytree import NodeMixin, RenderTree\n",
    "class MyBaseClass(object):  # Just an example of a base class\n",
    "    foo = 4\n",
    "class MyClass(MyBaseClass, NodeMixin):  # Add Node feature\n",
    "    def __init__(self, name, length, width, parent=None, children=None):\n",
    "        super(MyClass, self).__init__()\n",
    "        self.name = name\n",
    "        self.length = length\n",
    "        self.width = width\n",
    "        self.parent = parent\n",
    "        if children:\n",
    "            self.children = children"
   ]
  },
  {
   "cell_type": "code",
   "execution_count": null,
   "id": "727d0ccb",
   "metadata": {},
   "outputs": [],
   "source": [
    "my0 = MyClass('my0', 0, 0)\n",
    "my1 = MyClass('my1', 1, 0, parent=my0)\n",
    "my2 = MyClass('my2', 0, 2, parent=my0)"
   ]
  },
  {
   "cell_type": "code",
   "execution_count": null,
   "id": "39aa2b9f",
   "metadata": {},
   "outputs": [],
   "source": [
    "RenderTree(my0)"
   ]
  },
  {
   "cell_type": "code",
   "execution_count": null,
   "id": "273cda56",
   "metadata": {},
   "outputs": [],
   "source": [
    "for pre, _, node in RenderTree(my0):\n",
    "    print(pre)\n"
   ]
  },
  {
   "cell_type": "code",
   "execution_count": null,
   "id": "1fb1ea55",
   "metadata": {},
   "outputs": [],
   "source": [
    "for pre, _, node in RenderTree(my0):\n",
    "    print(_)"
   ]
  },
  {
   "cell_type": "code",
   "execution_count": null,
   "id": "176929ac",
   "metadata": {},
   "outputs": [],
   "source": [
    "for pre, _, node in RenderTree(my0):\n",
    "    print(node.name)"
   ]
  },
  {
   "cell_type": "code",
   "execution_count": null,
   "id": "73717582",
   "metadata": {},
   "outputs": [],
   "source": [
    "for pre, _, node in RenderTree(my0):\n",
    "    print(node)"
   ]
  },
  {
   "cell_type": "code",
   "execution_count": null,
   "id": "2c447fb0",
   "metadata": {},
   "outputs": [],
   "source": [
    "for pre, _, node in RenderTree(my0):\n",
    "    treestr = u\"%s%s\" % (pre, node.name)\n",
    "    print(treestr)"
   ]
  },
  {
   "cell_type": "code",
   "execution_count": null,
   "id": "ee76a317",
   "metadata": {},
   "outputs": [],
   "source": [
    "for pre, _, node in RenderTree(my0):\n",
    "    treestr = u\"%s%s\" % (pre, node.name)\n",
    "    print(treestr.ljust(10), node.length, node.width)"
   ]
  },
  {
   "cell_type": "code",
   "execution_count": null,
   "id": "2785ab72",
   "metadata": {},
   "outputs": [],
   "source": [
    "for pre, _, node in RenderTree(my0):\n",
    "    treestr = u\"%s%s\" % (pre, node.name)\n",
    "    print(treestr.ljust(8), node.length, node.width)"
   ]
  },
  {
   "cell_type": "code",
   "execution_count": null,
   "id": "d96129fe",
   "metadata": {},
   "outputs": [],
   "source": [
    "from anytree import Node\n",
    "udo = Node(\"Udo\")\n",
    "marc = Node(\"Marc\", parent=udo)\n",
    "lian = Node(\"Lian\", parent=marc)"
   ]
  },
  {
   "cell_type": "code",
   "execution_count": null,
   "id": "d67b835f",
   "metadata": {},
   "outputs": [],
   "source": [
    "udo.path"
   ]
  },
  {
   "cell_type": "code",
   "execution_count": null,
   "id": "82bc1748",
   "metadata": {},
   "outputs": [],
   "source": [
    "marc.path"
   ]
  },
  {
   "cell_type": "code",
   "execution_count": null,
   "id": "5626c2f1",
   "metadata": {},
   "outputs": [],
   "source": [
    "lian.path"
   ]
  },
  {
   "cell_type": "code",
   "execution_count": null,
   "id": "82bcbe87",
   "metadata": {},
   "outputs": [],
   "source": [
    "print(RenderTree(udo))"
   ]
  },
  {
   "cell_type": "code",
   "execution_count": null,
   "id": "41af5559",
   "metadata": {},
   "outputs": [],
   "source": [
    "for node in udo.iter_path_reverse():\n",
    "    print(node)"
   ]
  },
  {
   "cell_type": "code",
   "execution_count": null,
   "id": "e48e287e",
   "metadata": {},
   "outputs": [],
   "source": [
    "for node in marc.iter_path_reverse():\n",
    "    print(node)"
   ]
  },
  {
   "cell_type": "code",
   "execution_count": null,
   "id": "06f8f49b",
   "metadata": {},
   "outputs": [],
   "source": [
    "for node in lian.iter_path_reverse():\n",
    "    print(node)"
   ]
  },
  {
   "cell_type": "markdown",
   "id": "96f9e983",
   "metadata": {},
   "source": [
    "ancestors \n",
    "\n",
    "所有的父节点和父节点的父节点。\n",
    "\n",
    "descendants\n",
    "\n",
    "所有的子节点和子节点的子节点"
   ]
  },
  {
   "cell_type": "code",
   "execution_count": null,
   "id": "eb82443f",
   "metadata": {},
   "outputs": [],
   "source": [
    "from anytree import Node, RenderTree\n",
    "udo = Node(\"Udo\")\n",
    "marc = Node(\"Marc\", parent=udo)\n",
    "lian = Node(\"Lian\", parent=marc)\n",
    "loui = Node(\"Loui\", parent=marc)\n",
    "soe = Node(\"Soe\", parent=lian)"
   ]
  },
  {
   "cell_type": "code",
   "execution_count": null,
   "id": "c9e50dcd",
   "metadata": {},
   "outputs": [],
   "source": [
    "udo.is_root"
   ]
  },
  {
   "cell_type": "code",
   "execution_count": null,
   "id": "ad2970a0",
   "metadata": {},
   "outputs": [],
   "source": [
    "print(RenderTree(udo))"
   ]
  },
  {
   "cell_type": "code",
   "execution_count": null,
   "id": "072362f7",
   "metadata": {},
   "outputs": [],
   "source": [
    "udo.descendants"
   ]
  },
  {
   "cell_type": "code",
   "execution_count": null,
   "id": "a787489a",
   "metadata": {},
   "outputs": [],
   "source": [
    "marc.descendants"
   ]
  },
  {
   "cell_type": "markdown",
   "id": "fbad749e",
   "metadata": {},
   "source": [
    "siblings 有相同父节点的所有子节点。"
   ]
  },
  {
   "cell_type": "code",
   "execution_count": null,
   "id": "ec612678",
   "metadata": {},
   "outputs": [],
   "source": [
    "from anytree import Node\n",
    "udo = Node(\"Udo\")\n",
    "marc = Node(\"Marc\", parent=udo)\n",
    "lian = Node(\"Lian\", parent=marc)"
   ]
  },
  {
   "cell_type": "code",
   "execution_count": null,
   "id": "91a3a194",
   "metadata": {},
   "outputs": [],
   "source": [
    "print(RenderTree(udo))"
   ]
  },
  {
   "cell_type": "code",
   "execution_count": null,
   "id": "bc6f1391",
   "metadata": {},
   "outputs": [],
   "source": [
    "udo.height"
   ]
  },
  {
   "cell_type": "code",
   "execution_count": null,
   "id": "657a6adb",
   "metadata": {},
   "outputs": [],
   "source": [
    "marc.height"
   ]
  },
  {
   "cell_type": "code",
   "execution_count": null,
   "id": "a5abff71",
   "metadata": {},
   "outputs": [],
   "source": [
    "udo.depth"
   ]
  },
  {
   "cell_type": "code",
   "execution_count": null,
   "id": "38a0265d",
   "metadata": {},
   "outputs": [],
   "source": [
    "from anytree import SymlinkNode, Node, RenderTree\n",
    "root = Node('root')\n",
    "s1 = Node(\"sub1\", parent=root, bar=17)\n",
    "l = SymlinkNode(s1, parent=root, baz=18)\n",
    "l0 = Node(\"l0\", parent=l)"
   ]
  },
  {
   "cell_type": "code",
   "execution_count": null,
   "id": "eb88cf67",
   "metadata": {},
   "outputs": [],
   "source": [
    "print(RenderTree(root))"
   ]
  },
  {
   "cell_type": "code",
   "execution_count": null,
   "id": "586c9ff3",
   "metadata": {},
   "outputs": [],
   "source": [
    "s1.foo = 4\n",
    "s1.foo"
   ]
  },
  {
   "cell_type": "code",
   "execution_count": null,
   "id": "32a1d221",
   "metadata": {},
   "outputs": [],
   "source": [
    "l.bar"
   ]
  },
  {
   "cell_type": "code",
   "execution_count": null,
   "id": "5cfe6ef4",
   "metadata": {},
   "outputs": [],
   "source": [
    "s1.bar"
   ]
  },
  {
   "cell_type": "code",
   "execution_count": null,
   "id": "351693fe",
   "metadata": {},
   "outputs": [],
   "source": [
    "l.foo"
   ]
  },
  {
   "cell_type": "code",
   "execution_count": null,
   "id": "ad82208c",
   "metadata": {},
   "outputs": [],
   "source": [
    "l.foo=9"
   ]
  },
  {
   "cell_type": "code",
   "execution_count": null,
   "id": "45a74995",
   "metadata": {},
   "outputs": [],
   "source": [
    "s1.foo"
   ]
  },
  {
   "cell_type": "markdown",
   "id": "f8c0ac68",
   "metadata": {},
   "source": [
    "### tree iteration\n",
    "\n",
    "#### preorderitr"
   ]
  },
  {
   "cell_type": "code",
   "execution_count": null,
   "id": "0732b494",
   "metadata": {},
   "outputs": [],
   "source": [
    "from anytree import Node, RenderTree, AsciiStyle, PreOrderIter\n",
    "f = Node(\"f\")\n",
    "b = Node(\"b\", parent=f)\n",
    "a = Node(\"a\", parent=b)\n",
    "d = Node(\"d\", parent=b)\n",
    "c = Node(\"c\", parent=d)\n",
    "e = Node(\"e\", parent=d)\n",
    "g = Node(\"g\", parent=f)\n",
    "i = Node(\"i\", parent=g)\n",
    "h = Node(\"h\", parent=i)"
   ]
  },
  {
   "cell_type": "code",
   "execution_count": null,
   "id": "2df24582",
   "metadata": {},
   "outputs": [],
   "source": [
    "print(RenderTree(f))"
   ]
  },
  {
   "cell_type": "code",
   "execution_count": null,
   "id": "f363f522",
   "metadata": {},
   "outputs": [],
   "source": [
    "print(RenderTree(f).by_attr())"
   ]
  },
  {
   "cell_type": "code",
   "execution_count": null,
   "id": "91b94c67",
   "metadata": {},
   "outputs": [],
   "source": [
    "print(RenderTree(f, style=AsciiStyle()))"
   ]
  },
  {
   "cell_type": "code",
   "execution_count": null,
   "id": "999a5cd4",
   "metadata": {},
   "outputs": [],
   "source": [
    "print(RenderTree(f, style=AsciiStyle()).by_attr())"
   ]
  },
  {
   "cell_type": "code",
   "execution_count": null,
   "id": "eaa00cfd",
   "metadata": {},
   "outputs": [],
   "source": [
    "[node.name for node in PreOrderIter(f)]\n",
    "# 深度优先遍历？\n",
    "# 先序遍历"
   ]
  },
  {
   "cell_type": "code",
   "execution_count": null,
   "id": "422b96be",
   "metadata": {},
   "outputs": [],
   "source": [
    "[node.name for node in PreOrderIter(f, maxlevel=3)]"
   ]
  },
  {
   "cell_type": "code",
   "execution_count": null,
   "id": "41b88fa7",
   "metadata": {},
   "outputs": [],
   "source": [
    "[node.name for node in PreOrderIter(f, filter_=lambda n: n.name not in ('e', 'g'))]"
   ]
  },
  {
   "cell_type": "code",
   "execution_count": null,
   "id": "7a9d8d29",
   "metadata": {},
   "outputs": [],
   "source": [
    "[node.name for node in PreOrderIter(f, stop=lambda n: n.name == 'd')]"
   ]
  },
  {
   "cell_type": "markdown",
   "id": "7bc1e2d2",
   "metadata": {},
   "source": [
    "#### postorderiter"
   ]
  },
  {
   "cell_type": "code",
   "execution_count": null,
   "id": "68f8f3a9",
   "metadata": {},
   "outputs": [],
   "source": [
    "from anytree import Node, RenderTree, AsciiStyle, PostOrderIter\n",
    "f = Node(\"f\")\n",
    "b = Node(\"b\", parent=f)\n",
    "a = Node(\"a\", parent=b)\n",
    "d = Node(\"d\", parent=b)\n",
    "c = Node(\"c\", parent=d)\n",
    "e = Node(\"e\", parent=d)\n",
    "g = Node(\"g\", parent=f)\n",
    "i = Node(\"i\", parent=g)\n",
    "h = Node(\"h\", parent=i)\n",
    "print(RenderTree(f, style=AsciiStyle()).by_attr())"
   ]
  },
  {
   "cell_type": "code",
   "execution_count": null,
   "id": "9a9f4ca7",
   "metadata": {},
   "outputs": [],
   "source": [
    "[node.name for node in PostOrderIter(f)]\n",
    "# 后序遍历"
   ]
  },
  {
   "cell_type": "markdown",
   "id": "63376788",
   "metadata": {},
   "source": [
    "#### levelorderiter"
   ]
  },
  {
   "cell_type": "code",
   "execution_count": null,
   "id": "e04b63c4",
   "metadata": {},
   "outputs": [],
   "source": [
    "from anytree import Node, RenderTree, AsciiStyle, LevelOrderIter\n",
    "f = Node(\"f\")\n",
    "b = Node(\"b\", parent=f)\n",
    "a = Node(\"a\", parent=b)\n",
    "d = Node(\"d\", parent=b)\n",
    "c = Node(\"c\", parent=d)\n",
    "e = Node(\"e\", parent=d)\n",
    "g = Node(\"g\", parent=f)\n",
    "i = Node(\"i\", parent=g)\n",
    "h = Node(\"h\", parent=i)\n",
    "print(RenderTree(f, style=AsciiStyle()).by_attr())"
   ]
  },
  {
   "cell_type": "code",
   "execution_count": null,
   "id": "76129b51",
   "metadata": {},
   "outputs": [],
   "source": [
    "[node.name for node in LevelOrderIter(f)]"
   ]
  },
  {
   "cell_type": "markdown",
   "id": "4bd9a0d4",
   "metadata": {},
   "source": [
    "`stop` 参数的意思是，从某个节点开始不往下遍历。"
   ]
  },
  {
   "cell_type": "code",
   "execution_count": null,
   "id": "5394e372",
   "metadata": {},
   "outputs": [],
   "source": [
    "from anytree import Node, RenderTree, AsciiStyle, LevelOrderGroupIter\n",
    "f = Node(\"f\")\n",
    "b = Node(\"b\", parent=f)\n",
    "a = Node(\"a\", parent=b)\n",
    "d = Node(\"d\", parent=b)\n",
    "c = Node(\"c\", parent=d)\n",
    "e = Node(\"e\", parent=d)\n",
    "g = Node(\"g\", parent=f)\n",
    "i = Node(\"i\", parent=g)\n",
    "h = Node(\"h\", parent=i)\n",
    "print(RenderTree(f, style=AsciiStyle()).by_attr())"
   ]
  },
  {
   "cell_type": "code",
   "execution_count": null,
   "id": "c98a3def",
   "metadata": {},
   "outputs": [],
   "source": [
    "[[node.name for node in children] for children in LevelOrderGroupIter(f)]"
   ]
  },
  {
   "cell_type": "markdown",
   "id": "9c9177c0",
   "metadata": {},
   "source": [
    "#### zigzag group iter"
   ]
  },
  {
   "cell_type": "code",
   "execution_count": null,
   "id": "5d459270",
   "metadata": {},
   "outputs": [],
   "source": [
    "from anytree import Node, RenderTree, AsciiStyle, ZigZagGroupIter\n",
    "f = Node(\"f\")\n",
    "b = Node(\"b\", parent=f)\n",
    "a = Node(\"a\", parent=b)\n",
    "d = Node(\"d\", parent=b)\n",
    "c = Node(\"c\", parent=d)\n",
    "e = Node(\"e\", parent=d)\n",
    "g = Node(\"g\", parent=f)\n",
    "i = Node(\"i\", parent=g)\n",
    "h = Node(\"h\", parent=i)\n",
    "print(RenderTree(f, style=AsciiStyle()).by_attr())"
   ]
  },
  {
   "cell_type": "code",
   "execution_count": null,
   "id": "85cab669",
   "metadata": {},
   "outputs": [],
   "source": [
    "[[node.name for node in children] for children in ZigZagGroupIter(f)]"
   ]
  },
  {
   "cell_type": "markdown",
   "id": "d3dcb4cc",
   "metadata": {},
   "source": [
    "### tree rendering"
   ]
  },
  {
   "cell_type": "code",
   "execution_count": null,
   "id": "df47bf68",
   "metadata": {},
   "outputs": [],
   "source": [
    "from anytree import Node, RenderTree\n",
    "root = Node(\"root\")\n",
    "s0 = Node(\"sub0\", parent=root)\n",
    "s0b = Node(\"sub0B\", parent=s0)\n",
    "s0a = Node(\"sub0A\", parent=s0)\n",
    "s1 = Node(\"sub1\", parent=root)"
   ]
  },
  {
   "cell_type": "code",
   "execution_count": null,
   "id": "fe2580ce",
   "metadata": {},
   "outputs": [],
   "source": [
    "print(RenderTree(root, style=AsciiStyle()))"
   ]
  },
  {
   "cell_type": "code",
   "execution_count": null,
   "id": "3ab827bb",
   "metadata": {},
   "outputs": [],
   "source": [
    "from anytree import ContStyle\n",
    "print(RenderTree(root, style=ContStyle()))"
   ]
  },
  {
   "cell_type": "code",
   "execution_count": null,
   "id": "4c9ae68e",
   "metadata": {},
   "outputs": [],
   "source": [
    "from anytree import ContRoundStyle\n",
    "print(RenderTree(root, style=ContRoundStyle()))"
   ]
  },
  {
   "cell_type": "code",
   "execution_count": null,
   "id": "5fc1f9d7",
   "metadata": {},
   "outputs": [],
   "source": [
    "from anytree import DoubleStyle\n",
    "print(RenderTree(root, style=DoubleStyle()))"
   ]
  },
  {
   "cell_type": "code",
   "execution_count": null,
   "id": "d4dbd4f0",
   "metadata": {},
   "outputs": [],
   "source": [
    "from anytree import Node, RenderTree\n",
    "root = Node(\"root\", lines=[\"c0fe\", \"c0de\"])\n",
    "s0 = Node(\"sub0\", parent=root, lines=[\"ha\", \"ba\"])\n",
    "s0b = Node(\"sub0B\", parent=s0, lines=[\"1\", \"2\", \"3\"])\n",
    "s0a = Node(\"sub0A\", parent=s0, lines=[\"a\", \"b\"])\n",
    "s1 = Node(\"sub1\", parent=root, lines=[\"Z\"])"
   ]
  },
  {
   "cell_type": "code",
   "execution_count": null,
   "id": "9d40fc48",
   "metadata": {},
   "outputs": [],
   "source": [
    "for pre, _, node in RenderTree(root):\n",
    "    print(\"%s%s\" % (pre, node.name))"
   ]
  },
  {
   "cell_type": "code",
   "execution_count": null,
   "id": "5e3055f8",
   "metadata": {},
   "outputs": [],
   "source": [
    "0xc0fe"
   ]
  },
  {
   "cell_type": "code",
   "execution_count": null,
   "id": "27d3cd2b",
   "metadata": {},
   "outputs": [],
   "source": [
    "for pre, fill, node in RenderTree(root):\n",
    "    print(\"%s\" % (pre))\n",
    "    for line in node.lines[1:]:\n",
    "        print(\"%s\" % (fill))"
   ]
  },
  {
   "cell_type": "code",
   "execution_count": null,
   "id": "d2572ab8",
   "metadata": {},
   "outputs": [],
   "source": [
    "for pre, fill, node in RenderTree(root):\n",
    "    print(\"%s%s\" % (pre, node.lines[0]))\n",
    "    for line in node.lines[1:]:\n",
    "        print(\"%s%s\" % (fill, line), line)"
   ]
  },
  {
   "cell_type": "code",
   "execution_count": null,
   "id": "2bbfb997",
   "metadata": {},
   "outputs": [],
   "source": [
    "for pre, fill, node in RenderTree(root):\n",
    "    print(\"%s%s\" % (pre, node.lines[0]))\n",
    "    for line in node.lines[1:]:\n",
    "        print(\"%s\" % (fill), line)"
   ]
  },
  {
   "cell_type": "code",
   "execution_count": null,
   "id": "94b1ff35",
   "metadata": {},
   "outputs": [],
   "source": [
    "RenderTree(root)"
   ]
  },
  {
   "cell_type": "markdown",
   "id": "bd6e1010",
   "metadata": {},
   "source": [
    "### Searching"
   ]
  },
  {
   "cell_type": "code",
   "execution_count": null,
   "id": "24bd78a5",
   "metadata": {},
   "outputs": [],
   "source": [
    "from anytree import Node, RenderTree, AsciiStyle\n",
    "f = Node(\"f\")\n",
    "b = Node(\"b\", parent=f)\n",
    "a = Node(\"a\", parent=b)\n",
    "d = Node(\"d\", parent=b)\n",
    "c = Node(\"c\", parent=d)\n",
    "e = Node(\"e\", parent=d)\n",
    "g = Node(\"g\", parent=f)\n",
    "i = Node(\"i\", parent=g)\n",
    "h = Node(\"h\", parent=i)\n",
    "print(RenderTree(f, style=AsciiStyle()).by_attr())"
   ]
  },
  {
   "cell_type": "code",
   "execution_count": null,
   "id": "2ad3605f",
   "metadata": {},
   "outputs": [],
   "source": [
    "from anytree.search import findall\n",
    "findall(f, filter_=lambda node: node.name in('a', 'b'))"
   ]
  },
  {
   "cell_type": "code",
   "execution_count": null,
   "id": "89c0a4f0",
   "metadata": {},
   "outputs": [],
   "source": [
    "findall(f, filter_=lambda node: d in node.path)"
   ]
  },
  {
   "cell_type": "code",
   "execution_count": null,
   "id": "0d898341",
   "metadata": {},
   "outputs": [],
   "source": [
    "f.path"
   ]
  },
  {
   "cell_type": "code",
   "execution_count": null,
   "id": "c3f7a461",
   "metadata": {},
   "outputs": [],
   "source": [
    "d.path"
   ]
  },
  {
   "cell_type": "code",
   "execution_count": null,
   "id": "6272611c",
   "metadata": {},
   "outputs": [],
   "source": [
    "c.path"
   ]
  },
  {
   "cell_type": "code",
   "execution_count": null,
   "id": "3633d951",
   "metadata": {},
   "outputs": [],
   "source": [
    "e.path"
   ]
  },
  {
   "cell_type": "code",
   "execution_count": null,
   "id": "d41ec376",
   "metadata": {},
   "outputs": [],
   "source": [
    "findall(f, filter_=lambda node: d in node.path)"
   ]
  },
  {
   "cell_type": "code",
   "execution_count": null,
   "id": "b7f0635a",
   "metadata": {},
   "outputs": [],
   "source": [
    "from anytree.search import find\n",
    "find(f, filter_=lambda node: node.name == 'd')"
   ]
  },
  {
   "cell_type": "code",
   "execution_count": null,
   "id": "cbbc15f9",
   "metadata": {},
   "outputs": [],
   "source": [
    "findall(f, filter_=lambda node: d in node.path, mincount=4)"
   ]
  },
  {
   "cell_type": "code",
   "execution_count": null,
   "id": "dba8e78b",
   "metadata": {},
   "outputs": [],
   "source": [
    "findall(f, filter_=lambda node: d in node.path, maxcount=2)"
   ]
  },
  {
   "cell_type": "code",
   "execution_count": null,
   "id": "fcff793b",
   "metadata": {},
   "outputs": [],
   "source": [
    "import anytree\n",
    "anytree.cachedsearch.findall(f, filter_=lambda node: node.name in('a', 'b'))"
   ]
  },
  {
   "cell_type": "code",
   "execution_count": null,
   "id": "89347917",
   "metadata": {},
   "outputs": [],
   "source": [
    "anytree.search.findall(f, filter_=lambda node: node.name in('a', 'b'))"
   ]
  },
  {
   "cell_type": "markdown",
   "id": "8d08bd0b",
   "metadata": {},
   "source": [
    "### node resolution\n",
    "\n",
    "不知道这是干啥用的。"
   ]
  },
  {
   "cell_type": "code",
   "execution_count": null,
   "id": "e592446f",
   "metadata": {},
   "outputs": [],
   "source": [
    "from anytree import Node\n",
    "top = Node(\"top\", parent=None)\n",
    "sub0 = Node(\"sub0\", parent=top)\n",
    "sub0sub0 = Node(\"sub0sub0\", parent=sub0)\n",
    "sub0sub1 = Node(\"sub0sub1\", parent=sub0)\n",
    "sub1 = Node(\"sub1\", parent=top)"
   ]
  },
  {
   "cell_type": "code",
   "execution_count": null,
   "id": "51a26c76",
   "metadata": {},
   "outputs": [],
   "source": [
    "print(RenderTree(top))"
   ]
  },
  {
   "cell_type": "code",
   "execution_count": null,
   "id": "434f841a",
   "metadata": {},
   "outputs": [],
   "source": [
    "from anytree import Resolver\n",
    "r = Resolver(\"name\")"
   ]
  },
  {
   "cell_type": "code",
   "execution_count": null,
   "id": "a593ff64",
   "metadata": {},
   "outputs": [],
   "source": [
    "r"
   ]
  },
  {
   "cell_type": "code",
   "execution_count": null,
   "id": "0d13351d",
   "metadata": {},
   "outputs": [],
   "source": [
    "r.get(top, \"sub0/sub0sub0\")"
   ]
  },
  {
   "cell_type": "code",
   "execution_count": null,
   "id": "64636b15",
   "metadata": {},
   "outputs": [],
   "source": [
    "r.get(sub1, '..')"
   ]
  },
  {
   "cell_type": "code",
   "execution_count": null,
   "id": "4e815bc8",
   "metadata": {},
   "outputs": [],
   "source": [
    "r.get(sub1, '.')"
   ]
  },
  {
   "cell_type": "markdown",
   "id": "ddc26e9b",
   "metadata": {},
   "source": [
    "### tree walking"
   ]
  },
  {
   "cell_type": "code",
   "execution_count": null,
   "id": "e7cd5ade",
   "metadata": {},
   "outputs": [],
   "source": [
    "from anytree import Node, RenderTree, AsciiStyle\n",
    "f = Node(\"f\")\n",
    "b = Node(\"b\", parent=f)\n",
    "a = Node(\"a\", parent=b)\n",
    "d = Node(\"d\", parent=b)\n",
    "c = Node(\"c\", parent=d)\n",
    "e = Node(\"e\", parent=d)\n",
    "g = Node(\"g\", parent=f)\n",
    "i = Node(\"i\", parent=g)\n",
    "h = Node(\"h\", parent=i)\n",
    "print(RenderTree(f, style=AsciiStyle()).by_attr())"
   ]
  },
  {
   "cell_type": "code",
   "execution_count": null,
   "id": "fc93a055",
   "metadata": {},
   "outputs": [],
   "source": [
    "from anytree import Walker\n",
    "w = Walker()"
   ]
  },
  {
   "cell_type": "code",
   "execution_count": null,
   "id": "30c6551d",
   "metadata": {},
   "outputs": [],
   "source": [
    "w.walk(f, f)"
   ]
  },
  {
   "cell_type": "code",
   "execution_count": null,
   "id": "e302189c",
   "metadata": {},
   "outputs": [],
   "source": [
    "w.walk(f, b)"
   ]
  },
  {
   "cell_type": "code",
   "execution_count": null,
   "id": "40aab967",
   "metadata": {},
   "outputs": [],
   "source": [
    "w.walk(c, h)"
   ]
  },
  {
   "cell_type": "code",
   "execution_count": null,
   "id": "a957722d",
   "metadata": {},
   "outputs": [],
   "source": [
    "w.walk(h, c)"
   ]
  },
  {
   "cell_type": "markdown",
   "id": "5415df8d",
   "metadata": {},
   "source": [
    "### utilities"
   ]
  },
  {
   "cell_type": "code",
   "execution_count": null,
   "id": "2a94c8f9",
   "metadata": {},
   "outputs": [],
   "source": [
    "from anytree import Node\n",
    "udo = Node(\"Udo\")\n",
    "marc = Node(\"Marc\", parent=udo)\n",
    "lian = Node(\"Lian\", parent=marc)\n",
    "dan = Node(\"Dan\", parent=udo)\n",
    "jet = Node(\"Jet\", parent=dan)\n",
    "jan = Node(\"Jan\", parent=dan)\n",
    "joe = Node(\"Joe\", parent=dan)"
   ]
  },
  {
   "cell_type": "code",
   "execution_count": null,
   "id": "703f84ee",
   "metadata": {},
   "outputs": [],
   "source": [
    "print(RenderTree(udo).by_attr())"
   ]
  },
  {
   "cell_type": "code",
   "execution_count": null,
   "id": "893abc80",
   "metadata": {},
   "outputs": [],
   "source": [
    "from anytree.util import commonancestors\n",
    "commonancestors(jet, joe)"
   ]
  },
  {
   "cell_type": "code",
   "execution_count": null,
   "id": "594e82e2",
   "metadata": {},
   "outputs": [],
   "source": [
    "commonancestors(lian, joe)"
   ]
  },
  {
   "cell_type": "code",
   "execution_count": null,
   "id": "1f9e7ac1",
   "metadata": {},
   "outputs": [],
   "source": [
    "from anytree import Node\n",
    "dan = Node(\"Dan\")\n",
    "jet = Node(\"Jet\", parent=dan)\n",
    "jan = Node(\"Jan\", parent=dan)\n",
    "joe = Node(\"Joe\", parent=dan)"
   ]
  },
  {
   "cell_type": "code",
   "execution_count": null,
   "id": "d889e2d5",
   "metadata": {},
   "outputs": [],
   "source": [
    "print(RenderTree(dan).by_attr())"
   ]
  },
  {
   "cell_type": "code",
   "execution_count": null,
   "id": "9ee340b5",
   "metadata": {},
   "outputs": [],
   "source": [
    "from anytree.util import leftsibling, rightsibling"
   ]
  },
  {
   "cell_type": "code",
   "execution_count": null,
   "id": "2ec90885",
   "metadata": {},
   "outputs": [],
   "source": [
    "leftsibling(jan)"
   ]
  },
  {
   "cell_type": "code",
   "execution_count": null,
   "id": "737369a3",
   "metadata": {},
   "outputs": [],
   "source": [
    "leftsibling(joe)"
   ]
  },
  {
   "cell_type": "markdown",
   "id": "685d6d69",
   "metadata": {},
   "source": [
    "## importer\n",
    "\n",
    "- dicitionary importer\n",
    "- json importer\n",
    "\n",
    "### dicitionary importer"
   ]
  },
  {
   "cell_type": "code",
   "execution_count": null,
   "id": "189e84d0",
   "metadata": {},
   "outputs": [],
   "source": [
    "from anytree.importer import DictImporter\n",
    "from anytree import RenderTree\n",
    "importer = DictImporter()\n",
    "data = {\n",
    "    'a': 'root',\n",
    "    'children': [{'a': 'sub0',\n",
    "                  'children': [{'a': 'sub0A', 'b': 'foo'}, {'a': 'sub0B'}]},\n",
    "                 {'a': 'sub1'}]}\n",
    "root = importer.import_(data)\n",
    "print(RenderTree(root))"
   ]
  },
  {
   "cell_type": "code",
   "execution_count": null,
   "id": "a8b16f41",
   "metadata": {},
   "outputs": [],
   "source": [
    "from anytree.importer import JsonImporter\n",
    "from anytree import RenderTree\n",
    "importer = JsonImporter()\n",
    "data = '''\n",
    "{\n",
    "  \"a\": \"root\",\n",
    "  \"children\": [\n",
    "    {\n",
    "      \"a\": \"sub0\",\n",
    "      \"children\": [\n",
    "        {\n",
    "          \"a\": \"sub0A\",\n",
    "          \"b\": \"foo\"\n",
    "        },\n",
    "        {\n",
    "          \"a\": \"sub0B\"\n",
    "        }\n",
    "      ]\n",
    "    },\n",
    "    {\n",
    "      \"a\": \"sub1\"\n",
    "    }\n",
    "  ]\n",
    "}'''"
   ]
  },
  {
   "cell_type": "code",
   "execution_count": null,
   "id": "bbe71f1a",
   "metadata": {},
   "outputs": [],
   "source": [
    "root = importer.import_(data)\n",
    "print(RenderTree(root))"
   ]
  },
  {
   "cell_type": "markdown",
   "id": "d68a6779",
   "metadata": {},
   "source": [
    "## exporter\n",
    "\n",
    "### dot exporter"
   ]
  },
  {
   "cell_type": "code",
   "execution_count": 4,
   "id": "bf9dbfc2",
   "metadata": {},
   "outputs": [],
   "source": [
    "from anytree import Node\n",
    "root = Node(\"root\")\n",
    "s0 = Node(\"sub0\", parent=root, edge=2)\n",
    "s0b = Node(\"sub0B\", parent=s0, foo=4, edge=109)\n",
    "s0a = Node(\"sub0A\", parent=s0, edge=\"\")\n",
    "s1 = Node(\"sub1\", parent=root, edge=\"\")\n",
    "s1a = Node(\"sub1A\", parent=s1, edge=7)\n",
    "s1b = Node(\"sub1B\", parent=s1, edge=8)\n",
    "s1c = Node(\"sub1C\", parent=s1, edge=22)\n",
    "s1ca = Node(\"sub1Ca\", parent=s1c, edge=42)"
   ]
  },
  {
   "cell_type": "code",
   "execution_count": 5,
   "id": "6aa11ba7",
   "metadata": {},
   "outputs": [
    {
     "name": "stdout",
     "output_type": "stream",
     "text": [
      "digraph tree {\n",
      "    \"root\";\n",
      "    \"sub0\";\n",
      "    \"sub0B\";\n",
      "    \"sub0A\";\n",
      "    \"sub1\";\n",
      "    \"sub1A\";\n",
      "    \"sub1B\";\n",
      "    \"sub1C\";\n",
      "    \"sub1Ca\";\n",
      "    \"root\" -> \"sub0\";\n",
      "    \"root\" -> \"sub1\";\n",
      "    \"sub0\" -> \"sub0B\";\n",
      "    \"sub0\" -> \"sub0A\";\n",
      "    \"sub1\" -> \"sub1A\";\n",
      "    \"sub1\" -> \"sub1B\";\n",
      "    \"sub1\" -> \"sub1C\";\n",
      "    \"sub1C\" -> \"sub1Ca\";\n",
      "}\n"
     ]
    }
   ],
   "source": [
    "from anytree.exporter import DotExporter\n",
    "for line in DotExporter(root):\n",
    "    print(line)"
   ]
  },
  {
   "cell_type": "code",
   "execution_count": 14,
   "id": "30b58f1b",
   "metadata": {},
   "outputs": [
    {
     "name": "stdout",
     "output_type": "stream",
     "text": [
      "sub0\n",
      "sub0B\n",
      "sub0A\n",
      "sub1\n",
      "sub1A\n",
      "sub1B\n",
      "sub1C\n",
      "sub1Ca\n"
     ]
    }
   ],
   "source": [
    "for node in root.descendants:\n",
    "    print(node.name)"
   ]
  },
  {
   "cell_type": "code",
   "execution_count": 13,
   "id": "5feaf828",
   "metadata": {},
   "outputs": [
    {
     "data": {
      "text/plain": [
       "(Node('/root/sub0', edge=2),\n",
       " Node('/root/sub0/sub0B', edge=109, foo=4),\n",
       " Node('/root/sub0/sub0A', edge=''),\n",
       " Node('/root/sub1', edge=''),\n",
       " Node('/root/sub1/sub1A', edge=7),\n",
       " Node('/root/sub1/sub1B', edge=8),\n",
       " Node('/root/sub1/sub1C', edge=22),\n",
       " Node('/root/sub1/sub1C/sub1Ca', edge=42))"
      ]
     },
     "execution_count": 13,
     "metadata": {},
     "output_type": "execute_result"
    }
   ],
   "source": [
    "root.descendants"
   ]
  },
  {
   "cell_type": "code",
   "execution_count": 15,
   "id": "1fa7b6e5",
   "metadata": {},
   "outputs": [
    {
     "ename": "FileNotFoundError",
     "evalue": "[WinError 2] 系统找不到指定的文件。",
     "output_type": "error",
     "traceback": [
      "\u001b[1;31m---------------------------------------------------------------------------\u001b[0m",
      "\u001b[1;31mFileNotFoundError\u001b[0m                         Traceback (most recent call last)",
      "\u001b[1;32mC:\\Users\\ADMINI~1\\AppData\\Local\\Temp/ipykernel_28640/1417267766.py\u001b[0m in \u001b[0;36m<module>\u001b[1;34m\u001b[0m\n\u001b[1;32m----> 1\u001b[1;33m \u001b[0mDotExporter\u001b[0m\u001b[1;33m(\u001b[0m\u001b[0mroot\u001b[0m\u001b[1;33m)\u001b[0m\u001b[1;33m.\u001b[0m\u001b[0mto_picture\u001b[0m\u001b[1;33m(\u001b[0m\u001b[1;34m'dot_export.png'\u001b[0m\u001b[1;33m)\u001b[0m\u001b[1;33m\u001b[0m\u001b[1;33m\u001b[0m\u001b[0m\n\u001b[0m",
      "\u001b[1;32md:\\program_files\\conda\\lib\\site-packages\\anytree\\exporter\\dotexporter.py\u001b[0m in \u001b[0;36mto_picture\u001b[1;34m(self, filename)\u001b[0m\n\u001b[0;32m    270\u001b[0m             \u001b[0mdotfile\u001b[0m\u001b[1;33m.\u001b[0m\u001b[0mflush\u001b[0m\u001b[1;33m(\u001b[0m\u001b[1;33m)\u001b[0m\u001b[1;33m\u001b[0m\u001b[1;33m\u001b[0m\u001b[0m\n\u001b[0;32m    271\u001b[0m             \u001b[0mcmd\u001b[0m \u001b[1;33m=\u001b[0m \u001b[1;33m[\u001b[0m\u001b[1;34m\"dot\"\u001b[0m\u001b[1;33m,\u001b[0m \u001b[0mdotfilename\u001b[0m\u001b[1;33m,\u001b[0m \u001b[1;34m\"-T\"\u001b[0m\u001b[1;33m,\u001b[0m \u001b[0mfileformat\u001b[0m\u001b[1;33m,\u001b[0m \u001b[1;34m\"-o\"\u001b[0m\u001b[1;33m,\u001b[0m \u001b[0mfilename\u001b[0m\u001b[1;33m]\u001b[0m\u001b[1;33m\u001b[0m\u001b[1;33m\u001b[0m\u001b[0m\n\u001b[1;32m--> 272\u001b[1;33m             \u001b[0mcheck_call\u001b[0m\u001b[1;33m(\u001b[0m\u001b[0mcmd\u001b[0m\u001b[1;33m)\u001b[0m\u001b[1;33m\u001b[0m\u001b[1;33m\u001b[0m\u001b[0m\n\u001b[0m\u001b[0;32m    273\u001b[0m         \u001b[1;32mtry\u001b[0m\u001b[1;33m:\u001b[0m\u001b[1;33m\u001b[0m\u001b[1;33m\u001b[0m\u001b[0m\n\u001b[0;32m    274\u001b[0m             \u001b[0mremove\u001b[0m\u001b[1;33m(\u001b[0m\u001b[0mdotfilename\u001b[0m\u001b[1;33m)\u001b[0m\u001b[1;33m\u001b[0m\u001b[1;33m\u001b[0m\u001b[0m\n",
      "\u001b[1;32md:\\program_files\\conda\\lib\\subprocess.py\u001b[0m in \u001b[0;36mcheck_call\u001b[1;34m(*popenargs, **kwargs)\u001b[0m\n\u001b[0;32m    366\u001b[0m     \u001b[0mcheck_call\u001b[0m\u001b[1;33m(\u001b[0m\u001b[1;33m[\u001b[0m\u001b[1;34m\"ls\"\u001b[0m\u001b[1;33m,\u001b[0m \u001b[1;34m\"-l\"\u001b[0m\u001b[1;33m]\u001b[0m\u001b[1;33m)\u001b[0m\u001b[1;33m\u001b[0m\u001b[1;33m\u001b[0m\u001b[0m\n\u001b[0;32m    367\u001b[0m     \"\"\"\n\u001b[1;32m--> 368\u001b[1;33m     \u001b[0mretcode\u001b[0m \u001b[1;33m=\u001b[0m \u001b[0mcall\u001b[0m\u001b[1;33m(\u001b[0m\u001b[1;33m*\u001b[0m\u001b[0mpopenargs\u001b[0m\u001b[1;33m,\u001b[0m \u001b[1;33m**\u001b[0m\u001b[0mkwargs\u001b[0m\u001b[1;33m)\u001b[0m\u001b[1;33m\u001b[0m\u001b[1;33m\u001b[0m\u001b[0m\n\u001b[0m\u001b[0;32m    369\u001b[0m     \u001b[1;32mif\u001b[0m \u001b[0mretcode\u001b[0m\u001b[1;33m:\u001b[0m\u001b[1;33m\u001b[0m\u001b[1;33m\u001b[0m\u001b[0m\n\u001b[0;32m    370\u001b[0m         \u001b[0mcmd\u001b[0m \u001b[1;33m=\u001b[0m \u001b[0mkwargs\u001b[0m\u001b[1;33m.\u001b[0m\u001b[0mget\u001b[0m\u001b[1;33m(\u001b[0m\u001b[1;34m\"args\"\u001b[0m\u001b[1;33m)\u001b[0m\u001b[1;33m\u001b[0m\u001b[1;33m\u001b[0m\u001b[0m\n",
      "\u001b[1;32md:\\program_files\\conda\\lib\\subprocess.py\u001b[0m in \u001b[0;36mcall\u001b[1;34m(timeout, *popenargs, **kwargs)\u001b[0m\n\u001b[0;32m    347\u001b[0m     \u001b[0mretcode\u001b[0m \u001b[1;33m=\u001b[0m \u001b[0mcall\u001b[0m\u001b[1;33m(\u001b[0m\u001b[1;33m[\u001b[0m\u001b[1;34m\"ls\"\u001b[0m\u001b[1;33m,\u001b[0m \u001b[1;34m\"-l\"\u001b[0m\u001b[1;33m]\u001b[0m\u001b[1;33m)\u001b[0m\u001b[1;33m\u001b[0m\u001b[1;33m\u001b[0m\u001b[0m\n\u001b[0;32m    348\u001b[0m     \"\"\"\n\u001b[1;32m--> 349\u001b[1;33m     \u001b[1;32mwith\u001b[0m \u001b[0mPopen\u001b[0m\u001b[1;33m(\u001b[0m\u001b[1;33m*\u001b[0m\u001b[0mpopenargs\u001b[0m\u001b[1;33m,\u001b[0m \u001b[1;33m**\u001b[0m\u001b[0mkwargs\u001b[0m\u001b[1;33m)\u001b[0m \u001b[1;32mas\u001b[0m \u001b[0mp\u001b[0m\u001b[1;33m:\u001b[0m\u001b[1;33m\u001b[0m\u001b[1;33m\u001b[0m\u001b[0m\n\u001b[0m\u001b[0;32m    350\u001b[0m         \u001b[1;32mtry\u001b[0m\u001b[1;33m:\u001b[0m\u001b[1;33m\u001b[0m\u001b[1;33m\u001b[0m\u001b[0m\n\u001b[0;32m    351\u001b[0m             \u001b[1;32mreturn\u001b[0m \u001b[0mp\u001b[0m\u001b[1;33m.\u001b[0m\u001b[0mwait\u001b[0m\u001b[1;33m(\u001b[0m\u001b[0mtimeout\u001b[0m\u001b[1;33m=\u001b[0m\u001b[0mtimeout\u001b[0m\u001b[1;33m)\u001b[0m\u001b[1;33m\u001b[0m\u001b[1;33m\u001b[0m\u001b[0m\n",
      "\u001b[1;32md:\\program_files\\conda\\lib\\subprocess.py\u001b[0m in \u001b[0;36m__init__\u001b[1;34m(self, args, bufsize, executable, stdin, stdout, stderr, preexec_fn, close_fds, shell, cwd, env, universal_newlines, startupinfo, creationflags, restore_signals, start_new_session, pass_fds, user, group, extra_groups, encoding, errors, text, umask)\u001b[0m\n\u001b[0;32m    949\u001b[0m                             encoding=encoding, errors=errors)\n\u001b[0;32m    950\u001b[0m \u001b[1;33m\u001b[0m\u001b[0m\n\u001b[1;32m--> 951\u001b[1;33m             self._execute_child(args, executable, preexec_fn, close_fds,\n\u001b[0m\u001b[0;32m    952\u001b[0m                                 \u001b[0mpass_fds\u001b[0m\u001b[1;33m,\u001b[0m \u001b[0mcwd\u001b[0m\u001b[1;33m,\u001b[0m \u001b[0menv\u001b[0m\u001b[1;33m,\u001b[0m\u001b[1;33m\u001b[0m\u001b[1;33m\u001b[0m\u001b[0m\n\u001b[0;32m    953\u001b[0m                                 \u001b[0mstartupinfo\u001b[0m\u001b[1;33m,\u001b[0m \u001b[0mcreationflags\u001b[0m\u001b[1;33m,\u001b[0m \u001b[0mshell\u001b[0m\u001b[1;33m,\u001b[0m\u001b[1;33m\u001b[0m\u001b[1;33m\u001b[0m\u001b[0m\n",
      "\u001b[1;32md:\\program_files\\conda\\lib\\subprocess.py\u001b[0m in \u001b[0;36m_execute_child\u001b[1;34m(self, args, executable, preexec_fn, close_fds, pass_fds, cwd, env, startupinfo, creationflags, shell, p2cread, p2cwrite, c2pread, c2pwrite, errread, errwrite, unused_restore_signals, unused_gid, unused_gids, unused_uid, unused_umask, unused_start_new_session)\u001b[0m\n\u001b[0;32m   1418\u001b[0m             \u001b[1;31m# Start the process\u001b[0m\u001b[1;33m\u001b[0m\u001b[1;33m\u001b[0m\u001b[1;33m\u001b[0m\u001b[0m\n\u001b[0;32m   1419\u001b[0m             \u001b[1;32mtry\u001b[0m\u001b[1;33m:\u001b[0m\u001b[1;33m\u001b[0m\u001b[1;33m\u001b[0m\u001b[0m\n\u001b[1;32m-> 1420\u001b[1;33m                 hp, ht, pid, tid = _winapi.CreateProcess(executable, args,\n\u001b[0m\u001b[0;32m   1421\u001b[0m                                          \u001b[1;31m# no special security\u001b[0m\u001b[1;33m\u001b[0m\u001b[1;33m\u001b[0m\u001b[1;33m\u001b[0m\u001b[0m\n\u001b[0;32m   1422\u001b[0m                                          \u001b[1;32mNone\u001b[0m\u001b[1;33m,\u001b[0m \u001b[1;32mNone\u001b[0m\u001b[1;33m,\u001b[0m\u001b[1;33m\u001b[0m\u001b[1;33m\u001b[0m\u001b[0m\n",
      "\u001b[1;31mFileNotFoundError\u001b[0m: [WinError 2] 系统找不到指定的文件。"
     ]
    }
   ],
   "source": [
    "DotExporter(root).to_picture('dot_export.png')"
   ]
  },
  {
   "cell_type": "code",
   "execution_count": 16,
   "id": "5e89401d",
   "metadata": {},
   "outputs": [],
   "source": [
    "DotExporter(root).to_dotfile('dot_export.dot')"
   ]
  },
  {
   "cell_type": "markdown",
   "id": "443889f7",
   "metadata": {},
   "source": [
    "## tricks\n"
   ]
  },
  {
   "cell_type": "code",
   "execution_count": 1,
   "id": "e87753c3",
   "metadata": {},
   "outputs": [],
   "source": [
    "from anytree import NodeMixin, RenderTree\n",
    "class WNode(NodeMixin):\n",
    "    def __init__(self, foo, parent=None, weight=None):\n",
    "        super(WNode, self).__init__()\n",
    "        self.foo = foo\n",
    "        self.parent = parent\n",
    "        self.weight = weight if parent is not None else None\n",
    "    def _post_detach(self, parent):\n",
    "        self.weight = None"
   ]
  },
  {
   "cell_type": "code",
   "execution_count": 2,
   "id": "420ca1d2",
   "metadata": {},
   "outputs": [
    {
     "name": "stdout",
     "output_type": "stream",
     "text": [
      "a (0)\n",
      "├── a0 (2)\n",
      "├── a1 (3)\n",
      "│   └── a1a (0)\n",
      "└── a2 (0)\n"
     ]
    }
   ],
   "source": [
    "a = WNode(\"a\")\n",
    "a0 = WNode(\"a0\", parent=a, weight=2)\n",
    "a1 = WNode(\"a1\", parent=a, weight=3)\n",
    "a1a = WNode(\"a1a\", parent=a1)\n",
    "a2 = WNode(\"a2\", parent=a)\n",
    "for pre, _, node in RenderTree(a):\n",
    "    print(\"%s%s (%s)\" % (pre, node.foo, node.weight or 0))"
   ]
  },
  {
   "cell_type": "code",
   "execution_count": 3,
   "id": "4de49e58",
   "metadata": {},
   "outputs": [
    {
     "ename": "FileNotFoundError",
     "evalue": "[WinError 2] 系统找不到指定的文件。",
     "output_type": "error",
     "traceback": [
      "\u001b[1;31m---------------------------------------------------------------------------\u001b[0m",
      "\u001b[1;31mFileNotFoundError\u001b[0m                         Traceback (most recent call last)",
      "\u001b[1;32mC:\\Users\\ADMINI~1\\AppData\\Local\\Temp/ipykernel_28640/3280905454.py\u001b[0m in \u001b[0;36m<module>\u001b[1;34m\u001b[0m\n\u001b[0;32m      1\u001b[0m \u001b[1;32mfrom\u001b[0m \u001b[0manytree\u001b[0m\u001b[1;33m.\u001b[0m\u001b[0mexporter\u001b[0m \u001b[1;32mimport\u001b[0m \u001b[0mDotExporter\u001b[0m\u001b[1;33m\u001b[0m\u001b[1;33m\u001b[0m\u001b[0m\n\u001b[1;32m----> 2\u001b[1;33m DotExporter(a,\n\u001b[0m\u001b[0;32m      3\u001b[0m             \u001b[0mnodenamefunc\u001b[0m\u001b[1;33m=\u001b[0m\u001b[1;32mlambda\u001b[0m \u001b[0mnode\u001b[0m\u001b[1;33m:\u001b[0m \u001b[0mnode\u001b[0m\u001b[1;33m.\u001b[0m\u001b[0mfoo\u001b[0m\u001b[1;33m,\u001b[0m\u001b[1;33m\u001b[0m\u001b[1;33m\u001b[0m\u001b[0m\n\u001b[0;32m      4\u001b[0m             \u001b[0medgeattrfunc\u001b[0m\u001b[1;33m=\u001b[0m\u001b[1;32mlambda\u001b[0m \u001b[0mparent\u001b[0m\u001b[1;33m,\u001b[0m \u001b[0mchild\u001b[0m\u001b[1;33m:\u001b[0m \u001b[1;34m\"style=bold,label=%d\"\u001b[0m \u001b[1;33m%\u001b[0m \u001b[1;33m(\u001b[0m\u001b[0mchild\u001b[0m\u001b[1;33m.\u001b[0m\u001b[0mweight\u001b[0m \u001b[1;32mor\u001b[0m \u001b[1;36m0\u001b[0m\u001b[1;33m)\u001b[0m\u001b[1;33m\u001b[0m\u001b[1;33m\u001b[0m\u001b[0m\n\u001b[0;32m      5\u001b[0m ).to_picture(\"weight.png\")  # doctest: +SKIP\n",
      "\u001b[1;32md:\\program_files\\conda\\lib\\site-packages\\anytree\\exporter\\dotexporter.py\u001b[0m in \u001b[0;36mto_picture\u001b[1;34m(self, filename)\u001b[0m\n\u001b[0;32m    270\u001b[0m             \u001b[0mdotfile\u001b[0m\u001b[1;33m.\u001b[0m\u001b[0mflush\u001b[0m\u001b[1;33m(\u001b[0m\u001b[1;33m)\u001b[0m\u001b[1;33m\u001b[0m\u001b[1;33m\u001b[0m\u001b[0m\n\u001b[0;32m    271\u001b[0m             \u001b[0mcmd\u001b[0m \u001b[1;33m=\u001b[0m \u001b[1;33m[\u001b[0m\u001b[1;34m\"dot\"\u001b[0m\u001b[1;33m,\u001b[0m \u001b[0mdotfilename\u001b[0m\u001b[1;33m,\u001b[0m \u001b[1;34m\"-T\"\u001b[0m\u001b[1;33m,\u001b[0m \u001b[0mfileformat\u001b[0m\u001b[1;33m,\u001b[0m \u001b[1;34m\"-o\"\u001b[0m\u001b[1;33m,\u001b[0m \u001b[0mfilename\u001b[0m\u001b[1;33m]\u001b[0m\u001b[1;33m\u001b[0m\u001b[1;33m\u001b[0m\u001b[0m\n\u001b[1;32m--> 272\u001b[1;33m             \u001b[0mcheck_call\u001b[0m\u001b[1;33m(\u001b[0m\u001b[0mcmd\u001b[0m\u001b[1;33m)\u001b[0m\u001b[1;33m\u001b[0m\u001b[1;33m\u001b[0m\u001b[0m\n\u001b[0m\u001b[0;32m    273\u001b[0m         \u001b[1;32mtry\u001b[0m\u001b[1;33m:\u001b[0m\u001b[1;33m\u001b[0m\u001b[1;33m\u001b[0m\u001b[0m\n\u001b[0;32m    274\u001b[0m             \u001b[0mremove\u001b[0m\u001b[1;33m(\u001b[0m\u001b[0mdotfilename\u001b[0m\u001b[1;33m)\u001b[0m\u001b[1;33m\u001b[0m\u001b[1;33m\u001b[0m\u001b[0m\n",
      "\u001b[1;32md:\\program_files\\conda\\lib\\subprocess.py\u001b[0m in \u001b[0;36mcheck_call\u001b[1;34m(*popenargs, **kwargs)\u001b[0m\n\u001b[0;32m    366\u001b[0m     \u001b[0mcheck_call\u001b[0m\u001b[1;33m(\u001b[0m\u001b[1;33m[\u001b[0m\u001b[1;34m\"ls\"\u001b[0m\u001b[1;33m,\u001b[0m \u001b[1;34m\"-l\"\u001b[0m\u001b[1;33m]\u001b[0m\u001b[1;33m)\u001b[0m\u001b[1;33m\u001b[0m\u001b[1;33m\u001b[0m\u001b[0m\n\u001b[0;32m    367\u001b[0m     \"\"\"\n\u001b[1;32m--> 368\u001b[1;33m     \u001b[0mretcode\u001b[0m \u001b[1;33m=\u001b[0m \u001b[0mcall\u001b[0m\u001b[1;33m(\u001b[0m\u001b[1;33m*\u001b[0m\u001b[0mpopenargs\u001b[0m\u001b[1;33m,\u001b[0m \u001b[1;33m**\u001b[0m\u001b[0mkwargs\u001b[0m\u001b[1;33m)\u001b[0m\u001b[1;33m\u001b[0m\u001b[1;33m\u001b[0m\u001b[0m\n\u001b[0m\u001b[0;32m    369\u001b[0m     \u001b[1;32mif\u001b[0m \u001b[0mretcode\u001b[0m\u001b[1;33m:\u001b[0m\u001b[1;33m\u001b[0m\u001b[1;33m\u001b[0m\u001b[0m\n\u001b[0;32m    370\u001b[0m         \u001b[0mcmd\u001b[0m \u001b[1;33m=\u001b[0m \u001b[0mkwargs\u001b[0m\u001b[1;33m.\u001b[0m\u001b[0mget\u001b[0m\u001b[1;33m(\u001b[0m\u001b[1;34m\"args\"\u001b[0m\u001b[1;33m)\u001b[0m\u001b[1;33m\u001b[0m\u001b[1;33m\u001b[0m\u001b[0m\n",
      "\u001b[1;32md:\\program_files\\conda\\lib\\subprocess.py\u001b[0m in \u001b[0;36mcall\u001b[1;34m(timeout, *popenargs, **kwargs)\u001b[0m\n\u001b[0;32m    347\u001b[0m     \u001b[0mretcode\u001b[0m \u001b[1;33m=\u001b[0m \u001b[0mcall\u001b[0m\u001b[1;33m(\u001b[0m\u001b[1;33m[\u001b[0m\u001b[1;34m\"ls\"\u001b[0m\u001b[1;33m,\u001b[0m \u001b[1;34m\"-l\"\u001b[0m\u001b[1;33m]\u001b[0m\u001b[1;33m)\u001b[0m\u001b[1;33m\u001b[0m\u001b[1;33m\u001b[0m\u001b[0m\n\u001b[0;32m    348\u001b[0m     \"\"\"\n\u001b[1;32m--> 349\u001b[1;33m     \u001b[1;32mwith\u001b[0m \u001b[0mPopen\u001b[0m\u001b[1;33m(\u001b[0m\u001b[1;33m*\u001b[0m\u001b[0mpopenargs\u001b[0m\u001b[1;33m,\u001b[0m \u001b[1;33m**\u001b[0m\u001b[0mkwargs\u001b[0m\u001b[1;33m)\u001b[0m \u001b[1;32mas\u001b[0m \u001b[0mp\u001b[0m\u001b[1;33m:\u001b[0m\u001b[1;33m\u001b[0m\u001b[1;33m\u001b[0m\u001b[0m\n\u001b[0m\u001b[0;32m    350\u001b[0m         \u001b[1;32mtry\u001b[0m\u001b[1;33m:\u001b[0m\u001b[1;33m\u001b[0m\u001b[1;33m\u001b[0m\u001b[0m\n\u001b[0;32m    351\u001b[0m             \u001b[1;32mreturn\u001b[0m \u001b[0mp\u001b[0m\u001b[1;33m.\u001b[0m\u001b[0mwait\u001b[0m\u001b[1;33m(\u001b[0m\u001b[0mtimeout\u001b[0m\u001b[1;33m=\u001b[0m\u001b[0mtimeout\u001b[0m\u001b[1;33m)\u001b[0m\u001b[1;33m\u001b[0m\u001b[1;33m\u001b[0m\u001b[0m\n",
      "\u001b[1;32md:\\program_files\\conda\\lib\\subprocess.py\u001b[0m in \u001b[0;36m__init__\u001b[1;34m(self, args, bufsize, executable, stdin, stdout, stderr, preexec_fn, close_fds, shell, cwd, env, universal_newlines, startupinfo, creationflags, restore_signals, start_new_session, pass_fds, user, group, extra_groups, encoding, errors, text, umask)\u001b[0m\n\u001b[0;32m    949\u001b[0m                             encoding=encoding, errors=errors)\n\u001b[0;32m    950\u001b[0m \u001b[1;33m\u001b[0m\u001b[0m\n\u001b[1;32m--> 951\u001b[1;33m             self._execute_child(args, executable, preexec_fn, close_fds,\n\u001b[0m\u001b[0;32m    952\u001b[0m                                 \u001b[0mpass_fds\u001b[0m\u001b[1;33m,\u001b[0m \u001b[0mcwd\u001b[0m\u001b[1;33m,\u001b[0m \u001b[0menv\u001b[0m\u001b[1;33m,\u001b[0m\u001b[1;33m\u001b[0m\u001b[1;33m\u001b[0m\u001b[0m\n\u001b[0;32m    953\u001b[0m                                 \u001b[0mstartupinfo\u001b[0m\u001b[1;33m,\u001b[0m \u001b[0mcreationflags\u001b[0m\u001b[1;33m,\u001b[0m \u001b[0mshell\u001b[0m\u001b[1;33m,\u001b[0m\u001b[1;33m\u001b[0m\u001b[1;33m\u001b[0m\u001b[0m\n",
      "\u001b[1;32md:\\program_files\\conda\\lib\\subprocess.py\u001b[0m in \u001b[0;36m_execute_child\u001b[1;34m(self, args, executable, preexec_fn, close_fds, pass_fds, cwd, env, startupinfo, creationflags, shell, p2cread, p2cwrite, c2pread, c2pwrite, errread, errwrite, unused_restore_signals, unused_gid, unused_gids, unused_uid, unused_umask, unused_start_new_session)\u001b[0m\n\u001b[0;32m   1418\u001b[0m             \u001b[1;31m# Start the process\u001b[0m\u001b[1;33m\u001b[0m\u001b[1;33m\u001b[0m\u001b[1;33m\u001b[0m\u001b[0m\n\u001b[0;32m   1419\u001b[0m             \u001b[1;32mtry\u001b[0m\u001b[1;33m:\u001b[0m\u001b[1;33m\u001b[0m\u001b[1;33m\u001b[0m\u001b[0m\n\u001b[1;32m-> 1420\u001b[1;33m                 hp, ht, pid, tid = _winapi.CreateProcess(executable, args,\n\u001b[0m\u001b[0;32m   1421\u001b[0m                                          \u001b[1;31m# no special security\u001b[0m\u001b[1;33m\u001b[0m\u001b[1;33m\u001b[0m\u001b[1;33m\u001b[0m\u001b[0m\n\u001b[0;32m   1422\u001b[0m                                          \u001b[1;32mNone\u001b[0m\u001b[1;33m,\u001b[0m \u001b[1;32mNone\u001b[0m\u001b[1;33m,\u001b[0m\u001b[1;33m\u001b[0m\u001b[1;33m\u001b[0m\u001b[0m\n",
      "\u001b[1;31mFileNotFoundError\u001b[0m: [WinError 2] 系统找不到指定的文件。"
     ]
    }
   ],
   "source": [
    "from anytree.exporter import DotExporter\n",
    "DotExporter(a,\n",
    "            nodenamefunc=lambda node: node.foo,\n",
    "            edgeattrfunc=lambda parent, child: \"style=bold,label=%d\" % (child.weight or 0)\n",
    ").to_picture(\"weight.png\")  # doctest: +SKIP"
   ]
  },
  {
   "cell_type": "code",
   "execution_count": null,
   "id": "69cf2ef2",
   "metadata": {},
   "outputs": [],
   "source": [
    "from anytree.exporter import DotExporter\n",
    "DotExporter(a,\n",
    "            nodenamefunc=lambda node: node.foo,\n",
    "            edgeattrfunc=lambda parent, child: \"style=bold,label=%d\" % (child.weight or 0)\n",
    ").to_dotfile(\"weight.dot\")  # doctest: +SKIP"
   ]
  },
  {
   "cell_type": "code",
   "execution_count": null,
   "id": "21653c4d",
   "metadata": {},
   "outputs": [],
   "source": []
  }
 ],
 "metadata": {
  "kernelspec": {
   "display_name": "Python 3 (ipykernel)",
   "language": "python",
   "name": "python3"
  },
  "language_info": {
   "codemirror_mode": {
    "name": "ipython",
    "version": 3
   },
   "file_extension": ".py",
   "mimetype": "text/x-python",
   "name": "python",
   "nbconvert_exporter": "python",
   "pygments_lexer": "ipython3",
   "version": "3.9.5"
  },
  "toc": {
   "base_numbering": 1,
   "nav_menu": {},
   "number_sections": true,
   "sideBar": true,
   "skip_h1_title": false,
   "title_cell": "Table of Contents",
   "title_sidebar": "Contents",
   "toc_cell": false,
   "toc_position": {},
   "toc_section_display": true,
   "toc_window_display": false
  }
 },
 "nbformat": 4,
 "nbformat_minor": 5
}
