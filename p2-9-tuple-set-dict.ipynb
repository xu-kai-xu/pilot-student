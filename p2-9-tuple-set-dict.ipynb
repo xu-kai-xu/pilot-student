{
 "cells": [
  {
   "cell_type": "markdown",
   "metadata": {},
   "source": [
    "# 元组，集合，字典"
   ]
  },
  {
   "cell_type": "markdown",
   "metadata": {},
   "source": [
    "在详细的学习过 *list* 之后，剩下的三种就简单多了，因为很多东西都是类似甚至一样的。这一章的重点是掌握**元组**（*tuple*）、**集合**（*set*）和**字典**（*dictionary*）的独特性以及常见的应用场景。"
   ]
  },
  {
   "cell_type": "markdown",
   "metadata": {},
   "source": [
    "## Tuples"
   ]
  },
  {
   "cell_type": "markdown",
   "metadata": {},
   "source": [
    "*Tuple* 是一个造出来的数学名词，中文可以翻译为”元组“，几乎没有意义。\n",
    "\n",
    "*Tuple* 和 *list* 非常类似，实际上 *tuple* 和 *list* 都属于序列（*sequence*）类型的数据结构，即包含的元素是有序的。\n",
    "\n",
    "在 Python 中 *tuple* 用圆括号括起来表示（区别于 *list* 的方括号）。"
   ]
  },
  {
   "cell_type": "code",
   "execution_count": 1,
   "metadata": {},
   "outputs": [
    {
     "data": {
      "text/plain": [
       "(1, 24, 'hello')"
      ]
     },
     "execution_count": 1,
     "metadata": {},
     "output_type": "execute_result"
    }
   ],
   "source": [
    "# 请在这里输入代码\n",
    "t1 = (1, 24, 'hello')\n",
    "t1"
   ]
  },
  {
   "cell_type": "code",
   "execution_count": 2,
   "metadata": {},
   "outputs": [
    {
     "data": {
      "text/plain": [
       "tuple"
      ]
     },
     "execution_count": 2,
     "metadata": {},
     "output_type": "execute_result"
    }
   ],
   "source": [
    "# 请在这里输入代码\n",
    "type(t1)"
   ]
  },
  {
   "cell_type": "markdown",
   "metadata": {},
   "source": [
    "其实圆括号可以省略，下面这句和上面的完全等价："
   ]
  },
  {
   "cell_type": "code",
   "execution_count": 3,
   "metadata": {},
   "outputs": [
    {
     "name": "stdout",
     "output_type": "stream",
     "text": [
      "(1, 24, 'hello') (1, 24, 'hello')\n"
     ]
    }
   ],
   "source": [
    "# 请在这里输入代码\n",
    "t2 = 1, 24, 'hello'\n",
    "print(t1, t2)"
   ]
  },
  {
   "cell_type": "markdown",
   "metadata": {},
   "source": [
    "注意，*tuple* 只有一个元素时，最后必须跟一个逗号，这和 *list* 是不同的："
   ]
  },
  {
   "cell_type": "code",
   "execution_count": 4,
   "metadata": {},
   "outputs": [
    {
     "data": {
      "text/plain": [
       "tuple"
      ]
     },
     "execution_count": 4,
     "metadata": {},
     "output_type": "execute_result"
    }
   ],
   "source": [
    "# 请在这里输入代码\n",
    "t3 = (1,)\n",
    "type(t3)"
   ]
  },
  {
   "cell_type": "code",
   "execution_count": 5,
   "metadata": {},
   "outputs": [
    {
     "data": {
      "text/plain": [
       "tuple"
      ]
     },
     "execution_count": 5,
     "metadata": {},
     "output_type": "execute_result"
    }
   ],
   "source": [
    "t4 = 1,\n",
    "type(t4)"
   ]
  },
  {
   "cell_type": "markdown",
   "metadata": {},
   "source": [
    "与 *list* 类似，*tuple* 也用下标来访问其中元素："
   ]
  },
  {
   "cell_type": "code",
   "execution_count": 6,
   "metadata": {},
   "outputs": [
    {
     "data": {
      "text/plain": [
       "1"
      ]
     },
     "execution_count": 6,
     "metadata": {},
     "output_type": "execute_result"
    }
   ],
   "source": [
    "# 请在这里输入代码\n",
    "t1[0]"
   ]
  },
  {
   "cell_type": "markdown",
   "metadata": {},
   "source": [
    "*Tuple* 里的元素本身也可以是 *tuple*，也就是嵌套的 *tuple*："
   ]
  },
  {
   "cell_type": "code",
   "execution_count": 7,
   "metadata": {},
   "outputs": [
    {
     "data": {
      "text/plain": [
       "((1, 24, 'hello'), (1, 2, 3))"
      ]
     },
     "execution_count": 7,
     "metadata": {},
     "output_type": "execute_result"
    }
   ],
   "source": [
    "# 请在这里输入代码\n",
    "t = t1, (1, 2, 3)\n",
    "t"
   ]
  },
  {
   "cell_type": "markdown",
   "metadata": {},
   "source": [
    "### 不可更改（*immutable*）"
   ]
  },
  {
   "cell_type": "markdown",
   "metadata": {},
   "source": [
    "*Tuple* 和 *list* 的主要区别在于，*tuple* 一经创建不可更改，这种特性叫 *immutable*，这是一种非常苛刻的要求，但是也有很多好处，最主要一点是降低了程序的复杂度，让程序运行更加可控，测试和验证更容易。\n",
    "\n",
    "相反的，*list* 是 *mutable*。\n",
    "\n",
    "如果我们尝试修改 *tuple* 的元素，会出现 `TypeError` 运行时异常（表示访问了特定类型不支持的属性或者方法），例如下面这句："
   ]
  },
  {
   "cell_type": "code",
   "execution_count": 8,
   "metadata": {},
   "outputs": [
    {
     "ename": "TypeError",
     "evalue": "'tuple' object does not support item assignment",
     "output_type": "error",
     "traceback": [
      "\u001b[1;31m---------------------------------------------------------------------------\u001b[0m",
      "\u001b[1;31mTypeError\u001b[0m                                 Traceback (most recent call last)",
      "\u001b[1;32mC:\\Users\\ADMINI~1\\AppData\\Local\\Temp/ipykernel_15864/845286712.py\u001b[0m in \u001b[0;36m<module>\u001b[1;34m\u001b[0m\n\u001b[0;32m      1\u001b[0m \u001b[1;31m# 请在这里输入代码\u001b[0m\u001b[1;33m\u001b[0m\u001b[1;33m\u001b[0m\u001b[1;33m\u001b[0m\u001b[0m\n\u001b[1;32m----> 2\u001b[1;33m \u001b[0mt\u001b[0m\u001b[1;33m[\u001b[0m\u001b[1;36m0\u001b[0m\u001b[1;33m]\u001b[0m \u001b[1;33m=\u001b[0m \u001b[1;36m888\u001b[0m\u001b[1;33m\u001b[0m\u001b[1;33m\u001b[0m\u001b[0m\n\u001b[0m",
      "\u001b[1;31mTypeError\u001b[0m: 'tuple' object does not support item assignment"
     ]
    }
   ],
   "source": [
    "# 请在这里输入代码\n",
    "t[0] = 888"
   ]
  },
  {
   "cell_type": "markdown",
   "metadata": {},
   "source": [
    "需要注意，*tuple* 包含哪些元素及其顺序不可以改变，但 *tuple* 包含的某个元素可能是 *mutable*，其内容是可以改变的，请看下面的例子："
   ]
  },
  {
   "cell_type": "code",
   "execution_count": 9,
   "metadata": {},
   "outputs": [
    {
     "name": "stdout",
     "output_type": "stream",
     "text": [
      "([1, 2], [4, 5])\n"
     ]
    }
   ],
   "source": [
    "# 请在这里输入代码\n",
    "a = [1, 2]\n",
    "b = [4, 5]\n",
    "t = a, b\n",
    "print(t)"
   ]
  },
  {
   "cell_type": "code",
   "execution_count": 10,
   "metadata": {},
   "outputs": [
    {
     "data": {
      "text/plain": [
       "([1, 2, 3], [4, 5])"
      ]
     },
     "execution_count": 10,
     "metadata": {},
     "output_type": "execute_result"
    }
   ],
   "source": [
    "a.append(3)\n",
    "t"
   ]
  },
  {
   "cell_type": "markdown",
   "metadata": {},
   "source": [
    "上面这一点有点绕，但也很重要，请务必理解清晰。"
   ]
  },
  {
   "cell_type": "markdown",
   "metadata": {},
   "source": [
    "### Pack 和 Unpack"
   ]
  },
  {
   "cell_type": "markdown",
   "metadata": {},
   "source": [
    "*Tuple* 和 *list* 很像，而且也是 *iterable*，所以我们在上一章章节讲的很多内容也适用于 *tuple*，当然，元素的增删改和排序等操作除外。"
   ]
  },
  {
   "cell_type": "markdown",
   "metadata": {},
   "source": [
    "虽然很像，但通常 *tuple* 会用在和 *list* 不一样的场合，两个主要的差别是：\n",
    "* 一般 *list* 包含的元素都是相同类型的（虽然允许是不同类型），而 *tuple* 没有这个约束，经常包含不同类型的元素；\n",
    "* 一般 *list* 用循环和迭代方式来处理，而 *tuple* 被广泛地用在数据“打包（*pack*）”和“解包（*unpack*）”操作中。\n",
    "\n",
    "这一节我们重点看看 *pack* 和 *unpack*。\n",
    "\n",
    "把一组数据（不管什么类型）打包进一个 *tuple* 的操作叫 *pack*："
   ]
  },
  {
   "cell_type": "code",
   "execution_count": 11,
   "metadata": {},
   "outputs": [
    {
     "data": {
      "text/plain": [
       "(1, 24, 'hello', True)"
      ]
     },
     "execution_count": 11,
     "metadata": {},
     "output_type": "execute_result"
    }
   ],
   "source": [
    "# 请在这里输入代码\n",
    "t = 1, 24, 'hello', True\n",
    "t"
   ]
  },
  {
   "cell_type": "markdown",
   "metadata": {},
   "source": [
    "前面我们讲过，初始化一个 *tuple* 时可以省略括号，其实也是 *pack*。\n",
    "\n",
    "反过来的操作就是把 *tuple* 中的元素分别赋值给几个变量，就叫 *unpack*。\n",
    "\n",
    "注意左边的变量个数和 *tuple* 的元素个数必须严格相等，多了少了都会抛出 TypeError 异常："
   ]
  },
  {
   "cell_type": "code",
   "execution_count": 13,
   "metadata": {},
   "outputs": [
    {
     "name": "stdout",
     "output_type": "stream",
     "text": [
      "1 24 hello True\n"
     ]
    }
   ],
   "source": [
    "# 请在这里输入代码\n",
    "start, end, s, f = t\n",
    "print(start, end, s, f)"
   ]
  },
  {
   "cell_type": "code",
   "execution_count": 14,
   "metadata": {},
   "outputs": [
    {
     "data": {
      "text/plain": [
       "(1, 24, 'hello', True)"
      ]
     },
     "execution_count": 14,
     "metadata": {},
     "output_type": "execute_result"
    }
   ],
   "source": [
    "a = t\n",
    "a"
   ]
  },
  {
   "cell_type": "code",
   "execution_count": 16,
   "metadata": {},
   "outputs": [
    {
     "ename": "ValueError",
     "evalue": "too many values to unpack (expected 2)",
     "output_type": "error",
     "traceback": [
      "\u001b[1;31m---------------------------------------------------------------------------\u001b[0m",
      "\u001b[1;31mValueError\u001b[0m                                Traceback (most recent call last)",
      "\u001b[1;32mC:\\Users\\ADMINI~1\\AppData\\Local\\Temp/ipykernel_15864/4208983644.py\u001b[0m in \u001b[0;36m<module>\u001b[1;34m\u001b[0m\n\u001b[1;32m----> 1\u001b[1;33m \u001b[0ma\u001b[0m\u001b[1;33m,\u001b[0m \u001b[0mb\u001b[0m \u001b[1;33m=\u001b[0m \u001b[0mt\u001b[0m\u001b[1;33m\u001b[0m\u001b[1;33m\u001b[0m\u001b[0m\n\u001b[0m\u001b[0;32m      2\u001b[0m \u001b[0ma\u001b[0m\u001b[1;33m,\u001b[0m \u001b[0mb\u001b[0m\u001b[1;33m\u001b[0m\u001b[1;33m\u001b[0m\u001b[0m\n",
      "\u001b[1;31mValueError\u001b[0m: too many values to unpack (expected 2)"
     ]
    }
   ],
   "source": [
    "a, b = t\n",
    "a, b"
   ]
  },
  {
   "cell_type": "code",
   "execution_count": 17,
   "metadata": {},
   "outputs": [
    {
     "ename": "ValueError",
     "evalue": "too many values to unpack (expected 3)",
     "output_type": "error",
     "traceback": [
      "\u001b[1;31m---------------------------------------------------------------------------\u001b[0m",
      "\u001b[1;31mValueError\u001b[0m                                Traceback (most recent call last)",
      "\u001b[1;32mC:\\Users\\ADMINI~1\\AppData\\Local\\Temp/ipykernel_15864/954300808.py\u001b[0m in \u001b[0;36m<module>\u001b[1;34m\u001b[0m\n\u001b[1;32m----> 1\u001b[1;33m \u001b[0ma\u001b[0m\u001b[1;33m,\u001b[0m \u001b[0mb\u001b[0m\u001b[1;33m,\u001b[0m \u001b[0mc\u001b[0m \u001b[1;33m=\u001b[0m \u001b[0mt\u001b[0m\u001b[1;33m\u001b[0m\u001b[1;33m\u001b[0m\u001b[0m\n\u001b[0m\u001b[0;32m      2\u001b[0m \u001b[0ma\u001b[0m\u001b[1;33m,\u001b[0m \u001b[0mb\u001b[0m\u001b[1;33m,\u001b[0m \u001b[0mc\u001b[0m\u001b[1;33m\u001b[0m\u001b[1;33m\u001b[0m\u001b[0m\n",
      "\u001b[1;31mValueError\u001b[0m: too many values to unpack (expected 3)"
     ]
    }
   ],
   "source": [
    "a, b, c = t\n",
    "a, b, c"
   ]
  },
  {
   "cell_type": "markdown",
   "metadata": {},
   "source": [
    "*Pack* 和 *unpack* 在 Python 中应用广泛，随处可见，下面是几个例子：\n",
    "\n",
    "* 我们在[介绍函数定义的一章](p2-1-function-def.ipynb)里介绍的 *arbitrary argument*  \n",
    "调用时传入的不定个数的值被打包进一个 *tuple*，在函数体中通常用 `for...in` 循环来遍历它。\n",
    "\n",
    "* 函数的多返回值  \n",
    "`return` 语句会把后面的多个返回值打包成一个 *tuple*，调用端用 `a, b = f(x)` 的语法其实就是 *unpack*。\n",
    "\n",
    "* [上一章](p2-8-list.ipynb)中介绍的 `enumerate(iter)` 函数返回的迭代器  \n",
    "里面每个元素都是一个 *tuple*，是迭代序号和 `iter` 里的元素配对组成的 *tuple*。"
   ]
  },
  {
   "cell_type": "code",
   "execution_count": 21,
   "metadata": {
    "scrolled": false
   },
   "outputs": [
    {
     "name": "stdout",
     "output_type": "stream",
     "text": [
      "<class 'tuple'>\n",
      "(0, 1)\n",
      "<class 'tuple'>\n",
      "(1, 24)\n",
      "<class 'tuple'>\n",
      "(2, 'hello')\n",
      "<class 'tuple'>\n",
      "(3, True)\n"
     ]
    }
   ],
   "source": [
    "for item in enumerate(t):\n",
    "    print(type(item))\n",
    "    print(item)"
   ]
  },
  {
   "cell_type": "markdown",
   "metadata": {},
   "source": [
    "另外一个 *tuple* 和 *list* 的差异是：*tuple* 可用作 *dictionary* 中的 *key*，而 *list* 不可以。我们下面讲 *dictionary* 的时候会举例说明。"
   ]
  },
  {
   "cell_type": "markdown",
   "metadata": {},
   "source": [
    "## Sets 集合"
   ]
  },
  {
   "cell_type": "markdown",
   "metadata": {},
   "source": [
    "集合（*set*）基本就是数学里集合的概念：\n",
    "* 集合里的元素没有顺序；\n",
    "* 集合里没有重复元素。\n",
    "\n",
    "Python 支持数学上集合的基本操作：判断一个集合是否包含某个元素（*belongs to*），两个集合之间的并集（*union*）、交集（*intersection*）、差集（*difference*）和对称差集（*symmetric difference*）。"
   ]
  },
  {
   "cell_type": "markdown",
   "metadata": {},
   "source": [
    "对称差集 symmetric difference\n",
    "\n",
    "集合 A 与集合 B 的对称差集（symmetric difference）包括属于集合 A 或 集合 B，但不同时属于 A 与 B 的元素。\n",
    "\n",
    "$$\n",
    "(A \\cup B) - (A \\cap B )\n",
    "$$"
   ]
  },
  {
   "cell_type": "markdown",
   "metadata": {},
   "source": [
    "### 创建集合和基本操作"
   ]
  },
  {
   "cell_type": "markdown",
   "metadata": {},
   "source": [
    "Python 中的集合是用花括号括起来的一组值，一般情况下是相同类型的值。如果我们创建集合时指定了重复的值，Python 解释器会自动去重："
   ]
  },
  {
   "cell_type": "code",
   "execution_count": 25,
   "metadata": {},
   "outputs": [
    {
     "data": {
      "text/plain": [
       "{'apple', 'banana', 'coconut', 'grapes', 'orange', 'pear', 'pineapple'}"
      ]
     },
     "execution_count": 25,
     "metadata": {},
     "output_type": "execute_result"
    }
   ],
   "source": [
    "# 请在这里输入代码\n",
    "fruits = {'apple', 'orange', 'apple', 'pear', 'orange', 'banana', 'coconut', 'pineapple', 'grapes'}\n",
    "fruits"
   ]
  },
  {
   "cell_type": "code",
   "execution_count": 26,
   "metadata": {},
   "outputs": [
    {
     "name": "stdout",
     "output_type": "stream",
     "text": [
      "{'pineapple', 'coconut', 'banana', 'apple', 'orange', 'pear', 'grapes'}\n"
     ]
    }
   ],
   "source": [
    "print(fruits)"
   ]
  },
  {
   "cell_type": "code",
   "execution_count": 27,
   "metadata": {},
   "outputs": [
    {
     "data": {
      "text/plain": [
       "set"
      ]
     },
     "execution_count": 27,
     "metadata": {},
     "output_type": "execute_result"
    }
   ],
   "source": [
    "# 请在这里输入代码\n",
    "type(fruits)"
   ]
  },
  {
   "cell_type": "markdown",
   "metadata": {},
   "source": [
    "操作符 `in` 用于判断某个元素是否属于某个集合："
   ]
  },
  {
   "cell_type": "code",
   "execution_count": 28,
   "metadata": {},
   "outputs": [
    {
     "data": {
      "text/plain": [
       "True"
      ]
     },
     "execution_count": 28,
     "metadata": {},
     "output_type": "execute_result"
    }
   ],
   "source": [
    "# 请在这里输入代码\n",
    "'orange' in fruits"
   ]
  },
  {
   "cell_type": "code",
   "execution_count": 29,
   "metadata": {},
   "outputs": [
    {
     "data": {
      "text/plain": [
       "True"
      ]
     },
     "execution_count": 29,
     "metadata": {},
     "output_type": "execute_result"
    }
   ],
   "source": [
    "# 请在这里输入代码\n",
    "'coconut' in fruits"
   ]
  },
  {
   "cell_type": "code",
   "execution_count": 30,
   "metadata": {},
   "outputs": [
    {
     "data": {
      "text/plain": [
       "False"
      ]
     },
     "execution_count": 30,
     "metadata": {},
     "output_type": "execute_result"
    }
   ],
   "source": [
    "'曹' in fruits"
   ]
  },
  {
   "cell_type": "markdown",
   "metadata": {},
   "source": [
    "集合创建后可以用 `add` `remove` 方法增加和删除元素："
   ]
  },
  {
   "cell_type": "code",
   "execution_count": 31,
   "metadata": {},
   "outputs": [
    {
     "data": {
      "text/plain": [
       "True"
      ]
     },
     "execution_count": 31,
     "metadata": {},
     "output_type": "execute_result"
    }
   ],
   "source": [
    "# 请在这里输入代码\n",
    "fruits.add('曹')\n",
    "'曹' in fruits"
   ]
  },
  {
   "cell_type": "code",
   "execution_count": 32,
   "metadata": {},
   "outputs": [
    {
     "data": {
      "text/plain": [
       "{'apple', 'banana', 'coconut', 'grapes', 'orange', 'pear', 'pineapple', '曹'}"
      ]
     },
     "execution_count": 32,
     "metadata": {},
     "output_type": "execute_result"
    }
   ],
   "source": [
    "fruits"
   ]
  },
  {
   "cell_type": "code",
   "execution_count": 33,
   "metadata": {},
   "outputs": [
    {
     "data": {
      "text/plain": [
       "True"
      ]
     },
     "execution_count": 33,
     "metadata": {},
     "output_type": "execute_result"
    }
   ],
   "source": [
    "# 请在这里输入代码\n",
    "'apple' in fruits"
   ]
  },
  {
   "cell_type": "code",
   "execution_count": 34,
   "metadata": {},
   "outputs": [
    {
     "data": {
      "text/plain": [
       "False"
      ]
     },
     "execution_count": 34,
     "metadata": {},
     "output_type": "execute_result"
    }
   ],
   "source": [
    "fruits.remove('apple')\n",
    "'apple' in fruits"
   ]
  },
  {
   "cell_type": "markdown",
   "metadata": {},
   "source": [
    "集合的元素不可重复的特点很适合用来表示分类、关键字之类的概念。集合的实现保证了 `in` 判断效率很高，对很大的集合都能快速给出结果。"
   ]
  },
  {
   "cell_type": "markdown",
   "metadata": {},
   "source": [
    "和 *list* 类似，Python 也提供了一个 `set()` 函数来把字符串、其他数据容器和任何 *iterable* 转换为集合，比如："
   ]
  },
  {
   "cell_type": "code",
   "execution_count": 35,
   "metadata": {},
   "outputs": [
    {
     "data": {
      "text/plain": [
       "{'a', 'b', 'c', 'd', 'r'}"
      ]
     },
     "execution_count": 35,
     "metadata": {},
     "output_type": "execute_result"
    }
   ],
   "source": [
    "# 请在这里输入代码\n",
    "a = set('abracadabra')\n",
    "a"
   ]
  },
  {
   "cell_type": "code",
   "execution_count": 36,
   "metadata": {},
   "outputs": [
    {
     "data": {
      "text/plain": [
       "{'a', 'c', 'l', 'm', 'z'}"
      ]
     },
     "execution_count": 36,
     "metadata": {},
     "output_type": "execute_result"
    }
   ],
   "source": [
    "b = set('alacazam')\n",
    "b"
   ]
  },
  {
   "cell_type": "markdown",
   "metadata": {},
   "source": [
    "集合之间可以进行并集（*union*）、交集（*intersection*）、差集（*difference*）和对称差集（*symmetric difference*）四种运算。"
   ]
  },
  {
   "cell_type": "code",
   "execution_count": 38,
   "metadata": {},
   "outputs": [
    {
     "data": {
      "text/plain": [
       "{'a', 'b', 'c', 'd', 'l', 'm', 'r', 'z'}"
      ]
     },
     "execution_count": 38,
     "metadata": {},
     "output_type": "execute_result"
    }
   ],
   "source": [
    "# 请在这里输入代码\n",
    "a | b  # 并集"
   ]
  },
  {
   "cell_type": "code",
   "execution_count": 39,
   "metadata": {},
   "outputs": [
    {
     "data": {
      "text/plain": [
       "{'a', 'c'}"
      ]
     },
     "execution_count": 39,
     "metadata": {},
     "output_type": "execute_result"
    }
   ],
   "source": [
    "# 请在这里输入代码\n",
    "a & b  # 交集"
   ]
  },
  {
   "cell_type": "code",
   "execution_count": 40,
   "metadata": {},
   "outputs": [
    {
     "data": {
      "text/plain": [
       "{'b', 'd', 'r'}"
      ]
     },
     "execution_count": 40,
     "metadata": {},
     "output_type": "execute_result"
    }
   ],
   "source": [
    "# 请在这里输入代码\n",
    "a - b  # 差集"
   ]
  },
  {
   "cell_type": "code",
   "execution_count": 42,
   "metadata": {},
   "outputs": [
    {
     "data": {
      "text/plain": [
       "{'b', 'd', 'l', 'm', 'r', 'z'}"
      ]
     },
     "execution_count": 42,
     "metadata": {},
     "output_type": "execute_result"
    }
   ],
   "source": [
    "# 请在这里输入代码\n",
    "a ^ b  # 对称差集"
   ]
  },
  {
   "cell_type": "code",
   "execution_count": 43,
   "metadata": {},
   "outputs": [
    {
     "data": {
      "text/plain": [
       "{'b', 'd', 'r'}"
      ]
     },
     "execution_count": 43,
     "metadata": {},
     "output_type": "execute_result"
    }
   ],
   "source": [
    "# 请在这里输入代码\n",
    "a - (a & b)"
   ]
  },
  {
   "cell_type": "code",
   "execution_count": 44,
   "metadata": {},
   "outputs": [
    {
     "data": {
      "text/plain": [
       "{'b', 'd', 'l', 'm', 'r', 'z'}"
      ]
     },
     "execution_count": 44,
     "metadata": {},
     "output_type": "execute_result"
    }
   ],
   "source": [
    "# 请在这里输入代码\n",
    "(a | b) - (a & b)"
   ]
  },
  {
   "cell_type": "markdown",
   "metadata": {},
   "source": [
    "### 集合的遍历"
   ]
  },
  {
   "cell_type": "markdown",
   "metadata": {},
   "source": [
    "集合也是 *iterable*，所以和 *list* 类似，集合的遍历也有 for-in 循环和 *set comprehension* 两种方式。"
   ]
  },
  {
   "cell_type": "code",
   "execution_count": 46,
   "metadata": {},
   "outputs": [
    {
     "name": "stdout",
     "output_type": "stream",
     "text": [
      "#0: pineapple\n",
      "#1: coconut\n",
      "#2: banana\n",
      "#3: orange\n",
      "#4: pear\n",
      "#5: 曹\n",
      "#6: grapes\n"
     ]
    }
   ],
   "source": [
    "# 请在这里输入代码\n",
    "for index, fruit in enumerate(fruits):\n",
    "    print(f'#{index}: {fruit}')"
   ]
  },
  {
   "cell_type": "code",
   "execution_count": 48,
   "metadata": {},
   "outputs": [
    {
     "data": {
      "text/plain": [
       "{'d', 'r'}"
      ]
     },
     "execution_count": 48,
     "metadata": {},
     "output_type": "execute_result"
    }
   ],
   "source": [
    "# 请在这里输入代码\n",
    "a = {x for x in 'abracadabra' if x not in 'abc'}\n",
    "a"
   ]
  },
  {
   "cell_type": "markdown",
   "metadata": {
    "toc-hr-collapsed": false
   },
   "source": [
    "## Dictionaries 字典"
   ]
  },
  {
   "cell_type": "markdown",
   "metadata": {},
   "source": [
    "Python 里的字典（*dictionary*），也叫“哈希表（*hashmap*）”，是另一种常见数据容器，其特征为：\n",
    "* 其中每个元素都是一个 key-value 对，就是一个值（*value*）和它的名字（*key*）；可以通过 key 来快速定位一个元素；\n",
    "* 元素排列没有顺序，甚至没有“排列”的概念，可以看做是“散落”的，我们做的操作都是通过 *key* 来进行的。\n",
    "\n",
    "> *Dictionary* 的实际类型叫 `dict`，所以下面我们也会直接用 *dict*。"
   ]
  },
  {
   "cell_type": "markdown",
   "metadata": {},
   "source": [
    "### 创建字典和读写元素"
   ]
  },
  {
   "cell_type": "markdown",
   "metadata": {},
   "source": [
    "Python 中的字典是花括号括起来的 key-value 对，每个 key-value 对写作 `key: value`："
   ]
  },
  {
   "cell_type": "code",
   "execution_count": 49,
   "metadata": {},
   "outputs": [
    {
     "name": "stdout",
     "output_type": "stream",
     "text": [
      "{'cat': 'cute', 'dog': 'furry'}\n"
     ]
    }
   ],
   "source": [
    "# 请在这里输入代码\n",
    "pets = {'cat': 'cute', 'dog': 'furry'}\n",
    "print(pets)"
   ]
  },
  {
   "cell_type": "code",
   "execution_count": 50,
   "metadata": {},
   "outputs": [
    {
     "data": {
      "text/plain": [
       "dict"
      ]
     },
     "execution_count": 50,
     "metadata": {},
     "output_type": "execute_result"
    }
   ],
   "source": [
    "# 请在这里输入代码\n",
    "type(pets)"
   ]
  },
  {
   "cell_type": "markdown",
   "metadata": {},
   "source": [
    "某种意义上我们可以把 key 看做是 *dict* 的“下标”，我们可以通过 key 来访问对应的值，也可以用 `in` 关键字来判断某个 key 是不是存在于 *dict* 中。"
   ]
  },
  {
   "cell_type": "code",
   "execution_count": 51,
   "metadata": {},
   "outputs": [],
   "source": [
    "# 请在这里输入代码\n",
    "def find_pet(name):\n",
    "    if name in pets:\n",
    "        print(pets[name])\n",
    "    else:\n",
    "        print(f'没找到宠物{name}的信息')"
   ]
  },
  {
   "cell_type": "code",
   "execution_count": 52,
   "metadata": {},
   "outputs": [
    {
     "name": "stdout",
     "output_type": "stream",
     "text": [
      "cute\n"
     ]
    }
   ],
   "source": [
    "find_pet('cat')"
   ]
  },
  {
   "cell_type": "code",
   "execution_count": 57,
   "metadata": {},
   "outputs": [
    {
     "name": "stdout",
     "output_type": "stream",
     "text": [
      "没找到宠物turtle的信息\n"
     ]
    }
   ],
   "source": [
    "find_pet('turtle')"
   ]
  },
  {
   "cell_type": "code",
   "execution_count": 54,
   "metadata": {},
   "outputs": [
    {
     "name": "stdout",
     "output_type": "stream",
     "text": [
      "没找到宠物cute的信息\n"
     ]
    }
   ],
   "source": [
    "find_pet('cute')"
   ]
  },
  {
   "cell_type": "markdown",
   "metadata": {},
   "source": [
    "# 我们可以用赋值语句直接给某个 *key* 指定 *value*：\n",
    "* 如果这个 *key* 原来不存在，这个 *key-value* 对会被添加进 *dict*；\n",
    "* 如果这个 *key* 原来就在 *dict* 中，则会修改对应的 *value*。\n",
    "\n",
    "如下例："
   ]
  },
  {
   "cell_type": "code",
   "execution_count": 58,
   "metadata": {},
   "outputs": [
    {
     "name": "stdout",
     "output_type": "stream",
     "text": [
      "没找到宠物fish的信息\n",
      "wet\n"
     ]
    }
   ],
   "source": [
    "# 请在这里输入代码\n",
    "find_pet('fish')\n",
    "pets['fish'] = 'wet'\n",
    "find_pet('fish')"
   ]
  },
  {
   "cell_type": "code",
   "execution_count": 59,
   "metadata": {},
   "outputs": [
    {
     "name": "stdout",
     "output_type": "stream",
     "text": [
      "furry\n",
      "brave\n"
     ]
    }
   ],
   "source": [
    "find_pet('dog')\n",
    "pets['dog'] = 'brave'\n",
    "find_pet('dog')"
   ]
  },
  {
   "cell_type": "code",
   "execution_count": 60,
   "metadata": {},
   "outputs": [
    {
     "data": {
      "text/plain": [
       "{'cat': 'cute', 'dog': 'brave', 'fish': 'wet'}"
      ]
     },
     "execution_count": 60,
     "metadata": {},
     "output_type": "execute_result"
    }
   ],
   "source": [
    "pets"
   ]
  },
  {
   "cell_type": "markdown",
   "metadata": {},
   "source": [
    "如果要读取一个不存在的 *key* 对应的值，会遇到 *KeyError* 运行异常。所以为了安全的获取 *dict* 中的元素，Python 提供了 `get()` 方法，这个方法需要两个参数，第一个是 `key`，第二个是“缺省值”，也就是如果 `key` 不存在时就会返回缺省值，而不会抛出异常："
   ]
  },
  {
   "cell_type": "code",
   "execution_count": 61,
   "metadata": {},
   "outputs": [
    {
     "ename": "KeyError",
     "evalue": "'monkey'",
     "output_type": "error",
     "traceback": [
      "\u001b[1;31m---------------------------------------------------------------------------\u001b[0m",
      "\u001b[1;31mKeyError\u001b[0m                                  Traceback (most recent call last)",
      "\u001b[1;32mC:\\Users\\ADMINI~1\\AppData\\Local\\Temp/ipykernel_15864/3973666885.py\u001b[0m in \u001b[0;36m<module>\u001b[1;34m\u001b[0m\n\u001b[0;32m      1\u001b[0m \u001b[1;31m# 请在这里输入代码\u001b[0m\u001b[1;33m\u001b[0m\u001b[1;33m\u001b[0m\u001b[1;33m\u001b[0m\u001b[0m\n\u001b[1;32m----> 2\u001b[1;33m \u001b[0mpets\u001b[0m\u001b[1;33m[\u001b[0m\u001b[1;34m'monkey'\u001b[0m\u001b[1;33m]\u001b[0m\u001b[1;33m\u001b[0m\u001b[1;33m\u001b[0m\u001b[0m\n\u001b[0m",
      "\u001b[1;31mKeyError\u001b[0m: 'monkey'"
     ]
    }
   ],
   "source": [
    "# 请在这里输入代码\n",
    "pets['monkey']"
   ]
  },
  {
   "cell_type": "code",
   "execution_count": 62,
   "metadata": {},
   "outputs": [
    {
     "data": {
      "text/plain": [
       "'N/A'"
      ]
     },
     "execution_count": 62,
     "metadata": {},
     "output_type": "execute_result"
    }
   ],
   "source": [
    "pets.get('monkey', 'N/A')"
   ]
  },
  {
   "cell_type": "code",
   "execution_count": 63,
   "metadata": {},
   "outputs": [
    {
     "data": {
      "text/plain": [
       "'wet'"
      ]
     },
     "execution_count": 63,
     "metadata": {},
     "output_type": "execute_result"
    }
   ],
   "source": [
    "pets.get('fish', 'N/A')"
   ]
  },
  {
   "cell_type": "markdown",
   "metadata": {},
   "source": [
    "可以用 `del` 语句类删除 `dict` 中的元素："
   ]
  },
  {
   "cell_type": "code",
   "execution_count": 64,
   "metadata": {},
   "outputs": [
    {
     "name": "stdout",
     "output_type": "stream",
     "text": [
      "没找到宠物fish的信息\n"
     ]
    }
   ],
   "source": [
    "# 请在这里输入代码\n",
    "if 'fish' in pets:\n",
    "    del pets['fish']\n",
    "    \n",
    "find_pet('fish')"
   ]
  },
  {
   "cell_type": "markdown",
   "metadata": {},
   "source": [
    "### 字典的遍历"
   ]
  },
  {
   "cell_type": "markdown",
   "metadata": {},
   "source": [
    "正如我们前面说过的 *dict* 也是 *iterable*，所以也可以用 `for...in` 和 *dict comprehension* 来遍历。\n",
    "\n",
    "由于 *dict* 的元素是 key-value 对，所以 `for...in` 也提供了两种形式：只遍历 *key* 和遍历 *key-value* 对："
   ]
  },
  {
   "cell_type": "code",
   "execution_count": 66,
   "metadata": {},
   "outputs": [],
   "source": [
    "# 请在这里输入代码\n",
    "d = {'person': 2, 'cat': 4, 'spider': 8}"
   ]
  },
  {
   "cell_type": "code",
   "execution_count": 67,
   "metadata": {},
   "outputs": [
    {
     "name": "stdout",
     "output_type": "stream",
     "text": [
      "A person has 2 legs\n",
      "A cat has 4 legs\n",
      "A spider has 8 legs\n"
     ]
    }
   ],
   "source": [
    "# 请在这里输入代码\n",
    "for animal in d:\n",
    "    legs = d[animal]\n",
    "    print(f'A {animal} has {legs} legs')"
   ]
  },
  {
   "cell_type": "code",
   "execution_count": 68,
   "metadata": {},
   "outputs": [
    {
     "name": "stdout",
     "output_type": "stream",
     "text": [
      "A person has 2 legs.\n",
      "A cat has 4 legs.\n",
      "A spider has 8 legs.\n"
     ]
    }
   ],
   "source": [
    "# 请在这里输入代码\n",
    "for animal, legs in d.items():\n",
    "    print(f'A {animal} has {legs} legs.')"
   ]
  },
  {
   "cell_type": "code",
   "execution_count": 69,
   "metadata": {},
   "outputs": [
    {
     "name": "stdout",
     "output_type": "stream",
     "text": [
      "person\n",
      "cat\n",
      "spider\n"
     ]
    }
   ],
   "source": [
    "for animal in d.keys():\n",
    "    print(animal)"
   ]
  },
  {
   "cell_type": "code",
   "execution_count": 70,
   "metadata": {},
   "outputs": [
    {
     "name": "stdout",
     "output_type": "stream",
     "text": [
      "2\n",
      "4\n",
      "8\n"
     ]
    }
   ],
   "source": [
    "for legs in d.values():\n",
    "    print(legs)"
   ]
  },
  {
   "cell_type": "markdown",
   "metadata": {},
   "source": [
    "`dict` 类的 `items()` 方法返回一个列表，里面每个元素是一个 *tuple*，*tuple* 里面是两个元素，对应 *dict* 中的 *key-value* 对。所以上面第二个 `for...in` 语句可以针对 `animal`（*key*）和 `legs`（*value*）两个循环变量进行遍历。"
   ]
  },
  {
   "cell_type": "markdown",
   "metadata": {},
   "source": [
    "*Dict comprehension* 的形式和其他容器也差不多，我们甚至也可以从一个 *list* 出发构造出一个 *dict*："
   ]
  },
  {
   "cell_type": "code",
   "execution_count": 71,
   "metadata": {},
   "outputs": [
    {
     "data": {
      "text/plain": [
       "dict_items([('person', 2), ('cat', 4), ('spider', 8)])"
      ]
     },
     "execution_count": 71,
     "metadata": {},
     "output_type": "execute_result"
    }
   ],
   "source": [
    "d.items()"
   ]
  },
  {
   "cell_type": "code",
   "execution_count": 73,
   "metadata": {},
   "outputs": [
    {
     "data": {
      "text/plain": [
       "{0: 0, 2: 4, 4: 16}"
      ]
     },
     "execution_count": 73,
     "metadata": {},
     "output_type": "execute_result"
    }
   ],
   "source": [
    "# 请在这里输入代码\n",
    "nums = [0, 1, 2, 3, 4]\n",
    "even_num_to_square = {x: x**2 for x in nums if x % 2 == 0}\n",
    "even_num_to_square"
   ]
  },
  {
   "cell_type": "markdown",
   "metadata": {},
   "source": [
    "### Dict 和 Tuple"
   ]
  },
  {
   "cell_type": "markdown",
   "metadata": {},
   "source": [
    "*Dict* 和 *tuple* 是一对好搭档，经常配合使用。"
   ]
  },
  {
   "cell_type": "markdown",
   "metadata": {},
   "source": [
    "有一个很常见的设计是这样的：从某些数据源（比如调用某个函数）得到两个有关联的返回值，比如某个人的 id 及其电子邮件地址：\n",
    "\n",
    "```python\n",
    "def get_next_id_and_email():\n",
    "    # 访问在线服务接口或者数据库\n",
    "    # 然后返回获得的用户 id 及 email，注意下面的写法，逗号隔开的两个值，这其实是一个 tuple\n",
    "    return id, email\n",
    "\n",
    "# 可以多次调用上面的函数，得到很多包含 id 和 email 的 tuple，我们将这些 tuple 都加入一个 list\n",
    "while has_more_ids:\n",
    "    t = get_next_id_and_email()\n",
    "    all_ids_and_emails.append(t)\n",
    "    \n",
    "# 最终 all_ids_and_emails 会是这样的内容：[('neo', 'neo@zion.org.net'), ('trinity', 'trinity@zion.org'), ...]\n",
    "# 然后我们就可以用 dict() 函数将这个 list 转换成 dict\n",
    "dict(all_ids_and_emails) # => {'neo': 'neo@zion.org', 'trinity': 'trinity@zion.org'), ...}\n",
    "```\n",
    "\n",
    "上面的伪代码是一种“设计模式（*design pattern*）”，可以应用在很多场景下，其基本逻辑是：\n",
    "1. 把 key 和 value 这一对变量 `pack` 成 `tuple`；\n",
    "2. 把同类的 `tuple` 放进一个 `list`；\n",
    "3. 用 `dict()` 函数将 `list` 转换为 `dict`；\n",
    "4. 通过 key 可以很方便高效地在 `dict` 中查出对应的 value。"
   ]
  },
  {
   "cell_type": "markdown",
   "metadata": {},
   "source": [
    "另外，因为 ***dict* 的 *key* 必须是 *immutable***，所以 *tuple* 可用作 *dict* 中的 *key*，而 *list* 不可以。\n",
    "\n",
    "举个例子。假定我们想统计学生们参加体育活动的次数，我们可以用 `(学生名，体育项目)` 作 key，而对应的参加次数作为 value，那么这个 *dict* 大致就是这样的：\n",
    "\n",
    "```python\n",
    "{('张三', '足球'): 3, ('张三', '羽毛球'): 1, ('李四', '足球'): 1, ('王五', '羽毛球'): 2, ('王五', '游泳'): 4, ...}\n",
    "```\n",
    "\n",
    "这里把 `('张三', '足球')` 换成列表 `['张三', '足球']` 是不可以的。"
   ]
  },
  {
   "cell_type": "markdown",
   "metadata": {},
   "source": [
    "### Dict 与排序"
   ]
  },
  {
   "cell_type": "markdown",
   "metadata": {},
   "source": [
    "*Dict* 和 *list* *tuple* 不一样，其元素没有“顺序”的概念，但是对其元素按照某种规则排序这个需求还是经常有的，这时候我们的做法是：按照规则排序，但结果输出为一个 *list*，这样才能有顺序的概念嘛。"
   ]
  },
  {
   "cell_type": "markdown",
   "metadata": {},
   "source": [
    "假定我们有一个 *dict* 里面装着几种水果的价钱："
   ]
  },
  {
   "cell_type": "code",
   "execution_count": 74,
   "metadata": {},
   "outputs": [],
   "source": [
    "# 请在这里输入代码\n",
    "prices = {'apple': 1.99, 'banana': 0.99, 'orange': 1.49, 'cantaloupe': 3.99, 'grapes': 0.39}"
   ]
  },
  {
   "cell_type": "markdown",
   "metadata": {},
   "source": [
    "如果我们要按照 *key* 来排序："
   ]
  },
  {
   "cell_type": "code",
   "execution_count": 75,
   "metadata": {},
   "outputs": [
    {
     "data": {
      "text/plain": [
       "[('apple', 1.99),\n",
       " ('banana', 0.99),\n",
       " ('cantaloupe', 3.99),\n",
       " ('grapes', 0.39),\n",
       " ('orange', 1.49)]"
      ]
     },
     "execution_count": 75,
     "metadata": {},
     "output_type": "execute_result"
    }
   ],
   "source": [
    "# 请在这里输入代码\n",
    "sorted(prices.items())"
   ]
  },
  {
   "cell_type": "code",
   "execution_count": 76,
   "metadata": {},
   "outputs": [
    {
     "name": "stdout",
     "output_type": "stream",
     "text": [
      "[('apple', 1.99), ('banana', 0.99), ('cantaloupe', 3.99), ('grapes', 0.39), ('orange', 1.49)]\n"
     ]
    }
   ],
   "source": [
    "print(sorted(prices.items()))"
   ]
  },
  {
   "cell_type": "markdown",
   "metadata": {},
   "source": [
    "因为 `dict` 类本身没有顺序概念，也不提供 `sort()` 方法，所以这里我们用了内置函数 `sorted()`，这个函数和上一章我们介绍的 `list` 类的 `sort()` 方法几乎一样。\n",
    "\n",
    "另外我们这里用 *dict* 的 `items()` 方法来把 *dict* 转换成了一个 *list*（在前面 **字典的遍历** 一节介绍过），然后直接排序就可以。\n",
    "\n",
    "> 为什么这里直接排序就可以呢？因为：\n",
    "> * *dict* 的 `items()` 输出的 *list* 里每个元素都是 *tuple*；\n",
    "> * *tuple* 里面两个值，第一个对应 *dict* 中的 *key*，第二个对应 *value*；\n",
    "> * 在排序时比较两个 *tuple* 的大小，就是比较其第一个值的大小，即比较 *key* 的大小。\n",
    "> \n",
    "> 你可以试试写几行代码来验证上面这几条事实。"
   ]
  },
  {
   "cell_type": "markdown",
   "metadata": {},
   "source": [
    "如果我们要按照 *value* 来排序，那么就需要在比较上述 *tuple* 时不要比较 *tuple* 的第一个值（*key*），而是比较第二个值（*value*）："
   ]
  },
  {
   "cell_type": "code",
   "execution_count": 77,
   "metadata": {},
   "outputs": [
    {
     "data": {
      "text/plain": [
       "[('grapes', 0.39),\n",
       " ('banana', 0.99),\n",
       " ('orange', 1.49),\n",
       " ('apple', 1.99),\n",
       " ('cantaloupe', 3.99)]"
      ]
     },
     "execution_count": 77,
     "metadata": {},
     "output_type": "execute_result"
    }
   ],
   "source": [
    "# 请在这里输入代码\n",
    "sorted(prices.items(), key=lambda x:x[1])"
   ]
  },
  {
   "cell_type": "markdown",
   "metadata": {},
   "source": [
    "这次我们指定的 `key` 函数是一个匿名函数，用于在比较两个 *tuple*（`lambda` 表达式中的 `x`）时以其第二个值（`lambda` 表达式中的 `x[1]`）为准。"
   ]
  },
  {
   "cell_type": "markdown",
   "metadata": {},
   "source": [
    "当然我们也可以指定逆序排列，只要在 `sorted()` 函数调用时指定 `reverse=True` 即可："
   ]
  },
  {
   "cell_type": "code",
   "execution_count": 78,
   "metadata": {},
   "outputs": [
    {
     "data": {
      "text/plain": [
       "[('cantaloupe', 3.99),\n",
       " ('apple', 1.99),\n",
       " ('orange', 1.49),\n",
       " ('banana', 0.99),\n",
       " ('grapes', 0.39)]"
      ]
     },
     "execution_count": 78,
     "metadata": {},
     "output_type": "execute_result"
    }
   ],
   "source": [
    "# 请在这里输入代码\n",
    "sorted(prices.items(), key=lambda x:x[1], reverse=True)"
   ]
  },
  {
   "cell_type": "markdown",
   "metadata": {},
   "source": [
    "这样我们就可以对 *dict* 进行排序并把结果输出为一个列表，里面用一个个 *tuple* 来表示 *dict* 中的 *key-value* 对。\n",
    "\n",
    "那么作为一个复习题，请你思考：假定有一个 *list*，里面每个元素都是一个 *dict*，可以怎么对其进行排序呢？"
   ]
  },
  {
   "cell_type": "markdown",
   "metadata": {},
   "source": [
    "比如说，我们的系统里每个用户都有姓名、年龄、身高等信息，每个人的信息存放在类似这样的一个 *dict* 中："
   ]
  },
  {
   "cell_type": "code",
   "execution_count": 80,
   "metadata": {},
   "outputs": [],
   "source": [
    "# 请在这里输入代码\n",
    "person1 = {'name': 'Neo', 'age': 30, 'height': 175}\n",
    "person2 = {'name': 'Trinity', 'age': 29, 'height': 169}\n",
    "person3 = {'name': 'Morpheus', 'age': 43, 'height': 180}"
   ]
  },
  {
   "cell_type": "markdown",
   "metadata": {},
   "source": [
    "然后我们把所有用户的信息放在一个列表中："
   ]
  },
  {
   "cell_type": "code",
   "execution_count": 81,
   "metadata": {},
   "outputs": [],
   "source": [
    "# 请在这里输入代码\n",
    "data = [person1, person2, person3]"
   ]
  },
  {
   "cell_type": "markdown",
   "metadata": {},
   "source": [
    "我们可以按照姓名来排序："
   ]
  },
  {
   "cell_type": "code",
   "execution_count": 83,
   "metadata": {},
   "outputs": [
    {
     "data": {
      "text/plain": [
       "[{'name': 'Morpheus', 'age': 43, 'height': 180},\n",
       " {'name': 'Neo', 'age': 30, 'height': 175},\n",
       " {'name': 'Trinity', 'age': 29, 'height': 169}]"
      ]
     },
     "execution_count": 83,
     "metadata": {},
     "output_type": "execute_result"
    }
   ],
   "source": [
    "# 请在这里输入代码\n",
    "data.sort(key=lambda x: x['name'])\n",
    "data"
   ]
  },
  {
   "cell_type": "markdown",
   "metadata": {},
   "source": [
    "也可以按照年龄排序："
   ]
  },
  {
   "cell_type": "code",
   "execution_count": 84,
   "metadata": {},
   "outputs": [
    {
     "data": {
      "text/plain": [
       "[{'name': 'Trinity', 'age': 29, 'height': 169},\n",
       " {'name': 'Neo', 'age': 30, 'height': 175},\n",
       " {'name': 'Morpheus', 'age': 43, 'height': 180}]"
      ]
     },
     "execution_count": 84,
     "metadata": {},
     "output_type": "execute_result"
    }
   ],
   "source": [
    "# 请在这里输入代码\n",
    "data.sort(key=lambda x: x['age'])\n",
    "data"
   ]
  },
  {
   "cell_type": "markdown",
   "metadata": {},
   "source": [
    "还可以按照身高，逆序排序（从高到低）："
   ]
  },
  {
   "cell_type": "code",
   "execution_count": 85,
   "metadata": {},
   "outputs": [
    {
     "data": {
      "text/plain": [
       "[{'name': 'Morpheus', 'age': 43, 'height': 180},\n",
       " {'name': 'Neo', 'age': 30, 'height': 175},\n",
       " {'name': 'Trinity', 'age': 29, 'height': 169}]"
      ]
     },
     "execution_count": 85,
     "metadata": {},
     "output_type": "execute_result"
    }
   ],
   "source": [
    "# 请在这里输入代码\n",
    "data.sort(key=lambda x: x['height'], reverse=True)\n",
    "data"
   ]
  },
  {
   "cell_type": "markdown",
   "metadata": {},
   "source": [
    "这种情况颇为常见，叫做“按照对象的某个属性排序”，有时候我们用 *dict* 来表示一个对象，有时候用自定义类的实例来表示，都可以用上面这样的方法来排序。"
   ]
  },
  {
   "cell_type": "markdown",
   "metadata": {},
   "source": [
    "## 小结"
   ]
  },
  {
   "cell_type": "markdown",
   "metadata": {},
   "source": [
    "在系统学习了 *iterable* 和 *list* 的基础上，这一章介绍了其余三个数据容器：**元组**（*tuple*）、**集合**（*set*）和**字典**（*dict*）的独特性及各自的应用场景。\n",
    "* *Tuple* 是元素不可更改（*immutable*）的有序容器，广泛用于打包和解包（比如调用函数时的参数和返回值）；\n",
    "* *Set* 是元素具有不重复性的无序容器，可以进行各种集合的操作；\n",
    "* *Dict* 是带有名字（*key*）的值（*value*）的无序容器，有一些比较独特的用法。\n",
    "\n",
    "上一章和这一章介绍的四种数据容器都是非常常用的，所以请你务必要把这两章的内容扎实的读懂、搞清，对所有的例子极其背后的原理充分理解和熟悉。"
   ]
  }
 ],
 "metadata": {
  "kernelspec": {
   "display_name": "Python 3 (ipykernel)",
   "language": "python",
   "name": "python3"
  },
  "language_info": {
   "codemirror_mode": {
    "name": "ipython",
    "version": 3
   },
   "file_extension": ".py",
   "mimetype": "text/x-python",
   "name": "python",
   "nbconvert_exporter": "python",
   "pygments_lexer": "ipython3",
   "version": "3.9.5"
  },
  "toc": {
   "base_numbering": 1,
   "nav_menu": {},
   "number_sections": true,
   "sideBar": true,
   "skip_h1_title": false,
   "title_cell": "Table of Contents",
   "title_sidebar": "Contents",
   "toc_cell": false,
   "toc_position": {},
   "toc_section_display": true,
   "toc_window_display": false
  }
 },
 "nbformat": 4,
 "nbformat_minor": 4
}
