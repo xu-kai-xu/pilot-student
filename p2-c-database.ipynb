{
 "cells": [
  {
   "cell_type": "markdown",
   "metadata": {},
   "source": [
    "# 数据和数据库"
   ]
  },
  {
   "cell_type": "markdown",
   "metadata": {},
   "source": [
    "到目前为止我们学习的“数据”都是程序里处理的数据，也就是在内存中的数据，这一章我们要介绍“持久化”也就是把数据永久保存下来的技术，包括数据文件和数据库服务。这一章的内容颇多，有些内容也不是一下就能理解的，所以也是需要反复学习的一章，尤其是在实践中需要应用时可以再次回来温习。"
   ]
  },
  {
   "cell_type": "markdown",
   "metadata": {},
   "source": [
    "## 程序内的数据"
   ]
  },
  {
   "cell_type": "markdown",
   "metadata": {},
   "source": [
    "所谓数据，就是计算机记录下来的“事实（*facts*）”。计算机程序处理的任何事实都是数据，比如我们最经常碰到的“用户数据”："
   ]
  },
  {
   "cell_type": "code",
   "execution_count": 1,
   "metadata": {},
   "outputs": [],
   "source": [
    "# 请在这里输入代码\n",
    "user = {\n",
    "    'uid': 1,\n",
    "    'name': 'Neo',\n",
    "    'password': 'adjflajlsklanfndf',\n",
    "    'email': 'leeyy@loveyou.com',\n",
    "    'mobile': '5211314'\n",
    "}"
   ]
  },
  {
   "cell_type": "markdown",
   "metadata": {},
   "source": [
    "这就是典型的数据，属于一个人的各种属性，数据类型各不相同，但都是关于这个人的。这里我们用了 Python 里的 *dict* 来记录这些数据，还有很多别的办法，比如用一个类和对象也可以："
   ]
  },
  {
   "cell_type": "code",
   "execution_count": 13,
   "metadata": {},
   "outputs": [
    {
     "data": {
      "text/plain": [
       "'339c42a45ff911ee394e75fda070818918d077dfa379f100f1ed9b474806a5ba'"
      ]
     },
     "execution_count": 13,
     "metadata": {},
     "output_type": "execute_result"
    }
   ],
   "source": [
    "# 请在这里输入代码\n",
    "import hashlib\n",
    "\n",
    "def salt_and_hash(password):\n",
    "    h256 = hashlib.sha256(password.encode('utf-8')).hexdigest()\n",
    "    return h256\n",
    "\n",
    "class User:\n",
    "    def __init__(self, uid, name, password, email, mobile):\n",
    "        self.uid = uid\n",
    "        self.name = name\n",
    "        self.password = salt_and_hash(password)\n",
    "        self.email = email\n",
    "        self.mobile = mobile\n",
    "        \n",
    "user = User(1, 'leeyy', 'leeyy0711', 'leeyy@loveyou.com', '5211314')\n",
    "user.password"
   ]
  },
  {
   "cell_type": "code",
   "execution_count": 14,
   "metadata": {},
   "outputs": [
    {
     "data": {
      "text/plain": [
       "'leeyy@loveyou.com'"
      ]
     },
     "execution_count": 14,
     "metadata": {},
     "output_type": "execute_result"
    }
   ],
   "source": [
    "user.email"
   ]
  },
  {
   "cell_type": "markdown",
   "metadata": {},
   "source": [
    "我们在现实世界很少只面对一个对象，我们编写程序通常是为了处理不确定数量的一类对象。假设我们有 N 个用户，每个用户都对应一个上面这样的 *User* 类型的对象，我们可以把这 N 个对象放进一个 *list*，假定我们要打印出所有用户的用户名和 Email，只要这样："
   ]
  },
  {
   "cell_type": "code",
   "execution_count": 127,
   "metadata": {},
   "outputs": [
    {
     "name": "stdout",
     "output_type": "stream",
     "text": [
      "uid=1: name=leeyy, email=leeyy@love.com\n",
      "uid=2: name=Neo, email=neo@love.com\n",
      "uid=3: name=xuk, email=xukk@love.com\n"
     ]
    }
   ],
   "source": [
    "# 请在这里输入代码\n",
    "users = []\n",
    "users.append(User(1, 'leeyy', 'therdafsd', 'leeyy@love.com', '365'))\n",
    "users.append(User(2, 'Neo', 'therdafsd', 'neo@love.com', '335235345'))\n",
    "users.append(User(3, 'xuk', 'xukkkkkkkkk', 'xukk@love.com', '111111'))\n",
    "\n",
    "for user in users:\n",
    "    print(f\"uid={user.uid}: name={user.name}, email={user.email}\")"
   ]
  },
  {
   "cell_type": "markdown",
   "metadata": {},
   "source": [
    "如果我们还可以对这些数据进行各种各样的读写操作："
   ]
  },
  {
   "cell_type": "code",
   "execution_count": 128,
   "metadata": {},
   "outputs": [
    {
     "name": "stdout",
     "output_type": "stream",
     "text": [
      "111111\n"
     ]
    }
   ],
   "source": [
    "# 请在这里输入代码\n",
    "for user in users:\n",
    "    if user.name == 'xuk':\n",
    "        print(user.mobile)"
   ]
  },
  {
   "cell_type": "code",
   "execution_count": 129,
   "metadata": {},
   "outputs": [],
   "source": [
    "# 请在这里输入代码\n",
    "for user in users:\n",
    "    if user.name == 'xuk':\n",
    "        user.mobile = '222222222222222'"
   ]
  },
  {
   "cell_type": "code",
   "execution_count": 130,
   "metadata": {},
   "outputs": [],
   "source": [
    "# 请在这里输入代码\n",
    "users.append(User(4, 'yanbbbbbbbb', 'miao', 'yan@love.com', '0824'))"
   ]
  },
  {
   "cell_type": "code",
   "execution_count": 131,
   "metadata": {},
   "outputs": [
    {
     "name": "stdout",
     "output_type": "stream",
     "text": [
      "leeyy\n",
      "Neo\n",
      "xuk\n",
      "yanbbbbbbbb\n"
     ]
    }
   ],
   "source": [
    "for user in users:\n",
    "    print(user.name)"
   ]
  },
  {
   "cell_type": "code",
   "execution_count": 110,
   "metadata": {},
   "outputs": [
    {
     "name": "stdout",
     "output_type": "stream",
     "text": [
      "365\n",
      "335235345\n",
      "222222222222222\n",
      "0824\n",
      "365\n",
      "335235345\n",
      "222222222222222\n",
      "0824\n",
      "365\n",
      "335235345\n",
      "0824\n"
     ]
    }
   ],
   "source": [
    "# 请在这里输入代码\n",
    "for user in users:\n",
    "    if not user.mobile.startswith('3'):\n",
    "        users.remove(user)\n",
    "    for u in users:\n",
    "        print(u.mobile)"
   ]
  },
  {
   "cell_type": "code",
   "execution_count": 111,
   "metadata": {},
   "outputs": [
    {
     "name": "stdout",
     "output_type": "stream",
     "text": [
      "365\n",
      "335235345\n",
      "0824\n"
     ]
    }
   ],
   "source": [
    "for user in users:\n",
    "    print(user.mobile)"
   ]
  },
  {
   "cell_type": "markdown",
   "metadata": {},
   "source": [
    "这个代码没办法删除所有以 3 开头的号码的记录，猜测是因为 remove 后就会跳过一个元素。\n",
    "\n",
    "remove 操作之后，当前位置之后的所有元素的编号会向前一位。这样的结果是当前位置之后第一个元素的判断就自动给跳过了。"
   ]
  },
  {
   "cell_type": "code",
   "execution_count": 132,
   "metadata": {},
   "outputs": [],
   "source": [
    "# 请在这里输入代码\n",
    "i = 0\n",
    "while i < len(users):\n",
    "    try:\n",
    "        if not users[i].mobile.startswith('3'):\n",
    "            users.remove(users[i])\n",
    "            i -= 1\n",
    "            user = users[i]\n",
    "    except IndexError:\n",
    "        break\n",
    "    i += 1"
   ]
  },
  {
   "cell_type": "code",
   "execution_count": 133,
   "metadata": {},
   "outputs": [
    {
     "name": "stdout",
     "output_type": "stream",
     "text": [
      "365\n",
      "335235345\n"
     ]
    }
   ],
   "source": [
    "for user in users:\n",
    "    print(user.mobile)"
   ]
  },
  {
   "cell_type": "code",
   "execution_count": 98,
   "metadata": {},
   "outputs": [
    {
     "name": "stdout",
     "output_type": "stream",
     "text": [
      "0\n",
      "1\n",
      "2\n"
     ]
    }
   ],
   "source": [
    "for i, user in enumerate(users):\n",
    "    if not user.mobile.startswith('3'):\n",
    "        users.remove(user)\n",
    "    print(i)    "
   ]
  },
  {
   "cell_type": "markdown",
   "metadata": {},
   "source": [
    "我们经常把对数据的处理概括为 *CRUD*，即创建（*create*）、读取（*read*）、更新（*update*）和删除（*delete*），正如我们上面展示的。"
   ]
  },
  {
   "cell_type": "code",
   "execution_count": 99,
   "metadata": {},
   "outputs": [
    {
     "name": "stdout",
     "output_type": "stream",
     "text": [
      "3\n",
      "3\n",
      "0\n"
     ]
    }
   ],
   "source": [
    "for user in users:\n",
    "    print(user.mobile[0])"
   ]
  },
  {
   "cell_type": "code",
   "execution_count": null,
   "metadata": {},
   "outputs": [],
   "source": []
  },
  {
   "cell_type": "code",
   "execution_count": 134,
   "metadata": {},
   "outputs": [
    {
     "name": "stdout",
     "output_type": "stream",
     "text": [
      "uid=1: name=neo, email=neo@matrix.net\n",
      "uid=2: name=trinity, email=trinity@matrix.net\n",
      "uid=3: name=morpheus, email=morpheus@matrix.net\n",
      "101-0101\n",
      "101-1010\n",
      "101-1111\n",
      "777-7777\n",
      "\n",
      "101-0101\n",
      "101-1010\n",
      "101-1111\n"
     ]
    }
   ],
   "source": [
    "users = []\n",
    "users.append(User(1, 'neo', 'thereisnospoon', 'neo@matrix.net', '101-0101'))\n",
    "users.append(User(2, 'trinity', 'iloveyouneo', 'trinity@matrix.net', '101-1010'))\n",
    "users.append(User(3, 'morpheus', 'ibelieve', 'morpheus@matrix.net', '101-1111'))\n",
    "\n",
    "for user in users:\n",
    "    print(f'uid={user.uid}: name={user.name}, email={user.email}')\n",
    "    \n",
    "users.append(User(4, 'merovingian', 'iknoweverything', 'merovingian@matrix.net', '777-7777'))\n",
    "    \n",
    "for user in users:\n",
    "    print(user.mobile)\n",
    "    \n",
    "print('')\n",
    "# 找到手机号码不以 ‘101’ 开头的用户并将其删除\n",
    "for user in users:\n",
    "    if not user.mobile.startswith('101'):\n",
    "        users.remove(user)\n",
    "        \n",
    "for user in users:\n",
    "    print(user.mobile)"
   ]
  },
  {
   "cell_type": "code",
   "execution_count": 135,
   "metadata": {},
   "outputs": [
    {
     "name": "stdout",
     "output_type": "stream",
     "text": [
      "uid=1: name=neo, email=neo@matrix.net\n",
      "uid=2: name=trinity, email=trinity@matrix.net\n",
      "uid=3: name=morpheus, email=morpheus@matrix.net\n",
      "101-0101\n",
      "101-1010\n",
      "101-1111\n",
      "777-7777\n",
      "\n",
      "101-1010\n",
      "777-7777\n"
     ]
    }
   ],
   "source": [
    "users = []\n",
    "users.append(User(1, 'neo', 'thereisnospoon', 'neo@matrix.net', '101-0101'))\n",
    "users.append(User(2, 'trinity', 'iloveyouneo', 'trinity@matrix.net', '101-1010'))\n",
    "users.append(User(3, 'morpheus', 'ibelieve', 'morpheus@matrix.net', '101-1111'))\n",
    "\n",
    "for user in users:\n",
    "    print(f'uid={user.uid}: name={user.name}, email={user.email}')\n",
    "    \n",
    "users.append(User(4, 'merovingian', 'iknoweverything', 'merovingian@matrix.net', '777-7777'))\n",
    "    \n",
    "for user in users:\n",
    "    print(user.mobile)\n",
    "    \n",
    "print('')\n",
    "# 找到手机号码以 ‘101’ 开头的用户并将其删除\n",
    "for user in users:\n",
    "    if user.mobile.startswith('101'):\n",
    "        users.remove(user)\n",
    "        \n",
    "for user in users:\n",
    "    print(user.mobile)"
   ]
  },
  {
   "cell_type": "code",
   "execution_count": 136,
   "metadata": {},
   "outputs": [
    {
     "name": "stdout",
     "output_type": "stream",
     "text": [
      "uid=1: name=neo, email=neo@matrix.net\n",
      "uid=2: name=trinity, email=trinity@matrix.net\n",
      "uid=3: name=morpheus, email=morpheus@matrix.net\n",
      "101-0101\n",
      "101-1010\n",
      "101-1111\n",
      "777-7777\n",
      "\n",
      "777-7777\n"
     ]
    }
   ],
   "source": [
    "users = []\n",
    "users.append(User(1, 'neo', 'thereisnospoon', 'neo@matrix.net', '101-0101'))\n",
    "users.append(User(2, 'trinity', 'iloveyouneo', 'trinity@matrix.net', '101-1010'))\n",
    "users.append(User(3, 'morpheus', 'ibelieve', 'morpheus@matrix.net', '101-1111'))\n",
    "\n",
    "for user in users:\n",
    "    print(f'uid={user.uid}: name={user.name}, email={user.email}')\n",
    "    \n",
    "users.append(User(4, 'merovingian', 'iknoweverything', 'merovingian@matrix.net', '777-7777'))\n",
    "    \n",
    "for user in users:\n",
    "    print(user.mobile)\n",
    "    \n",
    "print('')\n",
    "# 找到手机号码以 ‘101’ 开头的用户并将其删除\n",
    "i = 0\n",
    "while i < len(users):\n",
    "    try:\n",
    "        if users[i].mobile.startswith('101'):\n",
    "            users.remove(users[i])\n",
    "            i -= 1\n",
    "            user = users[i]\n",
    "    except IndexError:\n",
    "        break\n",
    "    i += 1\n",
    "        \n",
    "for user in users:\n",
    "    print(user.mobile)"
   ]
  },
  {
   "cell_type": "markdown",
   "metadata": {},
   "source": [
    "通过现代编程语言提供给我们的各种强大的数据类型，我们可以轻易的表达和处理各种各样的数据，但是仔细思考一下，有一些事情并不那么好做。"
   ]
  },
  {
   "cell_type": "markdown",
   "metadata": {},
   "source": [
    "**第一个问题**是“**持久化**（*persistency*）”。\n",
    "\n",
    "我们会经常在技术文章中看到这个词儿和它的变体，这看上去是个很高深莫测的词儿，但它的含义其实很简单：就是如何让数据不会因为计算机断电而丢失——换句话说，我们需要一种办法能把内存里的数据（比如上面的 *dict* 或者 *objects*）长久的保存起来，并在需要时随时恢复到内存中去。\n",
    "\n",
    "当然我们知道，可以把数据存到硬盘这样的“持久化设备”上。我们需要约定好保存的格式，程序知道怎么写，也知道怎么读，读出来之后恢复成上面那样的 *object* 就行了。\n",
    "\n",
    "有一种最简单的数据文件格式叫做 *CSV*，*comma-separated values*，也就是用逗号隔开的值。\n",
    "\n",
    "比如我们可以把 `users` 这样的列表变成的一个文本文件，列表中的每个元素变成文件中的一行，这一行是这个元素的各个属性，属性之间用逗号隔开；我们还可以在文件最开始加一行，记录每个属性的名字是啥。比如上面的 `users` 转成 *CSV* 格式的文件是这样子的：\n",
    "\n",
    "```\n",
    "uid, name, password, email, mobile\n",
    "1, 'neo', 'thereisnospoon', 'neo@matrix.net', '101-0101'\n",
    "2, 'trinity', 'iloveyouneo', 'trinity@matrix.net', '101-1010'\n",
    "3, 'morpheus', 'ibelieve', 'morpheus@matrix.net', '101-1111'\n",
    "```\n",
    "\n",
    "*CSV* 格式非常好用，简单直接，我们不用借助特殊的程序就能读懂其内容，编写程序来读写 *CSV* 文件也比较容易，所以应用很广泛。很多主流软件比如微软开发的电子表格软件 Excel，都支持读写 *CSV* 格式的文件。"
   ]
  },
  {
   "cell_type": "markdown",
   "metadata": {},
   "source": [
    "小结一下：我们解决持久化问题的方法是，设计一种格式，把内存中的数据保存成这种格式的文件，在需要时可以读取这种格式的文件还原成内存中的对象。这两个操作通常称为序列化（*serialization*）和反序列化（*deserialization*）。"
   ]
  },
  {
   "cell_type": "markdown",
   "metadata": {},
   "source": [
    "**第二个问题**是“**并发**（*concurrency*）”。\n",
    "\n",
    "这个问题更加麻烦很多倍。如果我们只有几千个用户，那么上面的 *object/dictionary* 加 *list* 的方法没啥问题，但如果我们有几百万几千万的用户，我们该怎么做呢？假定一个对象占用 100 字节（这算少的），那么 1000 万用户的数据会占用 10 亿字节，也就是 1GB，在我们这个计算机内存动辄 16GB 的时代听上去还好对吧？但二十年前计算机内存还只有几兆或者几十兆，而且别忘了这只是用户数据，我们的系统不可能只处理用户数据，还有用户的行为和关联数据，比如订单之类（订单和其他一些行为数据规模是远大于用户数据的）。\n",
    "\n",
    "除了内存占用，操作效率也是个问题，看下我们在前面写的示范代码，如果为了找到一个用户的数据动不动就要对一千万个对象循环一次，我们的程序肯定会慢的没法用。这就是并发带来的“**规模化**（*scalability*）”问题，基本上是软件后端开发的终极问题，**驾驭不同规模的能力决定了一个后端程序员的价值**。\n",
    "\n",
    "解决这个问题的办法和持久化有关：我们可以把完整的数据保存在硬盘上，每次只把需要的一小部分数据读进内存，需要时再更新回硬盘上，毕竟无论数据量有多大，我们总可以一个一个的处理。"
   ]
  },
  {
   "cell_type": "markdown",
   "metadata": {},
   "source": [
    "总结一下，大型软件应用的开发要求我们设计一种数据的存储格式：\n",
    "* 能够存储海量数据；\n",
    "* 能够处理不同数据之间的关联（比如用户和用户的订单）；\n",
    "* 能够快速找到我们关心的极小部分数据；\n",
    "* 能够支持我们对数据进行 *CRUD* 操作；\n",
    "* 无论数据量多大都能提供可接受的性能。\n",
    "\n",
    "更进一步，由于这些数据很可能至关重要（关系到经济利益甚至生命安全），所以需要完善的安全和容错设计：数据不能丢失，不当心改错了可以恢复，最好还能提前避免大部分数据里的逻辑错误，等等。\n",
    "\n",
    "人们把专门用于存放数据的文件系统称为“数据库（*database*）”，以区别于其他一般用途的文件。上面的任务实际上就是设计数据库的存储格式及其管理系统（*database management system, DBMS*）。\n",
    "\n",
    "这个非常有挑战的任务在在上个世纪 70 年代有了一个相当好的解决方案，那就是 IBM 的计算机科学家 [E. F. Codd](https://en.wikipedia.org/wiki/Edgar_F._Codd) 设计的“关系型数据库（*relational database*）”，他在论文 “*A Relational Model of Data for Large Shared Data Banks*” 中详细阐述了 “*relational*” 的含义，这一理论被称为“**关系模型**（*relational model*）”，是关系型数据库设计实现和运用的基础，按照关系模型设计的数据库管理系统就叫做“关系型数据库管理系统（*RDBMS*）”。\n",
    "\n",
    "后来为了避免数据库厂商滥用 *RDBMS* 这个招牌， E. F. Codd 还编写过一个“[十二法则](https://en.wikipedia.org/wiki/Codd%27s_12_rules)”（编号从 0 到 12，所以实际上有十三条）来界定“什么样的系统才算 *RDBMS*”，有兴趣可以读一下，但可能对初学者不是那么太友好——所以这里我们尝试用尽可能简单的方式解释下关系模型和 *RDBMS*。"
   ]
  },
  {
   "cell_type": "markdown",
   "metadata": {},
   "source": [
    "## 关系模型"
   ]
  },
  {
   "cell_type": "markdown",
   "metadata": {},
   "source": [
    "首先，我们要理解关系模型的一系列关键概念："
   ]
  },
  {
   "cell_type": "markdown",
   "metadata": {},
   "source": [
    "### 表"
   ]
  },
  {
   "cell_type": "markdown",
   "metadata": {},
   "source": [
    "关系模型将数据模型抽象为若干二维表（*table*），每一张表对应一种实体（*entity*）类型，比如用户是一种实体类型，订单也是，这两个实体类型就在关系模型中对应——比如分别叫 `user` 和 `order` 的——两张表。\n",
    "\n",
    "如果不好理解，就想象一下我们使用的 Excel 电子表格，基本上就是那样的表。"
   ]
  },
  {
   "cell_type": "markdown",
   "metadata": {},
   "source": [
    "### 行与列"
   ]
  },
  {
   "cell_type": "markdown",
   "metadata": {},
   "source": [
    "表由行（*row*）和列（*column*）组成：\n",
    "* 每一行代表了这种实体类型下的一个实例（*instance*），比如 `user` 表的每一行就代表一个用户，而 `order` 表里的每一行就代表一张订单，行也可以叫做“记录（*record*）”；\n",
    "* 而列代表了这个实体类型的一种特性，比如用户表里的用户名、Email、手机号码等，列也可以叫做属性（*attribute*）或者字段（*field*），一般我们在谈论一张表的时候会用 *column* 这个说法，而在提到具体一行数据时用 *attribute* 或者 *field* 的说法。"
   ]
  },
  {
   "cell_type": "markdown",
   "metadata": {},
   "source": [
    "### 主键"
   ]
  },
  {
   "cell_type": "markdown",
   "metadata": {},
   "source": [
    "每张表中必须有能唯一确定某一行数据的值，可能是一个字段或者几个字段组合起来的值，这个用来唯一确定一行数据的值称为“主键（*primary key*）”，依定义，每一行的主键值在表内必须唯一；这个概念是为了更容易实现 *RDBMS*，如果没有这个规则，我们要判断一个表里有没有重复记录就要比较每一行的每一个字段，而在这个规则下我们只需要针对少数（通常就是一个）字段比较就可以了。"
   ]
  },
  {
   "cell_type": "markdown",
   "metadata": {},
   "source": [
    "有了主键之后我们可以非常容易的定位某一行数据，查询其内容，或者修改、删除这一行数据，也可以在增加数据时检查是否重复数据。"
   ]
  },
  {
   "cell_type": "markdown",
   "metadata": {},
   "source": [
    "### 外键"
   ]
  },
  {
   "cell_type": "markdown",
   "metadata": {},
   "source": [
    "两个表 A 和 B 之间可以建立关联，方法是在 B 表中增加一个列，这个列里存放 A 表的 *primary key* 值，这样 B 表的每一行就关联到了与之相关的 A 表的某一行，B 表里的这个列就称为“外键（*foreign key*）”。\n",
    "\n",
    "以用户和订单表为例，我们假定用户表的主键是 `uid` 字段（每行用户数据的 `uid` 是唯一的），在订单表里加上一列称为“对应用户 `uid`”，这样每一个订单都可以通过这个 `uid` 对应到一个用户，并在用户表里找到该用户的具体信息（名字、电话和 Email 等），这些信息并不在订单表而在用户表里，通过外键就不同实体连接起来，组合成一个复杂的业务逻辑系统。"
   ]
  },
  {
   "cell_type": "markdown",
   "metadata": {
    "toc-hr-collapsed": false
   },
   "source": [
    "## RDBMS"
   ]
  },
  {
   "cell_type": "markdown",
   "metadata": {},
   "source": [
    "顾名思义，*RDBMS* 就是管理关系型数据库的系统，它按照关系模型实现了数据的存储，然后提供标准化的接口让其他应用程序可以方便的使用关系型数据库，这里面主要是下面这些工作。"
   ]
  },
  {
   "cell_type": "markdown",
   "metadata": {},
   "source": [
    "### 数据操作和事务处理"
   ]
  },
  {
   "cell_type": "markdown",
   "metadata": {},
   "source": [
    "正如我们前面说的，对数据的操作可以概括为 *CRUD*，*RDBMS* 通过一种通用操作语言 *SQL*（*Structured Query Language*）来提供这些操作支持。\n",
    "\n",
    "SQL 是目前需求最广泛的编程语言。这种语言用标准语法实现对关系模型里的数据以及数据结构的 *CRUD*。\n",
    "\n",
    "不同 *RDBMS* 中 *SQL* 语法是基本一致的（各系统会有一些自己的扩展），这也让我们操作这些 *RDBMS* 变得更容易。"
   ]
  },
  {
   "cell_type": "markdown",
   "metadata": {},
   "source": [
    "随着行业的进步，大部分现代编程语言都提供一些方法来封装对 *RDBMS* 的操作，很多时候我们都不需要直接使用 *SQL*，但适当了解一些基本知识和工具仍然是非常有益的。我们会在后面给出一些例子。"
   ]
  },
  {
   "cell_type": "markdown",
   "metadata": {},
   "source": [
    "如果对数据的一组操作中涉及任何修改（包括增加、删除和修改数据或数据的结构等）的，这组操作就属于“事务（*transaction*）”。\n",
    "\n",
    "因为大多时候一个数据库会被多个应用所共享，多个应用实例要修改同一组数据会带来很多麻烦，所以事务处理是一个非常敏感的部分，一般 *RDBMS* 都要做很多工作来保障事务处理的正常进行。这个问题我们后面还会讨论。"
   ]
  },
  {
   "cell_type": "markdown",
   "metadata": {},
   "source": [
    "### 维护数据一致性"
   ]
  },
  {
   "cell_type": "markdown",
   "metadata": {},
   "source": [
    "什么叫一致性（*consistency*）呢？\n",
    "\n",
    "比如我们有一张订单，上面说这个是张三的，但用户表里没有张三这个人，这种糟糕的现象就叫“数据不一致”。为了避免数据不一致，需要对数据库进行良好的设计，还需要在使用过程中做很多事情，这里面 *RDBMS* 扮演了很重要的角色。"
   ]
  },
  {
   "cell_type": "markdown",
   "metadata": {},
   "source": [
    "关系模型中的主键和外键有助于我们实现数据的一致性。通常 *RDBMS* 会在进行数据操作时对一系列数据约束（*constraint*）进行检查，例如：\n",
    "* 增加一行数据时会检查，是否缺失必有的字段，比如没有主键是肯定不行的，还有其他数据库设计和管理者定义的不可缺失的字段；还会检查这行数据里如果有外键，其值是不是合法，它不能是关联表里不存在的值；\n",
    "* 删除一行数据时会检查，这行数据是不是有被其他表用外键关联到，如果有，则不能删除（否则就会出现上面说的那种“荡空”数据）。"
   ]
  },
  {
   "cell_type": "markdown",
   "metadata": {},
   "source": [
    "### 数据访问优化"
   ]
  },
  {
   "cell_type": "markdown",
   "metadata": {},
   "source": [
    "数据库系统是针对海量数据的存储和访问设计的，所以性能方面的优化至关重要。一个优秀的 *RDBMS* 应该自动优化大部分访问的性能，并为应用提供方便的工具来优化数据读写效率。\n",
    "\n",
    "一个典型例子就是**数据库索引**（*index*）。\n",
    "\n",
    "假设我们经常针对某个列进行查询，比如查找 XX 年以后出生的用户，*RDBMS* 可以针对常用的列建立索引，极大地提升这类查询的效率，因为数据表可能很大，要把整个表过一遍来找到我们要的数据会比较慢，但如果事先知道我们会通过出生年份来查找，我们可以指示 *RDBMS* 提前把这一列数据做成一个很小的索引文件，查找时先在索引中找到我们要的数据行（的主键），再通过主键取出完整数据行；*RDBMS* 还会在增删改数据时自动更新索引文件——当然这会带来性能开销，所以索引也不能乱建，也要考虑经济实惠。 "
   ]
  },
  {
   "cell_type": "markdown",
   "metadata": {},
   "source": [
    "### 数据库集群"
   ]
  },
  {
   "cell_type": "markdown",
   "metadata": {},
   "source": [
    "随着数据量的不段增加，很多数据库很快会突破一台服务器能支撑的限度（运算或者存储能力），这时候我们就需要把逻辑上的一个数据库分开放在几台物理服务器上，有时候这需要我们在应用上写程序实现分片（某些数据在服务器A，某些在 B），也有些 *RDBMS* 提供对应用透明的集群实现，应用不管 *RDBMS* 怎么分服务器，就当一整个来使用。不同的方案各有利弊，但都需要 *RDBMS* 做出某种程度的支持。"
   ]
  },
  {
   "cell_type": "markdown",
   "metadata": {},
   "source": [
    "### 数据库安全"
   ]
  },
  {
   "cell_type": "markdown",
   "metadata": {},
   "source": [
    "前面提过，数据的安全至关重要，*RDBMS* 都会提供完善的数据安全解决方案，包括权限管理、主从备份、灾难恢复等。"
   ]
  },
  {
   "cell_type": "markdown",
   "metadata": {},
   "source": [
    "### 主流 RDBMS"
   ]
  },
  {
   "cell_type": "markdown",
   "metadata": {},
   "source": [
    "目前被广泛使用的 *RDBMS* 主要有：\n",
    "1. 以 Oracle、Microsoft SQL Server、IBM DB2 为代表的大厂商出品的系统，一般来说用于非常大的企业应用系统，价格也非常高昂；\n",
    "2. 以 MySQL、PostgreSQL 为代表的开源系统，广泛用于各种规模的互联网应用，因为开源，很多巨型互联网公司会对其进行修改定制以满足自己的需要；注意 MySQL 2008 年被 Sun 收购，2010 年 Sun 又被 Oracle 收购，所以现在 MySQL 实际上是属于 Oracle 的资产，但运作上有一定的独立性；\n",
    "3. 以 SQLite 为代表的极轻量级系统，一般用于单机和嵌入式环境（iPhone app 中通常都有几个 SQLite 数据库）。"
   ]
  },
  {
   "cell_type": "markdown",
   "metadata": {},
   "source": [
    "## RDBMS 以外"
   ]
  },
  {
   "cell_type": "markdown",
   "metadata": {},
   "source": [
    "关系型数据库经过几十年发展，从 *RDBMS* 产品到设计方法论都已经非常成熟和完善，但其设计毕竟是四、五十年前的理念，在过去十几年互联网应用飞速发展中，人们也通过不少创新来弥补关系型数据库的短板，这里面最主要的是 *NoSQL* 和以 *Redis* 为代表的内存数据库的兴起。\n",
    "\n",
    "关系型数据库主要针对企业应用和交易处理，对数据的一致性、交易的完整性和系统的安全性有很高的要求，一般企业应用的同时并发用户也不会特别多；而最近二十年兴起的互联网应用则不同，互联网应用中经常有不太复杂的操作，但是并发惊人，比如很多人同时登录，这个操作不复杂（检查用户名密码是否匹配，然后记一下日志），但可能同时有几十万甚至更多人一起发起这个操作；再比如抽奖，这个操作就是生成一个随机数，然后看在不在获奖的范围里，但是可能无数人同时点击抽奖按钮，应用需要记录每个人生成的随机数并写到数据库里备查，这些操作对传统 *RDBMS* 来说真是不堪重负（或者说实现起来性价比很低）。\n",
    "\n",
    "互联网应用的开发者为了解决这些问题，找到的办法是砍掉 *RDBMS* 中一些在这类场景中不必要的东西，比如数据一致性检查，甚至关系模型本身也可以简化为内存里保存的海量 *key-value* 对。基于这些应用场景和解决方案，有一系列新的技术被开发出来，我们以后会逐步了解这些技术的差异和各自擅长，这里先不展开。"
   ]
  },
  {
   "cell_type": "markdown",
   "metadata": {},
   "source": [
    "## Python 中的实例"
   ]
  },
  {
   "cell_type": "markdown",
   "metadata": {},
   "source": [
    "下面我们通过一系列实例来了解下 Python 中使用各种数据文件和数据库的方法。"
   ]
  },
  {
   "cell_type": "markdown",
   "metadata": {},
   "source": [
    "### CSV 数据文件"
   ]
  },
  {
   "cell_type": "markdown",
   "metadata": {},
   "source": [
    "Python 中使用 CSV 数据文件，因为有 [pandas](https://pandas.pydata.org/) 这个第三方库而变得非常轻松和愉快。\n",
    "\n",
    "在运行下面的代码之前记得先在命令行界面安装 `pip install pandas`。"
   ]
  },
  {
   "cell_type": "markdown",
   "metadata": {},
   "source": [
    "互联网上有很多开放数据是以 CSV 格式提供的，这里我们用于示范的是来自纽约现代艺术博物馆（*Museum of Modern Art, MoMA*）的[开放数据](https://github.com/MuseumofModernArt/collection)，包括馆藏的所有作品及其艺术家。因为作品数据集太大，我们只用艺术家数据集（即附件中的 `moma-artists.csv` 文件）。"
   ]
  },
  {
   "cell_type": "code",
   "execution_count": 138,
   "metadata": {},
   "outputs": [
    {
     "data": {
      "text/html": [
       "<div>\n",
       "<style scoped>\n",
       "    .dataframe tbody tr th:only-of-type {\n",
       "        vertical-align: middle;\n",
       "    }\n",
       "\n",
       "    .dataframe tbody tr th {\n",
       "        vertical-align: top;\n",
       "    }\n",
       "\n",
       "    .dataframe thead th {\n",
       "        text-align: right;\n",
       "    }\n",
       "</style>\n",
       "<table border=\"1\" class=\"dataframe\">\n",
       "  <thead>\n",
       "    <tr style=\"text-align: right;\">\n",
       "      <th></th>\n",
       "      <th>ConstituentID</th>\n",
       "      <th>DisplayName</th>\n",
       "      <th>ArtistBio</th>\n",
       "      <th>Nationality</th>\n",
       "      <th>Gender</th>\n",
       "      <th>BeginDate</th>\n",
       "      <th>EndDate</th>\n",
       "      <th>Wiki QID</th>\n",
       "      <th>ULAN</th>\n",
       "    </tr>\n",
       "  </thead>\n",
       "  <tbody>\n",
       "    <tr>\n",
       "      <th>0</th>\n",
       "      <td>1</td>\n",
       "      <td>Robert Arneson</td>\n",
       "      <td>American, 1930–1992</td>\n",
       "      <td>American</td>\n",
       "      <td>Male</td>\n",
       "      <td>1930</td>\n",
       "      <td>1992</td>\n",
       "      <td>NaN</td>\n",
       "      <td>NaN</td>\n",
       "    </tr>\n",
       "    <tr>\n",
       "      <th>1</th>\n",
       "      <td>2</td>\n",
       "      <td>Doroteo Arnaiz</td>\n",
       "      <td>Spanish, born 1936</td>\n",
       "      <td>Spanish</td>\n",
       "      <td>Male</td>\n",
       "      <td>1936</td>\n",
       "      <td>0</td>\n",
       "      <td>NaN</td>\n",
       "      <td>NaN</td>\n",
       "    </tr>\n",
       "    <tr>\n",
       "      <th>2</th>\n",
       "      <td>3</td>\n",
       "      <td>Bill Arnold</td>\n",
       "      <td>American, born 1941</td>\n",
       "      <td>American</td>\n",
       "      <td>Male</td>\n",
       "      <td>1941</td>\n",
       "      <td>0</td>\n",
       "      <td>NaN</td>\n",
       "      <td>NaN</td>\n",
       "    </tr>\n",
       "    <tr>\n",
       "      <th>3</th>\n",
       "      <td>4</td>\n",
       "      <td>Charles Arnoldi</td>\n",
       "      <td>American, born 1946</td>\n",
       "      <td>American</td>\n",
       "      <td>Male</td>\n",
       "      <td>1946</td>\n",
       "      <td>0</td>\n",
       "      <td>Q1063584</td>\n",
       "      <td>500027998.0</td>\n",
       "    </tr>\n",
       "    <tr>\n",
       "      <th>4</th>\n",
       "      <td>5</td>\n",
       "      <td>Per Arnoldi</td>\n",
       "      <td>Danish, born 1941</td>\n",
       "      <td>Danish</td>\n",
       "      <td>Male</td>\n",
       "      <td>1941</td>\n",
       "      <td>0</td>\n",
       "      <td>NaN</td>\n",
       "      <td>NaN</td>\n",
       "    </tr>\n",
       "    <tr>\n",
       "      <th>5</th>\n",
       "      <td>6</td>\n",
       "      <td>Danilo Aroldi</td>\n",
       "      <td>Italian, born 1925</td>\n",
       "      <td>Italian</td>\n",
       "      <td>Male</td>\n",
       "      <td>1925</td>\n",
       "      <td>0</td>\n",
       "      <td>NaN</td>\n",
       "      <td>NaN</td>\n",
       "    </tr>\n",
       "    <tr>\n",
       "      <th>6</th>\n",
       "      <td>7</td>\n",
       "      <td>Bill Aron</td>\n",
       "      <td>American, born 1941</td>\n",
       "      <td>American</td>\n",
       "      <td>Male</td>\n",
       "      <td>1941</td>\n",
       "      <td>0</td>\n",
       "      <td>NaN</td>\n",
       "      <td>NaN</td>\n",
       "    </tr>\n",
       "    <tr>\n",
       "      <th>7</th>\n",
       "      <td>9</td>\n",
       "      <td>David Aronson</td>\n",
       "      <td>American, born Lithuania 1923</td>\n",
       "      <td>American</td>\n",
       "      <td>Male</td>\n",
       "      <td>1923</td>\n",
       "      <td>0</td>\n",
       "      <td>Q5230870</td>\n",
       "      <td>500003363.0</td>\n",
       "    </tr>\n",
       "    <tr>\n",
       "      <th>8</th>\n",
       "      <td>10</td>\n",
       "      <td>Irene Aronson</td>\n",
       "      <td>American, born Germany 1918</td>\n",
       "      <td>American</td>\n",
       "      <td>Female</td>\n",
       "      <td>1918</td>\n",
       "      <td>0</td>\n",
       "      <td>Q19748568</td>\n",
       "      <td>500042413.0</td>\n",
       "    </tr>\n",
       "    <tr>\n",
       "      <th>9</th>\n",
       "      <td>11</td>\n",
       "      <td>Jean (Hans) Arp</td>\n",
       "      <td>French, born Germany (Alsace). 1886–1966</td>\n",
       "      <td>French</td>\n",
       "      <td>Male</td>\n",
       "      <td>1886</td>\n",
       "      <td>1966</td>\n",
       "      <td>Q153739</td>\n",
       "      <td>500031000.0</td>\n",
       "    </tr>\n",
       "  </tbody>\n",
       "</table>\n",
       "</div>"
      ],
      "text/plain": [
       "   ConstituentID      DisplayName                                 ArtistBio  \\\n",
       "0              1   Robert Arneson                       American, 1930–1992   \n",
       "1              2   Doroteo Arnaiz                        Spanish, born 1936   \n",
       "2              3      Bill Arnold                       American, born 1941   \n",
       "3              4  Charles Arnoldi                       American, born 1946   \n",
       "4              5      Per Arnoldi                         Danish, born 1941   \n",
       "5              6    Danilo Aroldi                        Italian, born 1925   \n",
       "6              7        Bill Aron                       American, born 1941   \n",
       "7              9    David Aronson             American, born Lithuania 1923   \n",
       "8             10    Irene Aronson               American, born Germany 1918   \n",
       "9             11  Jean (Hans) Arp  French, born Germany (Alsace). 1886–1966   \n",
       "\n",
       "  Nationality  Gender  BeginDate  EndDate   Wiki QID         ULAN  \n",
       "0    American    Male       1930     1992        NaN          NaN  \n",
       "1     Spanish    Male       1936        0        NaN          NaN  \n",
       "2    American    Male       1941        0        NaN          NaN  \n",
       "3    American    Male       1946        0   Q1063584  500027998.0  \n",
       "4      Danish    Male       1941        0        NaN          NaN  \n",
       "5     Italian    Male       1925        0        NaN          NaN  \n",
       "6    American    Male       1941        0        NaN          NaN  \n",
       "7    American    Male       1923        0   Q5230870  500003363.0  \n",
       "8    American  Female       1918        0  Q19748568  500042413.0  \n",
       "9      French    Male       1886     1966    Q153739  500031000.0  "
      ]
     },
     "execution_count": 138,
     "metadata": {},
     "output_type": "execute_result"
    }
   ],
   "source": [
    "# 请在这里输入代码\n",
    "import pandas as pd\n",
    "\n",
    "data = pd.read_csv(\"assets/moma-artists.csv\")\n",
    "data.head(10)"
   ]
  },
  {
   "cell_type": "code",
   "execution_count": 139,
   "metadata": {},
   "outputs": [
    {
     "data": {
      "text/html": [
       "<div>\n",
       "<style scoped>\n",
       "    .dataframe tbody tr th:only-of-type {\n",
       "        vertical-align: middle;\n",
       "    }\n",
       "\n",
       "    .dataframe tbody tr th {\n",
       "        vertical-align: top;\n",
       "    }\n",
       "\n",
       "    .dataframe thead th {\n",
       "        text-align: right;\n",
       "    }\n",
       "</style>\n",
       "<table border=\"1\" class=\"dataframe\">\n",
       "  <thead>\n",
       "    <tr style=\"text-align: right;\">\n",
       "      <th></th>\n",
       "      <th>ConstituentID</th>\n",
       "      <th>DisplayName</th>\n",
       "      <th>ArtistBio</th>\n",
       "      <th>Nationality</th>\n",
       "      <th>Gender</th>\n",
       "      <th>BeginDate</th>\n",
       "      <th>EndDate</th>\n",
       "      <th>Wiki QID</th>\n",
       "      <th>ULAN</th>\n",
       "    </tr>\n",
       "  </thead>\n",
       "  <tbody>\n",
       "    <tr>\n",
       "      <th>0</th>\n",
       "      <td>1</td>\n",
       "      <td>Robert Arneson</td>\n",
       "      <td>American, 1930–1992</td>\n",
       "      <td>American</td>\n",
       "      <td>Male</td>\n",
       "      <td>1930</td>\n",
       "      <td>1992</td>\n",
       "      <td>NaN</td>\n",
       "      <td>NaN</td>\n",
       "    </tr>\n",
       "    <tr>\n",
       "      <th>1</th>\n",
       "      <td>2</td>\n",
       "      <td>Doroteo Arnaiz</td>\n",
       "      <td>Spanish, born 1936</td>\n",
       "      <td>Spanish</td>\n",
       "      <td>Male</td>\n",
       "      <td>1936</td>\n",
       "      <td>0</td>\n",
       "      <td>NaN</td>\n",
       "      <td>NaN</td>\n",
       "    </tr>\n",
       "  </tbody>\n",
       "</table>\n",
       "</div>"
      ],
      "text/plain": [
       "   ConstituentID     DisplayName            ArtistBio Nationality Gender  \\\n",
       "0              1  Robert Arneson  American, 1930–1992    American   Male   \n",
       "1              2  Doroteo Arnaiz   Spanish, born 1936     Spanish   Male   \n",
       "\n",
       "   BeginDate  EndDate Wiki QID  ULAN  \n",
       "0       1930     1992      NaN   NaN  \n",
       "1       1936        0      NaN   NaN  "
      ]
     },
     "execution_count": 139,
     "metadata": {},
     "output_type": "execute_result"
    }
   ],
   "source": [
    "data.head(2)"
   ]
  },
  {
   "cell_type": "markdown",
   "metadata": {},
   "source": [
    "pandas 提供的 `read_csv` 函数读取一个 *CSV* 文件，并将其结果装载到数据集对象 `data` 中，`data` 的数据类型是 `pandas` 包引入的 `DataFrame`，准确的是说 `pandas.core.frame.DataFrame`，可以将其看做一个二维表（实际上底下就是个 [NumPy](https://numpy.org/) 数组），是关系模型在 Python 中的一种实现。\n",
    "\n",
    "我们可以看到，Jupyter Notebook 对 `DataFrame` 类型的对象提供了专门的显示格式，会自动显示出漂亮的表格。如果我们在 Python 解释器命令行里运行上面的代码，输出没有这么漂亮，但也很清晰。"
   ]
  },
  {
   "cell_type": "markdown",
   "metadata": {},
   "source": [
    "现在我们仔细审视下上面的表：\n",
    "* 这个表有 10 行（因为我们调用 `data.head()` 时指定了输出前 10 行），不算最左边 `DataFrame` 内置的序号一共 9 列；\n",
    "* 这是一张艺术家的数据表，每一行数据记录代表一位艺术家，上面一共列出了 10 位艺术家；每位艺术家的数据里有 9 个字段（列），分别是艺术家 ID、姓名、简介、国籍、性别、生卒年、Wiki QID 和 [ULAN 网络](https://www.getty.edu/research/tools/vocabularies/ulan/) ID。"
   ]
  },
  {
   "cell_type": "markdown",
   "metadata": {},
   "source": [
    "`DataFrame` 提供了一个强大的查询方法 `query` 帮助我们用灵活的条件组合来查询数据，下面是一些例子："
   ]
  },
  {
   "cell_type": "code",
   "execution_count": 142,
   "metadata": {},
   "outputs": [
    {
     "data": {
      "text/html": [
       "<div>\n",
       "<style scoped>\n",
       "    .dataframe tbody tr th:only-of-type {\n",
       "        vertical-align: middle;\n",
       "    }\n",
       "\n",
       "    .dataframe tbody tr th {\n",
       "        vertical-align: top;\n",
       "    }\n",
       "\n",
       "    .dataframe thead th {\n",
       "        text-align: right;\n",
       "    }\n",
       "</style>\n",
       "<table border=\"1\" class=\"dataframe\">\n",
       "  <thead>\n",
       "    <tr style=\"text-align: right;\">\n",
       "      <th></th>\n",
       "      <th>ConstituentID</th>\n",
       "      <th>DisplayName</th>\n",
       "      <th>ArtistBio</th>\n",
       "      <th>Nationality</th>\n",
       "      <th>Gender</th>\n",
       "      <th>BeginDate</th>\n",
       "      <th>EndDate</th>\n",
       "      <th>Wiki QID</th>\n",
       "      <th>ULAN</th>\n",
       "    </tr>\n",
       "  </thead>\n",
       "  <tbody>\n",
       "    <tr>\n",
       "      <th>8518</th>\n",
       "      <td>11159</td>\n",
       "      <td>Lexon, France</td>\n",
       "      <td>est. 1990</td>\n",
       "      <td>NaN</td>\n",
       "      <td>NaN</td>\n",
       "      <td>1990</td>\n",
       "      <td>0</td>\n",
       "      <td>NaN</td>\n",
       "      <td>NaN</td>\n",
       "    </tr>\n",
       "    <tr>\n",
       "      <th>10523</th>\n",
       "      <td>29566</td>\n",
       "      <td>OFFECCT</td>\n",
       "      <td>Sweden, est. 1990</td>\n",
       "      <td>Swedish</td>\n",
       "      <td>NaN</td>\n",
       "      <td>1990</td>\n",
       "      <td>0</td>\n",
       "      <td>NaN</td>\n",
       "      <td>NaN</td>\n",
       "    </tr>\n",
       "    <tr>\n",
       "      <th>11545</th>\n",
       "      <td>34168</td>\n",
       "      <td>Kengo Kuma &amp; Associates</td>\n",
       "      <td>Japan, est. 1990</td>\n",
       "      <td>NaN</td>\n",
       "      <td>NaN</td>\n",
       "      <td>1990</td>\n",
       "      <td>0</td>\n",
       "      <td>NaN</td>\n",
       "      <td>NaN</td>\n",
       "    </tr>\n",
       "    <tr>\n",
       "      <th>12469</th>\n",
       "      <td>37888</td>\n",
       "      <td>Werkplaats Martin van Oel</td>\n",
       "      <td>Dutch, est. 1990</td>\n",
       "      <td>Dutch</td>\n",
       "      <td>NaN</td>\n",
       "      <td>1990</td>\n",
       "      <td>0</td>\n",
       "      <td>NaN</td>\n",
       "      <td>NaN</td>\n",
       "    </tr>\n",
       "    <tr>\n",
       "      <th>14254</th>\n",
       "      <td>46529</td>\n",
       "      <td>Joseph Pleass</td>\n",
       "      <td>British, born 1990</td>\n",
       "      <td>British</td>\n",
       "      <td>Male</td>\n",
       "      <td>1990</td>\n",
       "      <td>0</td>\n",
       "      <td>NaN</td>\n",
       "      <td>NaN</td>\n",
       "    </tr>\n",
       "    <tr>\n",
       "      <th>14703</th>\n",
       "      <td>48039</td>\n",
       "      <td>Jacqueline Yuan Quinn</td>\n",
       "      <td>NaN</td>\n",
       "      <td>American</td>\n",
       "      <td>Female</td>\n",
       "      <td>1990</td>\n",
       "      <td>0</td>\n",
       "      <td>NaN</td>\n",
       "      <td>NaN</td>\n",
       "    </tr>\n",
       "    <tr>\n",
       "      <th>15514</th>\n",
       "      <td>69266</td>\n",
       "      <td>Richard Malone</td>\n",
       "      <td>Irish, born 1990</td>\n",
       "      <td>Irish</td>\n",
       "      <td>Male</td>\n",
       "      <td>1990</td>\n",
       "      <td>0</td>\n",
       "      <td>NaN</td>\n",
       "      <td>NaN</td>\n",
       "    </tr>\n",
       "  </tbody>\n",
       "</table>\n",
       "</div>"
      ],
      "text/plain": [
       "       ConstituentID                DisplayName           ArtistBio  \\\n",
       "8518           11159              Lexon, France           est. 1990   \n",
       "10523          29566                    OFFECCT   Sweden, est. 1990   \n",
       "11545          34168    Kengo Kuma & Associates    Japan, est. 1990   \n",
       "12469          37888  Werkplaats Martin van Oel    Dutch, est. 1990   \n",
       "14254          46529              Joseph Pleass  British, born 1990   \n",
       "14703          48039      Jacqueline Yuan Quinn                 NaN   \n",
       "15514          69266             Richard Malone    Irish, born 1990   \n",
       "\n",
       "      Nationality  Gender  BeginDate  EndDate Wiki QID  ULAN  \n",
       "8518          NaN     NaN       1990        0      NaN   NaN  \n",
       "10523     Swedish     NaN       1990        0      NaN   NaN  \n",
       "11545         NaN     NaN       1990        0      NaN   NaN  \n",
       "12469       Dutch     NaN       1990        0      NaN   NaN  \n",
       "14254     British    Male       1990        0      NaN   NaN  \n",
       "14703    American  Female       1990        0      NaN   NaN  \n",
       "15514       Irish    Male       1990        0      NaN   NaN  "
      ]
     },
     "execution_count": 142,
     "metadata": {},
     "output_type": "execute_result"
    }
   ],
   "source": [
    "# 请在这里输入代码\n",
    "data.query('BeginDate >= 1990 and BeginDate < 1991')"
   ]
  },
  {
   "cell_type": "code",
   "execution_count": 143,
   "metadata": {},
   "outputs": [
    {
     "data": {
      "text/html": [
       "<div>\n",
       "<style scoped>\n",
       "    .dataframe tbody tr th:only-of-type {\n",
       "        vertical-align: middle;\n",
       "    }\n",
       "\n",
       "    .dataframe tbody tr th {\n",
       "        vertical-align: top;\n",
       "    }\n",
       "\n",
       "    .dataframe thead th {\n",
       "        text-align: right;\n",
       "    }\n",
       "</style>\n",
       "<table border=\"1\" class=\"dataframe\">\n",
       "  <thead>\n",
       "    <tr style=\"text-align: right;\">\n",
       "      <th></th>\n",
       "      <th>ConstituentID</th>\n",
       "      <th>DisplayName</th>\n",
       "      <th>ArtistBio</th>\n",
       "      <th>Nationality</th>\n",
       "      <th>Gender</th>\n",
       "      <th>BeginDate</th>\n",
       "      <th>EndDate</th>\n",
       "      <th>Wiki QID</th>\n",
       "      <th>ULAN</th>\n",
       "    </tr>\n",
       "  </thead>\n",
       "  <tbody>\n",
       "    <tr>\n",
       "      <th>13386</th>\n",
       "      <td>42126</td>\n",
       "      <td>Birdhead</td>\n",
       "      <td>Chinese, active 2004</td>\n",
       "      <td>Chinese</td>\n",
       "      <td>NaN</td>\n",
       "      <td>2004</td>\n",
       "      <td>0</td>\n",
       "      <td>NaN</td>\n",
       "      <td>NaN</td>\n",
       "    </tr>\n",
       "    <tr>\n",
       "      <th>15645</th>\n",
       "      <td>70012</td>\n",
       "      <td>Archi-Union Architects</td>\n",
       "      <td>Chinese, est. 2003</td>\n",
       "      <td>Chinese</td>\n",
       "      <td>NaN</td>\n",
       "      <td>2003</td>\n",
       "      <td>0</td>\n",
       "      <td>NaN</td>\n",
       "      <td>NaN</td>\n",
       "    </tr>\n",
       "  </tbody>\n",
       "</table>\n",
       "</div>"
      ],
      "text/plain": [
       "       ConstituentID             DisplayName             ArtistBio  \\\n",
       "13386          42126                Birdhead  Chinese, active 2004   \n",
       "15645          70012  Archi-Union Architects    Chinese, est. 2003   \n",
       "\n",
       "      Nationality Gender  BeginDate  EndDate Wiki QID  ULAN  \n",
       "13386     Chinese    NaN       2004        0      NaN   NaN  \n",
       "15645     Chinese    NaN       2003        0      NaN   NaN  "
      ]
     },
     "execution_count": 143,
     "metadata": {},
     "output_type": "execute_result"
    }
   ],
   "source": [
    "# 请在这里输入代码\n",
    "data.query(\"Nationality == 'Chinese' and BeginDate >= 1990\")"
   ]
  },
  {
   "cell_type": "markdown",
   "metadata": {},
   "source": [
    "`DataFrame` 还有很多好用的属性和方法，比如 `columns` 返回所有列的显示名称，`apply()` 可以对行或列执行一个指定的函数，等等。[官方文档](https://pandas.pydata.org/pandas-docs/stable/reference/api/pandas.DataFrame.html)详细的介绍了所有这些属性和方法。"
   ]
  },
  {
   "cell_type": "code",
   "execution_count": 145,
   "metadata": {},
   "outputs": [
    {
     "name": "stdout",
     "output_type": "stream",
     "text": [
      "Index(['ConstituentID', 'DisplayName', 'ArtistBio', 'Nationality', 'Gender',\n",
      "       'BeginDate', 'EndDate', 'Wiki QID', 'ULAN'],\n",
      "      dtype='object')\n"
     ]
    }
   ],
   "source": [
    "print(data.columns)"
   ]
  },
  {
   "cell_type": "markdown",
   "metadata": {},
   "source": [
    "> pandas 提供了强大能力来对数据进行展示和分析，我们一般将这类工具称为数据展示和分析工具，它可以加载各种数据源，数据源可以是数据文件也可以是数据库。本节展示的例子是加载一个 *CSV* 数据文件，后面几节我们会看到其他数据源的例子。\n",
    "> \n",
    "> 数据的存储及管理，与数据的展示及分析可以完全解耦，各做各的互不影响，还能完美配合，就是因为大家都基于相容的关系模型（行和列）。"
   ]
  },
  {
   "cell_type": "markdown",
   "metadata": {},
   "source": [
    "### JSON 数据"
   ]
  },
  {
   "cell_type": "markdown",
   "metadata": {},
   "source": [
    "[JSON](https://www.json.org/) 的全称是 JavaScript Object Notation，是另一种非常流行的数据格式，它是 JavaScript 的原生数据格式，所有主流语言都有读写 *JSON* 格式的标准库，所以它可以看作是 Web 上交换数据的事实标准。"
   ]
  },
  {
   "cell_type": "markdown",
   "metadata": {},
   "source": [
    "其实我们都见过这个格式，Python 的 *list* 和 *dict* 类型值的语法差不多就是 *JSON* 的语法格式，在 *JSON* 中一个对象是这么表示的：\n",
    "\n",
    "```JSON\n",
    "{ \n",
    "    'uid': 1,\n",
    "    'name': 'Neo',\n",
    "    'password': '2733bbf0e6a7b9a919d7cca6a7c0f74a',\n",
    "    'email': 'neo@matrix.net',\n",
    "    'mobile': '101-0101'\n",
    "}\n",
    "```\n",
    "\n",
    "这就是 *dict* 嘛！如果是一组对象呢？那就用方括号括起来，和 *list* 一样：\n",
    "\n",
    "```JSON\n",
    "[\n",
    "    { \n",
    "        'uid': 1,\n",
    "        'name': 'Neo',\n",
    "        'password': '2733bbf0e6a7b9a919d7cca6a7c0f74a',\n",
    "        'email': 'neo@matrix.net',\n",
    "        'mobile': '101-0101'\n",
    "    },\n",
    "    { \n",
    "        'uid': 2,\n",
    "        'name': 'Trinity',\n",
    "        'password': '2733bbf0e6a7b9a919d7cca6a7c0f74a',\n",
    "        'email': 'trinity@matrix.net',\n",
    "        'mobile': '101-0101'\n",
    "    },\n",
    "    { \n",
    "        'uid': 3,\n",
    "        'name': 'Morpheus',\n",
    "        'password': '2733bbf0e6a7b9a919d7cca6a7c0f74a',\n",
    "        'email': 'morpheus@matrix.net',\n",
    "        'mobile': '101-0101'\n",
    "    }\n",
    "]\n",
    "```"
   ]
  },
  {
   "cell_type": "markdown",
   "metadata": {},
   "source": [
    "我们可以对比一下 *CSV* 和 *JSON* 两种格式：\n",
    "* *CSV* 更接近关系模型，而 *JSON* 更接近程序中的对象模型；\n",
    "* *CSV* 表达的是一种二维表结构，而 *JSON* 可以表达多重嵌套的非常复杂的对象结构；\n",
    "* *CSV* 格式上更加紧凑，几乎没有冗余，而 *JSON* 有很多冗余信息，同样的数据 *JSON* 会大很多（当然有些压缩技术可以一定程度减小这个差距）；\n",
    "* 因为格式更加简单，*CSV* 在处理上性能要好很多。\n",
    "\n",
    "所以如果我们要存储和传输的数据是比较整齐的多行数据（关系模型），*CSV* 有不少优势；但如果我们面对的是 *list*、*tuple*、*dict* 及其嵌套大杂烩，只有 *JSON* 能做到。\n",
    "\n",
    "Quora 上[有个答案](https://www.quora.com/As-a-developer-which-format-do-you-prefer-to-transmit-data-XML-JSON-or-CSV/answer/John-Random-3)比较了常用的 *CSV*、*JSON* 还有 *XML*（这个格式是 HTML 的超集，我们这个课程中不做介绍）数据格式在数据交换中的优劣，有兴趣可以一读。"
   ]
  },
  {
   "cell_type": "markdown",
   "metadata": {},
   "source": [
    "我们学习 *JSON* 格式最主要的原因是：绝大部分 Web 服务的输入和输出都是 *JSON* 格式。举个例子，我们看下[某在线教育服务商](https://www.genshuixue.com/)网站，它的课程是组织在一系列分类下面的，如果要获得某个特定分类，比如面向[初一](https://www.genshuixue.com/pc/courseCenter?categoryId=10&gradeId=200)的课程，系统后台是通过这个 Web 服务接口提供的：\n",
    "\n",
    "`https://www.genshuixue.com/sapi/viewLogic/selectCourse/courses?course=all&size=12&subjectId=0&gradeId=200&categoryId=10`\n",
    "\n",
    "在浏览器中打开这个地址，就可以看到系统返回的数据，就是一个 *JSON* 格式的字符串，我们可以用 Python 来访问这个服务地址、获得数据并进行处理："
   ]
  },
  {
   "cell_type": "code",
   "execution_count": 9,
   "metadata": {},
   "outputs": [],
   "source": [
    "# 请在这里输入代码\n",
    "import urllib3\n",
    "import json\n",
    "\n",
    "url = 'https://www.genshuixue.com/sapi/viewLogic/selectCourse/courses?course=all&size=12&subjectId=0&gradeId=200&categoryId=10'\n",
    "\n",
    "# 使用 urllib3 通过 HTTP 协议访问上面的web api，获得http协议定义的一个response对象\n",
    "http = urllib3.PoolManager()\n",
    "r = http.request(\"GET\", url)  # r 是一个 http response 类对象\n",
    "if r.status == 200:  # 如果 response的状态是200，表示调用成功\n",
    "    data = json.loads(r.data.decode('utf-8'))\n",
    "else:\n",
    "    print(f\"访问服务失败，错误码：{r.status}\")"
   ]
  },
  {
   "cell_type": "code",
   "execution_count": 10,
   "metadata": {},
   "outputs": [
    {
     "data": {
      "text/plain": [
       "{'code': 0,\n",
       " 'msg': '请求成功',\n",
       " 'loggerId': '62902ff8b11bf',\n",
       " 'data': {'items': [],\n",
       "  'recommendCourses': [],\n",
       "  'pager': {'size': 1, 'cursor': 2, 'hasMore': False, 'total': 0}},\n",
       " 'ts': 1653616632,\n",
       " 'path': '/sapi/viewLogic/selectCourse/courses'}"
      ]
     },
     "execution_count": 10,
     "metadata": {},
     "output_type": "execute_result"
    }
   ],
   "source": [
    "data"
   ]
  },
  {
   "cell_type": "markdown",
   "metadata": {},
   "source": [
    "上面的代码中，`urllib3` 是一个 HTTP 客户库（注意这是第三方库，需要先安装 `pip install urllib3`），通过这个库我们可以在程序中模拟一个“浏览器”去访问各种网址，通过这个库提供的功能得到一个 `HTTPResponse` 类型的对象 `r`，然后检查 `r` 携带的状态码 `r.status` 是不是 `200`，如是则表示 HTTP 访问成功，取得了我们想要的数据，否则打印出状态码退出。\n",
    "\n",
    "如果访问成功，关键的一行代码是这样的：`data = json.loads(r.data.decode('utf-8'))`，这行代码可以分解成几层：\n",
    "* `r.data`：HTTP 协议中定义的返回主数据，也就是我们通过协议实际申请的资源，是一个 JSON 格式的字符串；\n",
    "* `r.data.decode('utf-8')`：上述字符串是用 UTF-8 编码的，因为数据中很可能有中文等非 ASCII 字符，编码是为了在传输过程中兼容所有硬软件，这里我们用 Python 字符串的 `decode()` 方法来解码，得到的是一个解码之后的 JSON 格式字符串，里面所有字符都是原样了；\n",
    "* `json.loads(...)` 使用 `json` 库提供的方法加载一个 JSON 格式的字符串，输出一个 *dict* 类型的对象，是的，Python 中就是用 *dict* 对象来表示 JSON 格式数据的。"
   ]
  },
  {
   "cell_type": "markdown",
   "metadata": {},
   "source": [
    "如果一开始搞不清楚，我们可以在代码中插入 `print()` 来查看每一小步输出的是什么，试试看，会对整个过程了解得更加清楚。"
   ]
  },
  {
   "cell_type": "markdown",
   "metadata": {},
   "source": [
    "接下去我们就可以把 `data` 作为一个普通的 *dict* 对象来使用了，里面可能嵌套了好多层的 *dict* 和 *list* 对象："
   ]
  },
  {
   "cell_type": "code",
   "execution_count": 11,
   "metadata": {},
   "outputs": [
    {
     "data": {
      "text/plain": [
       "[]"
      ]
     },
     "execution_count": 11,
     "metadata": {},
     "output_type": "execute_result"
    }
   ],
   "source": [
    "# 请在这里输入代码\n",
    "data['data']['items']"
   ]
  },
  {
   "cell_type": "code",
   "execution_count": 12,
   "metadata": {},
   "outputs": [
    {
     "ename": "IndexError",
     "evalue": "list index out of range",
     "output_type": "error",
     "traceback": [
      "\u001b[1;31m---------------------------------------------------------------------------\u001b[0m",
      "\u001b[1;31mIndexError\u001b[0m                                Traceback (most recent call last)",
      "\u001b[1;32mC:\\Users\\ADMINI~1\\AppData\\Local\\Temp/ipykernel_13832/432414482.py\u001b[0m in \u001b[0;36m<module>\u001b[1;34m\u001b[0m\n\u001b[1;32m----> 1\u001b[1;33m \u001b[0mdata\u001b[0m\u001b[1;33m[\u001b[0m\u001b[1;34m'data'\u001b[0m\u001b[1;33m]\u001b[0m\u001b[1;33m[\u001b[0m\u001b[1;34m'items'\u001b[0m\u001b[1;33m]\u001b[0m\u001b[1;33m[\u001b[0m\u001b[1;36m0\u001b[0m\u001b[1;33m]\u001b[0m\u001b[1;33m[\u001b[0m\u001b[1;34m'clazzName'\u001b[0m\u001b[1;33m]\u001b[0m\u001b[1;33m\u001b[0m\u001b[1;33m\u001b[0m\u001b[0m\n\u001b[0m",
      "\u001b[1;31mIndexError\u001b[0m: list index out of range"
     ]
    }
   ],
   "source": [
    "data['data']['items'][0]['clazzName']"
   ]
  },
  {
   "cell_type": "markdown",
   "metadata": {},
   "source": [
    "除了本地数据文件和数据库管理系统，在线 Web 服务提供的数据接口也是一种非常重要的数据源，在互联网行业很多程序员不一定会与 *RDBMS* 打交道，但一定会和 Web 服务返回的 *JSON* 数据打交道。\n",
    "\n",
    "我们在第六部分介绍 Web 应用时会继续学习使用 *JSON* 数据。"
   ]
  },
  {
   "cell_type": "markdown",
   "metadata": {},
   "source": [
    "### SQLite 数据库"
   ]
  },
  {
   "cell_type": "markdown",
   "metadata": {},
   "source": [
    "#### 数据连接和游标"
   ]
  },
  {
   "cell_type": "markdown",
   "metadata": {},
   "source": [
    "前面介绍了两种文本型的数据格式，下面我们来看下数据库。首先看最轻量级的 *RDBMS*，[SQLite](https://www.sqlite.org/index.html)，SQLite 的数据库就是一个数据文件，下面例子使用的数据库文件 `flights.db` 已经放在 `assets` 自目录下。"
   ]
  },
  {
   "cell_type": "markdown",
   "metadata": {},
   "source": [
    "Python 提供了访问 SQLite 数据库的支持，在下面的例子之前我们需要先了解两个重要概念：\n",
    "\n",
    "第一个是“**数据连接**（*connection*）”。\n",
    "\n",
    "一个连接表示一个使用数据库的通道；创建 *connection* 之后可以通过这个通道来访问数据库，执行 SQL 命令，对数据做增删改查（*CRUD*），直到我们关闭它；`sqlite3` 库提供的 `connect` 方法可以建立一个数据库连接，指定 SQLite 数据库文件即可。\n",
    "\n",
    "第二个是“**数据游标**（*cursor*）”。\n",
    "\n",
    "我们知道 *cursor* 是鼠标指针，但在数据库领域，*cursor* 代表指向数据库里某一行数据的游标指针。我们告诉数据库要访问某个数据集（可能是一张表，也可能是一个数据查询结果集），这个数据集可能很大很大，数据库管理系统接受我们的指令后并不会把整个数据集全扔给我们，而是建立一个 *cursor* 指向这个数据集的第一行，然后把这个 *cursor* 交给我们，这样我们就可以用这个 *cursor* 来一行一行的获取和处理数据，而不需要担心一次取回太多数据。\n",
    "\n",
    "数据库管理系统通过 *connection* 和 *cursor* 与我们的程序来通信和协作，这个处理模式是为了确保效率和性能，不会被大数据量压垮。"
   ]
  },
  {
   "cell_type": "code",
   "execution_count": 19,
   "metadata": {},
   "outputs": [
    {
     "name": "stdout",
     "output_type": "stream",
     "text": [
      "('3364', 'Capital Intl', 'Beijing', 'PEK')\n",
      "('6817', 'Hongyuan Airfield', 'Hongyuan', None)\n",
      "('3366', 'Dongshan', 'Hailar', 'HLD')\n"
     ]
    }
   ],
   "source": [
    "# 请在这里输入代码\n",
    "import sqlite3\n",
    "\n",
    "try:\n",
    "    # 创建指向我们的数据文件的 SQLite 数据连接\n",
    "    conn = sqlite3.connect(\"assets/flights.db\")\n",
    "    cursor = conn.cursor()\n",
    "    \n",
    "    # 有几种方法可以把cursor定位到我们需要的数据集上，下面是最通用的办法，运行一条 sql 语句\n",
    "    cursor.execute('SELECT id, name, city, code FROM airports WHERE country=\"China\";')\n",
    "    # coursor 已经定位到上述select语句定义的数据集的首行。我们可以使用 cursor.fetchone()\n",
    "    # 函数，一次取一行。每次取回的数据是一个 tuple，里面是cursor指向的行里我们指定的各列\n",
    "    # 的值，fetch之后 cursor 会把自己向后移动一行\n",
    "    print(cursor.fetchone())\n",
    "    print(cursor.fetchone())\n",
    "    print(cursor.fetchone())\n",
    "finally:\n",
    "    # 打扫战场，关闭使用过的 cursor 和 connection\n",
    "    cursor.close()\n",
    "    conn.close()"
   ]
  },
  {
   "cell_type": "markdown",
   "metadata": {},
   "source": [
    "#### SQL 初见"
   ]
  },
  {
   "cell_type": "markdown",
   "metadata": {},
   "source": [
    "我们终于碰到了 SQL，知道了它大概长什么样。上面的 SQL 语句从机场表中取出了所有中国的机场，然后输出了几个关键字段：\n",
    "\n",
    "```SQL\n",
    "SELECT id, name, city, code FROM airports WHERE country=\"China\";\n",
    "```\n",
    "\n",
    "* `SELECT` 后面是要输出的列，可以有多个，用逗号 `,` 隔开，还可以用 `*` 代表所有列；\n",
    "* `FROM` 后面是要访问的表；\n",
    "* `WHERE` 后面是查询条件，符合条件的数据行才会被选出。\n",
    "\n",
    "所以上面的 SQL 意思是：从 airports 表中取出 country 列为 “China” 的所有行，输出这些行的 id, name, city, code 这几列。"
   ]
  },
  {
   "cell_type": "markdown",
   "metadata": {},
   "source": [
    "这句 *SQL* 语句只涉及到一张表，是最简单的情况，我们还可以在一条 *SQL* 中访问多张彼此关联的表，这时情况就复杂多了，这里不打算太深入讲 *SQL*，但可以举一个例子让你体会一下。"
   ]
  },
  {
   "cell_type": "markdown",
   "metadata": {},
   "source": [
    "**问题：查询所有从上海浦东飞出的航班，了解分别有哪些国家的哪些航空公司有从浦东飞出的航班。**\n",
    "\n",
    "我们的 `flights.db` 数据库里有三个表：\n",
    "* `airports` 表对应“机场”这个实体类型，里面有 8000 多个机场的数据，包括机场所在的国家、城市，机场的名称、代码和唯一 id 等信息；\n",
    "* `airlines` 表对应“航公公司”这个实体类型，里面有 6000 多个航空公司的数据，包括航公公司所属国家，公司名称和唯一 id 等信息；\n",
    "* `routes` 表对应“航线”这个实体类型，里面有 67000 多条航线的数据，里面有航线起始机场代码，还有运营这条航线的航空公司的 id 等信息。\n",
    "\n",
    "现在我们面临的问题中：\n",
    "* **已知条件**是起始机场的城市（“Shanghai”）和机场名称（“Pudong”），这些信息在 `airports` 表中；\n",
    "* **目标输出**是航线的起始机场，以及运营航线的航空公司所属国家及公司名称，这些信息分别在 `routes` 表和 `airlines` 表中。\n",
    "\n",
    "经过思考，我们可以确认：主要要查询的是“航线”这个实体类型，但输入条件是“机场”这个实体类型的属性，而输出包含了“航空公司”这个实体类型的一些属性。所以我们主要从 `routes` 这张表中 `SELECT`，但需要把另外两张表“关联起来”。\n",
    "\n",
    "表的关联，在关系模型中称为 `JOIN`，两张表发生关联需要指定一个条件，比如针对 `routes` 表中的这一行数据：\n",
    "\n",
    "`(index=867,airline=3U,airline_id=4608,source=PVG,...)`\n",
    "\n",
    "这一行里记录了航线的运营公司 airline_id=4608，这是一个外键，我们只要拿这个 `4608` 去 `airlines` 表中找，就能找到对应的航空公司信息。于是这两张表的关联条件可以写作：\n",
    "\n",
    "`airlines.id = routes.airline_id`\n",
    "\n",
    "下面就是我们完成任务的 SQL 语句：\n",
    "\n",
    "```SQL\n",
    "SELECT\n",
    "\tairlines.country,\n",
    "\tairlines.name,\n",
    "\troutes.source,\n",
    "\troutes.dest\n",
    "FROM\n",
    "\troutes\n",
    "\tJOIN airports ON routes.source = airports.code\n",
    "\tJOIN airlines ON airlines.id = routes.airline_id\n",
    "WHERE\n",
    "\tairports.city = \"Shanghai\"\n",
    "\tAND airports.name = \"Pudong\"\n",
    "ORDER BY\n",
    "\tairlines.country,\n",
    "\tairlines.name\n",
    "```\n",
    "\n",
    "主框架还是 `SELECT` `FROM`，`FROM` 后面是主表 `routes`，差别在于增加了两个 `JOIN...ON` 子句，从而把 `airports`、`airlines` 与主表关联起来，关联条件写在 `ON` 后面。\n",
    "\n",
    "关联之后，`SELECT` 后面的选取列就不限于 `routes` 表了，而是关联进来的表的列也可以选取输出，写法要指定 `表名.列名` 这样的格式，我们选择输出了 `airlines` 和 `routes` 表中的一共四个列。\n",
    "\n",
    "`WHERE` 子句中同样也不限于指定主表的条件，我们在这里指定了 `airports` 表的两个条件。\n",
    "\n",
    "最后，我们可以指定输出结果的排序方式，这里用航空公司的所属国家和公司名来排序。下一节我们会用这个 SQL 来做例子，就能看到输出的结果了。"
   ]
  },
  {
   "cell_type": "markdown",
   "metadata": {},
   "source": [
    "SQL 语言不仅可以用 `SELECT` 语句查询数据返回结果数据集，还可以增加删除和修改数据，用的是 `INSERT`、`DELETE`、`UPDATE` 这些语句，下面会讲。"
   ]
  },
  {
   "cell_type": "markdown",
   "metadata": {},
   "source": [
    "#### 用 pandas 加载数据"
   ]
  },
  {
   "cell_type": "markdown",
   "metadata": {},
   "source": [
    "我们也可以用 pandas 来加载 SQLite 数据库，从而利用 pandas 强大的 `DataFrame` 对象。"
   ]
  },
  {
   "cell_type": "markdown",
   "metadata": {},
   "source": [
    "诀窍在 `DataFrame` 提供的 `read_sql_query` 方法，这个方法接受两个参数，第一个是要执行的 SQL 语句，第二个是用于数据访问的数据连接对象。\n",
    "\n",
    "下面我们用前一节的那个比较复杂的 SQL 作为例子，查询所有从上海浦东出发的航线，分别是哪些国家的哪些航空公司运营的。"
   ]
  },
  {
   "cell_type": "code",
   "execution_count": 20,
   "metadata": {},
   "outputs": [
    {
     "data": {
      "text/html": [
       "<div>\n",
       "<style scoped>\n",
       "    .dataframe tbody tr th:only-of-type {\n",
       "        vertical-align: middle;\n",
       "    }\n",
       "\n",
       "    .dataframe tbody tr th {\n",
       "        vertical-align: top;\n",
       "    }\n",
       "\n",
       "    .dataframe thead th {\n",
       "        text-align: right;\n",
       "    }\n",
       "</style>\n",
       "<table border=\"1\" class=\"dataframe\">\n",
       "  <thead>\n",
       "    <tr style=\"text-align: right;\">\n",
       "      <th></th>\n",
       "      <th>country</th>\n",
       "      <th>name</th>\n",
       "      <th>source</th>\n",
       "      <th>dest</th>\n",
       "    </tr>\n",
       "  </thead>\n",
       "  <tbody>\n",
       "    <tr>\n",
       "      <th>0</th>\n",
       "      <td>Albania</td>\n",
       "      <td>Albanian Airlines</td>\n",
       "      <td>PVG</td>\n",
       "      <td>MLE</td>\n",
       "    </tr>\n",
       "    <tr>\n",
       "      <th>1</th>\n",
       "      <td>Australia</td>\n",
       "      <td>Qantas</td>\n",
       "      <td>PVG</td>\n",
       "      <td>MEL</td>\n",
       "    </tr>\n",
       "    <tr>\n",
       "      <th>2</th>\n",
       "      <td>Australia</td>\n",
       "      <td>Qantas</td>\n",
       "      <td>PVG</td>\n",
       "      <td>SYD</td>\n",
       "    </tr>\n",
       "    <tr>\n",
       "      <th>3</th>\n",
       "      <td>Brunei</td>\n",
       "      <td>Royal Brunei Airlines</td>\n",
       "      <td>PVG</td>\n",
       "      <td>BWN</td>\n",
       "    </tr>\n",
       "    <tr>\n",
       "      <th>4</th>\n",
       "      <td>Cambodia</td>\n",
       "      <td>Cambodia Angkor Air (K6)</td>\n",
       "      <td>PVG</td>\n",
       "      <td>PNH</td>\n",
       "    </tr>\n",
       "  </tbody>\n",
       "</table>\n",
       "</div>"
      ],
      "text/plain": [
       "     country                      name source dest\n",
       "0    Albania         Albanian Airlines    PVG  MLE\n",
       "1  Australia                    Qantas    PVG  MEL\n",
       "2  Australia                    Qantas    PVG  SYD\n",
       "3     Brunei     Royal Brunei Airlines    PVG  BWN\n",
       "4   Cambodia  Cambodia Angkor Air (K6)    PVG  PNH"
      ]
     },
     "execution_count": 20,
     "metadata": {},
     "output_type": "execute_result"
    }
   ],
   "source": [
    "# 请在这里输入代码\n",
    "import sqlite3\n",
    "import pandas as pd\n",
    "\n",
    "sql = 'SELECT airlines.country, airlines.name, routes.source, routes.dest \\\n",
    "    FROM routes JOIN airports ON routes.source=airports.code JOIN airlines ON airlines.id=routes.airline_id \\\n",
    "    WHERE airports.city=\"Shanghai\" AND airports.name=\"Pudong\" ORDER BY airlines.country, airlines.name'\n",
    "conn = sqlite3.connect(\"assets/flights.db\")\n",
    "df = pd.read_sql_query(sql, conn)\n",
    "df.head()"
   ]
  },
  {
   "cell_type": "code",
   "execution_count": 21,
   "metadata": {},
   "outputs": [
    {
     "data": {
      "text/html": [
       "<div>\n",
       "<style scoped>\n",
       "    .dataframe tbody tr th:only-of-type {\n",
       "        vertical-align: middle;\n",
       "    }\n",
       "\n",
       "    .dataframe tbody tr th {\n",
       "        vertical-align: top;\n",
       "    }\n",
       "\n",
       "    .dataframe thead th {\n",
       "        text-align: right;\n",
       "    }\n",
       "</style>\n",
       "<table border=\"1\" class=\"dataframe\">\n",
       "  <thead>\n",
       "    <tr style=\"text-align: right;\">\n",
       "      <th></th>\n",
       "      <th>country</th>\n",
       "      <th>name</th>\n",
       "      <th>source</th>\n",
       "      <th>dest</th>\n",
       "    </tr>\n",
       "  </thead>\n",
       "  <tbody>\n",
       "    <tr>\n",
       "      <th>0</th>\n",
       "      <td>Albania</td>\n",
       "      <td>Albanian Airlines</td>\n",
       "      <td>PVG</td>\n",
       "      <td>MLE</td>\n",
       "    </tr>\n",
       "    <tr>\n",
       "      <th>1</th>\n",
       "      <td>Australia</td>\n",
       "      <td>Qantas</td>\n",
       "      <td>PVG</td>\n",
       "      <td>MEL</td>\n",
       "    </tr>\n",
       "    <tr>\n",
       "      <th>2</th>\n",
       "      <td>Australia</td>\n",
       "      <td>Qantas</td>\n",
       "      <td>PVG</td>\n",
       "      <td>SYD</td>\n",
       "    </tr>\n",
       "    <tr>\n",
       "      <th>3</th>\n",
       "      <td>Brunei</td>\n",
       "      <td>Royal Brunei Airlines</td>\n",
       "      <td>PVG</td>\n",
       "      <td>BWN</td>\n",
       "    </tr>\n",
       "    <tr>\n",
       "      <th>4</th>\n",
       "      <td>Cambodia</td>\n",
       "      <td>Cambodia Angkor Air (K6)</td>\n",
       "      <td>PVG</td>\n",
       "      <td>PNH</td>\n",
       "    </tr>\n",
       "    <tr>\n",
       "      <th>...</th>\n",
       "      <td>...</td>\n",
       "      <td>...</td>\n",
       "      <td>...</td>\n",
       "      <td>...</td>\n",
       "    </tr>\n",
       "    <tr>\n",
       "      <th>406</th>\n",
       "      <td>United States</td>\n",
       "      <td>United Airlines</td>\n",
       "      <td>PVG</td>\n",
       "      <td>ORD</td>\n",
       "    </tr>\n",
       "    <tr>\n",
       "      <th>407</th>\n",
       "      <td>United States</td>\n",
       "      <td>United Airlines</td>\n",
       "      <td>PVG</td>\n",
       "      <td>SFO</td>\n",
       "    </tr>\n",
       "    <tr>\n",
       "      <th>408</th>\n",
       "      <td>Vietnam</td>\n",
       "      <td>Vietnam Airlines</td>\n",
       "      <td>PVG</td>\n",
       "      <td>DAD</td>\n",
       "    </tr>\n",
       "    <tr>\n",
       "      <th>409</th>\n",
       "      <td>Vietnam</td>\n",
       "      <td>Vietnam Airlines</td>\n",
       "      <td>PVG</td>\n",
       "      <td>HAN</td>\n",
       "    </tr>\n",
       "    <tr>\n",
       "      <th>410</th>\n",
       "      <td>Vietnam</td>\n",
       "      <td>Vietnam Airlines</td>\n",
       "      <td>PVG</td>\n",
       "      <td>SGN</td>\n",
       "    </tr>\n",
       "  </tbody>\n",
       "</table>\n",
       "<p>411 rows × 4 columns</p>\n",
       "</div>"
      ],
      "text/plain": [
       "           country                      name source dest\n",
       "0          Albania         Albanian Airlines    PVG  MLE\n",
       "1        Australia                    Qantas    PVG  MEL\n",
       "2        Australia                    Qantas    PVG  SYD\n",
       "3           Brunei     Royal Brunei Airlines    PVG  BWN\n",
       "4         Cambodia  Cambodia Angkor Air (K6)    PVG  PNH\n",
       "..             ...                       ...    ...  ...\n",
       "406  United States           United Airlines    PVG  ORD\n",
       "407  United States           United Airlines    PVG  SFO\n",
       "408        Vietnam          Vietnam Airlines    PVG  DAD\n",
       "409        Vietnam          Vietnam Airlines    PVG  HAN\n",
       "410        Vietnam          Vietnam Airlines    PVG  SGN\n",
       "\n",
       "[411 rows x 4 columns]"
      ]
     },
     "execution_count": 21,
     "metadata": {},
     "output_type": "execute_result"
    }
   ],
   "source": [
    "df"
   ]
  },
  {
   "cell_type": "code",
   "execution_count": 22,
   "metadata": {},
   "outputs": [
    {
     "data": {
      "text/plain": [
       "41"
      ]
     },
     "execution_count": 22,
     "metadata": {},
     "output_type": "execute_result"
    }
   ],
   "source": [
    "# 请在这里输入代码\n",
    "len(set(df['country']))"
   ]
  },
  {
   "cell_type": "code",
   "execution_count": 23,
   "metadata": {},
   "outputs": [
    {
     "data": {
      "text/plain": [
       "65"
      ]
     },
     "execution_count": 23,
     "metadata": {},
     "output_type": "execute_result"
    }
   ],
   "source": [
    "len(set(df['name']))"
   ]
  },
  {
   "cell_type": "code",
   "execution_count": 24,
   "metadata": {},
   "outputs": [
    {
     "name": "stdout",
     "output_type": "stream",
     "text": [
      "总计 41 个国家的 65 家航空公司有从浦东飞出的航线。\n"
     ]
    }
   ],
   "source": [
    "print(f\"总计 {len(set(df['country']))} 个国家的 {len(set(df['name']))} 家航空公司有从浦东飞出的航线。\")"
   ]
  },
  {
   "cell_type": "markdown",
   "metadata": {},
   "source": [
    "这里 `df` 是一个数据集对象（即 `DataFrame` 类的对象），`df[\"contry\"]` 取出数据集中 `country` 这一整列（是一个 *iterable* 对象），然后用 `set()` 函数将其转换为集合，从而去掉了所有重复的国家，最后用 `len()` 函数就得到集合元素个数，也就是不重复的国家数目，这是使用 pandas 数据集时常用的方法，后面统计航空公司数目也是一样的方法。\n",
    "\n",
    "最后，用完不要忘记关闭数据库："
   ]
  },
  {
   "cell_type": "code",
   "execution_count": 26,
   "metadata": {},
   "outputs": [],
   "source": [
    "# 请在这里输入代码\n",
    "conn.close()"
   ]
  },
  {
   "cell_type": "markdown",
   "metadata": {},
   "source": [
    "顺便说一句，pandas 可以方便的帮助我们把数据集转存为 CSV 或者 JSON 格式的文件，分别使用 `DataFrame` 的 `to_csv()` 和 `to_json()` 方法即可，具体可以参考[官方文档](https://pandas.pydata.org/pandas-docs/stable/reference/api/pandas.DataFrame.html)。"
   ]
  },
  {
   "cell_type": "markdown",
   "metadata": {},
   "source": [
    "### MySQL 数据库"
   ]
  },
  {
   "cell_type": "markdown",
   "metadata": {},
   "source": [
    "MySQL 是目前世界上应用最多的数据库，根据 [Datanyze 的统计](https://www.datanyze.com/market-share/databases/mysql-market-share)，MySQL 目前占超过 46% 的市场份额，第二和第三名分别是 PostgreSQL 和 Microsoft SQL Server，份额分别为 10.11% 和 9.28%，可见优势之巨大。"
   ]
  },
  {
   "cell_type": "markdown",
   "metadata": {},
   "source": [
    "MySQL 从 RDBMS 的角度来说，历史悠久功能强大而完备，远非轻量级的 SQLite 能比，但是基本的使用套路和 SQLite 没有太大的区别，也是 *connection* 和 *cursor* 那一套。不过 MySQL 本身比 SQLite 复杂很多，不是一个数据文件加一个库就能搞定，必须安装 MySQL 服务和专属的客户端库才能使用，关于 MySQL 服务环境的准备可以参考[这篇指南](x5-mysql-setup.ipynb)。\n",
    "\n",
    "如果配置环境不顺利，也不要紧，目前阶段从下面的例子中获得一些感性认识就够了。"
   ]
  },
  {
   "cell_type": "markdown",
   "metadata": {},
   "source": [
    "在继续之前我们还需要安装最新的 MySQL Connector/Python：`pip install mysql-connector-python`，这是我们在 Python 程序中连接 MySQL 的客户端支持库，提供了连接 MySQL 服务访问数据的能力，相当于我们前面使用的 `sqlite3` 库。"
   ]
  },
  {
   "cell_type": "markdown",
   "metadata": {},
   "source": [
    "#### 数据连接和访问"
   ]
  },
  {
   "cell_type": "markdown",
   "metadata": {},
   "source": [
    "下面的部分假定本机已有安装好的 MySQL 服务，已准备好 `fifa19` 数据库，里面有我们从 [Kagger](https://www.kaggle.com/karangadiya/fifa19) 下载并导入的数据，游戏 FIFA19 里所有球员的详细数据，存放于名为 `players` 的表中；MySQL 中已创建用户 `learn` 拥有访问此 `fifa19` 数据库的权限。\n",
    "\n",
    "> 如果按照[这篇指南](x5-mysql-setup.ipynb)安装和配置好了本地的 MySQL 数据库，那么可能在你的系统里这个数据库名叫 `demo`，下面代码中 `database = 'fifa19'` 需要改为 `database = 'demo'`。\n",
    "> \n",
    "> 总之配置 MySQL 连接时，`host` `user` `passwd` `database` 这四个参数对应 MySQL 服务的地址、用户名、密码和数据库名，根据你的环境设置即可。"
   ]
  },
  {
   "cell_type": "code",
   "execution_count": 1,
   "metadata": {},
   "outputs": [],
   "source": [
    "# 请在这里输入代码\n",
    "import mysql.connector as mysql\n",
    "import pandas as pd\n",
    "\n",
    "conn = mysql.connect(\n",
    "    host = 'localhost',\n",
    "    user = 'root',\n",
    "    password = '071199',\n",
    "    database = 'demo'\n",
    ")\n",
    "\n",
    "sql = 'SELECT Name, Age, Nationality FROM players WHERE Club Like  \"%Barcelona%\";'"
   ]
  },
  {
   "cell_type": "markdown",
   "metadata": {},
   "source": [
    "创建好数据连接之后，和前面 SQLite 一样，既可以使用基本的 `cursor` 方法，也可以使用 pandas 提供的 `DataFrame` 对象来访问数据。"
   ]
  },
  {
   "cell_type": "code",
   "execution_count": 3,
   "metadata": {},
   "outputs": [
    {
     "name": "stdout",
     "output_type": "stream",
     "text": [
      "[('L. Messi', 31, 'Argentina'), ('L. Su?rez', 31, 'Uruguay'), ('M. ter Stegen', 26, 'Germany')]\n"
     ]
    },
    {
     "data": {
      "text/plain": [
       "True"
      ]
     },
     "execution_count": 3,
     "metadata": {},
     "output_type": "execute_result"
    }
   ],
   "source": [
    "# 请在这里输入代码\n",
    "cursor = conn.cursor(buffered=True)  # mysql connector 的一个怪癖，必须在创建cursor的时候指定 buffered=True\n",
    "cursor.execute(sql)\n",
    "print(cursor.fetchmany(3))\n",
    "cursor.close()  # 用完就关是个好习惯"
   ]
  },
  {
   "cell_type": "code",
   "execution_count": 4,
   "metadata": {},
   "outputs": [
    {
     "name": "stderr",
     "output_type": "stream",
     "text": [
      "D:\\program_files\\conda\\lib\\site-packages\\pandas\\io\\sql.py:761: UserWarning: pandas only support SQLAlchemy connectable(engine/connection) ordatabase string URI or sqlite3 DBAPI2 connectionother DBAPI2 objects are not tested, please consider using SQLAlchemy\n",
      "  warnings.warn(\n"
     ]
    },
    {
     "data": {
      "text/html": [
       "<div>\n",
       "<style scoped>\n",
       "    .dataframe tbody tr th:only-of-type {\n",
       "        vertical-align: middle;\n",
       "    }\n",
       "\n",
       "    .dataframe tbody tr th {\n",
       "        vertical-align: top;\n",
       "    }\n",
       "\n",
       "    .dataframe thead th {\n",
       "        text-align: right;\n",
       "    }\n",
       "</style>\n",
       "<table border=\"1\" class=\"dataframe\">\n",
       "  <thead>\n",
       "    <tr style=\"text-align: right;\">\n",
       "      <th></th>\n",
       "      <th>Name</th>\n",
       "      <th>Age</th>\n",
       "      <th>Nationality</th>\n",
       "    </tr>\n",
       "  </thead>\n",
       "  <tbody>\n",
       "    <tr>\n",
       "      <th>0</th>\n",
       "      <td>L. Messi</td>\n",
       "      <td>31</td>\n",
       "      <td>Argentina</td>\n",
       "    </tr>\n",
       "    <tr>\n",
       "      <th>1</th>\n",
       "      <td>L. Su?rez</td>\n",
       "      <td>31</td>\n",
       "      <td>Uruguay</td>\n",
       "    </tr>\n",
       "    <tr>\n",
       "      <th>2</th>\n",
       "      <td>M. ter Stegen</td>\n",
       "      <td>26</td>\n",
       "      <td>Germany</td>\n",
       "    </tr>\n",
       "    <tr>\n",
       "      <th>3</th>\n",
       "      <td>Sergio Busquets</td>\n",
       "      <td>29</td>\n",
       "      <td>Spain</td>\n",
       "    </tr>\n",
       "    <tr>\n",
       "      <th>4</th>\n",
       "      <td>Coutinho</td>\n",
       "      <td>26</td>\n",
       "      <td>Brazil</td>\n",
       "    </tr>\n",
       "  </tbody>\n",
       "</table>\n",
       "</div>"
      ],
      "text/plain": [
       "              Name  Age Nationality\n",
       "0         L. Messi   31   Argentina\n",
       "1        L. Su?rez   31     Uruguay\n",
       "2    M. ter Stegen   26     Germany\n",
       "3  Sergio Busquets   29       Spain\n",
       "4         Coutinho   26      Brazil"
      ]
     },
     "execution_count": 4,
     "metadata": {},
     "output_type": "execute_result"
    }
   ],
   "source": [
    "# 请在这里输入代码\n",
    "df = pd.read_sql(sql, conn)\n",
    "df.head()"
   ]
  },
  {
   "cell_type": "markdown",
   "metadata": {},
   "source": [
    "从上面的代码可以看出，和前面 SQLite 的区别只在于导入了不同的库，创建 *connection* 的方法有些差别，后面都是一样的。"
   ]
  },
  {
   "cell_type": "markdown",
   "metadata": {},
   "source": [
    "用完之后不要忘记关闭数据连接，和 SQLite 这样单用户的文件型数据库不一样，MySQL 是面向多用户使用的服务，打开一个数据连接，获取数据可能会某种程度的“锁住”数据资源，让别的操作无法进行，比如我们刚才的操作对 `players` 全表执行读操作，这会导致对这个表的数据结构的调整无法进行。所以在 MySQL 这样的多用户数据库环境下， 一定要做个好公民，只使用必要的数据资源，用完立刻释放："
   ]
  },
  {
   "cell_type": "code",
   "execution_count": 5,
   "metadata": {},
   "outputs": [],
   "source": [
    "# 请在这里输入代码\n",
    "conn.close()"
   ]
  },
  {
   "cell_type": "markdown",
   "metadata": {},
   "source": [
    "#### 数据事务和锁"
   ]
  },
  {
   "cell_type": "markdown",
   "metadata": {},
   "source": [
    "前面我们的例子全都是读数据的例子，应用程序对数据只读不写是不可能的， 写数据又是什么样子呢？\n",
    "\n",
    "类似 MySQL 这样的多用户数据库系统，通常都会有许多数据连接同时访问数据库（可能来自同一个应用也可能来自不同的应用），要处理好写数据是个非常有挑战的事情，设想几个场景：\n",
    "1. 如果一个数据连接正在读取一行数据，另一个连接请求修改甚至删除这行数据，怎么办？\n",
    "2. 如果一个数据连接正在修改一行数据，另一个连接也要修改这个数据怎么办？\n",
    "3. 如果两个数据连接同时请求同一行数据，一个要读一个要写，先满足哪个？\n",
    "4. 如果一个数据连接正在访问某行数据，另一个连接请求修改这行数据所在数据表的结构（比如删除一个列或者增加一个索引）怎么办？\n",
    "5. 如果一个数据连接读取一个数，对其加一然后写回去，这个操作进行到一半另一个连接修改了这个数怎么办？\n",
    "\n",
    "想想就头大对不对？"
   ]
  },
  {
   "cell_type": "markdown",
   "metadata": {},
   "source": [
    "*RDBMS* 发展的几十年里，这些问题都有了确定的答案。*RDBMS* 的设计倾向是牺牲一些并发能力（同时访问数据的请求数量受到一定限制），但确保数据的完整性和一致性。目前主流的 *RDBMS* 系统都能满足绝大部分应用的并发需要，同时在几乎所有情况下都能保证数据完整和一致；我们之前也提到过，特别高并发的业务场景，经过业务设计和应用设计的优化仍然无法降低对数据库的并发读写需要的，就需要使用别的数据存储方案了，比如下面会提到的 Redis 这样的内存 *key-value* 存储。"
   ]
  },
  {
   "cell_type": "markdown",
   "metadata": {},
   "source": [
    "在这个设计原则之上，*RDBMS* 的设计和实现者们设计了一系列机制来解决前面的五个问题（以及其他类似的问题），其中针对前面几个问题的主要机制是“锁”，针对最后一个的是“事务”。"
   ]
  },
  {
   "cell_type": "markdown",
   "metadata": {},
   "source": [
    "所谓“**锁（*lock*）**”就是给一块数据临时打上一个标记，禁止其他请求访问，用完了再解锁。加锁和解锁都是由 *RDBMS* 自动进行的，不需要应用端做什么。也就是说，虽然整个数据库是多用户的，可以被很多应用共用，但是具体到某块数据，一次只能一个用户来，排队使用，这差不多就是锁的基本概念了。然后为了提高数据库性能，让尽可能多的事情可以同时做，而不是什么都需要排队，*RDBMS* 对锁的机制进行了很多的优化，各个厂商的数据库产品会有差别，下面讲的是一些一般性思路：\n",
    "* 根据数据读写的特点区分出两种锁：共享锁（读锁）和排它锁（写锁）。当读一块数据的时候加共享锁，这时候其他请求依然可以读这块数据，但不能写；当写一块数据时加排他锁，其他请求不可以读写这块数据。这是非常合理的，而且带来了很大的性能提升，因为在数据库操作中，读操作远远多于写，共享锁确保了所有的读操作都可以并发进行。\n",
    "* 根据数据访问的性质区分出两种不同粒度的锁：行级锁和表级锁，行锁一次锁一行数据，表里其他行不受限制，表锁一次锁整表，所有行都受限制。显然行锁能有更好的并发表现，但是行锁在数据库这边有更高的开销，加锁解锁都更慢，所以 *RDBMS* 对行锁和表锁都是有选择的使用在最适合的场合。\n",
    "\n",
    "主流的 *RDBMS* 产品还有很多更加细致的锁设计，我们就不展开了，绝大部分问题 *RDBMS* 都处理的很好，少数情况会有专职的 DBA（数据库管理员，对 *DBMS* 的实现细节更加了解，专门负责维护和优化 DBMS 的技术人员）来处理。对于编写应用程序的程序员来说，最重要的是时刻牢记**数据库是高度共享的资源，在访问数据库时努力做个好公民，通过应用本身的设计优化保证每次数据库读写请求都足够快，并及时释放占用的资源**。"
   ]
  },
  {
   "cell_type": "markdown",
   "metadata": {},
   "source": [
    "而“**事务**（*transaction*）”则是为了保证一组操作的完整性而引入的。\n",
    "\n",
    "所谓事务就是一组操作，这组操作要么全部成功，要么一点也不做；如果做了一半失败了，*RDBMS* 会自动回滚（*rollback*）到事务开始前的状态。\n",
    "\n",
    "和锁不一样，事务是应用开发者需要直接操作的概念，哪些操作属于同一个事务，是由具体业务决定的，所以事务的开始和结束必须由应用端指定。主流的编程语言和数据库访问工具都提供完备的手段来帮助我们管理事务——当然，是与 *RDBMS* 配合完成的。"
   ]
  },
  {
   "cell_type": "markdown",
   "metadata": {},
   "source": [
    "需要使用事务的场合很多，比如甲借钱给乙，从数据库视角来说，就是甲的资金余额减去 X，然后乙的资金余额加上 X，这两个操作分属两个不同的数据行，这两个操作要么都成功（交易完成），要么都不做（交易失败，状态回滚）。再比如计数器，假设我们想统计用户的点击次数，我们在数据库里放一个计数器，每有用户点击就加一，那么用户点击时我们要做两件事，先取出计数器当前的值 N，然后把 N+1 写回去，这两个操作也必须连续完整执行，如果分开做，万一读出 N 之后别人对计数器做了加一操作，计数器已经变成 N+1 甚至更大的数了，我们再把 N+1  写回去，这个数就错了。"
   ]
  },
  {
   "cell_type": "markdown",
   "metadata": {},
   "source": [
    "当我们分析完业务，确认某几件事需要打包处理，那么我们就可以在程序要开始一个事务，按照顺序执行我们需要的数据库操作，最后提交整个事务，*RDBMS* 就会完成剩下的工作，最后告诉我们事务成功还是回滚了，然后我们可以相应的做善后处理。只要我们标记了事务的开始和结束，*RDBMS* 会保证事务中的操作要么全部成功，要么全部回滚。"
   ]
  },
  {
   "cell_type": "markdown",
   "metadata": {},
   "source": [
    "注意事务的维持是需要代价的，一个事务持续的时间越长，数据库就有越多的状态处在不确定中（成功还是回滚），也意味着越多数据被锁定无法访问，大大影响其他人使用这些数据。所以我们设计应用时应该尽可能减少对事务的依赖，只用在不得不用的场合，用的时候也努力让事务更简单、可以更快完成。"
   ]
  },
  {
   "cell_type": "markdown",
   "metadata": {},
   "source": [
    "#### 用事务操作数据"
   ]
  },
  {
   "cell_type": "markdown",
   "metadata": {},
   "source": [
    "下面我们简单示范在 Python 中操作数据的方法，以及如何使用 MySQL 的事务。继续使用 `demo` 数据库。"
   ]
  },
  {
   "cell_type": "code",
   "execution_count": 10,
   "metadata": {},
   "outputs": [],
   "source": [
    "# 请在这里输入代码\n",
    "import mysql.connector as mysql\n",
    "\n",
    "conn = mysql.connect(\n",
    "    host='localhost',\n",
    "    user='root',\n",
    "    password='071199',\n",
    "    database='demo')"
   ]
  },
  {
   "cell_type": "code",
   "execution_count": 11,
   "metadata": {},
   "outputs": [
    {
     "ename": "ProgrammingError",
     "evalue": "1050 (42S01): Table 'users' already exists",
     "output_type": "error",
     "traceback": [
      "\u001b[1;31m--------------------------------------------------\u001b[0m",
      "\u001b[1;31mMySQLInterfaceError\u001b[0mTraceback (most recent call last)",
      "File \u001b[1;32mD:\\program_files\\conda\\lib\\site-packages\\mysql\\connector\\connection_cext.py:535\u001b[0m, in \u001b[0;36mCMySQLConnection.cmd_query\u001b[1;34m(self, query, raw, buffered, raw_as_string)\u001b[0m\n\u001b[0;32m    534\u001b[0m         query \u001b[38;5;241m=\u001b[39m query\u001b[38;5;241m.\u001b[39mencode(\u001b[38;5;124m'\u001b[39m\u001b[38;5;124mutf-8\u001b[39m\u001b[38;5;124m'\u001b[39m)\n\u001b[1;32m--> 535\u001b[0m     \u001b[38;5;28;43mself\u001b[39;49m\u001b[38;5;241;43m.\u001b[39;49m\u001b[43m_cmysql\u001b[49m\u001b[38;5;241;43m.\u001b[39;49m\u001b[43mquery\u001b[49m\u001b[43m(\u001b[49m\u001b[43mquery\u001b[49m\u001b[43m,\u001b[49m\n\u001b[0;32m    536\u001b[0m \u001b[43m                       \u001b[49m\u001b[43mraw\u001b[49m\u001b[38;5;241;43m=\u001b[39;49m\u001b[43mraw\u001b[49m\u001b[43m,\u001b[49m\u001b[43m \u001b[49m\u001b[43mbuffered\u001b[49m\u001b[38;5;241;43m=\u001b[39;49m\u001b[43mbuffered\u001b[49m\u001b[43m,\u001b[49m\n\u001b[0;32m    537\u001b[0m \u001b[43m                       \u001b[49m\u001b[43mraw_as_string\u001b[49m\u001b[38;5;241;43m=\u001b[39;49m\u001b[43mraw_as_string\u001b[49m\u001b[43m,\u001b[49m\n\u001b[0;32m    538\u001b[0m \u001b[43m                       \u001b[49m\u001b[43mquery_attrs\u001b[49m\u001b[38;5;241;43m=\u001b[39;49m\u001b[38;5;28;43mself\u001b[39;49m\u001b[38;5;241;43m.\u001b[39;49m\u001b[43m_query_attrs\u001b[49m\u001b[43m)\u001b[49m\n\u001b[0;32m    539\u001b[0m \u001b[38;5;28;01mexcept\u001b[39;00m MySQLInterfaceError \u001b[38;5;28;01mas\u001b[39;00m exc:\n",
      "\u001b[1;31mMySQLInterfaceError\u001b[0m: Table 'users' already exists",
      "\nDuring handling of the above exception, another exception occurred:\n",
      "\u001b[1;31mProgrammingError\u001b[0m Traceback (most recent call last)",
      "Input \u001b[1;32mIn [11]\u001b[0m, in \u001b[0;36m<cell line: 3>\u001b[1;34m()\u001b[0m\n\u001b[0;32m      1\u001b[0m \u001b[38;5;66;03m# 请在这里输入代码\u001b[39;00m\n\u001b[0;32m      2\u001b[0m cursor \u001b[38;5;241m=\u001b[39m conn\u001b[38;5;241m.\u001b[39mcursor()\n\u001b[1;32m----> 3\u001b[0m \u001b[43mcursor\u001b[49m\u001b[38;5;241;43m.\u001b[39;49m\u001b[43mexecute\u001b[49m\u001b[43m(\u001b[49m\u001b[38;5;124;43m\"\u001b[39;49m\u001b[38;5;124;43mCREATE TABLE users (id INT(11) NOT NULL AUTO_INCREMENT PRIMARY KEY, username VARCHAR(255), firstname VARCHAR(255), lastname VARCHAR(255))\u001b[39;49m\u001b[38;5;124;43m\"\u001b[39;49m\u001b[43m)\u001b[49m\n",
      "File \u001b[1;32mD:\\program_files\\conda\\lib\\site-packages\\mysql\\connector\\cursor_cext.py:269\u001b[0m, in \u001b[0;36mCMySQLCursor.execute\u001b[1;34m(self, operation, params, multi)\u001b[0m\n\u001b[0;32m    265\u001b[0m             \u001b[38;5;28;01mraise\u001b[39;00m errors\u001b[38;5;241m.\u001b[39mProgrammingError(\n\u001b[0;32m    266\u001b[0m                 \u001b[38;5;124m\"\u001b[39m\u001b[38;5;124mNot all parameters were used in the SQL statement\u001b[39m\u001b[38;5;124m\"\u001b[39m)\n\u001b[0;32m    268\u001b[0m \u001b[38;5;28;01mtry\u001b[39;00m:\n\u001b[1;32m--> 269\u001b[0m     result \u001b[38;5;241m=\u001b[39m \u001b[38;5;28;43mself\u001b[39;49m\u001b[38;5;241;43m.\u001b[39;49m\u001b[43m_cnx\u001b[49m\u001b[38;5;241;43m.\u001b[39;49m\u001b[43mcmd_query\u001b[49m\u001b[43m(\u001b[49m\u001b[43mstmt\u001b[49m\u001b[43m,\u001b[49m\u001b[43m \u001b[49m\u001b[43mraw\u001b[49m\u001b[38;5;241;43m=\u001b[39;49m\u001b[38;5;28;43mself\u001b[39;49m\u001b[38;5;241;43m.\u001b[39;49m\u001b[43m_raw\u001b[49m\u001b[43m,\u001b[49m\n\u001b[0;32m    270\u001b[0m \u001b[43m                                 \u001b[49m\u001b[43mbuffered\u001b[49m\u001b[38;5;241;43m=\u001b[39;49m\u001b[38;5;28;43mself\u001b[39;49m\u001b[38;5;241;43m.\u001b[39;49m\u001b[43m_buffered\u001b[49m\u001b[43m,\u001b[49m\n\u001b[0;32m    271\u001b[0m \u001b[43m                                 \u001b[49m\u001b[43mraw_as_string\u001b[49m\u001b[38;5;241;43m=\u001b[39;49m\u001b[38;5;28;43mself\u001b[39;49m\u001b[38;5;241;43m.\u001b[39;49m\u001b[43m_raw_as_string\u001b[49m\u001b[43m)\u001b[49m\n\u001b[0;32m    272\u001b[0m \u001b[38;5;28;01mexcept\u001b[39;00m MySQLInterfaceError \u001b[38;5;28;01mas\u001b[39;00m exc:\n\u001b[0;32m    273\u001b[0m     \u001b[38;5;28;01mraise\u001b[39;00m errors\u001b[38;5;241m.\u001b[39mget_mysql_exception(msg\u001b[38;5;241m=\u001b[39mexc\u001b[38;5;241m.\u001b[39mmsg, errno\u001b[38;5;241m=\u001b[39mexc\u001b[38;5;241m.\u001b[39merrno,\n\u001b[0;32m    274\u001b[0m                                      sqlstate\u001b[38;5;241m=\u001b[39mexc\u001b[38;5;241m.\u001b[39msqlstate)\n",
      "File \u001b[1;32mD:\\program_files\\conda\\lib\\site-packages\\mysql\\connector\\connection_cext.py:540\u001b[0m, in \u001b[0;36mCMySQLConnection.cmd_query\u001b[1;34m(self, query, raw, buffered, raw_as_string)\u001b[0m\n\u001b[0;32m    535\u001b[0m     \u001b[38;5;28mself\u001b[39m\u001b[38;5;241m.\u001b[39m_cmysql\u001b[38;5;241m.\u001b[39mquery(query,\n\u001b[0;32m    536\u001b[0m                        raw\u001b[38;5;241m=\u001b[39mraw, buffered\u001b[38;5;241m=\u001b[39mbuffered,\n\u001b[0;32m    537\u001b[0m                        raw_as_string\u001b[38;5;241m=\u001b[39mraw_as_string,\n\u001b[0;32m    538\u001b[0m                        query_attrs\u001b[38;5;241m=\u001b[39m\u001b[38;5;28mself\u001b[39m\u001b[38;5;241m.\u001b[39m_query_attrs)\n\u001b[0;32m    539\u001b[0m \u001b[38;5;28;01mexcept\u001b[39;00m MySQLInterfaceError \u001b[38;5;28;01mas\u001b[39;00m exc:\n\u001b[1;32m--> 540\u001b[0m     \u001b[38;5;28;01mraise\u001b[39;00m errors\u001b[38;5;241m.\u001b[39mget_mysql_exception(exc\u001b[38;5;241m.\u001b[39merrno, msg\u001b[38;5;241m=\u001b[39mexc\u001b[38;5;241m.\u001b[39mmsg,\n\u001b[0;32m    541\u001b[0m                                      sqlstate\u001b[38;5;241m=\u001b[39mexc\u001b[38;5;241m.\u001b[39msqlstate)\n\u001b[0;32m    542\u001b[0m \u001b[38;5;28;01mexcept\u001b[39;00m \u001b[38;5;167;01mAttributeError\u001b[39;00m:\n\u001b[0;32m    543\u001b[0m     \u001b[38;5;28;01mif\u001b[39;00m \u001b[38;5;28mself\u001b[39m\u001b[38;5;241m.\u001b[39m_unix_socket:\n",
      "\u001b[1;31mProgrammingError\u001b[0m: 1050 (42S01): Table 'users' already exists"
     ]
    }
   ],
   "source": [
    "# 请在这里输入代码\n",
    "cursor = conn.cursor()\n",
    "cursor.execute(\"CREATE TABLE users (id INT(11) NOT NULL AUTO_INCREMENT PRIMARY KEY, username VARCHAR(255), firstname VARCHAR(255), lastname VARCHAR(255))\")\n",
    "# 只能运行一次，第二次会报错"
   ]
  },
  {
   "cell_type": "markdown",
   "metadata": {},
   "source": [
    "前面都是我们熟悉的套路，创建数据连接，获得一个 *cursor*，用这个 *cursor* 来执行 SQL 语句，上面的 `CREATE TABLE` 语句是创建表的 SQL，后面跟着表名，和括号括起来的表的列，可以看到我们要创建的表叫 `users`，包含四个列：整数（`INT`）类型的 `id`，变长字符串（`VARCHAR`）类型的 `username`、`firstname` 和 `lastname`；其中 `id` 这个列比较特殊，后面有很多附加属性，分别是：\n",
    "* `NOT NULL`：不可为空；\n",
    "* `AUTO_INCREMENT`：自增，也就是说这个列的值我们不用管，MySQL 会自己给它 1、2、3 这样的自动增加的正整数值，确保它的唯一性；\n",
    "* `PRIMARY KEY`：该列是 `users` 表的主键。\n",
    "\n",
    "上面的代码运行成功后 `demo` 数据库中就有了一个空的表 `users`，里面有四个我们定义好的列：`id`，`username`，`firstname` 和 `lastname`。\n",
    "\n",
    "我们可以在 mysql 命令行中执行命令 `USE demo` 然后 `DESC users;` 来查看建好的表 `users` 的列定义，mysql 会返回：\n",
    "\n",
    "```\n",
    "mysql> USE demo\n",
    "Reading table information for completion of table and column names\n",
    "You can turn off this feature to get a quicker startup with -A\n",
    "\n",
    "Database changed\n",
    "mysql> DESC users;\n",
    "+-----------+--------------+------+-----+---------+----------------+\n",
    "| Field     | Type         | Null | Key | Default | Extra          |\n",
    "+-----------+--------------+------+-----+---------+----------------+\n",
    "| id        | int(11)      | NO   | PRI | NULL    | auto_increment |\n",
    "| username  | varchar(255) | YES  |     | NULL    |                |\n",
    "| firstname | varchar(255) | YES  |     | NULL    |                |\n",
    "| lastname  | varchar(255) | YES  |     | NULL    |                |\n",
    "+-----------+--------------+------+-----+---------+----------------+\n",
    "4 rows in set (0.00 sec)\n",
    "```\n",
    "\n",
    "下面我们开始往表中插入数据，使用的是 `INSERT` 这个 SQL 命令（语法并不难懂，很容易理解）："
   ]
  },
  {
   "cell_type": "code",
   "execution_count": 14,
   "metadata": {},
   "outputs": [],
   "source": [
    "# 请在这里输入代码\n",
    "cursor.execute('INSERT INTO users (username, firstname, lastname) VALUES (\"neo\", \"Neo\", \"Lee\");')"
   ]
  },
  {
   "cell_type": "markdown",
   "metadata": {},
   "source": [
    "这个时候如果我们在 `mysql` 命令行中输入 `SELECT * FROM users;` 会发现并没有任何数据行，插入数据的操作未被执行，是的，因为我们需要告诉数据库，“以上操作告一段落，请执行”，否则 `RDBMS` 会等待我们提交更多请求一起执行，这中间所有请求都会被视为一个完整的事务。要提交执行的命令给数据库，使用数据连接的 `commit()` 方法："
   ]
  },
  {
   "cell_type": "code",
   "execution_count": 15,
   "metadata": {},
   "outputs": [],
   "source": [
    "# 请在这里输入代码\n",
    "conn.commit()"
   ]
  },
  {
   "cell_type": "markdown",
   "metadata": {},
   "source": [
    "运行完上面的代码再确认，就有新数据了：\n",
    "\n",
    "```\n",
    "mysql> SELECT * FROM users;\n",
    "+----+----------+-----------+----------+\n",
    "| id | username | firstname | lastname |\n",
    "+----+----------+-----------+----------+\n",
    "|  1 | neo      | Neo       | Lee      |\n",
    "+----+----------+-----------+----------+\n",
    "1 row in set (0.00 sec)\n",
    "```"
   ]
  },
  {
   "cell_type": "markdown",
   "metadata": {},
   "source": [
    "注意我们插入的 `INSERT` SQL 语句中并没有指定 `id` 这个字段的值，但 MySQL 自动给了 `1` 这个值，这就是前面指定 `id` 为 `AUTO_INCREMENT` 的效果。"
   ]
  },
  {
   "cell_type": "markdown",
   "metadata": {},
   "source": [
    "如果我们要一次插入多条记录呢？数据连接对象提供了叫做 `executemany()` 的方法："
   ]
  },
  {
   "cell_type": "code",
   "execution_count": 16,
   "metadata": {},
   "outputs": [],
   "source": [
    "# 请在这里输入代码\n",
    "sql = 'INSERT INTO users (username, firstname, lastname) VALUES (%s, %s, %s)'\n",
    "\n",
    "values = [\n",
    "    ('trinity', 'Carrie-Anne', 'Moss'),\n",
    "    ('morpheus', 'Laurence', 'Fishburne'),\n",
    "    ('smith', 'Huge', 'Weaving')\n",
    "]\n",
    "\n",
    "cursor.executemany(sql, values)\n",
    "conn.commit()"
   ]
  },
  {
   "cell_type": "markdown",
   "metadata": {},
   "source": [
    "再去数据库里看看，三条新的记录都加入了（自增字段 `id` 工作良好）：\n",
    "\n",
    "```\n",
    "mysql> SELECT * FROM users;\n",
    "+----+----------+-------------+-----------+\n",
    "| id | username | firstname   | lastname  |\n",
    "+----+----------+-------------+-----------+\n",
    "|  1 | neo      | Neo         | Lee       |\n",
    "|  2 | trinity  | Carrie-Anne | Moss      |\n",
    "|  3 | morpheus | Laurence    | Fishburne |\n",
    "|  4 | smith    | Hugo        | Weaving   |\n",
    "+----+----------+-------------+-----------+\n",
    "4 rows in set (0.00 sec)\n",
    "```"
   ]
  },
  {
   "cell_type": "markdown",
   "metadata": {},
   "source": [
    "如果要修改已有的数据行，可以使用 SQL 命令 `UPDATE`："
   ]
  },
  {
   "cell_type": "code",
   "execution_count": 17,
   "metadata": {},
   "outputs": [],
   "source": [
    "# 请在这里输入代码\n",
    "cursor.execute('UPDATE users SET firstname=\"Keanu\", lastname=\"Reeves\" WHERE username=\"neo\"')\n",
    "conn.commit()"
   ]
  },
  {
   "cell_type": "markdown",
   "metadata": {},
   "source": [
    "`UPDATE` 命令的语法也很好懂，`UPDATE` 后面是我们要修改的表，`SET` 后面是我们要修改的列和对应的新值，`WHERE` 的条件决定修改哪些行，所以上面这一句的意思是：找出 `users` 表中 `username` 值为 “neo” 的数据行，将这些行（在我们的例子里只有一行，但可以有多行）中的 `firstname` 字段值改为 “Keanu”，`lastname` 字段值改为 “Reeves”。检查数据库表会发现第一行记录已被更新：\n",
    "\n",
    "```\n",
    "mysql> SELECT * FROM users;\n",
    "+----+----------+-------------+-----------+\n",
    "| id | username | firstname   | lastname  |\n",
    "+----+----------+-------------+-----------+\n",
    "|  1 | neo      | Keanu       | Reeves    |\n",
    "|  2 | trinity  | Carrie-Anne | Moss      |\n",
    "|  3 | morpheus | Laurence    | Fishburne |\n",
    "|  4 | smith    | Hugo        | Weaving   |\n",
    "+----+----------+-------------+-----------+\n",
    "4 rows in set (0.00 sec)\n",
    "```\n",
    "\n",
    "通常系统的用户名都不能重复，但在我们定义的 `users` 表中，除了 `id` 列是主键不能重复，其他列并没有限制，我们可以现在增加对 `username` 列的限制。注意，目前表中 `username` 列确实没有重复数据，这很重要，如果不是这样，我们增加限制会失败。"
   ]
  },
  {
   "cell_type": "code",
   "execution_count": 18,
   "metadata": {},
   "outputs": [
    {
     "ename": "IntegrityError",
     "evalue": "1062 (23000): Duplicate entry 'neo' for key 'constraint_username'",
     "output_type": "error",
     "traceback": [
      "\u001b[1;31m--------------------------------------------------\u001b[0m",
      "\u001b[1;31mMySQLInterfaceError\u001b[0mTraceback (most recent call last)",
      "File \u001b[1;32mD:\\program_files\\conda\\lib\\site-packages\\mysql\\connector\\connection_cext.py:535\u001b[0m, in \u001b[0;36mCMySQLConnection.cmd_query\u001b[1;34m(self, query, raw, buffered, raw_as_string)\u001b[0m\n\u001b[0;32m    534\u001b[0m         query \u001b[38;5;241m=\u001b[39m query\u001b[38;5;241m.\u001b[39mencode(\u001b[38;5;124m'\u001b[39m\u001b[38;5;124mutf-8\u001b[39m\u001b[38;5;124m'\u001b[39m)\n\u001b[1;32m--> 535\u001b[0m     \u001b[38;5;28;43mself\u001b[39;49m\u001b[38;5;241;43m.\u001b[39;49m\u001b[43m_cmysql\u001b[49m\u001b[38;5;241;43m.\u001b[39;49m\u001b[43mquery\u001b[49m\u001b[43m(\u001b[49m\u001b[43mquery\u001b[49m\u001b[43m,\u001b[49m\n\u001b[0;32m    536\u001b[0m \u001b[43m                       \u001b[49m\u001b[43mraw\u001b[49m\u001b[38;5;241;43m=\u001b[39;49m\u001b[43mraw\u001b[49m\u001b[43m,\u001b[49m\u001b[43m \u001b[49m\u001b[43mbuffered\u001b[49m\u001b[38;5;241;43m=\u001b[39;49m\u001b[43mbuffered\u001b[49m\u001b[43m,\u001b[49m\n\u001b[0;32m    537\u001b[0m \u001b[43m                       \u001b[49m\u001b[43mraw_as_string\u001b[49m\u001b[38;5;241;43m=\u001b[39;49m\u001b[43mraw_as_string\u001b[49m\u001b[43m,\u001b[49m\n\u001b[0;32m    538\u001b[0m \u001b[43m                       \u001b[49m\u001b[43mquery_attrs\u001b[49m\u001b[38;5;241;43m=\u001b[39;49m\u001b[38;5;28;43mself\u001b[39;49m\u001b[38;5;241;43m.\u001b[39;49m\u001b[43m_query_attrs\u001b[49m\u001b[43m)\u001b[49m\n\u001b[0;32m    539\u001b[0m \u001b[38;5;28;01mexcept\u001b[39;00m MySQLInterfaceError \u001b[38;5;28;01mas\u001b[39;00m exc:\n",
      "\u001b[1;31mMySQLInterfaceError\u001b[0m: Duplicate entry 'neo' for key 'constraint_username'",
      "\nDuring handling of the above exception, another exception occurred:\n",
      "\u001b[1;31mIntegrityError\u001b[0m   Traceback (most recent call last)",
      "Input \u001b[1;32mIn [18]\u001b[0m, in \u001b[0;36m<cell line: 2>\u001b[1;34m()\u001b[0m\n\u001b[0;32m      1\u001b[0m \u001b[38;5;66;03m# 由于增加了很多行，所以这里你自己的会执行失败\u001b[39;00m\n\u001b[1;32m----> 2\u001b[0m \u001b[43mcursor\u001b[49m\u001b[38;5;241;43m.\u001b[39;49m\u001b[43mexecute\u001b[49m\u001b[43m(\u001b[49m\u001b[38;5;124;43m\"\u001b[39;49m\u001b[38;5;124;43mALTER TABLE users ADD CONSTRAINT constraint_username UNIQUE (username)\u001b[39;49m\u001b[38;5;124;43m\"\u001b[39;49m\u001b[43m)\u001b[49m\n\u001b[0;32m      3\u001b[0m conn\u001b[38;5;241m.\u001b[39mcommit()\n",
      "File \u001b[1;32mD:\\program_files\\conda\\lib\\site-packages\\mysql\\connector\\cursor_cext.py:269\u001b[0m, in \u001b[0;36mCMySQLCursor.execute\u001b[1;34m(self, operation, params, multi)\u001b[0m\n\u001b[0;32m    265\u001b[0m             \u001b[38;5;28;01mraise\u001b[39;00m errors\u001b[38;5;241m.\u001b[39mProgrammingError(\n\u001b[0;32m    266\u001b[0m                 \u001b[38;5;124m\"\u001b[39m\u001b[38;5;124mNot all parameters were used in the SQL statement\u001b[39m\u001b[38;5;124m\"\u001b[39m)\n\u001b[0;32m    268\u001b[0m \u001b[38;5;28;01mtry\u001b[39;00m:\n\u001b[1;32m--> 269\u001b[0m     result \u001b[38;5;241m=\u001b[39m \u001b[38;5;28;43mself\u001b[39;49m\u001b[38;5;241;43m.\u001b[39;49m\u001b[43m_cnx\u001b[49m\u001b[38;5;241;43m.\u001b[39;49m\u001b[43mcmd_query\u001b[49m\u001b[43m(\u001b[49m\u001b[43mstmt\u001b[49m\u001b[43m,\u001b[49m\u001b[43m \u001b[49m\u001b[43mraw\u001b[49m\u001b[38;5;241;43m=\u001b[39;49m\u001b[38;5;28;43mself\u001b[39;49m\u001b[38;5;241;43m.\u001b[39;49m\u001b[43m_raw\u001b[49m\u001b[43m,\u001b[49m\n\u001b[0;32m    270\u001b[0m \u001b[43m                                 \u001b[49m\u001b[43mbuffered\u001b[49m\u001b[38;5;241;43m=\u001b[39;49m\u001b[38;5;28;43mself\u001b[39;49m\u001b[38;5;241;43m.\u001b[39;49m\u001b[43m_buffered\u001b[49m\u001b[43m,\u001b[49m\n\u001b[0;32m    271\u001b[0m \u001b[43m                                 \u001b[49m\u001b[43mraw_as_string\u001b[49m\u001b[38;5;241;43m=\u001b[39;49m\u001b[38;5;28;43mself\u001b[39;49m\u001b[38;5;241;43m.\u001b[39;49m\u001b[43m_raw_as_string\u001b[49m\u001b[43m)\u001b[49m\n\u001b[0;32m    272\u001b[0m \u001b[38;5;28;01mexcept\u001b[39;00m MySQLInterfaceError \u001b[38;5;28;01mas\u001b[39;00m exc:\n\u001b[0;32m    273\u001b[0m     \u001b[38;5;28;01mraise\u001b[39;00m errors\u001b[38;5;241m.\u001b[39mget_mysql_exception(msg\u001b[38;5;241m=\u001b[39mexc\u001b[38;5;241m.\u001b[39mmsg, errno\u001b[38;5;241m=\u001b[39mexc\u001b[38;5;241m.\u001b[39merrno,\n\u001b[0;32m    274\u001b[0m                                      sqlstate\u001b[38;5;241m=\u001b[39mexc\u001b[38;5;241m.\u001b[39msqlstate)\n",
      "File \u001b[1;32mD:\\program_files\\conda\\lib\\site-packages\\mysql\\connector\\connection_cext.py:540\u001b[0m, in \u001b[0;36mCMySQLConnection.cmd_query\u001b[1;34m(self, query, raw, buffered, raw_as_string)\u001b[0m\n\u001b[0;32m    535\u001b[0m     \u001b[38;5;28mself\u001b[39m\u001b[38;5;241m.\u001b[39m_cmysql\u001b[38;5;241m.\u001b[39mquery(query,\n\u001b[0;32m    536\u001b[0m                        raw\u001b[38;5;241m=\u001b[39mraw, buffered\u001b[38;5;241m=\u001b[39mbuffered,\n\u001b[0;32m    537\u001b[0m                        raw_as_string\u001b[38;5;241m=\u001b[39mraw_as_string,\n\u001b[0;32m    538\u001b[0m                        query_attrs\u001b[38;5;241m=\u001b[39m\u001b[38;5;28mself\u001b[39m\u001b[38;5;241m.\u001b[39m_query_attrs)\n\u001b[0;32m    539\u001b[0m \u001b[38;5;28;01mexcept\u001b[39;00m MySQLInterfaceError \u001b[38;5;28;01mas\u001b[39;00m exc:\n\u001b[1;32m--> 540\u001b[0m     \u001b[38;5;28;01mraise\u001b[39;00m errors\u001b[38;5;241m.\u001b[39mget_mysql_exception(exc\u001b[38;5;241m.\u001b[39merrno, msg\u001b[38;5;241m=\u001b[39mexc\u001b[38;5;241m.\u001b[39mmsg,\n\u001b[0;32m    541\u001b[0m                                      sqlstate\u001b[38;5;241m=\u001b[39mexc\u001b[38;5;241m.\u001b[39msqlstate)\n\u001b[0;32m    542\u001b[0m \u001b[38;5;28;01mexcept\u001b[39;00m \u001b[38;5;167;01mAttributeError\u001b[39;00m:\n\u001b[0;32m    543\u001b[0m     \u001b[38;5;28;01mif\u001b[39;00m \u001b[38;5;28mself\u001b[39m\u001b[38;5;241m.\u001b[39m_unix_socket:\n",
      "\u001b[1;31mIntegrityError\u001b[0m: 1062 (23000): Duplicate entry 'neo' for key 'constraint_username'"
     ]
    }
   ],
   "source": [
    "# 由于增加了很多行，所以这里你自己的会执行失败\n",
    "cursor.execute(\"ALTER TABLE users ADD CONSTRAINT constraint_username UNIQUE (username)\")\n",
    "conn.commit()"
   ]
  },
  {
   "cell_type": "code",
   "execution_count": 20,
   "metadata": {},
   "outputs": [],
   "source": [
    "# 请在这里输入代码\n",
    "# 所以在这里更改一部分的值\n",
    "\n",
    "cursor.execute('UPDATE users SET username=\"lyy\", firstname=\"Atuoer\", lastname=\"Lee\" WHERE id=1')\n",
    "cursor.execute('UPDATE users SET username=\"xk\", firstname=\"Miao\", lastname=\"Yan\" WHERE id=2')\n",
    "conn.commit()"
   ]
  },
  {
   "cell_type": "code",
   "execution_count": 21,
   "metadata": {},
   "outputs": [],
   "source": [
    "cursor.execute(\"ALTER TABLE users ADD CONSTRAINT constraint_username UNIQUE (username)\")\n",
    "conn.commit()"
   ]
  },
  {
   "cell_type": "markdown",
   "metadata": {},
   "source": [
    "上面执行成功的话，我们再向 `users` 表中添加数据将受到限制，`username` 字段值不可与已有的值重复。下面两个操作中的第一个应该成功，但第二个会由于这个限制而失败，因为我们把两个打包一起提交，这个事务将会整体回滚："
   ]
  },
  {
   "cell_type": "code",
   "execution_count": 22,
   "metadata": {},
   "outputs": [],
   "source": [
    "# 请在这里输入代码\n",
    "try:\n",
    "    cursor.execute(\"INSERT INTO users (username, firstname, lastname) VALUES ('oracle', 'Gloria', 'Foster')\")\n",
    "    cursor.execute(\"INSERT INTO users (username, firstname, lastname) VALUES ('smith', 'Robert', 'Taylor')\")\n",
    "except:\n",
    "    conn.rollback()"
   ]
  },
  {
   "cell_type": "code",
   "execution_count": 23,
   "metadata": {},
   "outputs": [
    {
     "ename": "IntegrityError",
     "evalue": "1062 (23000): Duplicate entry 'smith' for key 'constraint_username'",
     "output_type": "error",
     "traceback": [
      "\u001b[1;31m--------------------------------------------------\u001b[0m",
      "\u001b[1;31mMySQLInterfaceError\u001b[0mTraceback (most recent call last)",
      "File \u001b[1;32mD:\\program_files\\conda\\lib\\site-packages\\mysql\\connector\\connection_cext.py:535\u001b[0m, in \u001b[0;36mCMySQLConnection.cmd_query\u001b[1;34m(self, query, raw, buffered, raw_as_string)\u001b[0m\n\u001b[0;32m    534\u001b[0m         query \u001b[38;5;241m=\u001b[39m query\u001b[38;5;241m.\u001b[39mencode(\u001b[38;5;124m'\u001b[39m\u001b[38;5;124mutf-8\u001b[39m\u001b[38;5;124m'\u001b[39m)\n\u001b[1;32m--> 535\u001b[0m     \u001b[38;5;28;43mself\u001b[39;49m\u001b[38;5;241;43m.\u001b[39;49m\u001b[43m_cmysql\u001b[49m\u001b[38;5;241;43m.\u001b[39;49m\u001b[43mquery\u001b[49m\u001b[43m(\u001b[49m\u001b[43mquery\u001b[49m\u001b[43m,\u001b[49m\n\u001b[0;32m    536\u001b[0m \u001b[43m                       \u001b[49m\u001b[43mraw\u001b[49m\u001b[38;5;241;43m=\u001b[39;49m\u001b[43mraw\u001b[49m\u001b[43m,\u001b[49m\u001b[43m \u001b[49m\u001b[43mbuffered\u001b[49m\u001b[38;5;241;43m=\u001b[39;49m\u001b[43mbuffered\u001b[49m\u001b[43m,\u001b[49m\n\u001b[0;32m    537\u001b[0m \u001b[43m                       \u001b[49m\u001b[43mraw_as_string\u001b[49m\u001b[38;5;241;43m=\u001b[39;49m\u001b[43mraw_as_string\u001b[49m\u001b[43m,\u001b[49m\n\u001b[0;32m    538\u001b[0m \u001b[43m                       \u001b[49m\u001b[43mquery_attrs\u001b[49m\u001b[38;5;241;43m=\u001b[39;49m\u001b[38;5;28;43mself\u001b[39;49m\u001b[38;5;241;43m.\u001b[39;49m\u001b[43m_query_attrs\u001b[49m\u001b[43m)\u001b[49m\n\u001b[0;32m    539\u001b[0m \u001b[38;5;28;01mexcept\u001b[39;00m MySQLInterfaceError \u001b[38;5;28;01mas\u001b[39;00m exc:\n",
      "\u001b[1;31mMySQLInterfaceError\u001b[0m: Duplicate entry 'smith' for key 'constraint_username'",
      "\nDuring handling of the above exception, another exception occurred:\n",
      "\u001b[1;31mIntegrityError\u001b[0m   Traceback (most recent call last)",
      "Input \u001b[1;32mIn [23]\u001b[0m, in \u001b[0;36m<cell line: 2>\u001b[1;34m()\u001b[0m\n\u001b[0;32m      1\u001b[0m cursor\u001b[38;5;241m.\u001b[39mexecute(\u001b[38;5;124m\"\u001b[39m\u001b[38;5;124mINSERT INTO users (username, firstname, lastname) VALUES (\u001b[39m\u001b[38;5;124m'\u001b[39m\u001b[38;5;124moracle\u001b[39m\u001b[38;5;124m'\u001b[39m\u001b[38;5;124m, \u001b[39m\u001b[38;5;124m'\u001b[39m\u001b[38;5;124mGloria\u001b[39m\u001b[38;5;124m'\u001b[39m\u001b[38;5;124m, \u001b[39m\u001b[38;5;124m'\u001b[39m\u001b[38;5;124mFoster\u001b[39m\u001b[38;5;124m'\u001b[39m\u001b[38;5;124m)\u001b[39m\u001b[38;5;124m\"\u001b[39m)\n\u001b[1;32m----> 2\u001b[0m \u001b[43mcursor\u001b[49m\u001b[38;5;241;43m.\u001b[39;49m\u001b[43mexecute\u001b[49m\u001b[43m(\u001b[49m\u001b[38;5;124;43m\"\u001b[39;49m\u001b[38;5;124;43mINSERT INTO users (username, firstname, lastname) VALUES (\u001b[39;49m\u001b[38;5;124;43m'\u001b[39;49m\u001b[38;5;124;43msmith\u001b[39;49m\u001b[38;5;124;43m'\u001b[39;49m\u001b[38;5;124;43m, \u001b[39;49m\u001b[38;5;124;43m'\u001b[39;49m\u001b[38;5;124;43mRobert\u001b[39;49m\u001b[38;5;124;43m'\u001b[39;49m\u001b[38;5;124;43m, \u001b[39;49m\u001b[38;5;124;43m'\u001b[39;49m\u001b[38;5;124;43mTaylor\u001b[39;49m\u001b[38;5;124;43m'\u001b[39;49m\u001b[38;5;124;43m)\u001b[39;49m\u001b[38;5;124;43m\"\u001b[39;49m\u001b[43m)\u001b[49m\n",
      "File \u001b[1;32mD:\\program_files\\conda\\lib\\site-packages\\mysql\\connector\\cursor_cext.py:269\u001b[0m, in \u001b[0;36mCMySQLCursor.execute\u001b[1;34m(self, operation, params, multi)\u001b[0m\n\u001b[0;32m    265\u001b[0m             \u001b[38;5;28;01mraise\u001b[39;00m errors\u001b[38;5;241m.\u001b[39mProgrammingError(\n\u001b[0;32m    266\u001b[0m                 \u001b[38;5;124m\"\u001b[39m\u001b[38;5;124mNot all parameters were used in the SQL statement\u001b[39m\u001b[38;5;124m\"\u001b[39m)\n\u001b[0;32m    268\u001b[0m \u001b[38;5;28;01mtry\u001b[39;00m:\n\u001b[1;32m--> 269\u001b[0m     result \u001b[38;5;241m=\u001b[39m \u001b[38;5;28;43mself\u001b[39;49m\u001b[38;5;241;43m.\u001b[39;49m\u001b[43m_cnx\u001b[49m\u001b[38;5;241;43m.\u001b[39;49m\u001b[43mcmd_query\u001b[49m\u001b[43m(\u001b[49m\u001b[43mstmt\u001b[49m\u001b[43m,\u001b[49m\u001b[43m \u001b[49m\u001b[43mraw\u001b[49m\u001b[38;5;241;43m=\u001b[39;49m\u001b[38;5;28;43mself\u001b[39;49m\u001b[38;5;241;43m.\u001b[39;49m\u001b[43m_raw\u001b[49m\u001b[43m,\u001b[49m\n\u001b[0;32m    270\u001b[0m \u001b[43m                                 \u001b[49m\u001b[43mbuffered\u001b[49m\u001b[38;5;241;43m=\u001b[39;49m\u001b[38;5;28;43mself\u001b[39;49m\u001b[38;5;241;43m.\u001b[39;49m\u001b[43m_buffered\u001b[49m\u001b[43m,\u001b[49m\n\u001b[0;32m    271\u001b[0m \u001b[43m                                 \u001b[49m\u001b[43mraw_as_string\u001b[49m\u001b[38;5;241;43m=\u001b[39;49m\u001b[38;5;28;43mself\u001b[39;49m\u001b[38;5;241;43m.\u001b[39;49m\u001b[43m_raw_as_string\u001b[49m\u001b[43m)\u001b[49m\n\u001b[0;32m    272\u001b[0m \u001b[38;5;28;01mexcept\u001b[39;00m MySQLInterfaceError \u001b[38;5;28;01mas\u001b[39;00m exc:\n\u001b[0;32m    273\u001b[0m     \u001b[38;5;28;01mraise\u001b[39;00m errors\u001b[38;5;241m.\u001b[39mget_mysql_exception(msg\u001b[38;5;241m=\u001b[39mexc\u001b[38;5;241m.\u001b[39mmsg, errno\u001b[38;5;241m=\u001b[39mexc\u001b[38;5;241m.\u001b[39merrno,\n\u001b[0;32m    274\u001b[0m                                      sqlstate\u001b[38;5;241m=\u001b[39mexc\u001b[38;5;241m.\u001b[39msqlstate)\n",
      "File \u001b[1;32mD:\\program_files\\conda\\lib\\site-packages\\mysql\\connector\\connection_cext.py:540\u001b[0m, in \u001b[0;36mCMySQLConnection.cmd_query\u001b[1;34m(self, query, raw, buffered, raw_as_string)\u001b[0m\n\u001b[0;32m    535\u001b[0m     \u001b[38;5;28mself\u001b[39m\u001b[38;5;241m.\u001b[39m_cmysql\u001b[38;5;241m.\u001b[39mquery(query,\n\u001b[0;32m    536\u001b[0m                        raw\u001b[38;5;241m=\u001b[39mraw, buffered\u001b[38;5;241m=\u001b[39mbuffered,\n\u001b[0;32m    537\u001b[0m                        raw_as_string\u001b[38;5;241m=\u001b[39mraw_as_string,\n\u001b[0;32m    538\u001b[0m                        query_attrs\u001b[38;5;241m=\u001b[39m\u001b[38;5;28mself\u001b[39m\u001b[38;5;241m.\u001b[39m_query_attrs)\n\u001b[0;32m    539\u001b[0m \u001b[38;5;28;01mexcept\u001b[39;00m MySQLInterfaceError \u001b[38;5;28;01mas\u001b[39;00m exc:\n\u001b[1;32m--> 540\u001b[0m     \u001b[38;5;28;01mraise\u001b[39;00m errors\u001b[38;5;241m.\u001b[39mget_mysql_exception(exc\u001b[38;5;241m.\u001b[39merrno, msg\u001b[38;5;241m=\u001b[39mexc\u001b[38;5;241m.\u001b[39mmsg,\n\u001b[0;32m    541\u001b[0m                                      sqlstate\u001b[38;5;241m=\u001b[39mexc\u001b[38;5;241m.\u001b[39msqlstate)\n\u001b[0;32m    542\u001b[0m \u001b[38;5;28;01mexcept\u001b[39;00m \u001b[38;5;167;01mAttributeError\u001b[39;00m:\n\u001b[0;32m    543\u001b[0m     \u001b[38;5;28;01mif\u001b[39;00m \u001b[38;5;28mself\u001b[39m\u001b[38;5;241m.\u001b[39m_unix_socket:\n",
      "\u001b[1;31mIntegrityError\u001b[0m: 1062 (23000): Duplicate entry 'smith' for key 'constraint_username'"
     ]
    }
   ],
   "source": [
    "cursor.execute(\"INSERT INTO users (username, firstname, lastname) VALUES ('oracle', 'Gloria', 'Foster')\")\n",
    "cursor.execute(\"INSERT INTO users (username, firstname, lastname) VALUES ('smith', 'Robert', 'Taylor')\")"
   ]
  },
  {
   "cell_type": "markdown",
   "metadata": {},
   "source": [
    "如果我们不使用 `try...except` 异常处理，第二个 `cursor.execute()` 调用会抛出一个 `IntegrityError` 异常：\n",
    "\n",
    "`IntegrityError: 1062 (23000): Duplicate entry 'smith' for key 'constraint_username'`"
   ]
  },
  {
   "cell_type": "markdown",
   "metadata": {},
   "source": [
    "这里我们用了一个相当长的章节初步了解了 MySQL 这样的工业级 *RDBMS*，以及我们可以怎么使用它。很多时候我们其实不需要这样自己通过 SQL 来操作数据库，使用类似 [SQLAlchemy](https://www.sqlalchemy.org/) 这样的工具是更安全和舒适的选择，SQLAlchemy 把所有数据库操作变成完全 Python 对象化的操作，我们建立好数据连接之后可以像操作 Python 的 `list`、`tuple`、`dict` 和自定义类型一样操作数据库里的关系模型，而 SQLAlchemy 会帮我们把这些操作“翻译”成 `RDBMS` 的标准语言——SQL。\n",
    "\n",
    "但无论如何目前我们对底层真相有所了解，会对我们解决问题很有帮助，是终生收益的。甚至于很有可能若干年后你再也不碰 Python 了，但 SQL 却是你每天会碰到的。"
   ]
  },
  {
   "cell_type": "markdown",
   "metadata": {},
   "source": [
    "### Redis"
   ]
  },
  {
   "cell_type": "markdown",
   "metadata": {},
   "source": [
    "最后一节我们要学习和前面讲的都不同的一种东西，[Redis](https://redis.io/) 是一个开源的内存 *key-value* 数据存储，这句话要这么理解：\n",
    "* Redis 和 MySQL 一样都是开源软件的伟大产物，因为底子优秀加上开源，它在很短的时间里得到了广泛的应用，反过来也加速了它的成长和成熟；\n",
    "* Redis 是一个 *key-value* 数据存储，存在 Redis 中的数据并不是关系模型（表、行、列），而是类似 *dictionary* 那样的 *key-value* 对；\n",
    "* Redis 是内存数据库，数据是存放在内存中的，所以有着闪电般的速度（数百倍于最快的 SSD 硬盘）。\n",
    "\n",
    "当然 Redis 也提供了持久化方案来把数据写入硬盘以免断电后丢失，也可以在需要时用持久化数据在内存中重建整个数据库，但只在需要时才会这么做。这一特点决定了 Redis 和 MySQL 这样的传统 RDBMS 不一样，Redis 适合用在对性能有极端要求的场合，但可以接受对 *RDBMS* 一些高级功能的牺牲，比如事务、数据一致性约束等。\n",
    "\n",
    "通常 Redis 不会用作一个应用的主数据存储，而会和 MySQL 这样的 *RDBMS* 配合使用。所有业务数据的主存储仍然是 *RDBMS*，里面的数据是可靠、一致的，然后把一些对性能影响最大的数据装载到 Redis 的内存数据库中，提供给应用最好的访问性能，应用可以在 Redis 中做很多高速计算和处理，而只在需要的时候才把数据写回 *RDBMS*。\n",
    "\n",
    "现实世界的大问题通常需要架构师（*architect*）设计精细的方案来解决数据同步和并发性能之间的平衡。我们目前还无法理解大多数这里面的设计模式，所以这一节只简单示范一下在 Python 中如何使用 Redis 这样的新型内存存储。\n",
    "\n",
    "> **架构师**（*architect*）是复杂软件系统中做出系统级方案设计和决策的人，绝大部分情况下架构师是软件开发者中经验和水平最高的，需要对业务和软件技术都有非常深刻全面的理解才能担当这一角色。"
   ]
  },
  {
   "cell_type": "markdown",
   "metadata": {},
   "source": [
    "Redis 和 MySQL 一样，也是多用户的服务，不过安装和配置要简单一些，具体指引可以参考[这篇指南](x6-redis-setup.ipynb)。\n",
    "\n",
    "Redis 用起来非常简单，基本上就是 Python 的 *dict* 的概念，事实上 Redis 的意思就是 *Remote Dictionary Service*。简单来说：\n",
    "* 一个 Redis 服务可以有多个数据库，分别用 0、1、2 这样的数字编号，缺省是 0 号数据库，如果要切换可以用 `SELECT index` 命令来切换；\n",
    "* 每个数据库里就是许多 *key-value* 对，其中的 *key* 永远是字符串 `string`；\n",
    "* Redis 里的 *value* 可以是几种类型，最常用的是 `string`、`list`、`hash` 和 `set` 这几种类型，基本上对应 Python 里的 `str`、`list`、`dict` 和 `set` 类型，所以 Python 开发者用起来会非常顺手；\n",
    "* 对这些 *key-value* 对的操作，基本就是 `GET`、`SET`、`DEL` 这些，所有 Redis 支持的命令可以参考 [官方文档](https://redis.io/commands)。"
   ]
  },
  {
   "cell_type": "markdown",
   "metadata": {},
   "source": [
    "#### 使用 Redis 客户端"
   ]
  },
  {
   "cell_type": "markdown",
   "metadata": {},
   "source": [
    "我们先来看看怎么用 Redis 自己的客户端程序来使用它的服务。下面我们都假定 Redis 服务已经在本地成功运行（缺省端口 6379）。\n",
    "\n",
    "在命令行运行 `redis-cli` 就会进入到 Redis 的 *REPL* 提示符：\n",
    "\n",
    "`127.0.0.1:6379> `\n",
    "\n",
    "在提示符后面输入 Redis 命令就可以看到结果，随时可以用 `QUIT` 或者 `EXIT` 来退出 *REPL*。下面来看一些例子。"
   ]
  },
  {
   "cell_type": "markdown",
   "metadata": {},
   "source": [
    "1. 切换到 1 号数据库，然后切回缺省 0 号数据库（留意提示符的变化）：\n",
    "\n",
    "```redis\n",
    "127.0.0.1:6379> select 1\n",
    "OK\n",
    "127.0.0.1:6379[1]> select 0\n",
    "OK\n",
    "127.0.0.1:6379> \n",
    "```\n",
    "\n",
    "2. 用 `SET key value` 命令插入一些 *key-value* 数据，用 `KEYS *` 命令来列出所有 *keys*，用 `GET key` 命令来查询对应的 `value`：\n",
    "\n",
    "```redis\n",
    "127.0.0.1:6379> SET Bahamas Nassau\n",
    "OK\n",
    "127.0.0.1:6379> SET Croatia Zagreb\n",
    "OK\n",
    "127.0.0.1:6379> SET China Beijing\n",
    "OK\n",
    "127.0.0.1:6379> KEYS *\n",
    "1) \"China\"\n",
    "2) \"Croatia\"\n",
    "3) \"Bahamas\"\n",
    "127.0.0.1:6379> KEYS C*\n",
    "1) \"China\"\n",
    "2) \"Croatia\"\n",
    "127.0.0.1:6379> GET Croatia\n",
    "\"Zagreb\"\n",
    "```\n",
    "\n",
    "3. 用 `MSET` 和 `MGET` 来做批量操作，`MSET` 后面是一串 `key1 value1 key2 value2 key3 value3...` 这样依次排列的 `key-value` 们，而 `MGET` 后面是一串想取得 *value* 的 *keys*：\n",
    "\n",
    "```redis\n",
    "127.0.0.1:6379> MSET Lebanon Beirut Norway Oslo France Paris\n",
    "OK\n",
    "127.0.0.1:6379> MGET Lebanon Norway Bahamas\n",
    "1) \"Beirut\"\n",
    "2) \"Oslo\"\n",
    "3) \"Nassau\"\n",
    "```\n",
    "\n",
    "4. 用 `EXISTS` 命令来判断某个 *key* 是否存在，存在返回 `1`，否则返回 `0`：\n",
    "\n",
    "```redis\n",
    "127.0.0.1:6379> EXISTS China\n",
    "(integer) 1\n",
    "127.0.0.1:6379> EXISTS Japan\n",
    "(integer) 0\n",
    "```"
   ]
  },
  {
   "cell_type": "markdown",
   "metadata": {},
   "source": [
    "上面展示的都是 *key* 和 *value* 都是字符串的最简单模式，Redis 里的 *value* 还可以是 `list`、`hash` 和 `set` 这些类型，各有自己的 `SET`、`GET` 命令。下面以 `hash` 为例。\n",
    "\n",
    "5. 用 `HSET` 和 `HGET` 来读写 `hash` 类型的 *value*：\n",
    "\n",
    "```redis\n",
    "127.0.0.1:6379> HSET redis url \"https://redis.io/\"\n",
    "(integer) 1\n",
    "127.0.0.1:6379> HSET redis name \"Redis\"\n",
    "(integer) 1\n",
    "127.0.0.1:6379> HSET redis github \"https://github.com/antirez/redis\"\n",
    "(integer) 1\n",
    "127.0.0.1:6379> HGET redis github\n",
    "\"https://github.com/antirez/redis\"\n",
    "127.0.0.1:6379> HGETALL redis\n",
    "1) \"url\"\n",
    "2) \"https://redis.io/\"\n",
    "3) \"name\"\n",
    "4) \"Redis\"\n",
    "5) \"github\"\n",
    "6) \"https://github.com/antirez/redis\"\n",
    "```"
   ]
  },
  {
   "cell_type": "markdown",
   "metadata": {},
   "source": [
    "上面这个例子处理的数据基本上和下面的 Python 代码等价："
   ]
  },
  {
   "cell_type": "code",
   "execution_count": 24,
   "metadata": {},
   "outputs": [
    {
     "name": "stdout",
     "output_type": "stream",
     "text": [
      "https://github.com/antirez/redis\n"
     ]
    }
   ],
   "source": [
    "# 请在这里输入代码\n",
    "data = {\n",
    "    'redis': {\n",
    "        'name': 'Redis',\n",
    "        'url': 'https://redis.io/',\n",
    "        'github': 'https://github.com/antirez/redis'\n",
    "    }\n",
    "}\n",
    "\n",
    "print(data['redis']['github'])"
   ]
  },
  {
   "cell_type": "code",
   "execution_count": 25,
   "metadata": {},
   "outputs": [
    {
     "name": "stdout",
     "output_type": "stream",
     "text": [
      "{'redis': {'name': 'Redis', 'url': 'https://redis.io/', 'github': 'https://github.com/antirez/redis'}}\n"
     ]
    }
   ],
   "source": [
    "print(data)"
   ]
  },
  {
   "cell_type": "markdown",
   "metadata": {},
   "source": [
    "`list` 和 `set` 类型的例子我们就不写了，有兴趣可以自行尝试。下面我们看看在 Python 里怎么使用 Redis。"
   ]
  },
  {
   "cell_type": "markdown",
   "metadata": {},
   "source": [
    "#### 使用 Python 访问 "
   ]
  },
  {
   "cell_type": "markdown",
   "metadata": {},
   "source": [
    "首先我们需要安装 Redis 的 Python 支持库：`pip install redis`。然后就可以在 Python 代码中使用 Redis 了。\n",
    "\n",
    "首先创建 Redis 数据连接，注意下面的输入参数其实都可以省略，因为我们的环境里都是缺省值，写出来只是为了展示"
   ]
  },
  {
   "cell_type": "code",
   "execution_count": 26,
   "metadata": {},
   "outputs": [],
   "source": [
    "# 请在这里输入代码\n",
    "import redis\n",
    "\n",
    "r = redis.Redis(host='localhost', port=6379, db=0)"
   ]
  },
  {
   "cell_type": "markdown",
   "metadata": {},
   "source": [
    "然后我们就可以用这个 `r` 来做所有的事情了，就和我们在 REPL 中输入命令效果相当。"
   ]
  },
  {
   "cell_type": "code",
   "execution_count": 28,
   "metadata": {},
   "outputs": [
    {
     "data": {
      "text/plain": [
       "True"
      ]
     },
     "execution_count": 28,
     "metadata": {},
     "output_type": "execute_result"
    }
   ],
   "source": [
    "# 请在这里输入代码\n",
    "r.mset({'中国': '北京', '日本': '东京'})"
   ]
  },
  {
   "cell_type": "markdown",
   "metadata": {},
   "source": [
    "上面的代码就和在 REPL 中运行 `MSET ...` 一样。注意我们这里用了中文的 *key* 和 *value*，这是完全合法的，但是要注意，Redis 保存非 ASCII 字符会采用 UTF-8 编码，所以在使用时需要进行解码："
   ]
  },
  {
   "cell_type": "code",
   "execution_count": 29,
   "metadata": {},
   "outputs": [
    {
     "data": {
      "text/plain": [
       "b'Nassau'"
      ]
     },
     "execution_count": 29,
     "metadata": {},
     "output_type": "execute_result"
    }
   ],
   "source": [
    "# 请在这里输入代码\n",
    "r.get(\"Bahamas\")"
   ]
  },
  {
   "cell_type": "code",
   "execution_count": 30,
   "metadata": {},
   "outputs": [
    {
     "data": {
      "text/plain": [
       "b'\\xe5\\x8c\\x97\\xe4\\xba\\xac'"
      ]
     },
     "execution_count": 30,
     "metadata": {},
     "output_type": "execute_result"
    }
   ],
   "source": [
    "# 请在这里输入代码\n",
    "r.get(\"中国\")"
   ]
  },
  {
   "cell_type": "code",
   "execution_count": 31,
   "metadata": {},
   "outputs": [
    {
     "data": {
      "text/plain": [
       "'北京'"
      ]
     },
     "execution_count": 31,
     "metadata": {},
     "output_type": "execute_result"
    }
   ],
   "source": [
    "# 请在这里输入代码\n",
    "r.get(\"中国\").decode(\"utf-8\")"
   ]
  },
  {
   "cell_type": "code",
   "execution_count": 32,
   "metadata": {},
   "outputs": [
    {
     "data": {
      "text/plain": [
       "'e58c97e4baac'"
      ]
     },
     "execution_count": 32,
     "metadata": {},
     "output_type": "execute_result"
    }
   ],
   "source": [
    "# 请在这里输入代码\n",
    "r.get(\"中国\").hex()"
   ]
  },
  {
   "cell_type": "markdown",
   "metadata": {},
   "source": [
    "关于 Redis 目前了解到这样就差不多可以了，以后我们会在实际项目中继续学习。"
   ]
  },
  {
   "cell_type": "markdown",
   "metadata": {},
   "source": [
    "## 小结"
   ]
  },
  {
   "cell_type": "markdown",
   "metadata": {},
   "source": [
    "本章是关于数据库及相关概念的入门，算是打开了编程世界里一块大陆的传送门，至于这扇门后面到底有多少奇妙，还要在以后不断学习和体验。\n",
    "* 理解持久化的基本概念；\n",
    "* 理解关系模型的基本概念；\n",
    "* 理解关系型数据库的基本概念；\n",
    "* 掌握 Python 中使用 CSV 和 JSON 数据的基本方法；\n",
    "* 掌握 Python 中使用 SQLite 和 MySQL 这样的关系型数据库的基本方法；\n",
    "* 初步了解 Redis。"
   ]
  },
  {
   "cell_type": "markdown",
   "metadata": {},
   "source": [
    "## 进入编程世界 第十三课 数据和数据库"
   ]
  },
  {
   "cell_type": "markdown",
   "metadata": {},
   "source": [
    "什么是数据——计算机处理和记录的所有事实 facts。\n",
    "\n",
    "人脑记录和处理各种事实的方式。\n",
    "\n",
    "对事实进行规整。——围绕我们关注的目标对象组织事实，组织数据。\n",
    "\n",
    "批量处理，重复性劳动。\n",
    "\n",
    "围绕对象组织数据，采用列表这种结构处理数据，批量处理。"
   ]
  },
  {
   "cell_type": "markdown",
   "metadata": {},
   "source": [
    "把数据做成一个类，好处是可以把关于这个对象的方法封装在类中。"
   ]
  },
  {
   "cell_type": "markdown",
   "metadata": {},
   "source": [
    "数据定义——对象 属性 约束 行为\n",
    "\n",
    "数据处理：\n",
    "- create\n",
    "- read\n",
    "- update\n",
    "- delete"
   ]
  },
  {
   "cell_type": "markdown",
   "metadata": {},
   "source": [
    "数据持久化——把内存里的数据永久地保存下来。\n",
    "\n",
    "以什么样的格式/规则把数据写到文件里。\n",
    "\n",
    "写成字符串保存下来，通用、可读。\n",
    "\n",
    "常见的两种数据持久化的格式——csv、json。——有各种各样现成的好用的读写工具处理这些格式。\n",
    "\n",
    "并发 concurrency。——不同的用户在同一时间，并行地去访问同一个数据。\n",
    "例如抢票。"
   ]
  },
  {
   "cell_type": "markdown",
   "metadata": {},
   "source": [
    "单个数据 & 数据集"
   ]
  },
  {
   "cell_type": "markdown",
   "metadata": {},
   "source": [
    "数据库 sqlite，mysql，reddis\n",
    "\n",
    "网络服务器 互联网时代的数据库共享和访问\n",
    "\n",
    "大多网络api，都是json的数据格式。"
   ]
  },
  {
   "cell_type": "markdown",
   "metadata": {},
   "source": [
    "数据的抽象定义，属性，操作 crud。\n",
    "\n",
    "- 内存中\n",
    "- 数据文件\n",
    "- 数据库\n",
    "- web service 中的数据"
   ]
  },
  {
   "cell_type": "markdown",
   "metadata": {},
   "source": [
    "访问 读写数据库和数据文件中的数据，以及 web service 中的数据。"
   ]
  },
  {
   "cell_type": "markdown",
   "metadata": {},
   "source": [
    "## 关系型数据库 关系模型"
   ]
  },
  {
   "cell_type": "markdown",
   "metadata": {},
   "source": [
    "海量数据 多用户共享\n",
    "\n",
    "- 高效存储\n",
    "- 高效访问\n",
    "- 平台中立\n",
    "- 统一应用接口\n",
    "- 数据一致性\n",
    "- 并发访问\n",
    "- 资源竞争"
   ]
  },
  {
   "cell_type": "markdown",
   "metadata": {},
   "source": [
    "修改操作必须串行化。"
   ]
  },
  {
   "cell_type": "markdown",
   "metadata": {},
   "source": [
    "关系模型的基础，就是一张二维表。\n",
    "\n",
    "行 row 记录 record，对应一个数据对象\n",
    "\n",
    "列 column 字段 field/entity，对应数据字段的属性\n",
    "\n",
    "整张表对应同一类对象组成的一个列表。"
   ]
  },
  {
   "cell_type": "markdown",
   "metadata": {},
   "source": [
    "整列的概念，所有行的同一列。"
   ]
  },
  {
   "cell_type": "markdown",
   "metadata": {},
   "source": [
    "主键、外键，"
   ]
  },
  {
   "cell_type": "markdown",
   "metadata": {},
   "source": [
    "database normalization 数据库规范化\n",
    "\n",
    "在数据库当中去除冗余\n",
    "\n",
    "冗余——在不同的地方存在相同的、重复的数据，可能带来不一致。带来维护数据的代价。\n",
    "\n",
    "规范化的一系列范式， normal formula\n",
    "\n",
    "第一范式：\n",
    "- single valued atrtributes，每一个字段都只有一个值，即每一列只能有一个值存在。\n",
    "- unique name for attributes\n",
    "- same domain for one attribute\n",
    "- order doesn't matter\n",
    "\n",
    "第一范式是关系型数据库的基本要件，否则就不是关系型数据库。\n",
    "\n",
    "\n",
    "第二范式\n",
    "- eliminate partial dependency 去除部分依赖\n",
    "- 部分依赖：指定部分主属性就可以确定的字段值。\n",
    "- 完整依赖：完整指定主属性才能确定的字段值。\n",
    "\n",
    "主属性、非主属性。\n",
    "每一行的记录由主属性唯一确定。\n",
    "\n",
    "第三范式\n",
    "- eliminate transitive dependency 去除传递依赖\n",
    "\n",
    "外键的值，是另一张表里面的主键。\n",
    "外键的值，必须是另一张表里有的值。\n",
    "\n",
    "主键不一定是一个字段，可以是多个字段（多个列）。\n",
    "\n",
    "\n",
    "bc范式\n",
    "\n",
    "第四范式\n",
    "\n",
    "第五范式\n",
    "\n",
    "\n",
    "规范化能够保证单一真值，\n",
    "\n",
    "规范化的结果是把数据分散在不同的表里，使用这些数据的时候需要把n个表串起来。\n",
    "\n",
    "\n",
    "de-normalization 反向规范化——认为制造冗余来提高性能。"
   ]
  },
  {
   "cell_type": "markdown",
   "metadata": {},
   "source": [
    "关系模型本质上是二维表，但二维表不一定是关系模型。\n",
    "\n",
    "> 把关系型数据库当 excel 用了。"
   ]
  },
  {
   "cell_type": "markdown",
   "metadata": {},
   "source": [
    "关系型数据库管理系统\n",
    "\n",
    "RDBMS——relational database management system"
   ]
  },
  {
   "cell_type": "markdown",
   "metadata": {},
   "source": [
    "consgraints 约束\n",
    "\n",
    "事务 transactions：打包操作的一系列操作。【一些列操作的集合，打包成一个事务】，要么全成功，要么一个都不做。\n",
    "\n",
    "锁 locks，并发操作串行化\n",
    "\n",
    "索引 index，快速在很大的数据库中找到我们想要的东西\n",
    "\n",
    "集群 cluster，若干台计算机，合起来去做一件事情，协调多电脑协同。\n",
    "\n",
    "安全 security，访问权限。"
   ]
  },
  {
   "cell_type": "markdown",
   "metadata": {},
   "source": [
    "课程\n",
    "\n",
    "数据和数据库：\n",
    "www.bilibili.com/video/av87570864\n",
    "\n",
    "scientifyc python\n",
    "www.bilibili.com/video/av87572000"
   ]
  },
  {
   "cell_type": "markdown",
   "metadata": {},
   "source": [
    "## 视频课程\n",
    "\n",
    "### 内存中的数据"
   ]
  },
  {
   "cell_type": "markdown",
   "metadata": {},
   "source": [
    "用户 用户名 真名 邮箱 电话 地址"
   ]
  },
  {
   "cell_type": "code",
   "execution_count": 1,
   "metadata": {},
   "outputs": [],
   "source": [
    "user = { \n",
    "    'uid': 1,\n",
    "    'name': 'Neo',\n",
    "    'password': '2733bbf0e6a7b9a919d7cca6a7c0f74a',\n",
    "    'email': 'neo@matrix.net',\n",
    "    'mobile': '101-0101'\n",
    "}"
   ]
  },
  {
   "cell_type": "code",
   "execution_count": 2,
   "metadata": {},
   "outputs": [
    {
     "name": "stdout",
     "output_type": "stream",
     "text": [
      "neo@matrix.net\n",
      "2733bbf0e6a7b9a919d7cca6a7c0f74a\n",
      "{'uid': 1, 'name': 'Neo', 'password': '2733bbf0e6a7b9a919d7cca6a7c0f74a', 'email': 'neo@matrix.net', 'mobile': '101-0101'}\n"
     ]
    }
   ],
   "source": [
    "print(user['email'])\n",
    "print(user['password'])\n",
    "print(user)"
   ]
  },
  {
   "cell_type": "markdown",
   "metadata": {},
   "source": [
    "原子数据 复合型数据\n",
    "\n",
    "\n",
    "字段 属性"
   ]
  },
  {
   "cell_type": "code",
   "execution_count": 16,
   "metadata": {},
   "outputs": [],
   "source": [
    "def sha256_with_salt(text, salt):\n",
    "    return hashlib.sha256(salt.encode() + text.encode()).hexdigest()\n",
    "\n",
    "def hashpw(passwd):\n",
    "    # 加密\n",
    "    salt = uuid.uuid4().hex\n",
    "    return  sha256_with_salt(passwd, salt) + \":\" + salt\n",
    "\n",
    "def checkpw(passwd, hashed):\n",
    "    # 验证\n",
    "    _hashed, salt = hashed.split(':')\n",
    "    return _hashed == sha256_with_salt(passwd, salt)"
   ]
  },
  {
   "cell_type": "code",
   "execution_count": 17,
   "metadata": {},
   "outputs": [
    {
     "data": {
      "text/plain": [
       "'neo@matrix.net'"
      ]
     },
     "execution_count": 17,
     "metadata": {},
     "output_type": "execute_result"
    }
   ],
   "source": [
    "class User:\n",
    "    def __init__(self, uid, name, password, email, mobile):\n",
    "        self.uid = uid\n",
    "        self.name = name\n",
    "        self.password = hashpw(password)\n",
    "        self.mobile = mobile\n",
    "        self.email = email\n",
    "\n",
    "user = User(1, 'Neo', 'thereisnospoon', 'neo@matrix.net', '101-0101')\n",
    "user.email"
   ]
  },
  {
   "cell_type": "code",
   "execution_count": 18,
   "metadata": {},
   "outputs": [
    {
     "name": "stdout",
     "output_type": "stream",
     "text": [
      "neo@matrix.net\n",
      "5b7eff4feeb0cad8c9d58850ec7c07786c65e114f81f545477d7f7dfcad1733f:1348e8f7d654464693744d4d956c9dee\n"
     ]
    }
   ],
   "source": [
    "print(user.email)\n",
    "print(user.password)"
   ]
  },
  {
   "cell_type": "markdown",
   "metadata": {},
   "source": [
    "敏感字段、敏感属性\n",
    "\n",
    "不能直接操作 password \n",
    "\n",
    "不能太费劲，要有足够高的密级。\n",
    "\n"
   ]
  },
  {
   "cell_type": "code",
   "execution_count": 19,
   "metadata": {},
   "outputs": [],
   "source": [
    "import uuid\n",
    "import hashlib"
   ]
  },
  {
   "cell_type": "code",
   "execution_count": 20,
   "metadata": {},
   "outputs": [],
   "source": [
    "def sha256_with_salt(text, salt):\n",
    "    return hashlib.sha256(salt.encode() + text.encode()).hexdigest()\n",
    "\n",
    "def hashpw(passwd):\n",
    "    # 加密\n",
    "    salt = uuid.uuid4().hex\n",
    "    return  sha256_with_salt(passwd, salt) + \":\" + salt\n",
    "\n",
    "def checkpw(passwd, hashed):\n",
    "    # 验证\n",
    "    _hashed, salt = hashed.split(':')\n",
    "    return _hashed == sha256_with_salt(passwd, salt)"
   ]
  },
  {
   "cell_type": "code",
   "execution_count": 24,
   "metadata": {},
   "outputs": [
    {
     "data": {
      "text/plain": [
       "True"
      ]
     },
     "execution_count": 24,
     "metadata": {},
     "output_type": "execute_result"
    }
   ],
   "source": [
    "checkpw('thereisnospoon', user.password)\n",
    "# 验证密码"
   ]
  },
  {
   "cell_type": "code",
   "execution_count": 25,
   "metadata": {},
   "outputs": [
    {
     "data": {
      "text/plain": [
       "'5b7eff4feeb0cad8c9d58850ec7c07786c65e114f81f545477d7f7dfcad1733f:1348e8f7d654464693744d4d956c9dee'"
      ]
     },
     "execution_count": 25,
     "metadata": {},
     "output_type": "execute_result"
    }
   ],
   "source": [
    "user.password"
   ]
  },
  {
   "cell_type": "markdown",
   "metadata": {},
   "source": [
    "不是把现实中的东西变成计算机中的数据就完事了。\n",
    "\n",
    "需要在业务上理解之后做设计。"
   ]
  },
  {
   "cell_type": "markdown",
   "metadata": {},
   "source": [
    "数据操作 \n",
    "\n",
    "CRUD\n",
    "\n",
    "- create\n",
    "- read\n",
    "- update\n",
    "- delete\n",
    "\n",
    "增删改查"
   ]
  },
  {
   "cell_type": "code",
   "execution_count": 26,
   "metadata": {},
   "outputs": [
    {
     "name": "stdout",
     "output_type": "stream",
     "text": [
      "<__main__.User object at 0x000001AF5091C730>\n"
     ]
    }
   ],
   "source": [
    "print(user)"
   ]
  },
  {
   "cell_type": "code",
   "execution_count": 27,
   "metadata": {},
   "outputs": [
    {
     "data": {
      "text/plain": [
       "'neo@matrix.net'"
      ]
     },
     "execution_count": 27,
     "metadata": {},
     "output_type": "execute_result"
    }
   ],
   "source": [
    "class User:\n",
    "    def __init__(self, uid, name, password, email, mobile):\n",
    "        self.uid = uid\n",
    "        self.name = name\n",
    "        self.password = hashpw(password)\n",
    "        self.mobile = mobile\n",
    "        self.email = email\n",
    "\n",
    "    def __repr__(self):\n",
    "        return f\"<uid={self.uid}: name={self.name}, email={self.email}, mobile={self.mobile}>\"\n",
    "    \n",
    "    def __str__(self):\n",
    "        return self.__repr__()\n",
    "    \n",
    "user = User(1, 'Neo', 'thereisnospoon', 'neo@matrix.net', '101-0101')\n",
    "user.email"
   ]
  },
  {
   "cell_type": "code",
   "execution_count": 28,
   "metadata": {},
   "outputs": [
    {
     "name": "stdout",
     "output_type": "stream",
     "text": [
      "<uid=1: name=Neo, email=neo@matrix.net, mobile=101-0101>\n"
     ]
    }
   ],
   "source": [
    "print(user)"
   ]
  },
  {
   "cell_type": "code",
   "execution_count": 47,
   "metadata": {},
   "outputs": [],
   "source": [
    "users = []\n",
    "\n",
    "def list_users():\n",
    "    for user in users:\n",
    "        print(user)"
   ]
  },
  {
   "cell_type": "code",
   "execution_count": 48,
   "metadata": {},
   "outputs": [],
   "source": [
    "users.append(User(1, 'neo', 'thereisnospoon', 'neo@matrix.net', '101-0101'))\n",
    "users.append(User(2, 'trinity', 'iloveyouneo', 'trinity@matrix.net', '101-1010'))\n",
    "users.append(User(3, 'morpheus', 'ibelieve', 'morpheus@matrix.net', '101-1111'))"
   ]
  },
  {
   "cell_type": "code",
   "execution_count": 49,
   "metadata": {},
   "outputs": [
    {
     "name": "stdout",
     "output_type": "stream",
     "text": [
      "[<uid=1: name=neo, email=neo@matrix.net, mobile=101-0101>, <uid=2: name=trinity, email=trinity@matrix.net, mobile=101-1010>, <uid=3: name=morpheus, email=morpheus@matrix.net, mobile=101-1111>]\n"
     ]
    }
   ],
   "source": [
    "print(users)\n",
    "# 打印列表时，会对列表中的每个元素调用 `__repr__` 方法。"
   ]
  },
  {
   "cell_type": "code",
   "execution_count": 50,
   "metadata": {},
   "outputs": [
    {
     "name": "stdout",
     "output_type": "stream",
     "text": [
      "<uid=1: name=neo, email=neo@matrix.net, mobile=101-0101>\n",
      "<uid=2: name=trinity, email=trinity@matrix.net, mobile=101-1010>\n",
      "<uid=3: name=morpheus, email=morpheus@matrix.net, mobile=101-1111>\n"
     ]
    }
   ],
   "source": [
    "list_users()"
   ]
  },
  {
   "cell_type": "code",
   "execution_count": 51,
   "metadata": {},
   "outputs": [
    {
     "name": "stdout",
     "output_type": "stream",
     "text": [
      "101-1010 trinity@matrix.net\n"
     ]
    }
   ],
   "source": [
    "# 查找\n",
    "\n",
    "for user in users:\n",
    "    if user.name == 'trinity':\n",
    "        print(user.mobile, user.email)"
   ]
  },
  {
   "cell_type": "code",
   "execution_count": 52,
   "metadata": {},
   "outputs": [
    {
     "name": "stdout",
     "output_type": "stream",
     "text": [
      "101-1010\n",
      "101-2222\n",
      "<uid=1: name=neo, email=neo@matrix.net, mobile=101-0101>\n",
      "<uid=2: name=trinity, email=trinity@matrix.net, mobile=101-2222>\n",
      "<uid=3: name=morpheus, email=morpheus@matrix.net, mobile=101-1111>\n"
     ]
    }
   ],
   "source": [
    "# 修改\n",
    "for user in users:\n",
    "    if user.name == 'trinity':\n",
    "        print(user.mobile)\n",
    "        user.mobile = '101-2222'\n",
    "        print(user.mobile)\n",
    "        \n",
    "list_users()"
   ]
  },
  {
   "cell_type": "code",
   "execution_count": 53,
   "metadata": {},
   "outputs": [],
   "source": [
    "# 增加\n",
    "users.append(User(4, 'merovingian', 'iknoweverything', 'merovingian@matrix.net', '777-7777'))\n",
    "users.append(User(5, 'smith', 'mr.andersion', 'smith@matrix.net', '222-7777'))"
   ]
  },
  {
   "cell_type": "code",
   "execution_count": 54,
   "metadata": {},
   "outputs": [
    {
     "name": "stdout",
     "output_type": "stream",
     "text": [
      "<uid=1: name=neo, email=neo@matrix.net, mobile=101-0101>\n",
      "<uid=2: name=trinity, email=trinity@matrix.net, mobile=101-2222>\n",
      "<uid=3: name=morpheus, email=morpheus@matrix.net, mobile=101-1111>\n",
      "<uid=4: name=merovingian, email=merovingian@matrix.net, mobile=777-7777>\n",
      "<uid=5: name=smith, email=smith@matrix.net, mobile=222-7777>\n"
     ]
    }
   ],
   "source": [
    "list_users()"
   ]
  },
  {
   "cell_type": "code",
   "execution_count": 57,
   "metadata": {},
   "outputs": [
    {
     "name": "stdout",
     "output_type": "stream",
     "text": [
      "<uid=1: name=neo, email=neo@matrix.net, mobile=101-0101>\n",
      "<uid=2: name=trinity, email=trinity@matrix.net, mobile=101-2222>\n",
      "<uid=3: name=morpheus, email=morpheus@matrix.net, mobile=101-1111>\n"
     ]
    }
   ],
   "source": [
    "# 删除\n",
    "for user in users:\n",
    "    if not user.mobile.startswith('101'):\n",
    "        users.remove(user)\n",
    "        \n",
    "list_users()"
   ]
  },
  {
   "cell_type": "markdown",
   "metadata": {},
   "source": [
    "数据持久化。"
   ]
  },
  {
   "cell_type": "markdown",
   "metadata": {},
   "source": [
    "### csv 和 json"
   ]
  },
  {
   "cell_type": "markdown",
   "metadata": {},
   "source": [
    "读写文件的两个问题：\n",
    "\n",
    "1. 以什么格式读写，文件格式。\n",
    "\n",
    "2. 定好格式后，怎么写，怎么读。把数据对象变成字符串 \n",
    "\n",
    "3. serization parse。\n",
    "\n",
    "标准化格式，标准化库。"
   ]
  },
  {
   "cell_type": "markdown",
   "metadata": {},
   "source": [
    "csv, comma separated values\n",
    "\n",
    "json, java script object notation"
   ]
  },
  {
   "cell_type": "markdown",
   "metadata": {},
   "source": [
    "pandas 数据清洗 数据分析"
   ]
  },
  {
   "cell_type": "code",
   "execution_count": 58,
   "metadata": {},
   "outputs": [],
   "source": [
    "import pandas as pd\n",
    "\n",
    "data = pd.read_csv('assets/moma-artists.csv')"
   ]
  },
  {
   "cell_type": "code",
   "execution_count": 59,
   "metadata": {},
   "outputs": [
    {
     "data": {
      "text/html": [
       "<div>\n",
       "<style scoped>\n",
       "    .dataframe tbody tr th:only-of-type {\n",
       "        vertical-align: middle;\n",
       "    }\n",
       "\n",
       "    .dataframe tbody tr th {\n",
       "        vertical-align: top;\n",
       "    }\n",
       "\n",
       "    .dataframe thead th {\n",
       "        text-align: right;\n",
       "    }\n",
       "</style>\n",
       "<table border=\"1\" class=\"dataframe\">\n",
       "  <thead>\n",
       "    <tr style=\"text-align: right;\">\n",
       "      <th></th>\n",
       "      <th>ConstituentID</th>\n",
       "      <th>DisplayName</th>\n",
       "      <th>ArtistBio</th>\n",
       "      <th>Nationality</th>\n",
       "      <th>Gender</th>\n",
       "      <th>BeginDate</th>\n",
       "      <th>EndDate</th>\n",
       "      <th>Wiki QID</th>\n",
       "      <th>ULAN</th>\n",
       "    </tr>\n",
       "  </thead>\n",
       "  <tbody>\n",
       "    <tr>\n",
       "      <th>0</th>\n",
       "      <td>1</td>\n",
       "      <td>Robert Arneson</td>\n",
       "      <td>American, 1930–1992</td>\n",
       "      <td>American</td>\n",
       "      <td>Male</td>\n",
       "      <td>1930</td>\n",
       "      <td>1992</td>\n",
       "      <td>NaN</td>\n",
       "      <td>NaN</td>\n",
       "    </tr>\n",
       "    <tr>\n",
       "      <th>1</th>\n",
       "      <td>2</td>\n",
       "      <td>Doroteo Arnaiz</td>\n",
       "      <td>Spanish, born 1936</td>\n",
       "      <td>Spanish</td>\n",
       "      <td>Male</td>\n",
       "      <td>1936</td>\n",
       "      <td>0</td>\n",
       "      <td>NaN</td>\n",
       "      <td>NaN</td>\n",
       "    </tr>\n",
       "    <tr>\n",
       "      <th>2</th>\n",
       "      <td>3</td>\n",
       "      <td>Bill Arnold</td>\n",
       "      <td>American, born 1941</td>\n",
       "      <td>American</td>\n",
       "      <td>Male</td>\n",
       "      <td>1941</td>\n",
       "      <td>0</td>\n",
       "      <td>NaN</td>\n",
       "      <td>NaN</td>\n",
       "    </tr>\n",
       "    <tr>\n",
       "      <th>3</th>\n",
       "      <td>4</td>\n",
       "      <td>Charles Arnoldi</td>\n",
       "      <td>American, born 1946</td>\n",
       "      <td>American</td>\n",
       "      <td>Male</td>\n",
       "      <td>1946</td>\n",
       "      <td>0</td>\n",
       "      <td>Q1063584</td>\n",
       "      <td>500027998.0</td>\n",
       "    </tr>\n",
       "    <tr>\n",
       "      <th>4</th>\n",
       "      <td>5</td>\n",
       "      <td>Per Arnoldi</td>\n",
       "      <td>Danish, born 1941</td>\n",
       "      <td>Danish</td>\n",
       "      <td>Male</td>\n",
       "      <td>1941</td>\n",
       "      <td>0</td>\n",
       "      <td>NaN</td>\n",
       "      <td>NaN</td>\n",
       "    </tr>\n",
       "  </tbody>\n",
       "</table>\n",
       "</div>"
      ],
      "text/plain": [
       "   ConstituentID      DisplayName            ArtistBio Nationality Gender  \\\n",
       "0              1   Robert Arneson  American, 1930–1992    American   Male   \n",
       "1              2   Doroteo Arnaiz   Spanish, born 1936     Spanish   Male   \n",
       "2              3      Bill Arnold  American, born 1941    American   Male   \n",
       "3              4  Charles Arnoldi  American, born 1946    American   Male   \n",
       "4              5      Per Arnoldi    Danish, born 1941      Danish   Male   \n",
       "\n",
       "   BeginDate  EndDate  Wiki QID         ULAN  \n",
       "0       1930     1992       NaN          NaN  \n",
       "1       1936        0       NaN          NaN  \n",
       "2       1941        0       NaN          NaN  \n",
       "3       1946        0  Q1063584  500027998.0  \n",
       "4       1941        0       NaN          NaN  "
      ]
     },
     "execution_count": 59,
     "metadata": {},
     "output_type": "execute_result"
    }
   ],
   "source": [
    "data.head()"
   ]
  },
  {
   "cell_type": "code",
   "execution_count": 60,
   "metadata": {},
   "outputs": [
    {
     "data": {
      "text/html": [
       "<div>\n",
       "<style scoped>\n",
       "    .dataframe tbody tr th:only-of-type {\n",
       "        vertical-align: middle;\n",
       "    }\n",
       "\n",
       "    .dataframe tbody tr th {\n",
       "        vertical-align: top;\n",
       "    }\n",
       "\n",
       "    .dataframe thead th {\n",
       "        text-align: right;\n",
       "    }\n",
       "</style>\n",
       "<table border=\"1\" class=\"dataframe\">\n",
       "  <thead>\n",
       "    <tr style=\"text-align: right;\">\n",
       "      <th></th>\n",
       "      <th>ConstituentID</th>\n",
       "      <th>DisplayName</th>\n",
       "      <th>ArtistBio</th>\n",
       "      <th>Nationality</th>\n",
       "      <th>Gender</th>\n",
       "      <th>BeginDate</th>\n",
       "      <th>EndDate</th>\n",
       "      <th>Wiki QID</th>\n",
       "      <th>ULAN</th>\n",
       "    </tr>\n",
       "  </thead>\n",
       "  <tbody>\n",
       "    <tr>\n",
       "      <th>0</th>\n",
       "      <td>1</td>\n",
       "      <td>Robert Arneson</td>\n",
       "      <td>American, 1930–1992</td>\n",
       "      <td>American</td>\n",
       "      <td>Male</td>\n",
       "      <td>1930</td>\n",
       "      <td>1992</td>\n",
       "      <td>NaN</td>\n",
       "      <td>NaN</td>\n",
       "    </tr>\n",
       "    <tr>\n",
       "      <th>1</th>\n",
       "      <td>2</td>\n",
       "      <td>Doroteo Arnaiz</td>\n",
       "      <td>Spanish, born 1936</td>\n",
       "      <td>Spanish</td>\n",
       "      <td>Male</td>\n",
       "      <td>1936</td>\n",
       "      <td>0</td>\n",
       "      <td>NaN</td>\n",
       "      <td>NaN</td>\n",
       "    </tr>\n",
       "    <tr>\n",
       "      <th>2</th>\n",
       "      <td>3</td>\n",
       "      <td>Bill Arnold</td>\n",
       "      <td>American, born 1941</td>\n",
       "      <td>American</td>\n",
       "      <td>Male</td>\n",
       "      <td>1941</td>\n",
       "      <td>0</td>\n",
       "      <td>NaN</td>\n",
       "      <td>NaN</td>\n",
       "    </tr>\n",
       "    <tr>\n",
       "      <th>3</th>\n",
       "      <td>4</td>\n",
       "      <td>Charles Arnoldi</td>\n",
       "      <td>American, born 1946</td>\n",
       "      <td>American</td>\n",
       "      <td>Male</td>\n",
       "      <td>1946</td>\n",
       "      <td>0</td>\n",
       "      <td>Q1063584</td>\n",
       "      <td>500027998.0</td>\n",
       "    </tr>\n",
       "    <tr>\n",
       "      <th>4</th>\n",
       "      <td>5</td>\n",
       "      <td>Per Arnoldi</td>\n",
       "      <td>Danish, born 1941</td>\n",
       "      <td>Danish</td>\n",
       "      <td>Male</td>\n",
       "      <td>1941</td>\n",
       "      <td>0</td>\n",
       "      <td>NaN</td>\n",
       "      <td>NaN</td>\n",
       "    </tr>\n",
       "    <tr>\n",
       "      <th>...</th>\n",
       "      <td>...</td>\n",
       "      <td>...</td>\n",
       "      <td>...</td>\n",
       "      <td>...</td>\n",
       "      <td>...</td>\n",
       "      <td>...</td>\n",
       "      <td>...</td>\n",
       "      <td>...</td>\n",
       "      <td>...</td>\n",
       "    </tr>\n",
       "    <tr>\n",
       "      <th>16025</th>\n",
       "      <td>75712</td>\n",
       "      <td>Elizabeth Kner</td>\n",
       "      <td>NaN</td>\n",
       "      <td>NaN</td>\n",
       "      <td>NaN</td>\n",
       "      <td>0</td>\n",
       "      <td>0</td>\n",
       "      <td>NaN</td>\n",
       "      <td>NaN</td>\n",
       "    </tr>\n",
       "    <tr>\n",
       "      <th>16026</th>\n",
       "      <td>81076</td>\n",
       "      <td>American Mutoscope and Biograph Company</td>\n",
       "      <td>1899-1909</td>\n",
       "      <td>NaN</td>\n",
       "      <td>NaN</td>\n",
       "      <td>1899</td>\n",
       "      <td>1909</td>\n",
       "      <td>NaN</td>\n",
       "      <td>NaN</td>\n",
       "    </tr>\n",
       "    <tr>\n",
       "      <th>16027</th>\n",
       "      <td>118796</td>\n",
       "      <td>George A. Romero</td>\n",
       "      <td>American, 1940–2017</td>\n",
       "      <td>American</td>\n",
       "      <td>Male</td>\n",
       "      <td>1940</td>\n",
       "      <td>2017</td>\n",
       "      <td>NaN</td>\n",
       "      <td>NaN</td>\n",
       "    </tr>\n",
       "    <tr>\n",
       "      <th>16028</th>\n",
       "      <td>131252</td>\n",
       "      <td>Getama, Denmark</td>\n",
       "      <td>est. 1899</td>\n",
       "      <td>Danish</td>\n",
       "      <td>NaN</td>\n",
       "      <td>1899</td>\n",
       "      <td>0</td>\n",
       "      <td>NaN</td>\n",
       "      <td>NaN</td>\n",
       "    </tr>\n",
       "    <tr>\n",
       "      <th>16029</th>\n",
       "      <td>131354</td>\n",
       "      <td>Nicolaas van de Vecht</td>\n",
       "      <td>Dutch, 1886 - 1941</td>\n",
       "      <td>Dutch</td>\n",
       "      <td>Male</td>\n",
       "      <td>1886</td>\n",
       "      <td>1941</td>\n",
       "      <td>NaN</td>\n",
       "      <td>NaN</td>\n",
       "    </tr>\n",
       "  </tbody>\n",
       "</table>\n",
       "<p>16030 rows × 9 columns</p>\n",
       "</div>"
      ],
      "text/plain": [
       "       ConstituentID                              DisplayName  \\\n",
       "0                  1                           Robert Arneson   \n",
       "1                  2                           Doroteo Arnaiz   \n",
       "2                  3                              Bill Arnold   \n",
       "3                  4                          Charles Arnoldi   \n",
       "4                  5                              Per Arnoldi   \n",
       "...              ...                                      ...   \n",
       "16025          75712                           Elizabeth Kner   \n",
       "16026          81076  American Mutoscope and Biograph Company   \n",
       "16027         118796                         George A. Romero   \n",
       "16028         131252                          Getama, Denmark   \n",
       "16029         131354                    Nicolaas van de Vecht   \n",
       "\n",
       "                 ArtistBio Nationality Gender  BeginDate  EndDate  Wiki QID  \\\n",
       "0      American, 1930–1992    American   Male       1930     1992       NaN   \n",
       "1       Spanish, born 1936     Spanish   Male       1936        0       NaN   \n",
       "2      American, born 1941    American   Male       1941        0       NaN   \n",
       "3      American, born 1946    American   Male       1946        0  Q1063584   \n",
       "4        Danish, born 1941      Danish   Male       1941        0       NaN   \n",
       "...                    ...         ...    ...        ...      ...       ...   \n",
       "16025                  NaN         NaN    NaN          0        0       NaN   \n",
       "16026            1899-1909         NaN    NaN       1899     1909       NaN   \n",
       "16027  American, 1940–2017    American   Male       1940     2017       NaN   \n",
       "16028            est. 1899      Danish    NaN       1899        0       NaN   \n",
       "16029   Dutch, 1886 - 1941       Dutch   Male       1886     1941       NaN   \n",
       "\n",
       "              ULAN  \n",
       "0              NaN  \n",
       "1              NaN  \n",
       "2              NaN  \n",
       "3      500027998.0  \n",
       "4              NaN  \n",
       "...            ...  \n",
       "16025          NaN  \n",
       "16026          NaN  \n",
       "16027          NaN  \n",
       "16028          NaN  \n",
       "16029          NaN  \n",
       "\n",
       "[16030 rows x 9 columns]"
      ]
     },
     "execution_count": 60,
     "metadata": {},
     "output_type": "execute_result"
    }
   ],
   "source": [
    "data"
   ]
  },
  {
   "cell_type": "code",
   "execution_count": 61,
   "metadata": {},
   "outputs": [
    {
     "data": {
      "text/plain": [
       "pandas.core.frame.DataFrame"
      ]
     },
     "execution_count": 61,
     "metadata": {},
     "output_type": "execute_result"
    }
   ],
   "source": [
    "type(data)"
   ]
  },
  {
   "cell_type": "code",
   "execution_count": 63,
   "metadata": {},
   "outputs": [
    {
     "data": {
      "text/html": [
       "<div>\n",
       "<style scoped>\n",
       "    .dataframe tbody tr th:only-of-type {\n",
       "        vertical-align: middle;\n",
       "    }\n",
       "\n",
       "    .dataframe tbody tr th {\n",
       "        vertical-align: top;\n",
       "    }\n",
       "\n",
       "    .dataframe thead th {\n",
       "        text-align: right;\n",
       "    }\n",
       "</style>\n",
       "<table border=\"1\" class=\"dataframe\">\n",
       "  <thead>\n",
       "    <tr style=\"text-align: right;\">\n",
       "      <th></th>\n",
       "      <th>ConstituentID</th>\n",
       "      <th>DisplayName</th>\n",
       "      <th>ArtistBio</th>\n",
       "      <th>Nationality</th>\n",
       "      <th>Gender</th>\n",
       "      <th>BeginDate</th>\n",
       "      <th>EndDate</th>\n",
       "      <th>Wiki QID</th>\n",
       "      <th>ULAN</th>\n",
       "    </tr>\n",
       "  </thead>\n",
       "  <tbody>\n",
       "    <tr>\n",
       "      <th>16025</th>\n",
       "      <td>75712</td>\n",
       "      <td>Elizabeth Kner</td>\n",
       "      <td>NaN</td>\n",
       "      <td>NaN</td>\n",
       "      <td>NaN</td>\n",
       "      <td>0</td>\n",
       "      <td>0</td>\n",
       "      <td>NaN</td>\n",
       "      <td>NaN</td>\n",
       "    </tr>\n",
       "    <tr>\n",
       "      <th>16026</th>\n",
       "      <td>81076</td>\n",
       "      <td>American Mutoscope and Biograph Company</td>\n",
       "      <td>1899-1909</td>\n",
       "      <td>NaN</td>\n",
       "      <td>NaN</td>\n",
       "      <td>1899</td>\n",
       "      <td>1909</td>\n",
       "      <td>NaN</td>\n",
       "      <td>NaN</td>\n",
       "    </tr>\n",
       "    <tr>\n",
       "      <th>16027</th>\n",
       "      <td>118796</td>\n",
       "      <td>George A. Romero</td>\n",
       "      <td>American, 1940–2017</td>\n",
       "      <td>American</td>\n",
       "      <td>Male</td>\n",
       "      <td>1940</td>\n",
       "      <td>2017</td>\n",
       "      <td>NaN</td>\n",
       "      <td>NaN</td>\n",
       "    </tr>\n",
       "    <tr>\n",
       "      <th>16028</th>\n",
       "      <td>131252</td>\n",
       "      <td>Getama, Denmark</td>\n",
       "      <td>est. 1899</td>\n",
       "      <td>Danish</td>\n",
       "      <td>NaN</td>\n",
       "      <td>1899</td>\n",
       "      <td>0</td>\n",
       "      <td>NaN</td>\n",
       "      <td>NaN</td>\n",
       "    </tr>\n",
       "    <tr>\n",
       "      <th>16029</th>\n",
       "      <td>131354</td>\n",
       "      <td>Nicolaas van de Vecht</td>\n",
       "      <td>Dutch, 1886 - 1941</td>\n",
       "      <td>Dutch</td>\n",
       "      <td>Male</td>\n",
       "      <td>1886</td>\n",
       "      <td>1941</td>\n",
       "      <td>NaN</td>\n",
       "      <td>NaN</td>\n",
       "    </tr>\n",
       "  </tbody>\n",
       "</table>\n",
       "</div>"
      ],
      "text/plain": [
       "       ConstituentID                              DisplayName  \\\n",
       "16025          75712                           Elizabeth Kner   \n",
       "16026          81076  American Mutoscope and Biograph Company   \n",
       "16027         118796                         George A. Romero   \n",
       "16028         131252                          Getama, Denmark   \n",
       "16029         131354                    Nicolaas van de Vecht   \n",
       "\n",
       "                 ArtistBio Nationality Gender  BeginDate  EndDate Wiki QID  \\\n",
       "16025                  NaN         NaN    NaN          0        0      NaN   \n",
       "16026            1899-1909         NaN    NaN       1899     1909      NaN   \n",
       "16027  American, 1940–2017    American   Male       1940     2017      NaN   \n",
       "16028            est. 1899      Danish    NaN       1899        0      NaN   \n",
       "16029   Dutch, 1886 - 1941       Dutch   Male       1886     1941      NaN   \n",
       "\n",
       "       ULAN  \n",
       "16025   NaN  \n",
       "16026   NaN  \n",
       "16027   NaN  \n",
       "16028   NaN  \n",
       "16029   NaN  "
      ]
     },
     "execution_count": 63,
     "metadata": {},
     "output_type": "execute_result"
    }
   ],
   "source": [
    "data.tail()"
   ]
  },
  {
   "cell_type": "markdown",
   "metadata": {},
   "source": [
    "pandas 通常更多地2是用来查询和可视化（看）和分析。"
   ]
  },
  {
   "cell_type": "code",
   "execution_count": 67,
   "metadata": {},
   "outputs": [
    {
     "data": {
      "text/html": [
       "<div>\n",
       "<style scoped>\n",
       "    .dataframe tbody tr th:only-of-type {\n",
       "        vertical-align: middle;\n",
       "    }\n",
       "\n",
       "    .dataframe tbody tr th {\n",
       "        vertical-align: top;\n",
       "    }\n",
       "\n",
       "    .dataframe thead th {\n",
       "        text-align: right;\n",
       "    }\n",
       "</style>\n",
       "<table border=\"1\" class=\"dataframe\">\n",
       "  <thead>\n",
       "    <tr style=\"text-align: right;\">\n",
       "      <th></th>\n",
       "      <th>ConstituentID</th>\n",
       "      <th>DisplayName</th>\n",
       "      <th>ArtistBio</th>\n",
       "      <th>Nationality</th>\n",
       "      <th>Gender</th>\n",
       "      <th>BeginDate</th>\n",
       "      <th>EndDate</th>\n",
       "      <th>Wiki QID</th>\n",
       "      <th>ULAN</th>\n",
       "    </tr>\n",
       "  </thead>\n",
       "  <tbody>\n",
       "    <tr>\n",
       "      <th>8518</th>\n",
       "      <td>11159</td>\n",
       "      <td>Lexon, France</td>\n",
       "      <td>est. 1990</td>\n",
       "      <td>NaN</td>\n",
       "      <td>NaN</td>\n",
       "      <td>1990</td>\n",
       "      <td>0</td>\n",
       "      <td>NaN</td>\n",
       "      <td>NaN</td>\n",
       "    </tr>\n",
       "    <tr>\n",
       "      <th>10523</th>\n",
       "      <td>29566</td>\n",
       "      <td>OFFECCT</td>\n",
       "      <td>Sweden, est. 1990</td>\n",
       "      <td>Swedish</td>\n",
       "      <td>NaN</td>\n",
       "      <td>1990</td>\n",
       "      <td>0</td>\n",
       "      <td>NaN</td>\n",
       "      <td>NaN</td>\n",
       "    </tr>\n",
       "    <tr>\n",
       "      <th>11545</th>\n",
       "      <td>34168</td>\n",
       "      <td>Kengo Kuma &amp; Associates</td>\n",
       "      <td>Japan, est. 1990</td>\n",
       "      <td>NaN</td>\n",
       "      <td>NaN</td>\n",
       "      <td>1990</td>\n",
       "      <td>0</td>\n",
       "      <td>NaN</td>\n",
       "      <td>NaN</td>\n",
       "    </tr>\n",
       "    <tr>\n",
       "      <th>12469</th>\n",
       "      <td>37888</td>\n",
       "      <td>Werkplaats Martin van Oel</td>\n",
       "      <td>Dutch, est. 1990</td>\n",
       "      <td>Dutch</td>\n",
       "      <td>NaN</td>\n",
       "      <td>1990</td>\n",
       "      <td>0</td>\n",
       "      <td>NaN</td>\n",
       "      <td>NaN</td>\n",
       "    </tr>\n",
       "    <tr>\n",
       "      <th>14254</th>\n",
       "      <td>46529</td>\n",
       "      <td>Joseph Pleass</td>\n",
       "      <td>British, born 1990</td>\n",
       "      <td>British</td>\n",
       "      <td>Male</td>\n",
       "      <td>1990</td>\n",
       "      <td>0</td>\n",
       "      <td>NaN</td>\n",
       "      <td>NaN</td>\n",
       "    </tr>\n",
       "    <tr>\n",
       "      <th>14703</th>\n",
       "      <td>48039</td>\n",
       "      <td>Jacqueline Yuan Quinn</td>\n",
       "      <td>NaN</td>\n",
       "      <td>American</td>\n",
       "      <td>Female</td>\n",
       "      <td>1990</td>\n",
       "      <td>0</td>\n",
       "      <td>NaN</td>\n",
       "      <td>NaN</td>\n",
       "    </tr>\n",
       "    <tr>\n",
       "      <th>15514</th>\n",
       "      <td>69266</td>\n",
       "      <td>Richard Malone</td>\n",
       "      <td>Irish, born 1990</td>\n",
       "      <td>Irish</td>\n",
       "      <td>Male</td>\n",
       "      <td>1990</td>\n",
       "      <td>0</td>\n",
       "      <td>NaN</td>\n",
       "      <td>NaN</td>\n",
       "    </tr>\n",
       "  </tbody>\n",
       "</table>\n",
       "</div>"
      ],
      "text/plain": [
       "       ConstituentID                DisplayName           ArtistBio  \\\n",
       "8518           11159              Lexon, France           est. 1990   \n",
       "10523          29566                    OFFECCT   Sweden, est. 1990   \n",
       "11545          34168    Kengo Kuma & Associates    Japan, est. 1990   \n",
       "12469          37888  Werkplaats Martin van Oel    Dutch, est. 1990   \n",
       "14254          46529              Joseph Pleass  British, born 1990   \n",
       "14703          48039      Jacqueline Yuan Quinn                 NaN   \n",
       "15514          69266             Richard Malone    Irish, born 1990   \n",
       "\n",
       "      Nationality  Gender  BeginDate  EndDate Wiki QID  ULAN  \n",
       "8518          NaN     NaN       1990        0      NaN   NaN  \n",
       "10523     Swedish     NaN       1990        0      NaN   NaN  \n",
       "11545         NaN     NaN       1990        0      NaN   NaN  \n",
       "12469       Dutch     NaN       1990        0      NaN   NaN  \n",
       "14254     British    Male       1990        0      NaN   NaN  \n",
       "14703    American  Female       1990        0      NaN   NaN  \n",
       "15514       Irish    Male       1990        0      NaN   NaN  "
      ]
     },
     "execution_count": 67,
     "metadata": {},
     "output_type": "execute_result"
    }
   ],
   "source": [
    "data.query(\"BeginDate >= 1990 and BeginDate < 1991\")"
   ]
  },
  {
   "cell_type": "markdown",
   "metadata": {},
   "source": [
    "query 其实就相当于遍历每一行（记录），然后判断对应的列是否满足条件。\n",
    "\n"
   ]
  },
  {
   "cell_type": "code",
   "execution_count": 68,
   "metadata": {},
   "outputs": [
    {
     "data": {
      "text/html": [
       "<div>\n",
       "<style scoped>\n",
       "    .dataframe tbody tr th:only-of-type {\n",
       "        vertical-align: middle;\n",
       "    }\n",
       "\n",
       "    .dataframe tbody tr th {\n",
       "        vertical-align: top;\n",
       "    }\n",
       "\n",
       "    .dataframe thead th {\n",
       "        text-align: right;\n",
       "    }\n",
       "</style>\n",
       "<table border=\"1\" class=\"dataframe\">\n",
       "  <thead>\n",
       "    <tr style=\"text-align: right;\">\n",
       "      <th></th>\n",
       "      <th>ConstituentID</th>\n",
       "      <th>DisplayName</th>\n",
       "      <th>ArtistBio</th>\n",
       "      <th>Nationality</th>\n",
       "      <th>Gender</th>\n",
       "      <th>BeginDate</th>\n",
       "      <th>EndDate</th>\n",
       "      <th>Wiki QID</th>\n",
       "      <th>ULAN</th>\n",
       "    </tr>\n",
       "  </thead>\n",
       "  <tbody>\n",
       "    <tr>\n",
       "      <th>2965</th>\n",
       "      <td>3321</td>\n",
       "      <td>K2 Design Studio</td>\n",
       "      <td>Japanese, born 1993</td>\n",
       "      <td>Japanese</td>\n",
       "      <td>NaN</td>\n",
       "      <td>1993</td>\n",
       "      <td>0</td>\n",
       "      <td>NaN</td>\n",
       "      <td>NaN</td>\n",
       "    </tr>\n",
       "    <tr>\n",
       "      <th>6672</th>\n",
       "      <td>7517</td>\n",
       "      <td>Cyan</td>\n",
       "      <td>German, established 1992</td>\n",
       "      <td>German</td>\n",
       "      <td>NaN</td>\n",
       "      <td>1992</td>\n",
       "      <td>0</td>\n",
       "      <td>NaN</td>\n",
       "      <td>NaN</td>\n",
       "    </tr>\n",
       "    <tr>\n",
       "      <th>6761</th>\n",
       "      <td>7620</td>\n",
       "      <td>Studio Boot</td>\n",
       "      <td>Dutch, born 1992</td>\n",
       "      <td>Dutch</td>\n",
       "      <td>NaN</td>\n",
       "      <td>1992</td>\n",
       "      <td>0</td>\n",
       "      <td>NaN</td>\n",
       "      <td>NaN</td>\n",
       "    </tr>\n",
       "    <tr>\n",
       "      <th>6764</th>\n",
       "      <td>7623</td>\n",
       "      <td>Una</td>\n",
       "      <td>Dutch, established 1992</td>\n",
       "      <td>Dutch</td>\n",
       "      <td>NaN</td>\n",
       "      <td>1992</td>\n",
       "      <td>0</td>\n",
       "      <td>NaN</td>\n",
       "      <td>NaN</td>\n",
       "    </tr>\n",
       "    <tr>\n",
       "      <th>7629</th>\n",
       "      <td>8692</td>\n",
       "      <td>IDEO</td>\n",
       "      <td>USA, est. 1991</td>\n",
       "      <td>NaN</td>\n",
       "      <td>NaN</td>\n",
       "      <td>1991</td>\n",
       "      <td>0</td>\n",
       "      <td>NaN</td>\n",
       "      <td>NaN</td>\n",
       "    </tr>\n",
       "    <tr>\n",
       "      <th>...</th>\n",
       "      <td>...</td>\n",
       "      <td>...</td>\n",
       "      <td>...</td>\n",
       "      <td>...</td>\n",
       "      <td>...</td>\n",
       "      <td>...</td>\n",
       "      <td>...</td>\n",
       "      <td>...</td>\n",
       "      <td>...</td>\n",
       "    </tr>\n",
       "    <tr>\n",
       "      <th>15267</th>\n",
       "      <td>67262</td>\n",
       "      <td>Parallel Design Partnership</td>\n",
       "      <td>est. 1993</td>\n",
       "      <td>NaN</td>\n",
       "      <td>NaN</td>\n",
       "      <td>1993</td>\n",
       "      <td>0</td>\n",
       "      <td>NaN</td>\n",
       "      <td>NaN</td>\n",
       "    </tr>\n",
       "    <tr>\n",
       "      <th>15279</th>\n",
       "      <td>67311</td>\n",
       "      <td>Zack Khalil</td>\n",
       "      <td>American, born 1991</td>\n",
       "      <td>American</td>\n",
       "      <td>Male</td>\n",
       "      <td>1991</td>\n",
       "      <td>0</td>\n",
       "      <td>NaN</td>\n",
       "      <td>NaN</td>\n",
       "    </tr>\n",
       "    <tr>\n",
       "      <th>15361</th>\n",
       "      <td>67735</td>\n",
       "      <td>Lucy Jones</td>\n",
       "      <td>Welsh, born 1991</td>\n",
       "      <td>Welsh</td>\n",
       "      <td>Female</td>\n",
       "      <td>1991</td>\n",
       "      <td>0</td>\n",
       "      <td>NaN</td>\n",
       "      <td>NaN</td>\n",
       "    </tr>\n",
       "    <tr>\n",
       "      <th>15502</th>\n",
       "      <td>68838</td>\n",
       "      <td>DVF Studio LLC</td>\n",
       "      <td>founded 1998</td>\n",
       "      <td>NaN</td>\n",
       "      <td>NaN</td>\n",
       "      <td>1998</td>\n",
       "      <td>0</td>\n",
       "      <td>NaN</td>\n",
       "      <td>NaN</td>\n",
       "    </tr>\n",
       "    <tr>\n",
       "      <th>15514</th>\n",
       "      <td>69266</td>\n",
       "      <td>Richard Malone</td>\n",
       "      <td>Irish, born 1990</td>\n",
       "      <td>Irish</td>\n",
       "      <td>Male</td>\n",
       "      <td>1990</td>\n",
       "      <td>0</td>\n",
       "      <td>NaN</td>\n",
       "      <td>NaN</td>\n",
       "    </tr>\n",
       "  </tbody>\n",
       "</table>\n",
       "<p>70 rows × 9 columns</p>\n",
       "</div>"
      ],
      "text/plain": [
       "       ConstituentID                  DisplayName                 ArtistBio  \\\n",
       "2965            3321             K2 Design Studio       Japanese, born 1993   \n",
       "6672            7517                         Cyan  German, established 1992   \n",
       "6761            7620                  Studio Boot          Dutch, born 1992   \n",
       "6764            7623                          Una   Dutch, established 1992   \n",
       "7629            8692                         IDEO            USA, est. 1991   \n",
       "...              ...                          ...                       ...   \n",
       "15267          67262  Parallel Design Partnership                 est. 1993   \n",
       "15279          67311                  Zack Khalil       American, born 1991   \n",
       "15361          67735                   Lucy Jones          Welsh, born 1991   \n",
       "15502          68838               DVF Studio LLC              founded 1998   \n",
       "15514          69266               Richard Malone          Irish, born 1990   \n",
       "\n",
       "      Nationality  Gender  BeginDate  EndDate Wiki QID  ULAN  \n",
       "2965     Japanese     NaN       1993        0      NaN   NaN  \n",
       "6672       German     NaN       1992        0      NaN   NaN  \n",
       "6761        Dutch     NaN       1992        0      NaN   NaN  \n",
       "6764        Dutch     NaN       1992        0      NaN   NaN  \n",
       "7629          NaN     NaN       1991        0      NaN   NaN  \n",
       "...           ...     ...        ...      ...      ...   ...  \n",
       "15267         NaN     NaN       1993        0      NaN   NaN  \n",
       "15279    American    Male       1991        0      NaN   NaN  \n",
       "15361       Welsh  Female       1991        0      NaN   NaN  \n",
       "15502         NaN     NaN       1998        0      NaN   NaN  \n",
       "15514       Irish    Male       1990        0      NaN   NaN  \n",
       "\n",
       "[70 rows x 9 columns]"
      ]
     },
     "execution_count": 68,
     "metadata": {},
     "output_type": "execute_result"
    }
   ],
   "source": [
    "data.query(\"BeginDate >= 1990 and BeginDate < 1999\")"
   ]
  },
  {
   "cell_type": "code",
   "execution_count": 69,
   "metadata": {},
   "outputs": [
    {
     "data": {
      "text/html": [
       "<div>\n",
       "<style scoped>\n",
       "    .dataframe tbody tr th:only-of-type {\n",
       "        vertical-align: middle;\n",
       "    }\n",
       "\n",
       "    .dataframe tbody tr th {\n",
       "        vertical-align: top;\n",
       "    }\n",
       "\n",
       "    .dataframe thead th {\n",
       "        text-align: right;\n",
       "    }\n",
       "</style>\n",
       "<table border=\"1\" class=\"dataframe\">\n",
       "  <thead>\n",
       "    <tr style=\"text-align: right;\">\n",
       "      <th></th>\n",
       "      <th>ConstituentID</th>\n",
       "      <th>DisplayName</th>\n",
       "      <th>ArtistBio</th>\n",
       "      <th>Nationality</th>\n",
       "      <th>Gender</th>\n",
       "      <th>BeginDate</th>\n",
       "      <th>EndDate</th>\n",
       "      <th>Wiki QID</th>\n",
       "      <th>ULAN</th>\n",
       "    </tr>\n",
       "  </thead>\n",
       "  <tbody>\n",
       "    <tr>\n",
       "      <th>13386</th>\n",
       "      <td>42126</td>\n",
       "      <td>Birdhead</td>\n",
       "      <td>Chinese, active 2004</td>\n",
       "      <td>Chinese</td>\n",
       "      <td>NaN</td>\n",
       "      <td>2004</td>\n",
       "      <td>0</td>\n",
       "      <td>NaN</td>\n",
       "      <td>NaN</td>\n",
       "    </tr>\n",
       "    <tr>\n",
       "      <th>15645</th>\n",
       "      <td>70012</td>\n",
       "      <td>Archi-Union Architects</td>\n",
       "      <td>Chinese, est. 2003</td>\n",
       "      <td>Chinese</td>\n",
       "      <td>NaN</td>\n",
       "      <td>2003</td>\n",
       "      <td>0</td>\n",
       "      <td>NaN</td>\n",
       "      <td>NaN</td>\n",
       "    </tr>\n",
       "  </tbody>\n",
       "</table>\n",
       "</div>"
      ],
      "text/plain": [
       "       ConstituentID             DisplayName             ArtistBio  \\\n",
       "13386          42126                Birdhead  Chinese, active 2004   \n",
       "15645          70012  Archi-Union Architects    Chinese, est. 2003   \n",
       "\n",
       "      Nationality Gender  BeginDate  EndDate Wiki QID  ULAN  \n",
       "13386     Chinese    NaN       2004        0      NaN   NaN  \n",
       "15645     Chinese    NaN       2003        0      NaN   NaN  "
      ]
     },
     "execution_count": 69,
     "metadata": {},
     "output_type": "execute_result"
    }
   ],
   "source": [
    "data.query(\"Nationality == 'Chinese' and BeginDate >= 1990\")"
   ]
  },
  {
   "cell_type": "markdown",
   "metadata": {},
   "source": [
    "#### json"
   ]
  },
  {
   "cell_type": "markdown",
   "metadata": {},
   "source": [
    "```json\n",
    "{ \n",
    "    'uid': 1,\n",
    "    'name': 'Neo',\n",
    "    'password': '2733bbf0e6a7b9a919d7cca6a7c0f74a',\n",
    "    'email': 'neo@matrix.net',\n",
    "    'mobile': '101-0101'\n",
    "}\n",
    "```\n",
    "\n",
    "```json\n",
    "[\n",
    "    { \n",
    "        'uid': 1,\n",
    "        'name': 'Neo',\n",
    "        'password': '2733bbf0e6a7b9a919d7cca6a7c0f74a',\n",
    "        'email': 'neo@matrix.net',\n",
    "        'mobile': '101-0101'\n",
    "    },\n",
    "    { \n",
    "        'uid': 2,\n",
    "        'name': 'Trinity',\n",
    "        'password': '2733bbf0e6a7b9a919d7cca6a7c0f74a',\n",
    "        'email': 'trinity@matrix.net',\n",
    "        'mobile': '101-0101'\n",
    "    },\n",
    "    { \n",
    "        'uid': 3,\n",
    "        'name': 'Morpheus',\n",
    "        'password': '2733bbf0e6a7b9a919d7cca6a7c0f74a',\n",
    "        'email': 'morpheus@matrix.net',\n",
    "        'mobile': '101-0101'\n",
    "    }\n",
    "]\n",
    "```"
   ]
  },
  {
   "cell_type": "code",
   "execution_count": 71,
   "metadata": {},
   "outputs": [],
   "source": [
    "import urllib3\n",
    "import json\n",
    "\n",
    "url = 'https://www.genshuixue.com/sapi/viewLogic/selectCourse/courses?course=all&size=12&subjectId=0&gradeId=200&categoryId=10'\n",
    "\n",
    "http = urllib3.PoolManager()  # 创建类似于浏览器访问的机制\n",
    "response = http.request('GET', url)  # 访问url，\n",
    "\n",
    "if response.status == 200:\n",
    "    data = json.loads(response.data.decode('utf-8'))\n",
    "else:\n",
    "    print(f\"Web API return error: {response.status}\")"
   ]
  },
  {
   "cell_type": "code",
   "execution_count": 72,
   "metadata": {},
   "outputs": [
    {
     "data": {
      "text/plain": [
       "{'code': 0,\n",
       " 'msg': '请求成功',\n",
       " 'loggerId': '6299a625d0d78',\n",
       " 'data': {'items': [],\n",
       "  'recommendCourses': [],\n",
       "  'pager': {'size': 1, 'cursor': 2, 'hasMore': False, 'total': 0}},\n",
       " 'ts': 1654236709,\n",
       " 'path': '/sapi/viewLogic/selectCourse/courses'}"
      ]
     },
     "execution_count": 72,
     "metadata": {},
     "output_type": "execute_result"
    }
   ],
   "source": [
    "data"
   ]
  },
  {
   "cell_type": "code",
   "execution_count": 73,
   "metadata": {},
   "outputs": [],
   "source": [
    "import urllib3\n",
    "import json\n",
    "\n",
    "url = 'https://www.genshuixue.com/sapi/viewLogic/selectCourse/courses?course=all&size=12&subjectId=0&gradeId=200&categoryId=10'\n",
    "\n",
    "http = urllib3.PoolManager()  # 创建类似于浏览器访问的机制\n",
    "response = http.request('GET', url)  # 访问url，\n",
    "\n",
    "if response.status == 200:\n",
    "    data = json.loads(response.data)\n",
    "else:\n",
    "    print(f\"Web API return error: {response.status}\")"
   ]
  },
  {
   "cell_type": "code",
   "execution_count": 74,
   "metadata": {},
   "outputs": [
    {
     "data": {
      "text/plain": [
       "{'code': 0,\n",
       " 'msg': '请求成功',\n",
       " 'loggerId': '6299a650da064',\n",
       " 'data': {'items': [],\n",
       "  'recommendCourses': [],\n",
       "  'pager': {'size': 1, 'cursor': 2, 'hasMore': False, 'total': 0}},\n",
       " 'ts': 1654236752,\n",
       " 'path': '/sapi/viewLogic/selectCourse/courses'}"
      ]
     },
     "execution_count": 74,
     "metadata": {},
     "output_type": "execute_result"
    }
   ],
   "source": [
    "data"
   ]
  },
  {
   "cell_type": "markdown",
   "metadata": {},
   "source": [
    "### sqlite\n",
    "\n",
    "关系型数据库"
   ]
  },
  {
   "cell_type": "markdown",
   "metadata": {},
   "source": [
    "TB 级数据查询\n",
    "\n",
    "并发处理优化"
   ]
  },
  {
   "cell_type": "markdown",
   "metadata": {},
   "source": [
    "connection，一个connection代表数据库与访问端的关联。从数据库这一端看去是一个独立的访问的源。\n",
    "\n",
    "不同数据库的connection很不一样。\n",
    "\n",
    "建立connection之后，下面的操作就很接近。\n",
    "\n",
    "\n",
    "cursor，是指向文件的游标。\n",
    "数据库本质上是一个共享单元。\n",
    "访问关系型数据库，不应该一次把数据库中的数据全抓回来放到内存里。\n",
    "\n",
    "cursor，可以一次指向一个小单元。然后通过移动游标，访问别的数据。\n",
    "\n"
   ]
  },
  {
   "cell_type": "code",
   "execution_count": null,
   "metadata": {},
   "outputs": [],
   "source": [
    "cursor.fetchmany(5)"
   ]
  },
  {
   "cell_type": "code",
   "execution_count": 79,
   "metadata": {},
   "outputs": [
    {
     "name": "stdout",
     "output_type": "stream",
     "text": [
      "[('3364', 'Capital Intl', 'Beijing', 'PEK'), ('6817', 'Hongyuan Airfield', 'Hongyuan', None), ('3366', 'Dongshan', 'Hailar', 'HLD'), ('3368', 'Binhai', 'Tianjin', 'TSN'), ('3369', 'Wusu', 'Taiyuan', 'TYN')]\n"
     ]
    }
   ],
   "source": [
    "import sqlite3\n",
    "\n",
    "try:\n",
    "    conn = sqlite3.connect('assets/flights.db')  # 取得连接\n",
    "    cursor = conn.cursor()  # 申请游标\n",
    "    cursor.execute('SELECT id, name, city, code FROM airports WHERE country=\"China\";')  # 定位游标\n",
    "    #print(cursor.fetchone())  # 取回数据\n",
    "    #print(cursor.fetchone())\n",
    "    #print(cursor.fetchone())\n",
    "    #print(cursor.fetchone())\n",
    "    print(cursor.fetchmany(5))\n",
    "    #print(cursor.fetchall())\n",
    "finally:\n",
    "    cursor.close()\n",
    "    conn.close()"
   ]
  },
  {
   "cell_type": "markdown",
   "metadata": {},
   "source": [
    "sql 有一定的通用性，它是一种描述性语言。描述的是一个规则。"
   ]
  },
  {
   "cell_type": "code",
   "execution_count": 80,
   "metadata": {},
   "outputs": [
    {
     "data": {
      "text/html": [
       "<div>\n",
       "<style scoped>\n",
       "    .dataframe tbody tr th:only-of-type {\n",
       "        vertical-align: middle;\n",
       "    }\n",
       "\n",
       "    .dataframe tbody tr th {\n",
       "        vertical-align: top;\n",
       "    }\n",
       "\n",
       "    .dataframe thead th {\n",
       "        text-align: right;\n",
       "    }\n",
       "</style>\n",
       "<table border=\"1\" class=\"dataframe\">\n",
       "  <thead>\n",
       "    <tr style=\"text-align: right;\">\n",
       "      <th></th>\n",
       "      <th>index</th>\n",
       "      <th>id</th>\n",
       "      <th>name</th>\n",
       "      <th>alias</th>\n",
       "      <th>iata</th>\n",
       "      <th>icao</th>\n",
       "      <th>callsign</th>\n",
       "      <th>country</th>\n",
       "      <th>active</th>\n",
       "    </tr>\n",
       "  </thead>\n",
       "  <tbody>\n",
       "    <tr>\n",
       "      <th>0</th>\n",
       "      <td>0</td>\n",
       "      <td>1</td>\n",
       "      <td>Private flight</td>\n",
       "      <td>\\N</td>\n",
       "      <td>-</td>\n",
       "      <td>None</td>\n",
       "      <td>None</td>\n",
       "      <td>None</td>\n",
       "      <td>Y</td>\n",
       "    </tr>\n",
       "    <tr>\n",
       "      <th>1</th>\n",
       "      <td>1</td>\n",
       "      <td>2</td>\n",
       "      <td>135 Airways</td>\n",
       "      <td>\\N</td>\n",
       "      <td>None</td>\n",
       "      <td>GNL</td>\n",
       "      <td>GENERAL</td>\n",
       "      <td>United States</td>\n",
       "      <td>N</td>\n",
       "    </tr>\n",
       "    <tr>\n",
       "      <th>2</th>\n",
       "      <td>2</td>\n",
       "      <td>3</td>\n",
       "      <td>1Time Airline</td>\n",
       "      <td>\\N</td>\n",
       "      <td>1T</td>\n",
       "      <td>RNX</td>\n",
       "      <td>NEXTIME</td>\n",
       "      <td>South Africa</td>\n",
       "      <td>Y</td>\n",
       "    </tr>\n",
       "    <tr>\n",
       "      <th>3</th>\n",
       "      <td>3</td>\n",
       "      <td>4</td>\n",
       "      <td>2 Sqn No 1 Elementary Flying Training School</td>\n",
       "      <td>\\N</td>\n",
       "      <td>None</td>\n",
       "      <td>WYT</td>\n",
       "      <td>None</td>\n",
       "      <td>United Kingdom</td>\n",
       "      <td>N</td>\n",
       "    </tr>\n",
       "    <tr>\n",
       "      <th>4</th>\n",
       "      <td>4</td>\n",
       "      <td>5</td>\n",
       "      <td>213 Flight Unit</td>\n",
       "      <td>\\N</td>\n",
       "      <td>None</td>\n",
       "      <td>TFU</td>\n",
       "      <td>None</td>\n",
       "      <td>Russia</td>\n",
       "      <td>N</td>\n",
       "    </tr>\n",
       "    <tr>\n",
       "      <th>...</th>\n",
       "      <td>...</td>\n",
       "      <td>...</td>\n",
       "      <td>...</td>\n",
       "      <td>...</td>\n",
       "      <td>...</td>\n",
       "      <td>...</td>\n",
       "      <td>...</td>\n",
       "      <td>...</td>\n",
       "      <td>...</td>\n",
       "    </tr>\n",
       "    <tr>\n",
       "      <th>6043</th>\n",
       "      <td>6043</td>\n",
       "      <td>19828</td>\n",
       "      <td>Vuela Cuba</td>\n",
       "      <td>Vuela Cuba</td>\n",
       "      <td>6C</td>\n",
       "      <td>6CC</td>\n",
       "      <td>None</td>\n",
       "      <td>Cuba</td>\n",
       "      <td>Y</td>\n",
       "    </tr>\n",
       "    <tr>\n",
       "      <th>6044</th>\n",
       "      <td>6044</td>\n",
       "      <td>19830</td>\n",
       "      <td>All Australia</td>\n",
       "      <td>All Australia</td>\n",
       "      <td>88</td>\n",
       "      <td>8K8</td>\n",
       "      <td>None</td>\n",
       "      <td>Australia</td>\n",
       "      <td>Y</td>\n",
       "    </tr>\n",
       "    <tr>\n",
       "      <th>6045</th>\n",
       "      <td>6045</td>\n",
       "      <td>19831</td>\n",
       "      <td>Fly Europa</td>\n",
       "      <td>None</td>\n",
       "      <td>ER</td>\n",
       "      <td>RWW</td>\n",
       "      <td>None</td>\n",
       "      <td>Spain</td>\n",
       "      <td>Y</td>\n",
       "    </tr>\n",
       "    <tr>\n",
       "      <th>6046</th>\n",
       "      <td>6046</td>\n",
       "      <td>19834</td>\n",
       "      <td>FlyPortugal</td>\n",
       "      <td>None</td>\n",
       "      <td>PO</td>\n",
       "      <td>FPT</td>\n",
       "      <td>FlyPortugal</td>\n",
       "      <td>Portugal</td>\n",
       "      <td>Y</td>\n",
       "    </tr>\n",
       "    <tr>\n",
       "      <th>6047</th>\n",
       "      <td>6047</td>\n",
       "      <td>19845</td>\n",
       "      <td>FTI Fluggesellschaft</td>\n",
       "      <td>None</td>\n",
       "      <td>None</td>\n",
       "      <td>FTI</td>\n",
       "      <td>None</td>\n",
       "      <td>Germany</td>\n",
       "      <td>N</td>\n",
       "    </tr>\n",
       "  </tbody>\n",
       "</table>\n",
       "<p>6048 rows × 9 columns</p>\n",
       "</div>"
      ],
      "text/plain": [
       "      index     id                                          name  \\\n",
       "0         0      1                                Private flight   \n",
       "1         1      2                                   135 Airways   \n",
       "2         2      3                                 1Time Airline   \n",
       "3         3      4  2 Sqn No 1 Elementary Flying Training School   \n",
       "4         4      5                               213 Flight Unit   \n",
       "...     ...    ...                                           ...   \n",
       "6043   6043  19828                                    Vuela Cuba   \n",
       "6044   6044  19830                                 All Australia   \n",
       "6045   6045  19831                                    Fly Europa   \n",
       "6046   6046  19834                                   FlyPortugal   \n",
       "6047   6047  19845                          FTI Fluggesellschaft   \n",
       "\n",
       "              alias  iata  icao     callsign         country active  \n",
       "0                \\N     -  None         None            None      Y  \n",
       "1                \\N  None   GNL      GENERAL   United States      N  \n",
       "2                \\N    1T   RNX      NEXTIME    South Africa      Y  \n",
       "3                \\N  None   WYT         None  United Kingdom      N  \n",
       "4                \\N  None   TFU         None          Russia      N  \n",
       "...             ...   ...   ...          ...             ...    ...  \n",
       "6043     Vuela Cuba    6C   6CC         None            Cuba      Y  \n",
       "6044  All Australia    88   8K8         None       Australia      Y  \n",
       "6045           None    ER   RWW         None           Spain      Y  \n",
       "6046           None    PO   FPT  FlyPortugal        Portugal      Y  \n",
       "6047           None  None   FTI         None         Germany      N  \n",
       "\n",
       "[6048 rows x 9 columns]"
      ]
     },
     "execution_count": 80,
     "metadata": {},
     "output_type": "execute_result"
    }
   ],
   "source": [
    "import pandas as pd\n",
    "import sqlite3\n",
    "\n",
    "sql = 'SELECT * FROM airlines'\n",
    "conn = sqlite3.connect('assets/flights.db')\n",
    "df = pd.read_sql(sql, conn)\n",
    "df"
   ]
  },
  {
   "cell_type": "code",
   "execution_count": 81,
   "metadata": {},
   "outputs": [
    {
     "data": {
      "text/html": [
       "<div>\n",
       "<style scoped>\n",
       "    .dataframe tbody tr th:only-of-type {\n",
       "        vertical-align: middle;\n",
       "    }\n",
       "\n",
       "    .dataframe tbody tr th {\n",
       "        vertical-align: top;\n",
       "    }\n",
       "\n",
       "    .dataframe thead th {\n",
       "        text-align: right;\n",
       "    }\n",
       "</style>\n",
       "<table border=\"1\" class=\"dataframe\">\n",
       "  <thead>\n",
       "    <tr style=\"text-align: right;\">\n",
       "      <th></th>\n",
       "      <th>index</th>\n",
       "      <th>id</th>\n",
       "      <th>name</th>\n",
       "      <th>city</th>\n",
       "      <th>country</th>\n",
       "      <th>code</th>\n",
       "      <th>icao</th>\n",
       "      <th>latitude</th>\n",
       "      <th>longitude</th>\n",
       "      <th>altitude</th>\n",
       "      <th>offset</th>\n",
       "      <th>dst</th>\n",
       "      <th>timezone</th>\n",
       "    </tr>\n",
       "  </thead>\n",
       "  <tbody>\n",
       "    <tr>\n",
       "      <th>0</th>\n",
       "      <td>0</td>\n",
       "      <td>1</td>\n",
       "      <td>Goroka</td>\n",
       "      <td>Goroka</td>\n",
       "      <td>Papua New Guinea</td>\n",
       "      <td>GKA</td>\n",
       "      <td>AYGA</td>\n",
       "      <td>-6.081689</td>\n",
       "      <td>145.391881</td>\n",
       "      <td>5282</td>\n",
       "      <td>10</td>\n",
       "      <td>U</td>\n",
       "      <td>Pacific/Port_Moresby</td>\n",
       "    </tr>\n",
       "    <tr>\n",
       "      <th>1</th>\n",
       "      <td>1</td>\n",
       "      <td>2</td>\n",
       "      <td>Madang</td>\n",
       "      <td>Madang</td>\n",
       "      <td>Papua New Guinea</td>\n",
       "      <td>MAG</td>\n",
       "      <td>AYMD</td>\n",
       "      <td>-5.207083</td>\n",
       "      <td>145.7887</td>\n",
       "      <td>20</td>\n",
       "      <td>10</td>\n",
       "      <td>U</td>\n",
       "      <td>Pacific/Port_Moresby</td>\n",
       "    </tr>\n",
       "    <tr>\n",
       "      <th>2</th>\n",
       "      <td>2</td>\n",
       "      <td>3</td>\n",
       "      <td>Mount Hagen</td>\n",
       "      <td>Mount Hagen</td>\n",
       "      <td>Papua New Guinea</td>\n",
       "      <td>HGU</td>\n",
       "      <td>AYMH</td>\n",
       "      <td>-5.826789</td>\n",
       "      <td>144.295861</td>\n",
       "      <td>5388</td>\n",
       "      <td>10</td>\n",
       "      <td>U</td>\n",
       "      <td>Pacific/Port_Moresby</td>\n",
       "    </tr>\n",
       "    <tr>\n",
       "      <th>3</th>\n",
       "      <td>3</td>\n",
       "      <td>4</td>\n",
       "      <td>Nadzab</td>\n",
       "      <td>Nadzab</td>\n",
       "      <td>Papua New Guinea</td>\n",
       "      <td>LAE</td>\n",
       "      <td>AYNZ</td>\n",
       "      <td>-6.569828</td>\n",
       "      <td>146.726242</td>\n",
       "      <td>239</td>\n",
       "      <td>10</td>\n",
       "      <td>U</td>\n",
       "      <td>Pacific/Port_Moresby</td>\n",
       "    </tr>\n",
       "    <tr>\n",
       "      <th>4</th>\n",
       "      <td>4</td>\n",
       "      <td>5</td>\n",
       "      <td>Port Moresby Jacksons Intl</td>\n",
       "      <td>Port Moresby</td>\n",
       "      <td>Papua New Guinea</td>\n",
       "      <td>POM</td>\n",
       "      <td>AYPY</td>\n",
       "      <td>-9.443383</td>\n",
       "      <td>147.22005</td>\n",
       "      <td>146</td>\n",
       "      <td>10</td>\n",
       "      <td>U</td>\n",
       "      <td>Pacific/Port_Moresby</td>\n",
       "    </tr>\n",
       "    <tr>\n",
       "      <th>...</th>\n",
       "      <td>...</td>\n",
       "      <td>...</td>\n",
       "      <td>...</td>\n",
       "      <td>...</td>\n",
       "      <td>...</td>\n",
       "      <td>...</td>\n",
       "      <td>...</td>\n",
       "      <td>...</td>\n",
       "      <td>...</td>\n",
       "      <td>...</td>\n",
       "      <td>...</td>\n",
       "      <td>...</td>\n",
       "      <td>...</td>\n",
       "    </tr>\n",
       "    <tr>\n",
       "      <th>8102</th>\n",
       "      <td>8102</td>\n",
       "      <td>9537</td>\n",
       "      <td>Mansons Landing Water Aerodrome</td>\n",
       "      <td>Mansons Landing</td>\n",
       "      <td>Canada</td>\n",
       "      <td>YMU</td>\n",
       "      <td>\\N</td>\n",
       "      <td>50.066667</td>\n",
       "      <td>-124.983333</td>\n",
       "      <td>0</td>\n",
       "      <td>-8</td>\n",
       "      <td>A</td>\n",
       "      <td>America/Vancouver</td>\n",
       "    </tr>\n",
       "    <tr>\n",
       "      <th>8103</th>\n",
       "      <td>8103</td>\n",
       "      <td>9538</td>\n",
       "      <td>Port McNeill Airport</td>\n",
       "      <td>Port McNeill</td>\n",
       "      <td>Canada</td>\n",
       "      <td>YMP</td>\n",
       "      <td>\\N</td>\n",
       "      <td>50.575556</td>\n",
       "      <td>-127.028611</td>\n",
       "      <td>225</td>\n",
       "      <td>-8</td>\n",
       "      <td>A</td>\n",
       "      <td>America/Vancouver</td>\n",
       "    </tr>\n",
       "    <tr>\n",
       "      <th>8104</th>\n",
       "      <td>8104</td>\n",
       "      <td>9539</td>\n",
       "      <td>Sullivan Bay Water Aerodrome</td>\n",
       "      <td>Sullivan Bay</td>\n",
       "      <td>Canada</td>\n",
       "      <td>YTG</td>\n",
       "      <td>\\N</td>\n",
       "      <td>50.883333</td>\n",
       "      <td>-126.833333</td>\n",
       "      <td>0</td>\n",
       "      <td>-8</td>\n",
       "      <td>A</td>\n",
       "      <td>America/Vancouver</td>\n",
       "    </tr>\n",
       "    <tr>\n",
       "      <th>8105</th>\n",
       "      <td>8105</td>\n",
       "      <td>9540</td>\n",
       "      <td>Deer Harbor Seaplane</td>\n",
       "      <td>Deer Harbor</td>\n",
       "      <td>United States</td>\n",
       "      <td>DHB</td>\n",
       "      <td>\\N</td>\n",
       "      <td>48.618397</td>\n",
       "      <td>-123.00596</td>\n",
       "      <td>0</td>\n",
       "      <td>-8</td>\n",
       "      <td>A</td>\n",
       "      <td>America/Los_Angeles</td>\n",
       "    </tr>\n",
       "    <tr>\n",
       "      <th>8106</th>\n",
       "      <td>8106</td>\n",
       "      <td>9541</td>\n",
       "      <td>San Diego Old Town Transit Center</td>\n",
       "      <td>San Diego</td>\n",
       "      <td>United States</td>\n",
       "      <td>OLT</td>\n",
       "      <td>\\N</td>\n",
       "      <td>32.7552</td>\n",
       "      <td>-117.1995</td>\n",
       "      <td>0</td>\n",
       "      <td>-8</td>\n",
       "      <td>A</td>\n",
       "      <td>America/Los_Angeles</td>\n",
       "    </tr>\n",
       "  </tbody>\n",
       "</table>\n",
       "<p>8107 rows × 13 columns</p>\n",
       "</div>"
      ],
      "text/plain": [
       "      index    id                               name             city  \\\n",
       "0         0     1                             Goroka           Goroka   \n",
       "1         1     2                             Madang           Madang   \n",
       "2         2     3                        Mount Hagen      Mount Hagen   \n",
       "3         3     4                             Nadzab           Nadzab   \n",
       "4         4     5         Port Moresby Jacksons Intl     Port Moresby   \n",
       "...     ...   ...                                ...              ...   \n",
       "8102   8102  9537    Mansons Landing Water Aerodrome  Mansons Landing   \n",
       "8103   8103  9538               Port McNeill Airport     Port McNeill   \n",
       "8104   8104  9539       Sullivan Bay Water Aerodrome     Sullivan Bay   \n",
       "8105   8105  9540               Deer Harbor Seaplane      Deer Harbor   \n",
       "8106   8106  9541  San Diego Old Town Transit Center        San Diego   \n",
       "\n",
       "               country code  icao   latitude    longitude altitude offset dst  \\\n",
       "0     Papua New Guinea  GKA  AYGA  -6.081689   145.391881     5282     10   U   \n",
       "1     Papua New Guinea  MAG  AYMD  -5.207083     145.7887       20     10   U   \n",
       "2     Papua New Guinea  HGU  AYMH  -5.826789   144.295861     5388     10   U   \n",
       "3     Papua New Guinea  LAE  AYNZ  -6.569828   146.726242      239     10   U   \n",
       "4     Papua New Guinea  POM  AYPY  -9.443383    147.22005      146     10   U   \n",
       "...                ...  ...   ...        ...          ...      ...    ...  ..   \n",
       "8102            Canada  YMU    \\N  50.066667  -124.983333        0     -8   A   \n",
       "8103            Canada  YMP    \\N  50.575556  -127.028611      225     -8   A   \n",
       "8104            Canada  YTG    \\N  50.883333  -126.833333        0     -8   A   \n",
       "8105     United States  DHB    \\N  48.618397   -123.00596        0     -8   A   \n",
       "8106     United States  OLT    \\N    32.7552    -117.1995        0     -8   A   \n",
       "\n",
       "                  timezone  \n",
       "0     Pacific/Port_Moresby  \n",
       "1     Pacific/Port_Moresby  \n",
       "2     Pacific/Port_Moresby  \n",
       "3     Pacific/Port_Moresby  \n",
       "4     Pacific/Port_Moresby  \n",
       "...                    ...  \n",
       "8102     America/Vancouver  \n",
       "8103     America/Vancouver  \n",
       "8104     America/Vancouver  \n",
       "8105   America/Los_Angeles  \n",
       "8106   America/Los_Angeles  \n",
       "\n",
       "[8107 rows x 13 columns]"
      ]
     },
     "execution_count": 81,
     "metadata": {},
     "output_type": "execute_result"
    }
   ],
   "source": [
    "sql = 'SELECT * FROM airports'\n",
    "conn = sqlite3.connect('assets/flights.db')\n",
    "df = pd.read_sql(sql, conn)\n",
    "df"
   ]
  },
  {
   "cell_type": "code",
   "execution_count": 82,
   "metadata": {},
   "outputs": [
    {
     "data": {
      "text/html": [
       "<div>\n",
       "<style scoped>\n",
       "    .dataframe tbody tr th:only-of-type {\n",
       "        vertical-align: middle;\n",
       "    }\n",
       "\n",
       "    .dataframe tbody tr th {\n",
       "        vertical-align: top;\n",
       "    }\n",
       "\n",
       "    .dataframe thead th {\n",
       "        text-align: right;\n",
       "    }\n",
       "</style>\n",
       "<table border=\"1\" class=\"dataframe\">\n",
       "  <thead>\n",
       "    <tr style=\"text-align: right;\">\n",
       "      <th></th>\n",
       "      <th>index</th>\n",
       "      <th>airline</th>\n",
       "      <th>airline_id</th>\n",
       "      <th>source</th>\n",
       "      <th>source_id</th>\n",
       "      <th>dest</th>\n",
       "      <th>dest_id</th>\n",
       "      <th>codeshare</th>\n",
       "      <th>stops</th>\n",
       "      <th>equipment</th>\n",
       "    </tr>\n",
       "  </thead>\n",
       "  <tbody>\n",
       "    <tr>\n",
       "      <th>0</th>\n",
       "      <td>0</td>\n",
       "      <td>2B</td>\n",
       "      <td>410</td>\n",
       "      <td>AER</td>\n",
       "      <td>2965</td>\n",
       "      <td>KZN</td>\n",
       "      <td>2990</td>\n",
       "      <td>None</td>\n",
       "      <td>0</td>\n",
       "      <td>CR2</td>\n",
       "    </tr>\n",
       "    <tr>\n",
       "      <th>1</th>\n",
       "      <td>1</td>\n",
       "      <td>2B</td>\n",
       "      <td>410</td>\n",
       "      <td>ASF</td>\n",
       "      <td>2966</td>\n",
       "      <td>KZN</td>\n",
       "      <td>2990</td>\n",
       "      <td>None</td>\n",
       "      <td>0</td>\n",
       "      <td>CR2</td>\n",
       "    </tr>\n",
       "    <tr>\n",
       "      <th>2</th>\n",
       "      <td>2</td>\n",
       "      <td>2B</td>\n",
       "      <td>410</td>\n",
       "      <td>ASF</td>\n",
       "      <td>2966</td>\n",
       "      <td>MRV</td>\n",
       "      <td>2962</td>\n",
       "      <td>None</td>\n",
       "      <td>0</td>\n",
       "      <td>CR2</td>\n",
       "    </tr>\n",
       "    <tr>\n",
       "      <th>3</th>\n",
       "      <td>3</td>\n",
       "      <td>2B</td>\n",
       "      <td>410</td>\n",
       "      <td>CEK</td>\n",
       "      <td>2968</td>\n",
       "      <td>KZN</td>\n",
       "      <td>2990</td>\n",
       "      <td>None</td>\n",
       "      <td>0</td>\n",
       "      <td>CR2</td>\n",
       "    </tr>\n",
       "    <tr>\n",
       "      <th>4</th>\n",
       "      <td>4</td>\n",
       "      <td>2B</td>\n",
       "      <td>410</td>\n",
       "      <td>CEK</td>\n",
       "      <td>2968</td>\n",
       "      <td>OVB</td>\n",
       "      <td>4078</td>\n",
       "      <td>None</td>\n",
       "      <td>0</td>\n",
       "      <td>CR2</td>\n",
       "    </tr>\n",
       "    <tr>\n",
       "      <th>...</th>\n",
       "      <td>...</td>\n",
       "      <td>...</td>\n",
       "      <td>...</td>\n",
       "      <td>...</td>\n",
       "      <td>...</td>\n",
       "      <td>...</td>\n",
       "      <td>...</td>\n",
       "      <td>...</td>\n",
       "      <td>...</td>\n",
       "      <td>...</td>\n",
       "    </tr>\n",
       "    <tr>\n",
       "      <th>67658</th>\n",
       "      <td>67658</td>\n",
       "      <td>ZL</td>\n",
       "      <td>4178</td>\n",
       "      <td>WYA</td>\n",
       "      <td>6334</td>\n",
       "      <td>ADL</td>\n",
       "      <td>3341</td>\n",
       "      <td>None</td>\n",
       "      <td>0</td>\n",
       "      <td>SF3</td>\n",
       "    </tr>\n",
       "    <tr>\n",
       "      <th>67659</th>\n",
       "      <td>67659</td>\n",
       "      <td>ZM</td>\n",
       "      <td>19016</td>\n",
       "      <td>DME</td>\n",
       "      <td>4029</td>\n",
       "      <td>FRU</td>\n",
       "      <td>2912</td>\n",
       "      <td>None</td>\n",
       "      <td>0</td>\n",
       "      <td>734</td>\n",
       "    </tr>\n",
       "    <tr>\n",
       "      <th>67660</th>\n",
       "      <td>67660</td>\n",
       "      <td>ZM</td>\n",
       "      <td>19016</td>\n",
       "      <td>FRU</td>\n",
       "      <td>2912</td>\n",
       "      <td>DME</td>\n",
       "      <td>4029</td>\n",
       "      <td>None</td>\n",
       "      <td>0</td>\n",
       "      <td>734</td>\n",
       "    </tr>\n",
       "    <tr>\n",
       "      <th>67661</th>\n",
       "      <td>67661</td>\n",
       "      <td>ZM</td>\n",
       "      <td>19016</td>\n",
       "      <td>FRU</td>\n",
       "      <td>2912</td>\n",
       "      <td>OSS</td>\n",
       "      <td>2913</td>\n",
       "      <td>None</td>\n",
       "      <td>0</td>\n",
       "      <td>734</td>\n",
       "    </tr>\n",
       "    <tr>\n",
       "      <th>67662</th>\n",
       "      <td>67662</td>\n",
       "      <td>ZM</td>\n",
       "      <td>19016</td>\n",
       "      <td>OSS</td>\n",
       "      <td>2913</td>\n",
       "      <td>FRU</td>\n",
       "      <td>2912</td>\n",
       "      <td>None</td>\n",
       "      <td>0</td>\n",
       "      <td>734</td>\n",
       "    </tr>\n",
       "  </tbody>\n",
       "</table>\n",
       "<p>67663 rows × 10 columns</p>\n",
       "</div>"
      ],
      "text/plain": [
       "       index airline airline_id source source_id dest dest_id codeshare stops  \\\n",
       "0          0      2B        410    AER      2965  KZN    2990      None     0   \n",
       "1          1      2B        410    ASF      2966  KZN    2990      None     0   \n",
       "2          2      2B        410    ASF      2966  MRV    2962      None     0   \n",
       "3          3      2B        410    CEK      2968  KZN    2990      None     0   \n",
       "4          4      2B        410    CEK      2968  OVB    4078      None     0   \n",
       "...      ...     ...        ...    ...       ...  ...     ...       ...   ...   \n",
       "67658  67658      ZL       4178    WYA      6334  ADL    3341      None     0   \n",
       "67659  67659      ZM      19016    DME      4029  FRU    2912      None     0   \n",
       "67660  67660      ZM      19016    FRU      2912  DME    4029      None     0   \n",
       "67661  67661      ZM      19016    FRU      2912  OSS    2913      None     0   \n",
       "67662  67662      ZM      19016    OSS      2913  FRU    2912      None     0   \n",
       "\n",
       "      equipment  \n",
       "0           CR2  \n",
       "1           CR2  \n",
       "2           CR2  \n",
       "3           CR2  \n",
       "4           CR2  \n",
       "...         ...  \n",
       "67658       SF3  \n",
       "67659       734  \n",
       "67660       734  \n",
       "67661       734  \n",
       "67662       734  \n",
       "\n",
       "[67663 rows x 10 columns]"
      ]
     },
     "execution_count": 82,
     "metadata": {},
     "output_type": "execute_result"
    }
   ],
   "source": [
    "sql = 'SELECT * FROM routes'\n",
    "conn = sqlite3.connect('assets/flights.db')\n",
    "df = pd.read_sql(sql, conn)\n",
    "df"
   ]
  },
  {
   "cell_type": "markdown",
   "metadata": {},
   "source": [
    "数据表的划分，是关系模型的常见的做法。\n",
    "\n",
    "把不同的概念分解到不同的表里去。\n",
    "\n",
    "没有冗余，并且消除了数据不一致的可能。\n",
    "\n",
    "关系模型的理论基础之一——范式 第一 第二 第三\n",
    "\n",
    "通过表与表之间的关联，把表接在一起。join\n",
    "\n"
   ]
  },
  {
   "cell_type": "markdown",
   "metadata": {},
   "source": [
    "有多少航空公司拥有从上海浦东机场飞出的航班？有多少国家有从浦东机场飞出的航班。\n",
    "\n",
    "\n",
    "```SQL\n",
    "SELECT \n",
    "    airlines.country,\n",
    "    airlines.name,\n",
    "    routes.source,\n",
    "    routes.dest\n",
    "FROM\n",
    "    rotes\n",
    "    JOIN airports ON routes.source = airports.code\n",
    "    JOIN aprlines ON airlines.id = routes.airline_id\n",
    "WHERE\n",
    "    airports.city = 'Shanghai'\n",
    "    And airports.name = 'Pudong'\n",
    "ORDER BY\n",
    "    airlines.country,\n",
    "    airlines.name\n",
    "```"
   ]
  },
  {
   "cell_type": "markdown",
   "metadata": {},
   "source": [
    "关于 `join`，`join` 到的表，一般是只有一行相关的记录。"
   ]
  },
  {
   "cell_type": "code",
   "execution_count": 83,
   "metadata": {},
   "outputs": [
    {
     "data": {
      "text/html": [
       "<div>\n",
       "<style scoped>\n",
       "    .dataframe tbody tr th:only-of-type {\n",
       "        vertical-align: middle;\n",
       "    }\n",
       "\n",
       "    .dataframe tbody tr th {\n",
       "        vertical-align: top;\n",
       "    }\n",
       "\n",
       "    .dataframe thead th {\n",
       "        text-align: right;\n",
       "    }\n",
       "</style>\n",
       "<table border=\"1\" class=\"dataframe\">\n",
       "  <thead>\n",
       "    <tr style=\"text-align: right;\">\n",
       "      <th></th>\n",
       "      <th>country</th>\n",
       "      <th>name</th>\n",
       "      <th>source</th>\n",
       "      <th>dest</th>\n",
       "    </tr>\n",
       "  </thead>\n",
       "  <tbody>\n",
       "    <tr>\n",
       "      <th>0</th>\n",
       "      <td>Albania</td>\n",
       "      <td>Albanian Airlines</td>\n",
       "      <td>PVG</td>\n",
       "      <td>MLE</td>\n",
       "    </tr>\n",
       "    <tr>\n",
       "      <th>1</th>\n",
       "      <td>Australia</td>\n",
       "      <td>Qantas</td>\n",
       "      <td>PVG</td>\n",
       "      <td>MEL</td>\n",
       "    </tr>\n",
       "    <tr>\n",
       "      <th>2</th>\n",
       "      <td>Australia</td>\n",
       "      <td>Qantas</td>\n",
       "      <td>PVG</td>\n",
       "      <td>SYD</td>\n",
       "    </tr>\n",
       "    <tr>\n",
       "      <th>3</th>\n",
       "      <td>Brunei</td>\n",
       "      <td>Royal Brunei Airlines</td>\n",
       "      <td>PVG</td>\n",
       "      <td>BWN</td>\n",
       "    </tr>\n",
       "    <tr>\n",
       "      <th>4</th>\n",
       "      <td>Cambodia</td>\n",
       "      <td>Cambodia Angkor Air (K6)</td>\n",
       "      <td>PVG</td>\n",
       "      <td>PNH</td>\n",
       "    </tr>\n",
       "    <tr>\n",
       "      <th>...</th>\n",
       "      <td>...</td>\n",
       "      <td>...</td>\n",
       "      <td>...</td>\n",
       "      <td>...</td>\n",
       "    </tr>\n",
       "    <tr>\n",
       "      <th>406</th>\n",
       "      <td>United States</td>\n",
       "      <td>United Airlines</td>\n",
       "      <td>PVG</td>\n",
       "      <td>ORD</td>\n",
       "    </tr>\n",
       "    <tr>\n",
       "      <th>407</th>\n",
       "      <td>United States</td>\n",
       "      <td>United Airlines</td>\n",
       "      <td>PVG</td>\n",
       "      <td>SFO</td>\n",
       "    </tr>\n",
       "    <tr>\n",
       "      <th>408</th>\n",
       "      <td>Vietnam</td>\n",
       "      <td>Vietnam Airlines</td>\n",
       "      <td>PVG</td>\n",
       "      <td>DAD</td>\n",
       "    </tr>\n",
       "    <tr>\n",
       "      <th>409</th>\n",
       "      <td>Vietnam</td>\n",
       "      <td>Vietnam Airlines</td>\n",
       "      <td>PVG</td>\n",
       "      <td>HAN</td>\n",
       "    </tr>\n",
       "    <tr>\n",
       "      <th>410</th>\n",
       "      <td>Vietnam</td>\n",
       "      <td>Vietnam Airlines</td>\n",
       "      <td>PVG</td>\n",
       "      <td>SGN</td>\n",
       "    </tr>\n",
       "  </tbody>\n",
       "</table>\n",
       "<p>411 rows × 4 columns</p>\n",
       "</div>"
      ],
      "text/plain": [
       "           country                      name source dest\n",
       "0          Albania         Albanian Airlines    PVG  MLE\n",
       "1        Australia                    Qantas    PVG  MEL\n",
       "2        Australia                    Qantas    PVG  SYD\n",
       "3           Brunei     Royal Brunei Airlines    PVG  BWN\n",
       "4         Cambodia  Cambodia Angkor Air (K6)    PVG  PNH\n",
       "..             ...                       ...    ...  ...\n",
       "406  United States           United Airlines    PVG  ORD\n",
       "407  United States           United Airlines    PVG  SFO\n",
       "408        Vietnam          Vietnam Airlines    PVG  DAD\n",
       "409        Vietnam          Vietnam Airlines    PVG  HAN\n",
       "410        Vietnam          Vietnam Airlines    PVG  SGN\n",
       "\n",
       "[411 rows x 4 columns]"
      ]
     },
     "execution_count": 83,
     "metadata": {},
     "output_type": "execute_result"
    }
   ],
   "source": [
    "sql = 'SELECT airlines.country,airlines.name,routes.source,routes.dest \\\n",
    "    FROM routes JOIN airports ON routes.source=airports.code JOIN airlines ON airlines.id=routes.airline_id \\\n",
    "    WHERE airports.city=\"Shanghai\" AND airports.name=\"Pudong\" ORDER BY airlines.country,airlines.name'\n",
    "conn = sqlite3.connect('assets/flights.db')\n",
    "df = pd.read_sql(sql, conn)\n",
    "df"
   ]
  },
  {
   "cell_type": "code",
   "execution_count": 85,
   "metadata": {},
   "outputs": [
    {
     "name": "stdout",
     "output_type": "stream",
     "text": [
      "Total: 65 airlines, 41 countries.\n"
     ]
    }
   ],
   "source": [
    "print(f\"Total: {len(set(df['name']))} airlines, {len(set(df['country']))} countries.\")"
   ]
  },
  {
   "cell_type": "markdown",
   "metadata": {},
   "source": [
    "怎么用 sqlite 装载数据，用sql从数据库中找到我们想要的数据集，用pandas提供的方法进行数据处理。\n",
    "\n",
    "connection，数据库连接、管理，用完就关。数据库不属于你，是共享的。\n",
    "\n",
    "cursor，\n",
    "\n",
    "pandan可以大幅简化查询、统计分析、查看、检索的步骤。"
   ]
  },
  {
   "cell_type": "markdown",
   "metadata": {},
   "source": [
    "### mysql"
   ]
  },
  {
   "cell_type": "markdown",
   "metadata": {},
   "source": [
    "关于 sql 语句后面的分号，sql 要求不严格，可以没有，mysql 要求严格，不能没有。"
   ]
  },
  {
   "cell_type": "code",
   "execution_count": 93,
   "metadata": {},
   "outputs": [],
   "source": [
    "import mysql.connector as mysql\n",
    "import pandas as pd\n",
    "\n",
    "conn = mysql.connect(\n",
    "    host = 'localhost',\n",
    "    user = 'learn',\n",
    "    passwd = 'demo',\n",
    "    database = 'demo'\n",
    ")\n",
    "\n",
    "sql = 'SELECT Name, Age, Nationality FROM players WHERE Club LIKE \"%Barcelona%\";'"
   ]
  },
  {
   "cell_type": "code",
   "execution_count": 95,
   "metadata": {},
   "outputs": [
    {
     "name": "stdout",
     "output_type": "stream",
     "text": [
      "[('L. Messi', 31, 'Argentina'), ('L. Su?rez', 31, 'Uruguay'), ('M. ter Stegen', 26, 'Germany'), ('Sergio Busquets', 29, 'Spain'), ('Coutinho', 26, 'Brazil')]\n",
      "\n",
      "[('S. Umtiti', 24, 'France'), ('Jordi Alba', 29, 'Spain'), ('I. Rakiti?', 30, 'Croatia'), ('Piqu?', 31, 'Spain'), ('A. Vidal', 31, 'Chile'), ('O. Demb?l?', 21, 'France'), ('Sergi Roberto', 26, 'Spain'), ('Arthur', 21, 'Brazil'), ('Malcom', 21, 'Brazil'), ('C. Lenglet', 23, 'France'), ('Rafinha', 25, 'Brazil'), ('J. Cillessen', 29, 'Netherlands'), ('N?lson Semedo', 24, 'Portugal'), ('Denis Su?rez', 24, 'Spain'), ('Munir', 22, 'Spain'), ('T. Vermaelen', 32, 'Belgium'), ('Sergi Samper', 23, 'Spain'), ('Ale??', 20, 'Spain'), ('M. Wagu?', 19, 'Senegal'), ('Riqui Puig', 18, 'Spain'), ('Oriol Busquets', 19, 'Spain'), ('Abel Ruiz', 18, 'Spain'), ('Miranda', 18, 'Spain'), ('Chumi', 19, 'Spain'), ('Jorge Cuenca', 18, 'Spain'), ('Guillem Jaime', 19, 'Spain'), ('Ezkieta', 21, 'Spain'), ('I?aki Pe?a', 19, 'Spain')]\n"
     ]
    }
   ],
   "source": [
    "cursor = conn.cursor(buffered=True)  # mysql 怪癖，有时不这样会出问题\n",
    "cursor.execute(sql)\n",
    "print(cursor.fetchmany(5))\n",
    "print()\n",
    "print(cursor.fetchall())\n",
    "cursor.close()\n",
    "conn.close()"
   ]
  },
  {
   "cell_type": "code",
   "execution_count": 99,
   "metadata": {},
   "outputs": [],
   "source": [
    "import mysql.connector as mysql\n",
    "import pandas as pd\n",
    "\n",
    "conn = mysql.connect(\n",
    "    host = 'localhost',\n",
    "    user = 'learn',\n",
    "    passwd = 'demo',\n",
    "    database = 'demo'\n",
    ")\n",
    "\n",
    "sql = 'SELECT Name, Age, Nationality FROM players WHERE Club LIKE \"%Barcelona%\"'  "
   ]
  },
  {
   "cell_type": "code",
   "execution_count": 100,
   "metadata": {},
   "outputs": [
    {
     "name": "stdout",
     "output_type": "stream",
     "text": [
      "[('L. Messi', 31, 'Argentina'), ('L. Su?rez', 31, 'Uruguay'), ('M. ter Stegen', 26, 'Germany'), ('Sergio Busquets', 29, 'Spain'), ('Coutinho', 26, 'Brazil')]\n",
      "\n",
      "[('S. Umtiti', 24, 'France'), ('Jordi Alba', 29, 'Spain'), ('I. Rakiti?', 30, 'Croatia'), ('Piqu?', 31, 'Spain'), ('A. Vidal', 31, 'Chile'), ('O. Demb?l?', 21, 'France'), ('Sergi Roberto', 26, 'Spain'), ('Arthur', 21, 'Brazil'), ('Malcom', 21, 'Brazil'), ('C. Lenglet', 23, 'France'), ('Rafinha', 25, 'Brazil'), ('J. Cillessen', 29, 'Netherlands'), ('N?lson Semedo', 24, 'Portugal'), ('Denis Su?rez', 24, 'Spain'), ('Munir', 22, 'Spain'), ('T. Vermaelen', 32, 'Belgium'), ('Sergi Samper', 23, 'Spain'), ('Ale??', 20, 'Spain'), ('M. Wagu?', 19, 'Senegal'), ('Riqui Puig', 18, 'Spain'), ('Oriol Busquets', 19, 'Spain'), ('Abel Ruiz', 18, 'Spain'), ('Miranda', 18, 'Spain'), ('Chumi', 19, 'Spain'), ('Jorge Cuenca', 18, 'Spain'), ('Guillem Jaime', 19, 'Spain'), ('Ezkieta', 21, 'Spain'), ('I?aki Pe?a', 19, 'Spain')]\n"
     ]
    },
    {
     "data": {
      "text/plain": [
       "True"
      ]
     },
     "execution_count": 100,
     "metadata": {},
     "output_type": "execute_result"
    }
   ],
   "source": [
    "cursor = conn.cursor(buffered=True)  # mysql 怪癖，有时不这样会出问题\n",
    "cursor.execute(sql)\n",
    "print(cursor.fetchmany(5))\n",
    "print()\n",
    "print(cursor.fetchall())\n",
    "cursor.close()"
   ]
  },
  {
   "cell_type": "code",
   "execution_count": 102,
   "metadata": {},
   "outputs": [
    {
     "name": "stderr",
     "output_type": "stream",
     "text": [
      "D:\\program_files\\conda\\lib\\site-packages\\pandas\\io\\sql.py:761: UserWarning: pandas only support SQLAlchemy connectable(engine/connection) ordatabase string URI or sqlite3 DBAPI2 connectionother DBAPI2 objects are not tested, please consider using SQLAlchemy\n",
      "  warnings.warn(\n"
     ]
    },
    {
     "data": {
      "text/html": [
       "<div>\n",
       "<style scoped>\n",
       "    .dataframe tbody tr th:only-of-type {\n",
       "        vertical-align: middle;\n",
       "    }\n",
       "\n",
       "    .dataframe tbody tr th {\n",
       "        vertical-align: top;\n",
       "    }\n",
       "\n",
       "    .dataframe thead th {\n",
       "        text-align: right;\n",
       "    }\n",
       "</style>\n",
       "<table border=\"1\" class=\"dataframe\">\n",
       "  <thead>\n",
       "    <tr style=\"text-align: right;\">\n",
       "      <th></th>\n",
       "      <th>Name</th>\n",
       "      <th>Age</th>\n",
       "      <th>Nationality</th>\n",
       "    </tr>\n",
       "  </thead>\n",
       "  <tbody>\n",
       "    <tr>\n",
       "      <th>0</th>\n",
       "      <td>L. Messi</td>\n",
       "      <td>31</td>\n",
       "      <td>Argentina</td>\n",
       "    </tr>\n",
       "    <tr>\n",
       "      <th>1</th>\n",
       "      <td>L. Su?rez</td>\n",
       "      <td>31</td>\n",
       "      <td>Uruguay</td>\n",
       "    </tr>\n",
       "    <tr>\n",
       "      <th>2</th>\n",
       "      <td>M. ter Stegen</td>\n",
       "      <td>26</td>\n",
       "      <td>Germany</td>\n",
       "    </tr>\n",
       "    <tr>\n",
       "      <th>3</th>\n",
       "      <td>Sergio Busquets</td>\n",
       "      <td>29</td>\n",
       "      <td>Spain</td>\n",
       "    </tr>\n",
       "    <tr>\n",
       "      <th>4</th>\n",
       "      <td>Coutinho</td>\n",
       "      <td>26</td>\n",
       "      <td>Brazil</td>\n",
       "    </tr>\n",
       "    <tr>\n",
       "      <th>5</th>\n",
       "      <td>S. Umtiti</td>\n",
       "      <td>24</td>\n",
       "      <td>France</td>\n",
       "    </tr>\n",
       "    <tr>\n",
       "      <th>6</th>\n",
       "      <td>Jordi Alba</td>\n",
       "      <td>29</td>\n",
       "      <td>Spain</td>\n",
       "    </tr>\n",
       "    <tr>\n",
       "      <th>7</th>\n",
       "      <td>I. Rakiti?</td>\n",
       "      <td>30</td>\n",
       "      <td>Croatia</td>\n",
       "    </tr>\n",
       "    <tr>\n",
       "      <th>8</th>\n",
       "      <td>Piqu?</td>\n",
       "      <td>31</td>\n",
       "      <td>Spain</td>\n",
       "    </tr>\n",
       "    <tr>\n",
       "      <th>9</th>\n",
       "      <td>A. Vidal</td>\n",
       "      <td>31</td>\n",
       "      <td>Chile</td>\n",
       "    </tr>\n",
       "  </tbody>\n",
       "</table>\n",
       "</div>"
      ],
      "text/plain": [
       "              Name  Age Nationality\n",
       "0         L. Messi   31   Argentina\n",
       "1        L. Su?rez   31     Uruguay\n",
       "2    M. ter Stegen   26     Germany\n",
       "3  Sergio Busquets   29       Spain\n",
       "4         Coutinho   26      Brazil\n",
       "5        S. Umtiti   24      France\n",
       "6       Jordi Alba   29       Spain\n",
       "7       I. Rakiti?   30     Croatia\n",
       "8            Piqu?   31       Spain\n",
       "9         A. Vidal   31       Chile"
      ]
     },
     "execution_count": 102,
     "metadata": {},
     "output_type": "execute_result"
    }
   ],
   "source": [
    "df = pd.read_sql(sql, conn)\n",
    "df.head(10)"
   ]
  },
  {
   "cell_type": "code",
   "execution_count": 103,
   "metadata": {},
   "outputs": [],
   "source": [
    "conn.close()"
   ]
  },
  {
   "cell_type": "markdown",
   "metadata": {},
   "source": [
    "### mysql transaction\n",
    "\n",
    "`select` 是只读操作。\n",
    "\n",
    "写操作事务华——有开始和结束，一旦一个事务在进行，其他相关事务就得等待。\n",
    "\n",
    "以下是一些例子。"
   ]
  },
  {
   "cell_type": "code",
   "execution_count": 104,
   "metadata": {},
   "outputs": [],
   "source": [
    "import mysql.connector as mysql\n",
    "import pandas as pd\n",
    "\n",
    "conn = mysql.connect(\n",
    "    host = 'localhost',\n",
    "    user = 'learn',\n",
    "    passwd = 'demo',\n",
    "    database = 'demo'\n",
    ")"
   ]
  },
  {
   "cell_type": "code",
   "execution_count": 107,
   "metadata": {},
   "outputs": [],
   "source": [
    "cursor = conn.cursor()\n",
    "cursor.execute('CREATE TABLE users_2 (id INT(11) NOT NULL AUTO_INCREMENT PRIMARY KEY, username VARCHAR(255), firstname VARCHAR(255), lastname VARCHAR(255))')"
   ]
  },
  {
   "cell_type": "markdown",
   "metadata": {},
   "source": [
    "数据定义 例如，创建表"
   ]
  },
  {
   "cell_type": "code",
   "execution_count": 110,
   "metadata": {},
   "outputs": [
    {
     "ename": "IntegrityError",
     "evalue": "1062 (23000): Duplicate entry 'neo' for key 'constraint_username'",
     "output_type": "error",
     "traceback": [
      "\u001b[1;31m--------------------------------------------------\u001b[0m",
      "\u001b[1;31mMySQLInterfaceError\u001b[0mTraceback (most recent call last)",
      "File \u001b[1;32mD:\\program_files\\conda\\lib\\site-packages\\mysql\\connector\\connection_cext.py:535\u001b[0m, in \u001b[0;36mCMySQLConnection.cmd_query\u001b[1;34m(self, query, raw, buffered, raw_as_string)\u001b[0m\n\u001b[0;32m    534\u001b[0m         query \u001b[38;5;241m=\u001b[39m query\u001b[38;5;241m.\u001b[39mencode(\u001b[38;5;124m'\u001b[39m\u001b[38;5;124mutf-8\u001b[39m\u001b[38;5;124m'\u001b[39m)\n\u001b[1;32m--> 535\u001b[0m     \u001b[38;5;28;43mself\u001b[39;49m\u001b[38;5;241;43m.\u001b[39;49m\u001b[43m_cmysql\u001b[49m\u001b[38;5;241;43m.\u001b[39;49m\u001b[43mquery\u001b[49m\u001b[43m(\u001b[49m\u001b[43mquery\u001b[49m\u001b[43m,\u001b[49m\n\u001b[0;32m    536\u001b[0m \u001b[43m                       \u001b[49m\u001b[43mraw\u001b[49m\u001b[38;5;241;43m=\u001b[39;49m\u001b[43mraw\u001b[49m\u001b[43m,\u001b[49m\u001b[43m \u001b[49m\u001b[43mbuffered\u001b[49m\u001b[38;5;241;43m=\u001b[39;49m\u001b[43mbuffered\u001b[49m\u001b[43m,\u001b[49m\n\u001b[0;32m    537\u001b[0m \u001b[43m                       \u001b[49m\u001b[43mraw_as_string\u001b[49m\u001b[38;5;241;43m=\u001b[39;49m\u001b[43mraw_as_string\u001b[49m\u001b[43m,\u001b[49m\n\u001b[0;32m    538\u001b[0m \u001b[43m                       \u001b[49m\u001b[43mquery_attrs\u001b[49m\u001b[38;5;241;43m=\u001b[39;49m\u001b[38;5;28;43mself\u001b[39;49m\u001b[38;5;241;43m.\u001b[39;49m\u001b[43m_query_attrs\u001b[49m\u001b[43m)\u001b[49m\n\u001b[0;32m    539\u001b[0m \u001b[38;5;28;01mexcept\u001b[39;00m MySQLInterfaceError \u001b[38;5;28;01mas\u001b[39;00m exc:\n",
      "\u001b[1;31mMySQLInterfaceError\u001b[0m: Duplicate entry 'neo' for key 'constraint_username'",
      "\nDuring handling of the above exception, another exception occurred:\n",
      "\u001b[1;31mIntegrityError\u001b[0m   Traceback (most recent call last)",
      "Input \u001b[1;32mIn [110]\u001b[0m, in \u001b[0;36m<cell line: 1>\u001b[1;34m()\u001b[0m\n\u001b[1;32m----> 1\u001b[0m \u001b[43mcursor\u001b[49m\u001b[38;5;241;43m.\u001b[39;49m\u001b[43mexecute\u001b[49m\u001b[43m(\u001b[49m\u001b[38;5;124;43m'\u001b[39;49m\u001b[38;5;124;43mINSERT INTO users (username, firstname, lastname) VALUES (\u001b[39;49m\u001b[38;5;124;43m\"\u001b[39;49m\u001b[38;5;124;43mneo\u001b[39;49m\u001b[38;5;124;43m\"\u001b[39;49m\u001b[38;5;124;43m, \u001b[39;49m\u001b[38;5;124;43m\"\u001b[39;49m\u001b[38;5;124;43mNeo\u001b[39;49m\u001b[38;5;124;43m\"\u001b[39;49m\u001b[38;5;124;43m, \u001b[39;49m\u001b[38;5;124;43m\"\u001b[39;49m\u001b[38;5;124;43mLEE\u001b[39;49m\u001b[38;5;124;43m\"\u001b[39;49m\u001b[38;5;124;43m)\u001b[39;49m\u001b[38;5;124;43m'\u001b[39;49m\u001b[43m)\u001b[49m\n",
      "File \u001b[1;32mD:\\program_files\\conda\\lib\\site-packages\\mysql\\connector\\cursor_cext.py:269\u001b[0m, in \u001b[0;36mCMySQLCursor.execute\u001b[1;34m(self, operation, params, multi)\u001b[0m\n\u001b[0;32m    265\u001b[0m             \u001b[38;5;28;01mraise\u001b[39;00m errors\u001b[38;5;241m.\u001b[39mProgrammingError(\n\u001b[0;32m    266\u001b[0m                 \u001b[38;5;124m\"\u001b[39m\u001b[38;5;124mNot all parameters were used in the SQL statement\u001b[39m\u001b[38;5;124m\"\u001b[39m)\n\u001b[0;32m    268\u001b[0m \u001b[38;5;28;01mtry\u001b[39;00m:\n\u001b[1;32m--> 269\u001b[0m     result \u001b[38;5;241m=\u001b[39m \u001b[38;5;28;43mself\u001b[39;49m\u001b[38;5;241;43m.\u001b[39;49m\u001b[43m_cnx\u001b[49m\u001b[38;5;241;43m.\u001b[39;49m\u001b[43mcmd_query\u001b[49m\u001b[43m(\u001b[49m\u001b[43mstmt\u001b[49m\u001b[43m,\u001b[49m\u001b[43m \u001b[49m\u001b[43mraw\u001b[49m\u001b[38;5;241;43m=\u001b[39;49m\u001b[38;5;28;43mself\u001b[39;49m\u001b[38;5;241;43m.\u001b[39;49m\u001b[43m_raw\u001b[49m\u001b[43m,\u001b[49m\n\u001b[0;32m    270\u001b[0m \u001b[43m                                 \u001b[49m\u001b[43mbuffered\u001b[49m\u001b[38;5;241;43m=\u001b[39;49m\u001b[38;5;28;43mself\u001b[39;49m\u001b[38;5;241;43m.\u001b[39;49m\u001b[43m_buffered\u001b[49m\u001b[43m,\u001b[49m\n\u001b[0;32m    271\u001b[0m \u001b[43m                                 \u001b[49m\u001b[43mraw_as_string\u001b[49m\u001b[38;5;241;43m=\u001b[39;49m\u001b[38;5;28;43mself\u001b[39;49m\u001b[38;5;241;43m.\u001b[39;49m\u001b[43m_raw_as_string\u001b[49m\u001b[43m)\u001b[49m\n\u001b[0;32m    272\u001b[0m \u001b[38;5;28;01mexcept\u001b[39;00m MySQLInterfaceError \u001b[38;5;28;01mas\u001b[39;00m exc:\n\u001b[0;32m    273\u001b[0m     \u001b[38;5;28;01mraise\u001b[39;00m errors\u001b[38;5;241m.\u001b[39mget_mysql_exception(msg\u001b[38;5;241m=\u001b[39mexc\u001b[38;5;241m.\u001b[39mmsg, errno\u001b[38;5;241m=\u001b[39mexc\u001b[38;5;241m.\u001b[39merrno,\n\u001b[0;32m    274\u001b[0m                                      sqlstate\u001b[38;5;241m=\u001b[39mexc\u001b[38;5;241m.\u001b[39msqlstate)\n",
      "File \u001b[1;32mD:\\program_files\\conda\\lib\\site-packages\\mysql\\connector\\connection_cext.py:540\u001b[0m, in \u001b[0;36mCMySQLConnection.cmd_query\u001b[1;34m(self, query, raw, buffered, raw_as_string)\u001b[0m\n\u001b[0;32m    535\u001b[0m     \u001b[38;5;28mself\u001b[39m\u001b[38;5;241m.\u001b[39m_cmysql\u001b[38;5;241m.\u001b[39mquery(query,\n\u001b[0;32m    536\u001b[0m                        raw\u001b[38;5;241m=\u001b[39mraw, buffered\u001b[38;5;241m=\u001b[39mbuffered,\n\u001b[0;32m    537\u001b[0m                        raw_as_string\u001b[38;5;241m=\u001b[39mraw_as_string,\n\u001b[0;32m    538\u001b[0m                        query_attrs\u001b[38;5;241m=\u001b[39m\u001b[38;5;28mself\u001b[39m\u001b[38;5;241m.\u001b[39m_query_attrs)\n\u001b[0;32m    539\u001b[0m \u001b[38;5;28;01mexcept\u001b[39;00m MySQLInterfaceError \u001b[38;5;28;01mas\u001b[39;00m exc:\n\u001b[1;32m--> 540\u001b[0m     \u001b[38;5;28;01mraise\u001b[39;00m errors\u001b[38;5;241m.\u001b[39mget_mysql_exception(exc\u001b[38;5;241m.\u001b[39merrno, msg\u001b[38;5;241m=\u001b[39mexc\u001b[38;5;241m.\u001b[39mmsg,\n\u001b[0;32m    541\u001b[0m                                      sqlstate\u001b[38;5;241m=\u001b[39mexc\u001b[38;5;241m.\u001b[39msqlstate)\n\u001b[0;32m    542\u001b[0m \u001b[38;5;28;01mexcept\u001b[39;00m \u001b[38;5;167;01mAttributeError\u001b[39;00m:\n\u001b[0;32m    543\u001b[0m     \u001b[38;5;28;01mif\u001b[39;00m \u001b[38;5;28mself\u001b[39m\u001b[38;5;241m.\u001b[39m_unix_socket:\n",
      "\u001b[1;31mIntegrityError\u001b[0m: 1062 (23000): Duplicate entry 'neo' for key 'constraint_username'"
     ]
    }
   ],
   "source": [
    "cursor.execute('INSERT INTO users (username, firstname, lastname) VALUES (\"neo\", \"Neo\", \"LEE\")')"
   ]
  },
  {
   "cell_type": "code",
   "execution_count": 111,
   "metadata": {},
   "outputs": [],
   "source": [
    "cursor.execute('INSERT INTO users_2 (username, firstname, lastname) VALUES (\"neo\", \"Neo\", \"LEE\")')"
   ]
  },
  {
   "cell_type": "markdown",
   "metadata": {},
   "source": [
    "`INSERT INTO`, `UPDATE`, `DELETE`, 这一类都属于数据的修改。这些操作会影响数据，会改变数据。mysql默认要求这些数据修改操作放到一个事务中，直到调用 `connection.commit()` 方法才去执行事务，把这一系列操作提交到数据库中。"
   ]
  },
  {
   "cell_type": "code",
   "execution_count": 112,
   "metadata": {},
   "outputs": [],
   "source": [
    "conn.commit()"
   ]
  },
  {
   "cell_type": "code",
   "execution_count": 114,
   "metadata": {},
   "outputs": [],
   "source": [
    "# 一次写多行\n",
    "\n",
    "# SQL 语句中的 %s 是占位符，表示这三个地方将替换为三个字符串类型的值（会被自动加上引号）\n",
    "sql = 'INSERT INTO users_2 (username, firstname, lastname) VALUES (%s, %s, %s)'\n",
    "# 下面的列表中每个元素是一个 tuple，tuple 内的值将用来替换上面 SQL 语句中的占位符，按照先后顺序\n",
    "# 列表中有几个 tuple，上面的 SQL 就会运行几次\n",
    "values = [\n",
    "    ('trinity', 'Carrie-Anne', 'Moss'),\n",
    "    ('morpheus', 'Laurence', 'Fishburne'),\n",
    "    ('smith', 'Hugo', 'Weaving')\n",
    "]\n",
    "\n",
    "cursor.executemany(sql, values)\n",
    "conn.commit()"
   ]
  },
  {
   "cell_type": "code",
   "execution_count": 118,
   "metadata": {},
   "outputs": [],
   "source": [
    "# 修改数据  update\n",
    "cursor.execute('UPDATE users_2 SET firstname=\"Keanu\", lastname=\"Reeves\" WHERE username=\"neo\"')\n",
    "conn.commit()"
   ]
  },
  {
   "cell_type": "code",
   "execution_count": 119,
   "metadata": {},
   "outputs": [],
   "source": [
    "## 事务回滚\n",
    "## 给 user_2 表增加一个 约束，constrain\n",
    "\n",
    "cursor.execute('ALTER TABLE users_2 ADD CONSTRAINT constraint_username UNIQUE (username)')  # 即，用户名必须是独一无二的值\n",
    "conn.commit()"
   ]
  },
  {
   "cell_type": "code",
   "execution_count": 120,
   "metadata": {},
   "outputs": [],
   "source": [
    "try:\n",
    "    cursor.execute('INSERT INTO users_2 (username, firstname, lastname) VALUES (\"oracle\", \"Gloria\", \"Foster\")')\n",
    "    cursor.execute('INSERT INTO users_2 (username, firstname, lastname) VALUES (\"smith\", \"Robert\", \"Taylor\")')\n",
    "    conn.commit()\n",
    "except:\n",
    "    conn.rollback()  # 把 try 里面的整个事务回滚，事务完整性——要么全成功，要么一个都不做"
   ]
  },
  {
   "cell_type": "markdown",
   "metadata": {},
   "source": [
    "把有逻辑关联的事情打包在一起去 `commit`。"
   ]
  },
  {
   "cell_type": "markdown",
   "metadata": {},
   "source": [
    "### Redis\n",
    "\n",
    "也是一种数据库，但是不属于关系型数据库。\n",
    "\n",
    "关系型数据库，为了数据的完整性、一致性，牺牲了很多性质。比如任何时候只能一个人去写；有人读的时候不允许有人写。\n",
    "\n",
    "互联网崛起之前，关系型数据库基本够用。\n",
    "\n",
    "互联网崛起之后，关系型数据库就不够用了。\n",
    "\n",
    "互联网动不动就是几十万、几百万的并发，比如抢票、限时抢购。一瞬间一千万的请求进来。\n",
    "\n",
    "12306 比大家想象的难很多。\n",
    "\n",
    "1. 每一张票出去之后所涉及的后台的逻辑处理特别地复杂，比电商复杂无数倍。火车票有一个叫**全网数据联动**的概念。当一个人买了从A站到B站的火车票，出票之后，整个网络上面，整个铁路运网里面有好多个节点都要改数据。它不是只是记录一下，某个站到某个站的票 -1，而是全网的运算都要修改。\n",
    "\n",
    "2. 互联网抢票与前端售票大厅，人工售票要同步。\n",
    "\n",
    "传统的关系型数据库，导致并发性能瓶颈很难突破。短时间内牺牲一些很严谨的逻辑、校验、限制，无限制地追求性能。——暂时数据不一致，暂时数据不一定写到硬盘里。只要不是像银行、12306那样对数据逻辑要求非常严格。\n",
    "\n",
    "Redis 就是一个完全运行在内存中的数据库，定期会把数据写进硬盘做备份。没有主键、外键的限制。所以数据的一致性、完整性只能由程序员自己来保证。redis 提供给无限的、非常高的性能表现。\n",
    "\n",
    "\n",
    "什么情况下使用 reddis，reddis与传统关系型数据库合作——这些是架构师要做的事情。\n",
    "\n",
    "Redis 本质上与我们在 python 中学的字典、列表非常像，它本质上就是一个 key-value 的存储。"
   ]
  },
  {
   "cell_type": "markdown",
   "metadata": {},
   "source": [
    "每个 database 是用 0 开始来编号的。"
   ]
  },
  {
   "cell_type": "markdown",
   "metadata": {},
   "source": [
    "在 python 里面使用 redis"
   ]
  },
  {
   "cell_type": "code",
   "execution_count": 122,
   "metadata": {},
   "outputs": [],
   "source": [
    "import redis\n",
    "\n",
    "r = redis.Redis(host='localhost', port=6379, db=0)"
   ]
  },
  {
   "cell_type": "code",
   "execution_count": 123,
   "metadata": {},
   "outputs": [
    {
     "data": {
      "text/plain": [
       "Redis<ConnectionPool<Connection<host=localhost,port=6379,db=0>>>"
      ]
     },
     "execution_count": 123,
     "metadata": {},
     "output_type": "execute_result"
    }
   ],
   "source": [
    "r"
   ]
  },
  {
   "cell_type": "code",
   "execution_count": 124,
   "metadata": {},
   "outputs": [
    {
     "data": {
      "text/plain": [
       "True"
      ]
     },
     "execution_count": 124,
     "metadata": {},
     "output_type": "execute_result"
    }
   ],
   "source": [
    "r.mset({'中国': '北京', '日本': '东京'})"
   ]
  },
  {
   "cell_type": "code",
   "execution_count": 125,
   "metadata": {},
   "outputs": [
    {
     "data": {
      "text/plain": [
       "b'Nassau'"
      ]
     },
     "execution_count": 125,
     "metadata": {},
     "output_type": "execute_result"
    }
   ],
   "source": [
    "r.get('Bahamas')"
   ]
  },
  {
   "cell_type": "code",
   "execution_count": 126,
   "metadata": {},
   "outputs": [
    {
     "data": {
      "text/plain": [
       "b'\\xe5\\x8c\\x97\\xe4\\xba\\xac'"
      ]
     },
     "execution_count": 126,
     "metadata": {},
     "output_type": "execute_result"
    }
   ],
   "source": [
    "r.get(\"中国\")"
   ]
  },
  {
   "cell_type": "code",
   "execution_count": 127,
   "metadata": {},
   "outputs": [
    {
     "data": {
      "text/plain": [
       "'北京'"
      ]
     },
     "execution_count": 127,
     "metadata": {},
     "output_type": "execute_result"
    }
   ],
   "source": [
    "r.get(\"中国\").decode('utf-8')"
   ]
  },
  {
   "cell_type": "code",
   "execution_count": 128,
   "metadata": {},
   "outputs": [
    {
     "data": {
      "text/plain": [
       "{b'name': b'Redis',\n",
       " b'url': b'https://redis.io',\n",
       " b'github': b'https://github.com/antirez/redis'}"
      ]
     },
     "execution_count": 128,
     "metadata": {},
     "output_type": "execute_result"
    }
   ],
   "source": [
    "r.hgetall('redis')"
   ]
  },
  {
   "cell_type": "code",
   "execution_count": 129,
   "metadata": {},
   "outputs": [
    {
     "data": {
      "text/plain": [
       "dict"
      ]
     },
     "execution_count": 129,
     "metadata": {},
     "output_type": "execute_result"
    }
   ],
   "source": [
    "type(r.hgetall('redis'))"
   ]
  },
  {
   "cell_type": "markdown",
   "metadata": {},
   "source": [
    "对数据持久化、一致性没有太苛刻要求，而对性能有极致要求的应用场景。"
   ]
  },
  {
   "cell_type": "markdown",
   "metadata": {},
   "source": [
    "小结\n",
    "\n",
    "- 内存和程序里的数据。\n",
    "- 数据文件\n",
    "- 数据库，sqllite mysql\n",
    "- redis，"
   ]
  },
  {
   "cell_type": "code",
   "execution_count": null,
   "metadata": {},
   "outputs": [],
   "source": []
  }
 ],
 "metadata": {
  "kernelspec": {
   "display_name": "Python 3 (ipykernel)",
   "language": "python",
   "name": "python3"
  },
  "language_info": {
   "codemirror_mode": {
    "name": "ipython",
    "version": 3
   },
   "file_extension": ".py",
   "mimetype": "text/x-python",
   "name": "python",
   "nbconvert_exporter": "python",
   "pygments_lexer": "ipython3",
   "version": "3.9.12"
  },
  "toc": {
   "base_numbering": 1,
   "nav_menu": {},
   "number_sections": true,
   "sideBar": true,
   "skip_h1_title": false,
   "title_cell": "Table of Contents",
   "title_sidebar": "Contents",
   "toc_cell": false,
   "toc_position": {},
   "toc_section_display": true,
   "toc_window_display": false
  }
 },
 "nbformat": 4,
 "nbformat_minor": 4
}
