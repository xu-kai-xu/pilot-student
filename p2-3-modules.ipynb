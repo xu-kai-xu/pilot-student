{
 "cells": [
  {
   "cell_type": "markdown",
   "metadata": {},
   "source": [
    "# 模块"
   ]
  },
  {
   "cell_type": "markdown",
   "metadata": {},
   "source": [
    "其实我们前面已经多次引用过 Python 的各种非内置模块，也熟悉了两种引入模块中函数或变量的语法：\n",
    "* `import xxxx`：引入 `xxxx` 模块，可以用 `xxxx.func()` 的语法调用其中的函数（变量也类似）；\n",
    "* `from xxxx import func1, func2`：引入 `xxxx` 模块中的若干函数或变量，可以直接用不带模块名的 `func1` `func2` 来使用。\n",
    "\n",
    "不过到目前为止我们都是使用现成模块（Python 自带或者我们通过 `pip install` 命令安装的第三方模块），我们自己也能创建自己的模块吗？"
   ]
  },
  {
   "cell_type": "markdown",
   "metadata": {},
   "source": [
    "答案当然是肯定的。**模块**（*modules*），其实就是保存成文件的 Python 源代码。\n",
    "\n",
    "当我们做点稍微复杂的事情时，就不太能够把所有代码写在一个文件里了，文件会变得巨大，非常难查找难阅读难修改。而 *module* 是 Python 提供给我们的模块化方法，让我们可以把源代码分开不同的文件，并在需要时引用其他文件里的代码。\n",
    "\n",
    "这一章我们就介绍如何创建自己的模块以及如何使用。"
   ]
  },
  {
   "cell_type": "markdown",
   "metadata": {},
   "source": [
    "## 创建模块"
   ]
  },
  {
   "cell_type": "markdown",
   "metadata": {},
   "source": [
    "这几乎没啥可讲的，因为你只要把 Python 源代码存成一个 `.py` 的文件，这就是一个模块（*module*），而这个文件的文件名（不含后缀 `.py`）就是模块的名字。比如我们把我们之前写好的如下函数保存为一个叫做 `myutil.py` 的文件："
   ]
  },
  {
   "cell_type": "code",
   "execution_count": 1,
   "metadata": {},
   "outputs": [],
   "source": [
    "# 请在这里输入代码\n",
    "\n",
    "from math import sqrt\n",
    "\n",
    "def is_prime(n):\n",
    "    \"\"\"Return a boolean value based upon whether the argument n is a prime number.\"\"\"\n",
    "    if n < 2:\n",
    "        return False\n",
    "    \n",
    "    if n in (2, 3):\n",
    "        return True\n",
    "    \n",
    "    for i in range(2, int(sqrt(n))+1):\n",
    "        if n % i == 0:\n",
    "            return False\n",
    "        \n",
    "    return True\n",
    "\n",
    "def say_hi(*names, greeting='Hi', capitalized=False):\n",
    "    \"\"\"\n",
    "    Print a string, with a greeting to everyone.\n",
    "    :param *names: tuple of names to be greeted.\n",
    "    :param greeting: 'Hi' as default.\n",
    "    :param capitalized: Whether name should be converted to capitalized before print.\n",
    "    :return: None.\n",
    "    \"\"\"\n",
    "    for name in names:\n",
    "        if capitalized:\n",
    "            name = name.capitalize()\n",
    "        print(f\"{greeting}, {name}!\")"
   ]
  },
  {
   "cell_type": "markdown",
   "metadata": {},
   "source": [
    "## 模块引入"
   ]
  },
  {
   "cell_type": "markdown",
   "metadata": {},
   "source": [
    "保存好 `myutil.py` 文件之后，只要告诉解释器在哪里可以找到这个文件，就可以用 `import` 语句来引入和使用了，无论在 Jupyter Notebook 中还是其他 `.py` 文件中都是如此。"
   ]
  },
  {
   "cell_type": "code",
   "execution_count": 2,
   "metadata": {},
   "outputs": [
    {
     "data": {
      "text/plain": [
       "['E:\\\\lessons\\\\python\\\\get-start\\\\pilot-student',\n",
       " 'D:\\\\program_files\\\\anaconda\\\\python37.zip',\n",
       " 'D:\\\\program_files\\\\anaconda\\\\DLLs',\n",
       " 'D:\\\\program_files\\\\anaconda\\\\lib',\n",
       " 'D:\\\\program_files\\\\anaconda',\n",
       " '',\n",
       " 'D:\\\\program_files\\\\anaconda\\\\lib\\\\site-packages',\n",
       " 'D:\\\\program_files\\\\anaconda\\\\lib\\\\site-packages\\\\porespy-dev',\n",
       " 'D:\\\\program_files\\\\anaconda\\\\lib\\\\site-packages\\\\openpnm-dev',\n",
       " 'D:\\\\program_files\\\\anaconda\\\\lib\\\\site-packages\\\\locket-0.2.1-py3.7.egg',\n",
       " 'D:\\\\program_files\\\\anaconda\\\\lib\\\\site-packages\\\\win32',\n",
       " 'D:\\\\program_files\\\\anaconda\\\\lib\\\\site-packages\\\\win32\\\\lib',\n",
       " 'D:\\\\program_files\\\\anaconda\\\\lib\\\\site-packages\\\\Pythonwin',\n",
       " 'D:\\\\program_files\\\\anaconda\\\\lib\\\\site-packages\\\\IPython\\\\extensions',\n",
       " 'C:\\\\Users\\\\xuk11\\\\.ipython']"
      ]
     },
     "execution_count": 2,
     "metadata": {},
     "output_type": "execute_result"
    }
   ],
   "source": [
    "# 请在这里输入代码\n",
    "import sys\n",
    "\n",
    "sys.path"
   ]
  },
  {
   "cell_type": "markdown",
   "metadata": {},
   "source": [
    "`sys` 是 Python 管理系统环境的模块，而 `sys.path` 保存着一个列表，里面是所有解释器“认识”的目录，这些目录都是解释器会自动去找模块的地方，我们可以看到，运行 Python 解释器的当前目录是自动包含在里面的；然后就是 Python 环境的库所在目录，我们用 `pip` 安装的库都会放在这些目录下。\n",
    "\n",
    "注意：你的环境里显示出来的这个 `sys.path` 列表内容可能和我不一样，这没关系。"
   ]
  },
  {
   "cell_type": "markdown",
   "metadata": {},
   "source": [
    "由于我把上面那个 `myutil.py` 放在这些 *notebooks* 所在目录下的 `assets` 子目录下，这个子目录不在上面显示的 `sys.path` 中，但我们可以把它加进去："
   ]
  },
  {
   "cell_type": "code",
   "execution_count": 3,
   "metadata": {},
   "outputs": [],
   "source": [
    "# 请在这里输入代码\n",
    "sys.path.append('./assets/')"
   ]
  },
  {
   "cell_type": "markdown",
   "metadata": {},
   "source": [
    "然后我们就可以方便的引入这个模块了，和我们使用 Python 自带的模块一样："
   ]
  },
  {
   "cell_type": "code",
   "execution_count": 4,
   "metadata": {},
   "outputs": [
    {
     "name": "stdout",
     "output_type": "stream",
     "text": [
      "Hi, Neo!\n",
      "Hi, Trinity!\n",
      "Hi, lyy!\n"
     ]
    }
   ],
   "source": [
    "# 请在这里输入代码\n",
    "import myutils\n",
    "\n",
    "myutils.say_hi(\"Neo\", \"Trinity\", \"lyy\")"
   ]
  },
  {
   "cell_type": "code",
   "execution_count": 5,
   "metadata": {},
   "outputs": [
    {
     "data": {
      "text/plain": [
       "True"
      ]
     },
     "execution_count": 5,
     "metadata": {},
     "output_type": "execute_result"
    }
   ],
   "source": [
    "# 请在这里输入代码\n",
    "from myutils import is_prime\n",
    "\n",
    "is_prime(47)"
   ]
  },
  {
   "cell_type": "markdown",
   "metadata": {},
   "source": [
    "在上面的例子中，当使用 `import myutil` 的时候，就向当前环境引入了 `myutil` 文件中定义的所有函数，和下面的语句等价：\n",
    "\n",
    "```python\n",
    "from myutil import *\n",
    "```\n",
    "\n",
    "当然我们也可以只引入其中需要的函数，比如：\n",
    "\n",
    "```python\n",
    "from myutil import is_prime\n",
    "```\n",
    "\n",
    "这种情况下，就不需要使用 `myutil.is_prime()`，而是直接写 `is_prime()` 就好。"
   ]
  },
  {
   "cell_type": "markdown",
   "metadata": {},
   "source": [
    "### 模块的分层"
   ]
  },
  {
   "cell_type": "markdown",
   "metadata": {},
   "source": [
    "模块的使用可以分层。设想我们在一个目录下有很多 `.py` 源代码文件，我们可以分若干子目录，根据用途把 `.py` 文件分到这些子目录中去，比如我们有这么一个目录：\n",
    "\n",
    "```\n",
    "~/Code/some_project:\n",
    "├── modules/\n",
    "│   ├── __init__.py\n",
    "│   ├── auth.py\n",
    "│   ├── helper.py\n",
    "│   ├── math/\n",
    "│   │   ├── calculus.py\n",
    "│   │   ├── logic.py\n",
    "│   └── string/\n",
    "│       ├── codec.py\n",
    "│       └── l10n.py\n",
    "├── setup.py\n",
    "└── main.py\n",
    "```\n",
    "\n",
    "我们看到我们在这个目录下有一些主程序的源文件 `setup.py` `main.py`，然后一些工具性的源代码被放到了 `modules` 这个子目录下，并根据其用途分了一些更细的子目录（比如 `math` `string`）。这样的结构很合理和美观，也非常有伸缩性，以后再大的工程、再多源代码，也都能组织和管理好。那么要如何使用这些源代码呢？\n",
    "\n",
    "第一步，你需要确保 `modules` 这个目录在解释器的搜索路径中，也就是将其加入 `sys.path` 列表（这件事可以在 `setup.py` 或者 `main.py` 里做）：\n",
    "\n",
    "```python\n",
    "sys.path.append('./modules/')\n",
    "```\n",
    "\n",
    "第二步，要确保 `modules` 目录下有一个叫做 `__init__.py` 的文件，这个文件通常为空文件，用于标识该目录是一个包含多个模块的包（*package*），所有这些模块都处在这个包的独立名字空间（*namespace*）下。\n",
    "\n",
    "关于 *package* 和 *namespace* 目前还不是我们的重点，有兴趣可以参考[官方文档](https://docs.python.org/3/tutorial/modules.html#packages)。\n",
    "\n",
    "然后就可以引入 `modules` 目录下的所有这些模块了，比如我们想引入 `auth.py` 里的所有函数，可以这样（假定是要在 `main.py` 里使用，下同）：\n",
    "\n",
    "```python\n",
    "import auth\n",
    "```\n",
    "\n",
    "如果要使用 `math` 目录下的 `calculus.py` 文件里的所有函数，可以：\n",
    "\n",
    "```python\n",
    "import math.calculus\n",
    "```\n",
    "\n",
    "也可以写成：\n",
    "\n",
    "```python\n",
    "from math import calculus\n",
    "```\n",
    "\n",
    "或者:\n",
    "\n",
    "```python\n",
    "from math.calculus import *\n",
    "```\n",
    "\n",
    "如果我们只要其中某几个函数，可以：\n",
    "\n",
    "```python\n",
    "from math.calculus import ode, pde\n",
    "```\n",
    "\n",
    "如果我们要一次引入 `string` 目录下的所有模块，可以：\n",
    "\n",
    "```python\n",
    "from string import *\n",
    "```\n",
    "\n",
    "所以，只要一个目录满足下面两个条件就是一个 Python 的软件包（*package*）：\n",
    "1. 在 `sys.path` 列表中；\n",
    "2. 里面有个 `__init__.py` 文件。\n",
    "\n",
    "以这个目录作为根，下面所有 `.py` 源文件（包括无论多少级子目录下的）都可以作为 *module* 被其他 Python 程序引入和使用。引入的方法就是逐级目录加最后的文件名，中间用 `.` 隔开即可。"
   ]
  },
  {
   "cell_type": "markdown",
   "metadata": {},
   "source": [
    "### 引入中的别名"
   ]
  },
  {
   "cell_type": "markdown",
   "metadata": {},
   "source": [
    "引入模块或者模块中的函数时，可以设置模块或者函数的别名，这个能力很重要，因为难免我们引入的模块或者函数可能与我们正在写的东西重名，别名可以避免发生冲突。别名的语法很简单，在引入的时候加上 `as xxx` 就行，可以用于模块也可以用于函数，比如："
   ]
  },
  {
   "cell_type": "code",
   "execution_count": 6,
   "metadata": {},
   "outputs": [
    {
     "data": {
      "text/plain": [
       "True"
      ]
     },
     "execution_count": 6,
     "metadata": {},
     "output_type": "execute_result"
    }
   ],
   "source": [
    "# 请在这里输入代码\n",
    "from myutils import is_prime as isp\n",
    "\n",
    "isp(59)"
   ]
  },
  {
   "cell_type": "code",
   "execution_count": 7,
   "metadata": {},
   "outputs": [
    {
     "data": {
      "text/plain": [
       "False"
      ]
     },
     "execution_count": 7,
     "metadata": {},
     "output_type": "execute_result"
    }
   ],
   "source": [
    "# 请在这里输入代码\n",
    "import myutils as m\n",
    "\n",
    "m.is_prime(57)"
   ]
  },
  {
   "cell_type": "markdown",
   "metadata": {},
   "source": [
    "## 查看系统内置模块"
   ]
  },
  {
   "cell_type": "markdown",
   "metadata": {},
   "source": [
    "前面用到的 `sys` 模块还有别的用途，可以用它提供的 `sys.builtin_module_names` 列表查看所有系统内置模块或者检查某个模块是不是内置模块："
   ]
  },
  {
   "cell_type": "code",
   "execution_count": 8,
   "metadata": {},
   "outputs": [
    {
     "data": {
      "text/plain": [
       "('_abc',\n",
       " '_ast',\n",
       " '_bisect',\n",
       " '_blake2',\n",
       " '_codecs',\n",
       " '_codecs_cn',\n",
       " '_codecs_hk',\n",
       " '_codecs_iso2022',\n",
       " '_codecs_jp',\n",
       " '_codecs_kr',\n",
       " '_codecs_tw',\n",
       " '_collections',\n",
       " '_contextvars',\n",
       " '_csv',\n",
       " '_datetime',\n",
       " '_functools',\n",
       " '_heapq',\n",
       " '_imp',\n",
       " '_io',\n",
       " '_json',\n",
       " '_locale',\n",
       " '_lsprof',\n",
       " '_md5',\n",
       " '_multibytecodec',\n",
       " '_opcode',\n",
       " '_operator',\n",
       " '_pickle',\n",
       " '_random',\n",
       " '_sha1',\n",
       " '_sha256',\n",
       " '_sha3',\n",
       " '_sha512',\n",
       " '_signal',\n",
       " '_sre',\n",
       " '_stat',\n",
       " '_string',\n",
       " '_struct',\n",
       " '_symtable',\n",
       " '_thread',\n",
       " '_tracemalloc',\n",
       " '_warnings',\n",
       " '_weakref',\n",
       " '_winapi',\n",
       " 'array',\n",
       " 'atexit',\n",
       " 'audioop',\n",
       " 'binascii',\n",
       " 'builtins',\n",
       " 'cmath',\n",
       " 'errno',\n",
       " 'faulthandler',\n",
       " 'gc',\n",
       " 'itertools',\n",
       " 'marshal',\n",
       " 'math',\n",
       " 'mmap',\n",
       " 'msvcrt',\n",
       " 'nt',\n",
       " 'parser',\n",
       " 'sys',\n",
       " 'time',\n",
       " 'winreg',\n",
       " 'xxsubtype',\n",
       " 'zipimport',\n",
       " 'zlib')"
      ]
     },
     "execution_count": 8,
     "metadata": {},
     "output_type": "execute_result"
    }
   ],
   "source": [
    "# 请在这里输入代码\n",
    "sys.builtin_module_names"
   ]
  },
  {
   "cell_type": "code",
   "execution_count": 11,
   "metadata": {},
   "outputs": [
    {
     "name": "stdout",
     "output_type": "stream",
     "text": [
      "Copyright (c) 2001-2019 Python Software Foundation.\n",
      "All Rights Reserved.\n",
      "\n",
      "Copyright (c) 2000 BeOpen.com.\n",
      "All Rights Reserved.\n",
      "\n",
      "Copyright (c) 1995-2001 Corporation for National Research Initiatives.\n",
      "All Rights Reserved.\n",
      "\n",
      "Copyright (c) 1991-1995 Stichting Mathematisch Centrum, Amsterdam.\n",
      "All Rights Reserved.\n"
     ]
    }
   ],
   "source": [
    "print(sys.copyright)"
   ]
  },
  {
   "cell_type": "markdown",
   "metadata": {},
   "source": [
    "和之前介绍的系统关键字列表一样，我们也最好不要用这里面有的名字，无论是作为我们自己的模块、类、函数还是变量名。"
   ]
  },
  {
   "cell_type": "markdown",
   "metadata": {},
   "source": [
    "## 模块中不只有函数"
   ]
  },
  {
   "cell_type": "markdown",
   "metadata": {},
   "source": [
    "一个模块文件中，不一定只包含函数；它也可以包含函数之外的可执行代码。`import` 这个命令不过是让解释器加载指定的模块（源代码），并且从头到尾执行一遍，其中定义函数的部分让这些函数可以被我们使用，其余部分就在 `import` 语句执行时执行一次而已。\n",
    "\n",
    "有一个 Python 的彩蛋，恰好是可以用在此处的最佳例子——这个模块叫 this："
   ]
  },
  {
   "cell_type": "code",
   "execution_count": 1,
   "metadata": {},
   "outputs": [
    {
     "name": "stdout",
     "output_type": "stream",
     "text": [
      "The Zen of Python, by Tim Peters\n",
      "\n",
      "Beautiful is better than ugly.\n",
      "Explicit is better than implicit.\n",
      "Simple is better than complex.\n",
      "Complex is better than complicated.\n",
      "Flat is better than nested.\n",
      "Sparse is better than dense.\n",
      "Readability counts.\n",
      "Special cases aren't special enough to break the rules.\n",
      "Although practicality beats purity.\n",
      "Errors should never pass silently.\n",
      "Unless explicitly silenced.\n",
      "In the face of ambiguity, refuse the temptation to guess.\n",
      "There should be one-- and preferably only one --obvious way to do it.\n",
      "Although that way may not be obvious at first unless you're Dutch.\n",
      "Now is better than never.\n",
      "Although never is often better than *right* now.\n",
      "If the implementation is hard to explain, it's a bad idea.\n",
      "If the implementation is easy to explain, it may be a good idea.\n",
      "Namespaces are one honking great idea -- let's do more of those!\n"
     ]
    }
   ],
   "source": [
    "# 请在这里输入代码\n",
    "import this"
   ]
  },
  {
   "cell_type": "markdown",
   "metadata": {},
   "source": [
    "这个模块的源代码我们也抄在下面，有兴趣可以试试能否独立读懂这个文件里的代码——对你来说，还挺练脑子的呢！\n",
    "\n",
    "提示：这段代码先通过一个规则生成了一个密码表，保存在 `d` 这个字典中（也可以在我们学完字典这种数据容器之后再来读这段代码）；而后，将 `s` 这个变量中保存的 “密文” 翻译成了英文。或许，你可以试试，看看怎样能写个函数出来，给你一段英文，你可以把它加密成跟它一样的 “密文”？"
   ]
  },
  {
   "cell_type": "code",
   "execution_count": 4,
   "metadata": {},
   "outputs": [
    {
     "name": "stdout",
     "output_type": "stream",
     "text": [
      "The Zen of Python, by Tim Peters\n",
      "Beautiful is better than ugly.\n",
      "Explicit is better than implicit.\n",
      "Simple is better than complex.\n",
      "Complex is better than complicated.\n",
      "Flat is better than nested.\n",
      "Sparse is better than dense.\n",
      "Readability counts.\n",
      "Special cases aren't special enough to break the rules.\n",
      "Although practicality beats purity.\n",
      "Errors should never pass silently.\n",
      "Unless explicitly silenced.\n",
      "In the face of ambiguity, refuse the temptation to guess.\n",
      "There should be one-- and preferably only one --obvious way to do it.\n",
      "Although that way may not be obvious at first unless you're Dutch.\n",
      "Now is better than never.\n",
      "Although never is often better than *right* now.\n",
      "If the implementation is hard to explain, it's a bad idea.\n",
      "If the implementation is easy to explain, it may be a good idea.\n",
      "Namespaces are one honking great idea -- let's do more of those!\n"
     ]
    }
   ],
   "source": [
    "# 请在这里输入代码\n",
    "s = \"\"\"Gur Mra bs Clguba, ol Gvz Crgref\n",
    "Ornhgvshy vf orggre guna htyl.\n",
    "Rkcyvpvg vf orggre guna vzcyvpvg.\n",
    "Fvzcyr vf orggre guna pbzcyrk.\n",
    "Pbzcyrk vf orggre guna pbzcyvpngrq.\n",
    "Syng vf orggre guna arfgrq.\n",
    "Fcnefr vf orggre guna qrafr.\n",
    "Ernqnovyvgl pbhagf.\n",
    "Fcrpvny pnfrf nera'g fcrpvny rabhtu gb oernx gur ehyrf.\n",
    "Nygubhtu cenpgvpnyvgl orngf chevgl.\n",
    "Reebef fubhyq arire cnff fvyragyl.\n",
    "Hayrff rkcyvpvgyl fvyraprq.\n",
    "Va gur snpr bs nzovthvgl, ershfr gur grzcgngvba gb thrff.\n",
    "Gurer fubhyq or bar-- naq cersrenoyl bayl bar --boivbhf jnl gb qb vg.\n",
    "Nygubhtu gung jnl znl abg or boivbhf ng svefg hayrff lbh'er Qhgpu.\n",
    "Abj vf orggre guna arire.\n",
    "Nygubhtu arire vf bsgra orggre guna *evtug* abj.\n",
    "Vs gur vzcyrzragngvba vf uneq gb rkcynva, vg'f n onq vqrn.\n",
    "Vs gur vzcyrzragngvba vf rnfl gb rkcynva, vg znl or n tbbq vqrn.\n",
    "Anzrfcnprf ner bar ubaxvat terng vqrn -- yrg'f qb zber bs gubfr!\"\"\"\n",
    "\n",
    "d = {}\n",
    "for c in (65, 97):\n",
    "    for i in range(26):\n",
    "        d[chr(i+c)] = chr((i+13) % 26 + c)\n",
    "\n",
    "print(\"\".join([d.get(c, c) for c in s]))"
   ]
  },
  {
   "cell_type": "markdown",
   "metadata": {},
   "source": [
    "注意，虽然这个模块里什么函数都没有，但是 `import` 之后，里面所有全局变量我们都可以使用。"
   ]
  },
  {
   "cell_type": "markdown",
   "metadata": {},
   "source": [
    "### 把英文加密成密文的函数。"
   ]
  },
  {
   "cell_type": "code",
   "execution_count": 12,
   "metadata": {},
   "outputs": [
    {
     "data": {
      "text/plain": [
       "-13"
      ]
     },
     "execution_count": 12,
     "metadata": {},
     "output_type": "execute_result"
    }
   ],
   "source": [
    "ord('A') - ord('N')"
   ]
  },
  {
   "cell_type": "code",
   "execution_count": 24,
   "metadata": {},
   "outputs": [
    {
     "data": {
      "text/plain": [
       "'a-b-c-*-d-e-c'"
      ]
     },
     "execution_count": 24,
     "metadata": {},
     "output_type": "execute_result"
    }
   ],
   "source": [
    "\"-\".join('abc*dec')"
   ]
  },
  {
   "cell_type": "markdown",
   "metadata": {},
   "source": [
    "`string1.join(string2)`\n",
    "\n",
    "以 `string1` 为连接符，将 `string2` 中的单个字符连接起来。"
   ]
  },
  {
   "cell_type": "code",
   "execution_count": 13,
   "metadata": {},
   "outputs": [
    {
     "name": "stdout",
     "output_type": "stream",
     "text": [
      "65 78\n",
      "66 79\n",
      "67 80\n",
      "68 81\n",
      "69 82\n",
      "70 83\n",
      "71 84\n",
      "72 85\n",
      "73 86\n",
      "74 87\n",
      "75 88\n",
      "76 89\n",
      "77 90\n",
      "78 65\n",
      "79 66\n",
      "80 67\n",
      "81 68\n",
      "82 69\n",
      "83 70\n",
      "84 71\n",
      "85 72\n",
      "86 73\n",
      "87 74\n",
      "88 75\n",
      "89 76\n",
      "90 77\n",
      "97 110\n",
      "98 111\n",
      "99 112\n",
      "100 113\n",
      "101 114\n",
      "102 115\n",
      "103 116\n",
      "104 117\n",
      "105 118\n",
      "106 119\n",
      "107 120\n",
      "108 121\n",
      "109 122\n",
      "110 97\n",
      "111 98\n",
      "112 99\n",
      "113 100\n",
      "114 101\n",
      "115 102\n",
      "116 103\n",
      "117 104\n",
      "118 105\n",
      "119 106\n",
      "120 107\n",
      "121 108\n",
      "122 109\n"
     ]
    }
   ],
   "source": [
    "for c in (65, 97):\n",
    "    for i in range(26):\n",
    "        print(i+c, (i+13)%26+c)"
   ]
  },
  {
   "cell_type": "code",
   "execution_count": 26,
   "metadata": {
    "scrolled": true
   },
   "outputs": [
    {
     "name": "stdout",
     "output_type": "stream",
     "text": [
      "G\n",
      "u\n",
      "r\n",
      " \n",
      "M\n",
      "r\n",
      "a\n",
      " \n",
      "b\n",
      "s\n",
      " \n",
      "C\n",
      "l\n",
      "g\n",
      "u\n",
      "b\n",
      "a\n",
      ",\n",
      " \n",
      "o\n",
      "l\n",
      " \n",
      "G\n",
      "v\n",
      "z\n",
      " \n",
      "C\n",
      "r\n",
      "g\n",
      "r\n",
      "e\n",
      "f\n",
      "\n",
      "\n",
      "O\n",
      "r\n",
      "n\n",
      "h\n",
      "g\n",
      "v\n",
      "s\n",
      "h\n",
      "y\n",
      " \n",
      "v\n",
      "f\n",
      " \n",
      "o\n",
      "r\n",
      "g\n",
      "g\n",
      "r\n",
      "e\n",
      " \n",
      "g\n",
      "u\n",
      "n\n",
      "a\n",
      " \n",
      "h\n",
      "t\n",
      "y\n",
      "l\n",
      ".\n",
      "\n",
      "\n",
      "R\n",
      "k\n",
      "c\n",
      "y\n",
      "v\n",
      "p\n",
      "v\n",
      "g\n",
      " \n",
      "v\n",
      "f\n",
      " \n",
      "o\n",
      "r\n",
      "g\n",
      "g\n",
      "r\n",
      "e\n",
      " \n",
      "g\n",
      "u\n",
      "n\n",
      "a\n",
      " \n",
      "v\n",
      "z\n",
      "c\n",
      "y\n",
      "v\n",
      "p\n",
      "v\n",
      "g\n",
      ".\n",
      "\n",
      "\n",
      "F\n",
      "v\n",
      "z\n",
      "c\n",
      "y\n",
      "r\n",
      " \n",
      "v\n",
      "f\n",
      " \n",
      "o\n",
      "r\n",
      "g\n",
      "g\n",
      "r\n",
      "e\n",
      " \n",
      "g\n",
      "u\n",
      "n\n",
      "a\n",
      " \n",
      "p\n",
      "b\n",
      "z\n",
      "c\n",
      "y\n",
      "r\n",
      "k\n",
      ".\n",
      "\n",
      "\n",
      "P\n",
      "b\n",
      "z\n",
      "c\n",
      "y\n",
      "r\n",
      "k\n",
      " \n",
      "v\n",
      "f\n",
      " \n",
      "o\n",
      "r\n",
      "g\n",
      "g\n",
      "r\n",
      "e\n",
      " \n",
      "g\n",
      "u\n",
      "n\n",
      "a\n",
      " \n",
      "p\n",
      "b\n",
      "z\n",
      "c\n",
      "y\n",
      "v\n",
      "p\n",
      "n\n",
      "g\n",
      "r\n",
      "q\n",
      ".\n",
      "\n",
      "\n",
      "S\n",
      "y\n",
      "n\n",
      "g\n",
      " \n",
      "v\n",
      "f\n",
      " \n",
      "o\n",
      "r\n",
      "g\n",
      "g\n",
      "r\n",
      "e\n",
      " \n",
      "g\n",
      "u\n",
      "n\n",
      "a\n",
      " \n",
      "a\n",
      "r\n",
      "f\n",
      "g\n",
      "r\n",
      "q\n",
      ".\n",
      "\n",
      "\n",
      "F\n",
      "c\n",
      "n\n",
      "e\n",
      "f\n",
      "r\n",
      " \n",
      "v\n",
      "f\n",
      " \n",
      "o\n",
      "r\n",
      "g\n",
      "g\n",
      "r\n",
      "e\n",
      " \n",
      "g\n",
      "u\n",
      "n\n",
      "a\n",
      " \n",
      "q\n",
      "r\n",
      "a\n",
      "f\n",
      "r\n",
      ".\n",
      "\n",
      "\n",
      "E\n",
      "r\n",
      "n\n",
      "q\n",
      "n\n",
      "o\n",
      "v\n",
      "y\n",
      "v\n",
      "g\n",
      "l\n",
      " \n",
      "p\n",
      "b\n",
      "h\n",
      "a\n",
      "g\n",
      "f\n",
      ".\n",
      "\n",
      "\n",
      "F\n",
      "c\n",
      "r\n",
      "p\n",
      "v\n",
      "n\n",
      "y\n",
      " \n",
      "p\n",
      "n\n",
      "f\n",
      "r\n",
      "f\n",
      " \n",
      "n\n",
      "e\n",
      "r\n",
      "a\n",
      "'\n",
      "g\n",
      " \n",
      "f\n",
      "c\n",
      "r\n",
      "p\n",
      "v\n",
      "n\n",
      "y\n",
      " \n",
      "r\n",
      "a\n",
      "b\n",
      "h\n",
      "t\n",
      "u\n",
      " \n",
      "g\n",
      "b\n",
      " \n",
      "o\n",
      "e\n",
      "r\n",
      "n\n",
      "x\n",
      " \n",
      "g\n",
      "u\n",
      "r\n",
      " \n",
      "e\n",
      "h\n",
      "y\n",
      "r\n",
      "f\n",
      ".\n",
      "\n",
      "\n",
      "N\n",
      "y\n",
      "g\n",
      "u\n",
      "b\n",
      "h\n",
      "t\n",
      "u\n",
      " \n",
      "c\n",
      "e\n",
      "n\n",
      "p\n",
      "g\n",
      "v\n",
      "p\n",
      "n\n",
      "y\n",
      "v\n",
      "g\n",
      "l\n",
      " \n",
      "o\n",
      "r\n",
      "n\n",
      "g\n",
      "f\n",
      " \n",
      "c\n",
      "h\n",
      "e\n",
      "v\n",
      "g\n",
      "l\n",
      ".\n",
      "\n",
      "\n",
      "R\n",
      "e\n",
      "e\n",
      "b\n",
      "e\n",
      "f\n",
      " \n",
      "f\n",
      "u\n",
      "b\n",
      "h\n",
      "y\n",
      "q\n",
      " \n",
      "a\n",
      "r\n",
      "i\n",
      "r\n",
      "e\n",
      " \n",
      "c\n",
      "n\n",
      "f\n",
      "f\n",
      " \n",
      "f\n",
      "v\n",
      "y\n",
      "r\n",
      "a\n",
      "g\n",
      "y\n",
      "l\n",
      ".\n",
      "\n",
      "\n",
      "H\n",
      "a\n",
      "y\n",
      "r\n",
      "f\n",
      "f\n",
      " \n",
      "r\n",
      "k\n",
      "c\n",
      "y\n",
      "v\n",
      "p\n",
      "v\n",
      "g\n",
      "y\n",
      "l\n",
      " \n",
      "f\n",
      "v\n",
      "y\n",
      "r\n",
      "a\n",
      "p\n",
      "r\n",
      "q\n",
      ".\n",
      "\n",
      "\n",
      "V\n",
      "a\n",
      " \n",
      "g\n",
      "u\n",
      "r\n",
      " \n",
      "s\n",
      "n\n",
      "p\n",
      "r\n",
      " \n",
      "b\n",
      "s\n",
      " \n",
      "n\n",
      "z\n",
      "o\n",
      "v\n",
      "t\n",
      "h\n",
      "v\n",
      "g\n",
      "l\n",
      ",\n",
      " \n",
      "e\n",
      "r\n",
      "s\n",
      "h\n",
      "f\n",
      "r\n",
      " \n",
      "g\n",
      "u\n",
      "r\n",
      " \n",
      "g\n",
      "r\n",
      "z\n",
      "c\n",
      "g\n",
      "n\n",
      "g\n",
      "v\n",
      "b\n",
      "a\n",
      " \n",
      "g\n",
      "b\n",
      " \n",
      "t\n",
      "h\n",
      "r\n",
      "f\n",
      "f\n",
      ".\n",
      "\n",
      "\n",
      "G\n",
      "u\n",
      "r\n",
      "e\n",
      "r\n",
      " \n",
      "f\n",
      "u\n",
      "b\n",
      "h\n",
      "y\n",
      "q\n",
      " \n",
      "o\n",
      "r\n",
      " \n",
      "b\n",
      "a\n",
      "r\n",
      "-\n",
      "-\n",
      " \n",
      "n\n",
      "a\n",
      "q\n",
      " \n",
      "c\n",
      "e\n",
      "r\n",
      "s\n",
      "r\n",
      "e\n",
      "n\n",
      "o\n",
      "y\n",
      "l\n",
      " \n",
      "b\n",
      "a\n",
      "y\n",
      "l\n",
      " \n",
      "b\n",
      "a\n",
      "r\n",
      " \n",
      "-\n",
      "-\n",
      "b\n",
      "o\n",
      "i\n",
      "v\n",
      "b\n",
      "h\n",
      "f\n",
      " \n",
      "j\n",
      "n\n",
      "l\n",
      " \n",
      "g\n",
      "b\n",
      " \n",
      "q\n",
      "b\n",
      " \n",
      "v\n",
      "g\n",
      ".\n",
      "\n",
      "\n",
      "N\n",
      "y\n",
      "g\n",
      "u\n",
      "b\n",
      "h\n",
      "t\n",
      "u\n",
      " \n",
      "g\n",
      "u\n",
      "n\n",
      "g\n",
      " \n",
      "j\n",
      "n\n",
      "l\n",
      " \n",
      "z\n",
      "n\n",
      "l\n",
      " \n",
      "a\n",
      "b\n",
      "g\n",
      " \n",
      "o\n",
      "r\n",
      " \n",
      "b\n",
      "o\n",
      "i\n",
      "v\n",
      "b\n",
      "h\n",
      "f\n",
      " \n",
      "n\n",
      "g\n",
      " \n",
      "s\n",
      "v\n",
      "e\n",
      "f\n",
      "g\n",
      " \n",
      "h\n",
      "a\n",
      "y\n",
      "r\n",
      "f\n",
      "f\n",
      " \n",
      "l\n",
      "b\n",
      "h\n",
      "'\n",
      "e\n",
      "r\n",
      " \n",
      "Q\n",
      "h\n",
      "g\n",
      "p\n",
      "u\n",
      ".\n",
      "\n",
      "\n",
      "A\n",
      "b\n",
      "j\n",
      " \n",
      "v\n",
      "f\n",
      " \n",
      "o\n",
      "r\n",
      "g\n",
      "g\n",
      "r\n",
      "e\n",
      " \n",
      "g\n",
      "u\n",
      "n\n",
      "a\n",
      " \n",
      "a\n",
      "r\n",
      "i\n",
      "r\n",
      "e\n",
      ".\n",
      "\n",
      "\n",
      "N\n",
      "y\n",
      "g\n",
      "u\n",
      "b\n",
      "h\n",
      "t\n",
      "u\n",
      " \n",
      "a\n",
      "r\n",
      "i\n",
      "r\n",
      "e\n",
      " \n",
      "v\n",
      "f\n",
      " \n",
      "b\n",
      "s\n",
      "g\n",
      "r\n",
      "a\n",
      " \n",
      "o\n",
      "r\n",
      "g\n",
      "g\n",
      "r\n",
      "e\n",
      " \n",
      "g\n",
      "u\n",
      "n\n",
      "a\n",
      " \n",
      "*\n",
      "e\n",
      "v\n",
      "t\n",
      "u\n",
      "g\n",
      "*\n",
      " \n",
      "a\n",
      "b\n",
      "j\n",
      ".\n",
      "\n",
      "\n",
      "V\n",
      "s\n",
      " \n",
      "g\n",
      "u\n",
      "r\n",
      " \n",
      "v\n",
      "z\n",
      "c\n",
      "y\n",
      "r\n",
      "z\n",
      "r\n",
      "a\n",
      "g\n",
      "n\n",
      "g\n",
      "v\n",
      "b\n",
      "a\n",
      " \n",
      "v\n",
      "f\n",
      " \n",
      "u\n",
      "n\n",
      "e\n",
      "q\n",
      " \n",
      "g\n",
      "b\n",
      " \n",
      "r\n",
      "k\n",
      "c\n",
      "y\n",
      "n\n",
      "v\n",
      "a\n",
      ",\n",
      " \n",
      "v\n",
      "g\n",
      "'\n",
      "f\n",
      " \n",
      "n\n",
      " \n",
      "o\n",
      "n\n",
      "q\n",
      " \n",
      "v\n",
      "q\n",
      "r\n",
      "n\n",
      ".\n",
      "\n",
      "\n",
      "V\n",
      "s\n",
      " \n",
      "g\n",
      "u\n",
      "r\n",
      " \n",
      "v\n",
      "z\n",
      "c\n",
      "y\n",
      "r\n",
      "z\n",
      "r\n",
      "a\n",
      "g\n",
      "n\n",
      "g\n",
      "v\n",
      "b\n",
      "a\n",
      " \n",
      "v\n",
      "f\n",
      " \n",
      "r\n",
      "n\n",
      "f\n",
      "l\n",
      " \n",
      "g\n",
      "b\n",
      " \n",
      "r\n",
      "k\n",
      "c\n",
      "y\n",
      "n\n",
      "v\n",
      "a\n",
      ",\n",
      " \n",
      "v\n",
      "g\n",
      " \n",
      "z\n",
      "n\n",
      "l\n",
      " \n",
      "o\n",
      "r\n",
      " \n",
      "n\n",
      " \n",
      "t\n",
      "b\n",
      "b\n",
      "q\n",
      " \n",
      "v\n",
      "q\n",
      "r\n",
      "n\n",
      ".\n",
      "\n",
      "\n",
      "A\n",
      "n\n",
      "z\n",
      "r\n",
      "f\n",
      "c\n",
      "n\n",
      "p\n",
      "r\n",
      "f\n",
      " \n",
      "n\n",
      "e\n",
      "r\n",
      " \n",
      "b\n",
      "a\n",
      "r\n",
      " \n",
      "u\n",
      "b\n",
      "a\n",
      "x\n",
      "v\n",
      "a\n",
      "t\n",
      " \n",
      "t\n",
      "e\n",
      "r\n",
      "n\n",
      "g\n",
      " \n",
      "v\n",
      "q\n",
      "r\n",
      "n\n",
      " \n",
      "-\n",
      "-\n",
      " \n",
      "y\n",
      "r\n",
      "g\n",
      "'\n",
      "f\n",
      " \n",
      "q\n",
      "b\n",
      " \n",
      "z\n",
      "b\n",
      "e\n",
      "r\n",
      " \n",
      "b\n",
      "s\n",
      " \n",
      "g\n",
      "u\n",
      "b\n",
      "f\n",
      "r\n",
      "!\n"
     ]
    }
   ],
   "source": [
    "for c in s:\n",
    "    print (c)"
   ]
  },
  {
   "cell_type": "code",
   "execution_count": 32,
   "metadata": {},
   "outputs": [
    {
     "data": {
      "text/plain": [
       "' '"
      ]
     },
     "execution_count": 32,
     "metadata": {},
     "output_type": "execute_result"
    }
   ],
   "source": [
    "d.get(' ', ' ')"
   ]
  },
  {
   "cell_type": "code",
   "execution_count": 37,
   "metadata": {},
   "outputs": [
    {
     "data": {
      "text/plain": [
       "\"The Zen of Python, by Tim Peters\\nBeautiful is better than ugly.\\nExplicit is better than implicit.\\nSimple is better than complex.\\nComplex is better than complicated.\\nFlat is better than nested.\\nSparse is better than dense.\\nReadability counts.\\nSpecial cases aren't special enough to break the rules.\\nAlthough practicality beats purity.\\nErrors should never pass silently.\\nUnless explicitly silenced.\\nIn the face of ambiguity, refuse the temptation to guess.\\nThere should be one-- and preferably only one --obvious way to do it.\\nAlthough that way may not be obvious at first unless you're Dutch.\\nNow is better than never.\\nAlthough never is often better than *right* now.\\nIf the implementation is hard to explain, it's a bad idea.\\nIf the implementation is easy to explain, it may be a good idea.\\nNamespaces are one honking great idea -- let's do more of those!\""
      ]
     },
     "execution_count": 37,
     "metadata": {},
     "output_type": "execute_result"
    }
   ],
   "source": [
    "\"\".join([d.get(c, c) for c in s])"
   ]
  },
  {
   "cell_type": "code",
   "execution_count": 40,
   "metadata": {},
   "outputs": [
    {
     "data": {
      "text/plain": [
       "{'A': 'N',\n",
       " 'B': 'O',\n",
       " 'C': 'P',\n",
       " 'D': 'Q',\n",
       " 'E': 'R',\n",
       " 'F': 'S',\n",
       " 'G': 'T',\n",
       " 'H': 'U',\n",
       " 'I': 'V',\n",
       " 'J': 'W',\n",
       " 'K': 'X',\n",
       " 'L': 'Y',\n",
       " 'M': 'Z',\n",
       " 'N': 'A',\n",
       " 'O': 'B',\n",
       " 'P': 'C',\n",
       " 'Q': 'D',\n",
       " 'R': 'E',\n",
       " 'S': 'F',\n",
       " 'T': 'G',\n",
       " 'U': 'H',\n",
       " 'V': 'I',\n",
       " 'W': 'J',\n",
       " 'X': 'K',\n",
       " 'Y': 'L',\n",
       " 'Z': 'M',\n",
       " 'a': 'n',\n",
       " 'b': 'o',\n",
       " 'c': 'p',\n",
       " 'd': 'q',\n",
       " 'e': 'r',\n",
       " 'f': 's',\n",
       " 'g': 't',\n",
       " 'h': 'u',\n",
       " 'i': 'v',\n",
       " 'j': 'w',\n",
       " 'k': 'x',\n",
       " 'l': 'y',\n",
       " 'm': 'z',\n",
       " 'n': 'a',\n",
       " 'o': 'b',\n",
       " 'p': 'c',\n",
       " 'q': 'd',\n",
       " 'r': 'e',\n",
       " 's': 'f',\n",
       " 't': 'g',\n",
       " 'u': 'h',\n",
       " 'v': 'i',\n",
       " 'w': 'j',\n",
       " 'x': 'k',\n",
       " 'y': 'l',\n",
       " 'z': 'm'}"
      ]
     },
     "execution_count": 40,
     "metadata": {},
     "output_type": "execute_result"
    }
   ],
   "source": [
    "d"
   ]
  },
  {
   "cell_type": "code",
   "execution_count": 45,
   "metadata": {
    "scrolled": false
   },
   "outputs": [
    {
     "data": {
      "text/plain": [
       "{'A': 'N',\n",
       " 'B': 'O',\n",
       " 'C': 'P',\n",
       " 'D': 'Q',\n",
       " 'E': 'R',\n",
       " 'F': 'S',\n",
       " 'G': 'T',\n",
       " 'H': 'U',\n",
       " 'I': 'V',\n",
       " 'J': 'W',\n",
       " 'K': 'X',\n",
       " 'L': 'Y',\n",
       " 'M': 'Z',\n",
       " 'N': 'A',\n",
       " 'O': 'B',\n",
       " 'P': 'C',\n",
       " 'Q': 'D',\n",
       " 'R': 'E',\n",
       " 'S': 'F',\n",
       " 'T': 'G',\n",
       " 'U': 'H',\n",
       " 'V': 'I',\n",
       " 'W': 'J',\n",
       " 'X': 'K',\n",
       " 'Y': 'L',\n",
       " 'Z': 'M',\n",
       " 'a': 'n',\n",
       " 'b': 'o',\n",
       " 'c': 'p',\n",
       " 'd': 'q',\n",
       " 'e': 'r',\n",
       " 'f': 's',\n",
       " 'g': 't',\n",
       " 'h': 'u',\n",
       " 'i': 'v',\n",
       " 'j': 'w',\n",
       " 'k': 'x',\n",
       " 'l': 'y',\n",
       " 'm': 'z',\n",
       " 'n': 'a',\n",
       " 'o': 'b',\n",
       " 'p': 'c',\n",
       " 'q': 'd',\n",
       " 'r': 'e',\n",
       " 's': 'f',\n",
       " 't': 'g',\n",
       " 'u': 'h',\n",
       " 'v': 'i',\n",
       " 'w': 'j',\n",
       " 'x': 'k',\n",
       " 'y': 'l',\n",
       " 'z': 'm'}"
      ]
     },
     "execution_count": 45,
     "metadata": {},
     "output_type": "execute_result"
    }
   ],
   "source": [
    "e = {}\n",
    "for c in (65, 97):\n",
    "    for i in range(26):\n",
    "        e[chr(i+c)] = chr((i+13) % 26 + c)\n",
    "        \n",
    "e"
   ]
  },
  {
   "cell_type": "markdown",
   "metadata": {},
   "source": [
    "d 与 e 是相等的。"
   ]
  },
  {
   "cell_type": "code",
   "execution_count": 46,
   "metadata": {},
   "outputs": [
    {
     "data": {
      "text/plain": [
       "\"The Zen of Python, by Tim Peters\\nBeautiful is better than ugly.\\nExplicit is better than implicit.\\nSimple is better than complex.\\nComplex is better than complicated.\\nFlat is better than nested.\\nSparse is better than dense.\\nReadability counts.\\nSpecial cases aren't special enough to break the rules.\\nAlthough practicality beats purity.\\nErrors should never pass silently.\\nUnless explicitly silenced.\\nIn the face of ambiguity, refuse the temptation to guess.\\nThere should be one-- and preferably only one --obvious way to do it.\\nAlthough that way may not be obvious at first unless you're Dutch.\\nNow is better than never.\\nAlthough never is often better than *right* now.\\nIf the implementation is hard to explain, it's a bad idea.\\nIf the implementation is easy to explain, it may be a good idea.\\nNamespaces are one honking great idea -- let's do more of those!\""
      ]
     },
     "execution_count": 46,
     "metadata": {},
     "output_type": "execute_result"
    }
   ],
   "source": [
    "msg = \"\".join([d.get(c, c) for c in s])\n",
    "msg"
   ]
  },
  {
   "cell_type": "code",
   "execution_count": 44,
   "metadata": {},
   "outputs": [
    {
     "data": {
      "text/plain": [
       "\"Gur Mra bs Clguba, ol Gvz Crgref\\nOrnhgvshy vf orggre guna htyl.\\nRkcyvpvg vf orggre guna vzcyvpvg.\\nFvzcyr vf orggre guna pbzcyrk.\\nPbzcyrk vf orggre guna pbzcyvpngrq.\\nSyng vf orggre guna arfgrq.\\nFcnefr vf orggre guna qrafr.\\nErnqnovyvgl pbhagf.\\nFcrpvny pnfrf nera'g fcrpvny rabhtu gb oernx gur ehyrf.\\nNygubhtu cenpgvpnyvgl orngf chevgl.\\nReebef fubhyq arire cnff fvyragyl.\\nHayrff rkcyvpvgyl fvyraprq.\\nVa gur snpr bs nzovthvgl, ershfr gur grzcgngvba gb thrff.\\nGurer fubhyq or bar-- naq cersrenoyl bayl bar --boivbhf jnl gb qb vg.\\nNygubhtu gung jnl znl abg or boivbhf ng svefg hayrff lbh'er Qhgpu.\\nAbj vf orggre guna arire.\\nNygubhtu arire vf bsgra orggre guna *evtug* abj.\\nVs gur vzcyrzragngvba vf uneq gb rkcynva, vg'f n onq vqrn.\\nVs gur vzcyrzragngvba vf rnfl gb rkcynva, vg znl or n tbbq vqrn.\\nAnzrfcnprf ner bar ubaxvat terng vqrn -- yrg'f qb zber bs gubfr!\""
      ]
     },
     "execution_count": 44,
     "metadata": {},
     "output_type": "execute_result"
    }
   ],
   "source": [
    "encryp = \"\".join([e.get(c, c) for c in msg])\n",
    "encryp"
   ]
  },
  {
   "cell_type": "markdown",
   "metadata": {},
   "source": [
    "> 所以，这里用的加密和解密是同一套方法。即，一个字符通过这种方式执行两次能够得到它自己。"
   ]
  },
  {
   "cell_type": "markdown",
   "metadata": {},
   "source": [
    "## `dir()` 函数"
   ]
  },
  {
   "cell_type": "markdown",
   "metadata": {},
   "source": [
    "系统内置函数 `dir()` 可以查看一个已经引入的模块里有哪些可以访问的变量和函数："
   ]
  },
  {
   "cell_type": "code",
   "execution_count": 51,
   "metadata": {},
   "outputs": [
    {
     "data": {
      "text/plain": [
       "['__builtins__',\n",
       " '__cached__',\n",
       " '__doc__',\n",
       " '__file__',\n",
       " '__loader__',\n",
       " '__name__',\n",
       " '__package__',\n",
       " '__spec__',\n",
       " 'is_prime',\n",
       " 'say_hi',\n",
       " 'sqrt']"
      ]
     },
     "execution_count": 51,
     "metadata": {},
     "output_type": "execute_result"
    }
   ],
   "source": [
    "# 请在这里输入代码\n",
    "import sys\n",
    "\n",
    "sys.path.append('./assets/')\n",
    "\n",
    "import myutils\n",
    "\n",
    "dir(myutils)"
   ]
  },
  {
   "cell_type": "code",
   "execution_count": 52,
   "metadata": {},
   "outputs": [
    {
     "data": {
      "text/plain": [
       "['__builtins__',\n",
       " '__cached__',\n",
       " '__doc__',\n",
       " '__file__',\n",
       " '__loader__',\n",
       " '__name__',\n",
       " '__package__',\n",
       " '__spec__',\n",
       " 'is_prime',\n",
       " 'say_hi',\n",
       " 'sqrt']"
      ]
     },
     "execution_count": 52,
     "metadata": {},
     "output_type": "execute_result"
    }
   ],
   "source": [
    "mod_cont = dir(myutils)\n",
    "mod_cont"
   ]
  },
  {
   "cell_type": "code",
   "execution_count": 68,
   "metadata": {
    "scrolled": false
   },
   "outputs": [
    {
     "name": "stdout",
     "output_type": "stream",
     "text": [
      "__builtins__\n",
      "__cached__\n",
      "__doc__\n",
      "__file__\n",
      "__loader__\n",
      "__name__\n",
      "__package__\n",
      "__spec__\n",
      "is_prime\n",
      "say_hi\n",
      "sqrt\n"
     ]
    }
   ],
   "source": [
    "for item in mod_cont:\n",
    "    exec('myutils.'+item)"
   ]
  },
  {
   "cell_type": "code",
   "execution_count": 93,
   "metadata": {},
   "outputs": [
    {
     "data": {
      "text/plain": [
       "ModuleSpec(name='myutils', loader=<_frozen_importlib_external.SourceFileLoader object at 0x000002514CDE6FD0>, origin='./assets\\\\myutils.py')"
      ]
     },
     "execution_count": 93,
     "metadata": {},
     "output_type": "execute_result"
    }
   ],
   "source": [
    "myutils.__spec__"
   ]
  },
  {
   "cell_type": "code",
   "execution_count": 92,
   "metadata": {},
   "outputs": [
    {
     "data": {
      "text/plain": [
       "''"
      ]
     },
     "execution_count": 92,
     "metadata": {},
     "output_type": "execute_result"
    }
   ],
   "source": [
    "sys.__package__"
   ]
  },
  {
   "cell_type": "code",
   "execution_count": 91,
   "metadata": {},
   "outputs": [
    {
     "data": {
      "text/plain": [
       "''"
      ]
     },
     "execution_count": 91,
     "metadata": {},
     "output_type": "execute_result"
    }
   ],
   "source": [
    "myutils.__package__"
   ]
  },
  {
   "cell_type": "code",
   "execution_count": 90,
   "metadata": {},
   "outputs": [
    {
     "data": {
      "text/plain": [
       "'myutils'"
      ]
     },
     "execution_count": 90,
     "metadata": {},
     "output_type": "execute_result"
    }
   ],
   "source": [
    "myutils.__name__"
   ]
  },
  {
   "cell_type": "code",
   "execution_count": 89,
   "metadata": {},
   "outputs": [
    {
     "data": {
      "text/plain": [
       "<_frozen_importlib_external.SourceFileLoader at 0x2514cde6fd0>"
      ]
     },
     "execution_count": 89,
     "metadata": {},
     "output_type": "execute_result"
    }
   ],
   "source": [
    "myutils.__loader__"
   ]
  },
  {
   "cell_type": "code",
   "execution_count": 86,
   "metadata": {},
   "outputs": [
    {
     "data": {
      "text/plain": [
       "['__breakpointhook__',\n",
       " '__displayhook__',\n",
       " '__doc__',\n",
       " '__excepthook__',\n",
       " '__interactivehook__',\n",
       " '__loader__',\n",
       " '__name__',\n",
       " '__package__',\n",
       " '__spec__',\n",
       " '__stderr__',\n",
       " '__stdin__',\n",
       " '__stdout__',\n",
       " '_clear_type_cache',\n",
       " '_current_frames',\n",
       " '_debugmallocstats',\n",
       " '_enablelegacywindowsfsencoding',\n",
       " '_framework',\n",
       " '_getframe',\n",
       " '_git',\n",
       " '_home',\n",
       " '_xoptions',\n",
       " 'api_version',\n",
       " 'argv',\n",
       " 'base_exec_prefix',\n",
       " 'base_prefix',\n",
       " 'breakpointhook',\n",
       " 'builtin_module_names',\n",
       " 'byteorder',\n",
       " 'call_tracing',\n",
       " 'callstats',\n",
       " 'copyright',\n",
       " 'displayhook',\n",
       " 'dllhandle',\n",
       " 'dont_write_bytecode',\n",
       " 'exc_info',\n",
       " 'excepthook',\n",
       " 'exec_prefix',\n",
       " 'executable',\n",
       " 'exit',\n",
       " 'flags',\n",
       " 'float_info',\n",
       " 'float_repr_style',\n",
       " 'get_asyncgen_hooks',\n",
       " 'get_coroutine_origin_tracking_depth',\n",
       " 'get_coroutine_wrapper',\n",
       " 'getallocatedblocks',\n",
       " 'getcheckinterval',\n",
       " 'getdefaultencoding',\n",
       " 'getfilesystemencodeerrors',\n",
       " 'getfilesystemencoding',\n",
       " 'getprofile',\n",
       " 'getrecursionlimit',\n",
       " 'getrefcount',\n",
       " 'getsizeof',\n",
       " 'getswitchinterval',\n",
       " 'gettrace',\n",
       " 'getwindowsversion',\n",
       " 'hash_info',\n",
       " 'hexversion',\n",
       " 'implementation',\n",
       " 'int_info',\n",
       " 'intern',\n",
       " 'is_finalizing',\n",
       " 'last_traceback',\n",
       " 'last_type',\n",
       " 'last_value',\n",
       " 'maxsize',\n",
       " 'maxunicode',\n",
       " 'meta_path',\n",
       " 'modules',\n",
       " 'path',\n",
       " 'path_hooks',\n",
       " 'path_importer_cache',\n",
       " 'platform',\n",
       " 'prefix',\n",
       " 'ps1',\n",
       " 'ps2',\n",
       " 'ps3',\n",
       " 'set_asyncgen_hooks',\n",
       " 'set_coroutine_origin_tracking_depth',\n",
       " 'set_coroutine_wrapper',\n",
       " 'setcheckinterval',\n",
       " 'setprofile',\n",
       " 'setrecursionlimit',\n",
       " 'setswitchinterval',\n",
       " 'settrace',\n",
       " 'stderr',\n",
       " 'stdin',\n",
       " 'stdout',\n",
       " 'thread_info',\n",
       " 'version',\n",
       " 'version_info',\n",
       " 'warnoptions',\n",
       " 'winver']"
      ]
     },
     "execution_count": 86,
     "metadata": {},
     "output_type": "execute_result"
    }
   ],
   "source": [
    "import sys\n",
    "\n",
    "dir(sys)"
   ]
  },
  {
   "cell_type": "code",
   "execution_count": 87,
   "metadata": {},
   "outputs": [
    {
     "data": {
      "text/plain": [
       "\"This module provides access to some objects used or maintained by the\\ninterpreter and to functions that interact strongly with the interpreter.\\n\\nDynamic objects:\\n\\nargv -- command line arguments; argv[0] is the script pathname if known\\npath -- module search path; path[0] is the script directory, else ''\\nmodules -- dictionary of loaded modules\\n\\ndisplayhook -- called to show results in an interactive session\\nexcepthook -- called to handle any uncaught exception other than SystemExit\\n  To customize printing in an interactive session or to install a custom\\n  top-level exception handler, assign other functions to replace these.\\n\\nstdin -- standard input file object; used by input()\\nstdout -- standard output file object; used by print()\\nstderr -- standard error object; used for error messages\\n  By assigning other file objects (or objects that behave like files)\\n  to these, it is possible to redirect all of the interpreter's I/O.\\n\\nlast_type -- type of last uncaught exception\\nlast_value -- value of last uncaught exception\\nlast_traceback -- traceback of last uncaught exception\\n  These three are only available in an interactive session after a\\n  traceback has been printed.\\n\\nStatic objects:\\n\\nbuiltin_module_names -- tuple of module names built into this interpreter\\ncopyright -- copyright notice pertaining to this interpreter\\nexec_prefix -- prefix used to find the machine-specific Python library\\nexecutable -- absolute path of the executable binary of the Python interpreter\\nfloat_info -- a struct sequence with information about the float implementation.\\nfloat_repr_style -- string indicating the style of repr() output for floats\\nhash_info -- a struct sequence with information about the hash algorithm.\\nhexversion -- version information encoded as a single integer\\nimplementation -- Python implementation information.\\nint_info -- a struct sequence with information about the int implementation.\\nmaxsize -- the largest supported length of containers.\\nmaxunicode -- the value of the largest Unicode code point\\nplatform -- platform identifier\\nprefix -- prefix used to find the Python library\\nthread_info -- a struct sequence with information about the thread implementation.\\nversion -- the version of this interpreter as a string\\nversion_info -- version information as a named tuple\\ndllhandle -- [Windows only] integer handle of the Python DLL\\nwinver -- [Windows only] version number of the Python DLL\\n_enablelegacywindowsfsencoding -- [Windows only] \\n__stdin__ -- the original stdin; don't touch!\\n__stdout__ -- the original stdout; don't touch!\\n__stderr__ -- the original stderr; don't touch!\\n__displayhook__ -- the original displayhook; don't touch!\\n__excepthook__ -- the original excepthook; don't touch!\\n\\nFunctions:\\n\\ndisplayhook() -- print an object to the screen, and save it in builtins._\\nexcepthook() -- print an exception and its traceback to sys.stderr\\nexc_info() -- return thread-safe information about the current exception\\nexit() -- exit the interpreter by raising SystemExit\\ngetdlopenflags() -- returns flags to be used for dlopen() calls\\ngetprofile() -- get the global profiling function\\ngetrefcount() -- return the reference count for an object (plus one :-)\\ngetrecursionlimit() -- return the max recursion depth for the interpreter\\ngetsizeof() -- return the size of an object in bytes\\ngettrace() -- get the global debug tracing function\\nsetcheckinterval() -- control how often the interpreter checks for events\\nsetdlopenflags() -- set the flags to be used for dlopen() calls\\nsetprofile() -- set the global profiling function\\nsetrecursionlimit() -- set the max recursion depth for the interpreter\\nsettrace() -- set the global debug tracing function\\n\""
      ]
     },
     "execution_count": 87,
     "metadata": {},
     "output_type": "execute_result"
    }
   ],
   "source": [
    "sys.__doc__"
   ]
  },
  {
   "cell_type": "code",
   "execution_count": 83,
   "metadata": {},
   "outputs": [
    {
     "data": {
      "text/plain": [
       "'./assets\\\\myutils.py'"
      ]
     },
     "execution_count": 83,
     "metadata": {},
     "output_type": "execute_result"
    }
   ],
   "source": [
    "myutils.__file__"
   ]
  },
  {
   "cell_type": "code",
   "execution_count": 88,
   "metadata": {},
   "outputs": [
    {
     "name": "stdout",
     "output_type": "stream",
     "text": [
      "None\n"
     ]
    }
   ],
   "source": [
    "print(myutils.__doc__)"
   ]
  },
  {
   "cell_type": "code",
   "execution_count": 79,
   "metadata": {},
   "outputs": [
    {
     "data": {
      "text/plain": [
       "'./assets\\\\__pycache__\\\\myutils.cpython-37.pyc'"
      ]
     },
     "execution_count": 79,
     "metadata": {},
     "output_type": "execute_result"
    }
   ],
   "source": [
    "myutils.__cached__"
   ]
  },
  {
   "cell_type": "code",
   "execution_count": 74,
   "metadata": {
    "scrolled": false
   },
   "outputs": [
    {
     "name": "stdout",
     "output_type": "stream",
     "text": [
      "None\n"
     ]
    }
   ],
   "source": [
    "exec('myutils.'+item)"
   ]
  },
  {
   "cell_type": "code",
   "execution_count": 78,
   "metadata": {},
   "outputs": [
    {
     "data": {
      "text/plain": [
       "{'__name__': 'builtins',\n",
       " '__doc__': \"Built-in functions, exceptions, and other objects.\\n\\nNoteworthy: None is the `nil' object; Ellipsis represents `...' in slices.\",\n",
       " '__package__': '',\n",
       " '__loader__': _frozen_importlib.BuiltinImporter,\n",
       " '__spec__': ModuleSpec(name='builtins', loader=<class '_frozen_importlib.BuiltinImporter'>),\n",
       " '__build_class__': <function __build_class__>,\n",
       " '__import__': <function __import__>,\n",
       " 'abs': <function abs(x, /)>,\n",
       " 'all': <function all(iterable, /)>,\n",
       " 'any': <function any(iterable, /)>,\n",
       " 'ascii': <function ascii(obj, /)>,\n",
       " 'bin': <function bin(number, /)>,\n",
       " 'breakpoint': <function breakpoint>,\n",
       " 'callable': <function callable(obj, /)>,\n",
       " 'chr': <function chr(i, /)>,\n",
       " 'compile': <function compile(source, filename, mode, flags=0, dont_inherit=False, optimize=-1)>,\n",
       " 'delattr': <function delattr(obj, name, /)>,\n",
       " 'dir': <function dir>,\n",
       " 'divmod': <function divmod(x, y, /)>,\n",
       " 'eval': <function eval(source, globals=None, locals=None, /)>,\n",
       " 'exec': <function exec(source, globals=None, locals=None, /)>,\n",
       " 'format': <function format(value, format_spec='', /)>,\n",
       " 'getattr': <function getattr>,\n",
       " 'globals': <function globals()>,\n",
       " 'hasattr': <function hasattr(obj, name, /)>,\n",
       " 'hash': <function hash(obj, /)>,\n",
       " 'hex': <function hex(number, /)>,\n",
       " 'id': <function id(obj, /)>,\n",
       " 'input': <bound method Kernel.raw_input of <ipykernel.ipkernel.IPythonKernel object at 0x000002514A76D048>>,\n",
       " 'isinstance': <function isinstance(obj, class_or_tuple, /)>,\n",
       " 'issubclass': <function issubclass(cls, class_or_tuple, /)>,\n",
       " 'iter': <function iter>,\n",
       " 'len': <function len(obj, /)>,\n",
       " 'locals': <function locals()>,\n",
       " 'max': <function max>,\n",
       " 'min': <function min>,\n",
       " 'next': <function next>,\n",
       " 'oct': <function oct(number, /)>,\n",
       " 'ord': <function ord(c, /)>,\n",
       " 'pow': <function pow(x, y, z=None, /)>,\n",
       " 'print': <function print>,\n",
       " 'repr': <function repr(obj, /)>,\n",
       " 'round': <function round(number, ndigits=None)>,\n",
       " 'setattr': <function setattr(obj, name, value, /)>,\n",
       " 'sorted': <function sorted(iterable, /, *, key=None, reverse=False)>,\n",
       " 'sum': <function sum(iterable, start=0, /)>,\n",
       " 'vars': <function vars>,\n",
       " 'None': None,\n",
       " 'Ellipsis': Ellipsis,\n",
       " 'NotImplemented': NotImplemented,\n",
       " 'False': False,\n",
       " 'True': True,\n",
       " 'bool': bool,\n",
       " 'memoryview': memoryview,\n",
       " 'bytearray': bytearray,\n",
       " 'bytes': bytes,\n",
       " 'classmethod': classmethod,\n",
       " 'complex': complex,\n",
       " 'dict': dict,\n",
       " 'enumerate': enumerate,\n",
       " 'filter': filter,\n",
       " 'float': float,\n",
       " 'frozenset': frozenset,\n",
       " 'property': property,\n",
       " 'int': int,\n",
       " 'list': list,\n",
       " 'map': map,\n",
       " 'object': object,\n",
       " 'range': range,\n",
       " 'reversed': reversed,\n",
       " 'set': set,\n",
       " 'slice': slice,\n",
       " 'staticmethod': staticmethod,\n",
       " 'str': str,\n",
       " 'super': super,\n",
       " 'tuple': tuple,\n",
       " 'type': type,\n",
       " 'zip': zip,\n",
       " '__debug__': True,\n",
       " 'BaseException': BaseException,\n",
       " 'Exception': Exception,\n",
       " 'TypeError': TypeError,\n",
       " 'StopAsyncIteration': StopAsyncIteration,\n",
       " 'StopIteration': StopIteration,\n",
       " 'GeneratorExit': GeneratorExit,\n",
       " 'SystemExit': SystemExit,\n",
       " 'KeyboardInterrupt': KeyboardInterrupt,\n",
       " 'ImportError': ImportError,\n",
       " 'ModuleNotFoundError': ModuleNotFoundError,\n",
       " 'OSError': OSError,\n",
       " 'EnvironmentError': OSError,\n",
       " 'IOError': OSError,\n",
       " 'WindowsError': OSError,\n",
       " 'EOFError': EOFError,\n",
       " 'RuntimeError': RuntimeError,\n",
       " 'RecursionError': RecursionError,\n",
       " 'NotImplementedError': NotImplementedError,\n",
       " 'NameError': NameError,\n",
       " 'UnboundLocalError': UnboundLocalError,\n",
       " 'AttributeError': AttributeError,\n",
       " 'SyntaxError': SyntaxError,\n",
       " 'IndentationError': IndentationError,\n",
       " 'TabError': TabError,\n",
       " 'LookupError': LookupError,\n",
       " 'IndexError': IndexError,\n",
       " 'KeyError': KeyError,\n",
       " 'ValueError': ValueError,\n",
       " 'UnicodeError': UnicodeError,\n",
       " 'UnicodeEncodeError': UnicodeEncodeError,\n",
       " 'UnicodeDecodeError': UnicodeDecodeError,\n",
       " 'UnicodeTranslateError': UnicodeTranslateError,\n",
       " 'AssertionError': AssertionError,\n",
       " 'ArithmeticError': ArithmeticError,\n",
       " 'FloatingPointError': FloatingPointError,\n",
       " 'OverflowError': OverflowError,\n",
       " 'ZeroDivisionError': ZeroDivisionError,\n",
       " 'SystemError': SystemError,\n",
       " 'ReferenceError': ReferenceError,\n",
       " 'MemoryError': MemoryError,\n",
       " 'BufferError': BufferError,\n",
       " 'Warning': Warning,\n",
       " 'UserWarning': UserWarning,\n",
       " 'DeprecationWarning': DeprecationWarning,\n",
       " 'PendingDeprecationWarning': PendingDeprecationWarning,\n",
       " 'SyntaxWarning': SyntaxWarning,\n",
       " 'RuntimeWarning': RuntimeWarning,\n",
       " 'FutureWarning': FutureWarning,\n",
       " 'ImportWarning': ImportWarning,\n",
       " 'UnicodeWarning': UnicodeWarning,\n",
       " 'BytesWarning': BytesWarning,\n",
       " 'ResourceWarning': ResourceWarning,\n",
       " 'ConnectionError': ConnectionError,\n",
       " 'BlockingIOError': BlockingIOError,\n",
       " 'BrokenPipeError': BrokenPipeError,\n",
       " 'ChildProcessError': ChildProcessError,\n",
       " 'ConnectionAbortedError': ConnectionAbortedError,\n",
       " 'ConnectionRefusedError': ConnectionRefusedError,\n",
       " 'ConnectionResetError': ConnectionResetError,\n",
       " 'FileExistsError': FileExistsError,\n",
       " 'FileNotFoundError': FileNotFoundError,\n",
       " 'IsADirectoryError': IsADirectoryError,\n",
       " 'NotADirectoryError': NotADirectoryError,\n",
       " 'InterruptedError': InterruptedError,\n",
       " 'PermissionError': PermissionError,\n",
       " 'ProcessLookupError': ProcessLookupError,\n",
       " 'TimeoutError': TimeoutError,\n",
       " 'open': <function io.open(file, mode='r', buffering=-1, encoding=None, errors=None, newline=None, closefd=True, opener=None)>,\n",
       " 'copyright': Copyright (c) 2001-2019 Python Software Foundation.\n",
       " All Rights Reserved.\n",
       " \n",
       " Copyright (c) 2000 BeOpen.com.\n",
       " All Rights Reserved.\n",
       " \n",
       " Copyright (c) 1995-2001 Corporation for National Research Initiatives.\n",
       " All Rights Reserved.\n",
       " \n",
       " Copyright (c) 1991-1995 Stichting Mathematisch Centrum, Amsterdam.\n",
       " All Rights Reserved.,\n",
       " 'credits':     Thanks to CWI, CNRI, BeOpen.com, Zope Corporation and a cast of thousands\n",
       "     for supporting Python development.  See www.python.org for more information.,\n",
       " 'license': Type license() to see the full license text,\n",
       " 'help': Type help() for interactive help, or help(object) for help about object.,\n",
       " 'execfile': <function _pydev_imps._pydev_execfile.execfile(file, glob=None, loc=None)>,\n",
       " 'runfile': <function _pydev_bundle.pydev_umd.runfile(filename, args=None, wdir=None, namespace=None)>,\n",
       " '__IPYTHON__': True,\n",
       " 'display': <function IPython.core.display.display(*objs, include=None, exclude=None, metadata=None, transient=None, display_id=None, **kwargs)>,\n",
       " 'get_ipython': <bound method InteractiveShell.get_ipython of <ipykernel.zmqshell.ZMQInteractiveShell object at 0x000002514A759A90>>}"
      ]
     },
     "execution_count": 78,
     "metadata": {},
     "output_type": "execute_result"
    }
   ],
   "source": [
    "myutils.__builtins__"
   ]
  },
  {
   "cell_type": "markdown",
   "metadata": {},
   "source": [
    "可以看到前面有一大堆都不是我们写的，而是系统自动加进去的，这属于模块的**元数据**（*metadata*），你可以试试一个个看看里面是什么，比如："
   ]
  },
  {
   "cell_type": "code",
   "execution_count": 0,
   "metadata": {},
   "outputs": [],
   "source": [
    "# 请在这里输入代码"
   ]
  },
  {
   "cell_type": "markdown",
   "metadata": {},
   "source": [
    "## `__main__` 模块"
   ]
  },
  {
   "cell_type": "markdown",
   "metadata": {},
   "source": [
    "关于模块中不在任何函数里的部分，还有一点值得了解。\n",
    "\n",
    "设想我们编写了一些函数，并在函数以外的部分写了一些代码来测试这些函数，然后将这些代码保存在一个模块（`.py` 文件）中供其他代码使用。如果别的代码 `import` 这个模块，那么那些测试代码就会被运行一遍，怎么看都觉得这不是个好事情，但是我们又不想删掉这些代码，因为我们以后对这个模块进行修改维护，还需要它们。Python 对此情况也提供了一个解决方案，这个方案就是使用特殊的模块名 `__main__`。\n",
    "\n",
    "前面看到，当我们 `import` 一个模块之后，可以用 `myutil.__name__` 查看它的模块名，通常是它的文件名；Python 做了一个特殊的设定，那就是当我们在命令行界面用 `python myutil.py` 来运行这个文件时，它的模块名 `__name__` 的值为 `'__main__'`，这是个独一无二的值，不会出现在任何引入的模块中，这样我们就可以区分开“运行一个文件”和“引入一个模块”这两种行为，加以区别对待区别，也就是把模块写成这个样子：\n",
    "\n",
    "```python\n",
    "def func1();\n",
    "    ...\n",
    "\n",
    "def func2();\n",
    "    ...\n",
    "\n",
    "if __name__ == '__main__':\n",
    "    # 把所有测试或者不希望被引入时执行的代码放在这里\n",
    "```\n",
    "\n",
    "这么做的结果是：\n",
    "\n",
    "* 当 Python 文件被当作模块，被 import 语句导入时，if 判断失败，下面的代码不被执行；\n",
    "* 当 Python 文件被 `python -m` 运行的时候，`if` 判断成功，下面的代码被执行。"
   ]
  },
  {
   "cell_type": "markdown",
   "metadata": {},
   "source": [
    "## 小结"
   ]
  },
  {
   "cell_type": "markdown",
   "metadata": {},
   "source": [
    "* 模块是 Python 管理多个源代码文件的基本单元，一个模块对应一个 `.py` 源文件；\n",
    "* 模块名可以包含若干节，用 `.` 分开，`.` 分开的每一节对应子目录和文件名，比如当前目录下 `foo/goo/bar.py` 这个文件的模块名就是 `foo.goo.bar`；\n",
    "* 可以用 `import` 语句来引入解释器能找到的任何模块，可以全模块引入也可以只引入指定的函数或者变量，还可以给引入的模块、函数或变量用 `as` 指定别名；\n",
    "* 解释器会在 `sys.path` 这个变量保存的所有目录下查找我们想引入的模块；\n",
    "* 了解 `sys.builtin_module_names` 和 `dir()` 的用法，有助于我们探索当前环境的可用模块以及了解模块的信息；\n",
    "* 可以把不希望被引入时执行的代码放在 `if __name__ == '__main__':` 判断下面，让一个文件既可以被当做模块引入，也可以作为一个程序独立执行。"
   ]
  }
 ],
 "metadata": {
  "kernelspec": {
   "display_name": "Python 3 (ipykernel)",
   "language": "python",
   "name": "python3"
  },
  "language_info": {
   "codemirror_mode": {
    "name": "ipython",
    "version": 3
   },
   "file_extension": ".py",
   "mimetype": "text/x-python",
   "name": "python",
   "nbconvert_exporter": "python",
   "pygments_lexer": "ipython3",
   "version": "3.7.3"
  },
  "latex_envs": {
   "LaTeX_envs_menu_present": true,
   "autoclose": false,
   "autocomplete": true,
   "bibliofile": "biblio.bib",
   "cite_by": "apalike",
   "current_citInitial": 1,
   "eqLabelWithNumbers": true,
   "eqNumInitial": 1,
   "hotkeys": {
    "equation": "Ctrl-E",
    "itemize": "Ctrl-I"
   },
   "labels_anchors": false,
   "latex_user_defs": false,
   "report_style_numbering": false,
   "user_envs_cfg": false
  },
  "toc": {
   "base_numbering": 1,
   "nav_menu": {},
   "number_sections": true,
   "sideBar": true,
   "skip_h1_title": true,
   "title_cell": "Table of Contents",
   "title_sidebar": "Contents",
   "toc_cell": false,
   "toc_position": {},
   "toc_section_display": true,
   "toc_window_display": false
  }
 },
 "nbformat": 4,
 "nbformat_minor": 4
}
