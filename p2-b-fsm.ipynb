{
 "cells": [
  {
   "cell_type": "markdown",
   "metadata": {},
   "source": [
    "# 进入编程世界 第十二课 有限状态机\n"
   ]
  },
  {
   "cell_type": "markdown",
   "metadata": {},
   "source": [
    "## 回顾\n",
    "\n",
    "tree node\n",
    "\n",
    "print tree 如何打印一个树形结构"
   ]
  },
  {
   "cell_type": "markdown",
   "metadata": {},
   "source": [
    "在一个命令行中打印出一个树。"
   ]
  },
  {
   "cell_type": "code",
   "execution_count": 1,
   "metadata": {},
   "outputs": [
    {
     "name": "stdout",
     "output_type": "stream",
     "text": [
      "add node *node1* as child of  node *root*!\n",
      "add node *node2* as child of  node *root*!\n",
      "add node *node3* as child of  node *root*!\n",
      "add node *node4* as child of  node *root*!\n",
      "add node *node11* as child of  node *node1*!\n",
      "add node *node12* as child of  node *node1*!\n",
      "add node *node21* as child of  node *node2*!\n",
      "add node *node22* as child of  node *node2*!\n",
      "add node *node31* as child of  node *node3*!\n",
      "add node *node111* as child of  node *node11*!\n",
      "add node *node211* as child of  node *node21*!\n",
      "add node *node311* as child of  node *node31*!\n"
     ]
    }
   ],
   "source": [
    "from vor.tree_node import TreeNode\n",
    "\n",
    "root = TreeNode(name='root', data='中国', parent=None, children=None)\n",
    "\n",
    "node1 = TreeNode(name='node1', data='山西', parent=root)\n",
    "node2 = TreeNode(name='node2', data='湖北', parent=root)\n",
    "node3 = TreeNode(name='node3', data='北京', parent=root)\n",
    "node4 = TreeNode(name='node4', data='上海', parent=root)\n",
    "\n",
    "node11 = TreeNode(name='node11', data='晋城', parent=node1)\n",
    "node12 = TreeNode(name='node12', data='长治', parent=node1)\n",
    "\n",
    "node21 = TreeNode(name='node21', data='武汉', parent=node2)\n",
    "node22 = TreeNode(name='node22', data='鄂州', parent=node2)\n",
    "\n",
    "node31 = TreeNode(name='node31', data='北京', parent=node3)\n",
    "\n",
    "node111 = TreeNode(name='node111', data='阳城', parent=node11)\n",
    "node211 = TreeNode(name='node211', data='洪山', parent=node21)\n",
    "node311 = TreeNode(name='node311', data='昌平', parent=node31)"
   ]
  },
  {
   "cell_type": "code",
   "execution_count": 16,
   "metadata": {},
   "outputs": [],
   "source": [
    "# version 1\n",
    "def print_tree(root, tier=0):\n",
    "    prefix = '  ' * (tier - 1)\n",
    "    print(prefix + root.name)\n",
    "    if root.children and len(root.children):\n",
    "        for node in root.children:\n",
    "            print_tree(node, tier + 1)"
   ]
  },
  {
   "cell_type": "markdown",
   "metadata": {},
   "source": [
    "递归结构：\n",
    "- 先处理当前节点。\n",
    "- 再取当前节点的所有 children，对每一个children当做一个子树进行递归操作。\n",
    "\n",
    "第一个版本定下了这个大框架。\n",
    "\n",
    "tier，当前正在打印的是第几层节点。"
   ]
  },
  {
   "cell_type": "code",
   "execution_count": 17,
   "metadata": {},
   "outputs": [
    {
     "name": "stdout",
     "output_type": "stream",
     "text": [
      "root\n",
      "node1\n",
      "  node11\n",
      "    node111\n",
      "  node12\n",
      "node2\n",
      "  node21\n",
      "    node211\n",
      "  node22\n",
      "node3\n",
      "  node31\n",
      "    node311\n",
      "node4\n"
     ]
    }
   ],
   "source": [
    "print_tree(root)"
   ]
  },
  {
   "cell_type": "code",
   "execution_count": 14,
   "metadata": {},
   "outputs": [],
   "source": [
    "# version 1-2\n",
    "def print_tree(root, tier=0):\n",
    "    prefix = '  ' * (tier + 1)  # change here\n",
    "    print(prefix + root.name)\n",
    "    if root.children and len(root.children):\n",
    "        for node in root.children:\n",
    "            print_tree(node, tier + 1)"
   ]
  },
  {
   "cell_type": "code",
   "execution_count": 15,
   "metadata": {},
   "outputs": [
    {
     "name": "stdout",
     "output_type": "stream",
     "text": [
      "  root\n",
      "    node1\n",
      "      node11\n",
      "        node111\n",
      "      node12\n",
      "    node2\n",
      "      node21\n",
      "        node211\n",
      "      node22\n",
      "    node3\n",
      "      node31\n",
      "        node311\n",
      "    node4\n"
     ]
    }
   ],
   "source": [
    "print_tree(root)"
   ]
  },
  {
   "cell_type": "code",
   "execution_count": 19,
   "metadata": {},
   "outputs": [],
   "source": [
    "# version 2\n",
    "def print_tree(root, tier=0):\n",
    "    prefix = '│ ' * (tier - 1) + '├─ ' if tier > 0 else ''\n",
    "    print(prefix + root.name)\n",
    "    if root.children and len(root.children):\n",
    "        for node in root.children:\n",
    "            print_tree(node, tier + 1)"
   ]
  },
  {
   "cell_type": "code",
   "execution_count": 20,
   "metadata": {},
   "outputs": [
    {
     "name": "stdout",
     "output_type": "stream",
     "text": [
      "root\n",
      "├─ node1\n",
      "│ ├─ node11\n",
      "│ │ ├─ node111\n",
      "│ ├─ node12\n",
      "├─ node2\n",
      "│ ├─ node21\n",
      "│ │ ├─ node211\n",
      "│ ├─ node22\n",
      "├─ node3\n",
      "│ ├─ node31\n",
      "│ │ ├─ node311\n",
      "├─ node4\n"
     ]
    }
   ],
   "source": [
    "print_tree(root)"
   ]
  },
  {
   "cell_type": "code",
   "execution_count": 21,
   "metadata": {},
   "outputs": [
    {
     "data": {
      "text/plain": [
       "'│'"
      ]
     },
     "execution_count": 21,
     "metadata": {},
     "output_type": "execute_result"
    }
   ],
   "source": [
    "'\\u2502'"
   ]
  },
  {
   "cell_type": "code",
   "execution_count": 24,
   "metadata": {},
   "outputs": [
    {
     "name": "stdout",
     "output_type": "stream",
     "text": [
      "root\n",
      "│ │ ├ node1\n",
      "│ │ │ ├ node11\n",
      "│ │ │ │ ├ node111\n",
      "│ │ │ ├ node12\n",
      "│ │ ├ node2\n",
      "│ │ │ ├ node21\n",
      "│ │ │ │ ├ node211\n",
      "│ │ │ ├ node22\n",
      "│ │ ├ node3\n",
      "│ │ │ ├ node31\n",
      "│ │ │ │ ├ node311\n",
      "│ │ ├ node4\n"
     ]
    }
   ],
   "source": [
    "# version 2\n",
    "def print_tree(root, tier=0):\n",
    "    prefix = '│ ' * (tier + 1) + '├─ ' if tier > 0 else ''\n",
    "    print(prefix + root.name)\n",
    "    if root.children and len(root.children):\n",
    "        for node in root.children:\n",
    "            print_tree(node, tier + 1)\n",
    "            \n",
    "print_tree(root)"
   ]
  },
  {
   "cell_type": "code",
   "execution_count": 39,
   "metadata": {},
   "outputs": [
    {
     "name": "stdout",
     "output_type": "stream",
     "text": [
      "└─root\n",
      " ├─node1\n",
      " │├─node11\n",
      " ││└─node111\n",
      " │└─node12\n",
      " ├─node2\n",
      " │├─node21\n",
      " ││└─node211\n",
      " │└─node22\n",
      " ├─node3\n",
      " │└─node31\n",
      " │ └─node311\n",
      " └─node4\n"
     ]
    }
   ],
   "source": [
    "# version 3\n",
    "\n",
    "def print_tree(root, _prefix='', _last=True):\n",
    "    print(_prefix, '└─' if _last else '├─', root.name, sep='')\n",
    "    _prefix += ' ' if _last else '│'\n",
    "    count = len(root.children)\n",
    "    for n, node in enumerate(root.children):\n",
    "        _last = n == (count - 1)\n",
    "        print_tree(node, _prefix, _last)\n",
    "        \n",
    "print_tree(root)"
   ]
  },
  {
   "cell_type": "code",
   "execution_count": 46,
   "metadata": {},
   "outputs": [
    {
     "name": "stdout",
     "output_type": "stream",
     "text": [
      "root\n",
      " ├-node1\n",
      " │ ├-node11\n",
      " │ │ └-node111\n",
      " │ └-node12\n",
      " ├-node2\n",
      " │ ├-node21\n",
      " │ │ └-node211\n",
      " │ └-node22\n",
      " ├-node3\n",
      " │ └-node31\n",
      " │  └-node311\n",
      " └-node4\n"
     ]
    }
   ],
   "source": [
    "# version 3-2\n",
    "\n",
    "def print_tree(root, _prefix='', _last=True):\n",
    "    if root.parent == None:\n",
    "        print(root.name)\n",
    "    else:\n",
    "        print(_prefix, '└-' if _last else '├-', root.name, sep='')\n",
    "    _prefix += ' ' if _last else '│ '\n",
    "    count = len(root.children)\n",
    "    for n, node in enumerate(root.children):\n",
    "        _last = n == (count - 1)\n",
    "        print_tree(node, _prefix, _last)\n",
    "        \n",
    "print_tree(root)"
   ]
  },
  {
   "cell_type": "code",
   "execution_count": 23,
   "metadata": {},
   "outputs": [
    {
     "data": {
      "text/plain": [
       "'└'"
      ]
     },
     "execution_count": 23,
     "metadata": {},
     "output_type": "execute_result"
    }
   ],
   "source": [
    "'\\u2514'"
   ]
  },
  {
   "cell_type": "code",
   "execution_count": 43,
   "metadata": {},
   "outputs": [
    {
     "name": "stdout",
     "output_type": "stream",
     "text": [
      "root\n",
      "├─node1\n",
      "│ ├─node11\n",
      "│ │ └─node111\n",
      "│ └─node12\n",
      "├─node2\n",
      "│ ├─node21\n",
      "│ │ └─node211\n",
      "│ └─node22\n",
      "├─node3\n",
      "│ └─node31\n",
      "│  └─node311\n",
      "└─node4\n"
     ]
    }
   ],
   "source": [
    "# version 4\n",
    "def _print_tree(root, _prefix='', _last=True):\n",
    "    print(''.join([_prefix, '└─' if _last else '├─', root.name]))\n",
    "    _prefix += ' ' if _last else '│ '\n",
    "    count = len(root.children)\n",
    "    for n, node in enumerate(root. children):\n",
    "        _last = n == (count - 1)\n",
    "        _print_tree(node, _prefix, _last)\n",
    "\n",
    "def print_tree(root):\n",
    "    print(root.name)\n",
    "    for node in root.children[:-1]:\n",
    "        _print_tree(node, _last=False)\n",
    "    _print_tree(root.children[-1], _last=True)\n",
    "    \n",
    "print_tree(root)"
   ]
  },
  {
   "cell_type": "code",
   "execution_count": 47,
   "metadata": {},
   "outputs": [
    {
     "name": "stdout",
     "output_type": "stream",
     "text": [
      "root\n",
      "├─ node1\n",
      "│ ├─ node11\n",
      "│ │ └─node111\n",
      "│ └─node12\n",
      "├─ node2\n",
      "│ ├─ node21\n",
      "│ │ └─node211\n",
      "│ └─node22\n",
      "├─ node3\n",
      "│ └─node31\n",
      "│  └─node311\n",
      "└─node4\n"
     ]
    }
   ],
   "source": [
    "# version 4-2\n",
    "def _print_tree(root, _prefix='', _last=True):\n",
    "    print(''.join([_prefix, '└─' if _last else '├─ ', root.name]))  # change here 加个空格\n",
    "    _prefix += ' ' if _last else '│ '\n",
    "    count = len(root.children)\n",
    "    for n, node in enumerate(root. children):\n",
    "        _last = n == (count - 1)\n",
    "        _print_tree(node, _prefix, _last)\n",
    "\n",
    "def print_tree(root):\n",
    "    print(root.name)\n",
    "    for node in root.children[:-1]:\n",
    "        _print_tree(node, _last=False)\n",
    "    _print_tree(root.children[-1], _last=True)\n",
    "    \n",
    "print_tree(root)"
   ]
  },
  {
   "cell_type": "markdown",
   "metadata": {},
   "source": [
    "`__repr__` representation：更强调输出的字符串能够完整、准确地表达对象的内容。\n",
    "\n",
    "`__str__` 把对象转换成字符串：简单地把对象转换成字符串，更多地用关注 human-readable。"
   ]
  },
  {
   "cell_type": "code",
   "execution_count": null,
   "metadata": {},
   "outputs": [],
   "source": [
    "# version 5"
   ]
  },
  {
   "cell_type": "code",
   "execution_count": null,
   "metadata": {},
   "outputs": [],
   "source": [
    "# version 5\n",
    "def _to_strings(self, xs, _prefix='', _last=True):\n",
    "    xs.append(''.join([_prefix, '└─' if _last else '├─ ', root.name]))\n",
    "    _prefix += ' ' if _last else '│ '\n",
    "    \n",
    "    count = len(self.children)\n",
    "    for n, node in enumerate(self.children):\n",
    "        _last = n == (count - 1)\n",
    "        node._to_strings(xs, _prefix, _last)\n",
    "\n",
    "def __repr__(self):\n",
    "    xs = [self.name]\n",
    "    for node in self.children[:-1]:\n",
    "        node._to_strings(xs, _last=False)\n",
    "    self.children[:-1]._to_strings(xs, _last=True)\n",
    "    return '\\n'.join(xs)\n",
    "\n",
    "def __str__(self):\n",
    "    return self.__repr__()"
   ]
  },
  {
   "cell_type": "markdown",
   "metadata": {},
   "source": [
    "标准化 通用的类，要考虑到各种各样不同的环境下。\n",
    "\n",
    "所以要避免类似于 print 的函数。\n",
    "\n",
    "print 是在命令行终端打印。\n",
    "\n",
    "输出标准化的数据类型。调用端如何用是调用端的事情。\n",
    "\n",
    "抽象\n",
    "\n",
    "责任分离。\n",
    "\n",
    "\n",
    "一步一步迭代优化的过程。"
   ]
  },
  {
   "cell_type": "markdown",
   "metadata": {},
   "source": [
    "# 有限状态机"
   ]
  },
  {
   "cell_type": "markdown",
   "metadata": {},
   "source": [
    "状态机。\n",
    "\n",
    "\n",
    "计算理论 theory of computation。整个计算机科学里最理论，最抽象化的东西。证明一些非常抽象、高深的理论的基础。\n",
    "\n",
    "抽象的理论里拿出来有很实用的价值的一部分。\n",
    "\n",
    "搞不懂 并不妨碍使用。\n",
    "\n",
    "用以致学。\n",
    "\n",
    "随着使用的越来越深，会理解地越来越深入，也会用的越来越好。\n",
    "\n",
    "一边用，一边搞懂。\n",
    "\n"
   ]
  },
  {
   "cell_type": "markdown",
   "metadata": {},
   "source": [
    "有限状态机（*finite state machine*，简称 *FSM*），有时也被称为 *finite state automation*，有时就简单地叫 *state machine*，不属于一看就知道大概是什么的概念（这一点和前面我们讲过的都不一样）。有限状态机有相当深刻的理论背景，算是比较高级的东西了，很多程序员别说学校里，工作十年可能都没碰过这东西，但其实真的不难理解，而且学会了就爱不释手，因为它解决某些问题真是太好用了。"
   ]
  },
  {
   "cell_type": "markdown",
   "metadata": {},
   "source": [
    "## 什么是有限状态机"
   ]
  },
  {
   "cell_type": "markdown",
   "metadata": {},
   "source": [
    "其实我们身边到处都是“有限状态机”的例子，最简单的一个是灯：灯有两种状态：“亮”和“熄”，灯可以从一种状态变成另一种，“亮”的状态下接收到“关”的指令就会变成“熄”，“熄”的状态下接收到“开”的指令就会变成“亮”，就像下图这样："
   ]
  },
  {
   "cell_type": "markdown",
   "metadata": {},
   "source": [
    "<img src=\"assets/fsm-1.png\" width=\"360\">"
   ]
  },
  {
   "cell_type": "markdown",
   "metadata": {},
   "source": [
    "在这个图里，圆圈表示“状态（*state*）”，箭头代表状态间可以发生的“转换（*transition*）”，而箭头上标注的文字代表触发状态转换的“输入（*input*）”。这基本上就是状态机的三大要件了。\n",
    "\n",
    "灯只有两个状态，不算很有意思，我们可以再看一个常见的例子：红绿灯，我们熟知的红绿灯的颜色按照“绿 -> 黄 -> 红 -> 绿”这样的顺序循环变化——嗯，我知道有的还有“绿灯闪烁”之类的状态，不过我们这里简化一下，用有限状态机来描述大致如下图："
   ]
  },
  {
   "cell_type": "markdown",
   "metadata": {},
   "source": [
    "<img src=\"assets/fsm-2.png\" width=\"500\">"
   ]
  },
  {
   "cell_type": "markdown",
   "metadata": {},
   "source": [
    "这里：\n",
    "* 有三种状态：绿，黄，红；\n",
    "* 状态转换是受限的，绿只能转黄，黄只能转红，红只能转绿；诸如黄转绿这样的状态转换是不允许的；\n",
    "* 状态转换的输入条件很简单，接收到 1 就转换到下一个状态。"
   ]
  },
  {
   "cell_type": "markdown",
   "metadata": {},
   "source": [
    "所以简单来说，有限状态机就是一台包含了预先定义好的一组状态的机器，当机器接收到一个指令，就根据指令内容查一张预先定义好的表：\n",
    "1. 检查当前状态是否接受这个指令；\n",
    "2. 如果不接受，那就当无事发生；\n",
    "3. 如果接受，再检查表中“当前状态x该指令”对应的目标状态是什么，然后把机器状态转换为目标状态。\n",
    "\n",
    "至于何时发送指令给状态机，是由外部系统决定的，比如红绿灯的例子里，外部系统是几个定时器，时间到了就发信号给有限状态机切换状态。\n",
    "\n",
    "有了现实生活中的例子打底，我们现在可以来看看抽象的“有限状态机（*FSM*）”是怎么定义的了。"
   ]
  },
  {
   "cell_type": "markdown",
   "metadata": {},
   "source": [
    "有限状态机是正则表达式底层的逻辑。"
   ]
  },
  {
   "cell_type": "markdown",
   "metadata": {},
   "source": [
    "<img src=\"assets/fsm-3.png\">"
   ]
  },
  {
   "cell_type": "markdown",
   "metadata": {},
   "source": [
    "如上图所示，每一个 *FSM* 都包含五个要素：\n",
    "* *Q* 包含了有限个状态（*states*）的集合；\n",
    "* *Σ* 包含了有限个、非空的有效输入（*input*）的集合；\n",
    "* *δ* 一系列转换函数（*transition functions*），定义了什么样的当前状态结合什么输入可以变成什么目标状态，通常可以定义为一张二维表（见上图）；\n",
    "* *q<sub>0</sub>* 起始状态，并不是所有 *FSM* 都关心起始状态，比如红绿灯就无所谓起始状态；\n",
    "* *F* 包含了所有“结束状态（*final states*）”的集合，这个名字容易误解，它的作用和有限状态机的具体类型及面对的问题有关，我们可以简单理解为“标记出来有特别含义的状态的集合”就可以了，注意这个集合可以是空的。"
   ]
  },
  {
   "cell_type": "markdown",
   "metadata": {},
   "source": [
    "以上图所示的 *FSM* 为例，\n",
    "* 这个 *FSM* 有四个有效状态，*Q = { A, B C, D}*；\n",
    "* 这个 *FSM* 只接受两个合法输入，*Σ = { 0, 1 }*；\n",
    "* 当这个 *FSM* 接收到输入时，不在 *Σ = { 0, 1 }* 中的输入会被丢弃；如果输入在 *Σ* 中（是 *0* 或者 *1*），就查 *δ* 表，看看当前状态对应行和输入对应列的交叉点是什么状态，比如当前状态是 *A*，输入是 *1*，那么对应状态为 *C*，也就是说应该转换到状态 *C*。\n",
    "* 起始状态 *q<sub>0</sub> = A* 和结束状态集 *F = { D }* 这两个对某些 *FSM* 来说很重要，比如正则表达式。\n",
    "\n",
    "> 正则表达式对应一大类有限状态机，主要用来解决“在一系列输入之后是什么状态”的问题，通过回答这个问题来判断输入序列是不是我们想要的，或者输入序列属于什么分类，这种状态机有很深刻的理论背景，有兴趣的话可以读一下计算理论（*computation theory*）的经典教材，比如[这本](https://www.amazon.com/Introduction-Theory-Computation-Michael-Sipser/dp/113318779X)；这类状态机还被广泛应用于人工智能（比如图像识别算法）中。"
   ]
  },
  {
   "cell_type": "markdown",
   "metadata": {},
   "source": [
    "在计算机编程领域 *FSM* 最广泛的应用之一是流程和行为控制（*flow and behavior control*），简单说就是管理：\n",
    "* 在某个状态下什么能做什么不能做；\n",
    "* 做了什么会变成另外的什么状态。\n",
    "\n",
    "游戏里[玩家行为控制](https://gameprogrammingpatterns.com/state.html)、[NPC（*non-player character*，非玩家角色）的 AI](https://gamedevelopment.tutsplus.com/tutorials/finite-state-machines-theory-and-implementation--gamedev-11867)、剧情任务流程等都是用 *FSM* 来实现的；所有的[工作流系统](http://b.xfreeservice.com/redir/clickGate.php?u=8otB939m&m=12&p=3b121G4eNI&t=33&splash=0&s=&q=state%20machine%20workflow&url=https%3A%2F%2Fdocs.microsoft.com%2Fen-us%2Fdotnet%2Fframework%2Fwindows-workflow-foundation%2Fstate-machine-workflows)都包含 *FSM*；还有电商核心系统之一的“订单系统”（*order system*）。\n",
    "\n",
    "我们用过淘宝都知道，一个订单从创建开始要经历好几个状态，中间也有不同的操作可以进行，下面是一个比较典型的流程设计，经过一定简化，并以“状态”的主视角来描绘："
   ]
  },
  {
   "cell_type": "markdown",
   "metadata": {},
   "source": [
    "<img src=\"assets/fsm-4.png\">"
   ]
  },
  {
   "cell_type": "markdown",
   "metadata": {},
   "source": [
    "图中圆边的矩形代表状态，最上面一排是“正常”的状态和流程；第二排的矩形则表示一些“逆向”子流程，通常是由用户或客户发起的特殊操作，这些操作会带来其他一些订单状态，为了简单起见没有在这里展开。"
   ]
  },
  {
   "cell_type": "markdown",
   "metadata": {},
   "source": [
    "流程说明：\n",
    "* 当买家点击下单时订单生成，处于“已创建”状态；\n",
    "* 这个状态下的正常操作是“支付”，如果输入“支付成功”会进入下一个状态“已支付”，“支付失败”或者没有任何操作则停在本状态；\n",
    "* 这个状态下其他可选操作包括“修改”、“取消”等，分别会去到订单修改和订单取消子流程（这里略去细节）；\n",
    "* 支付成功后进入处于“已支付”状态；\n",
    "* 这个状态下需要等待商家发货，商家输入“已发货”会进入下一个状态“配送中”；\n",
    "* 这个状态下不能修改订单了，但仍然可以取消订单；\n",
    "* 商家发货后进入“配送中”状态；\n",
    "* 当配送到货，买家签收成功输入则进入下一个状态“已签收”；如果配送失败（买家不在家之类的情况）则留在“配送中”状态（另外择时重新送货）；\n",
    "* 这个状态下已不能修改和取消订单，但是可以发起退货申请，进入退货子流程（这里略去细节）；\n",
    "* 买家签收后进入“已签收”状态；\n",
    "* 买家满意，确认订单完成则进入最后状态“已完成”，订单生命周期结束；\n",
    "* 否则买家可以发起退货进入退货子流程（略）。\n",
    "\n",
    "从这里我们可以看到，实际业务系统中状态和转换的规则相当复杂（我们这还是大大简化的版本），每个状态下允许的操作和可能转换的下一个状态都是严格受控的，现在我们思考一下，我们可以如何用程序来实现这样的流程呢？"
   ]
  },
  {
   "cell_type": "markdown",
   "metadata": {},
   "source": [
    "## 利用有限状态机编写易于维护的代码"
   ]
  },
  {
   "cell_type": "markdown",
   "metadata": {},
   "source": [
    "回忆我们之前提到的，流程和行为控制（*flow and behavior control*）的关键是管理：\n",
    "* 在某个状态下什么能做什么不能做；\n",
    "* 做了什么会变成另外的什么状态。\n",
    "\n",
    "最简单直接的办法就是书写一堆 `if...else` 的判断规则，大致会是这个样子："
   ]
  },
  {
   "cell_type": "code",
   "execution_count": 108,
   "metadata": {},
   "outputs": [],
   "source": [
    "# 请在这里输入代码\n",
    "class Order:\n",
    "    STATES = ['created', 'paid', 'delivering', 'received', 'done', 'cancelling', 'returning', 'closed']\n",
    "    state = 'created'\n",
    "    \n",
    "    def can_pay(self):\n",
    "        return self.state == 'created'\n",
    "    \n",
    "    def can_deliver(self):\n",
    "        return self.state == 'paid'\n",
    "    \n",
    "    def can_cancel(self):\n",
    "        return self.state == 'created' or self.state == 'paid'\n",
    "    \n",
    "    def can_receive(self):\n",
    "        return self.state == 'delivering'\n",
    "    \n",
    "    def payment_service(self):\n",
    "        # 调用远程接口完成实际支付\n",
    "        # pass\n",
    "        # 默认总是支付完成\n",
    "        print(\"正在跳转支付页面\")\n",
    "        self.succeeded = True\n",
    "        return self.succeeded\n",
    "    \n",
    "    def pay(self):\n",
    "        if self.can_pay():\n",
    "            result = self.payment_service()\n",
    "            if result:\n",
    "                state = 'paid'\n",
    "                return True\n",
    "            else:\n",
    "                return False\n",
    "        else:\n",
    "            raise ValueError()\n",
    "            \n",
    "    def cancel(self):\n",
    "        if self.can_cancel():\n",
    "            self.state = 'cancelling'\n",
    "            # 取消订单、申请审批和清理数据，如果顺利成功再进行下一步\n",
    "            self.state = 'closed'\n",
    "        else:\n",
    "            raise ValueError()\n",
    "            \n",
    "            \n",
    "    # 以及一大堆操作的函数，每一个里面都要判断是不是可以做想做的操作\n",
    "    # 然后在根据执行的情况修改 self.state 为对应的新状态。"
   ]
  },
  {
   "cell_type": "code",
   "execution_count": 109,
   "metadata": {},
   "outputs": [],
   "source": [
    "order1 = Order()"
   ]
  },
  {
   "cell_type": "code",
   "execution_count": 110,
   "metadata": {},
   "outputs": [
    {
     "name": "stdout",
     "output_type": "stream",
     "text": [
      "<__main__.Order object at 0x000001B409E9BC10>\n"
     ]
    }
   ],
   "source": [
    "print(order1)"
   ]
  },
  {
   "cell_type": "code",
   "execution_count": 111,
   "metadata": {},
   "outputs": [
    {
     "data": {
      "text/plain": [
       "'created'"
      ]
     },
     "execution_count": 111,
     "metadata": {},
     "output_type": "execute_result"
    }
   ],
   "source": [
    "order1.state"
   ]
  },
  {
   "cell_type": "code",
   "execution_count": 112,
   "metadata": {},
   "outputs": [
    {
     "data": {
      "text/plain": [
       "['created',\n",
       " 'paid',\n",
       " 'delivering',\n",
       " 'received',\n",
       " 'done',\n",
       " 'cancelling',\n",
       " 'returning',\n",
       " 'closed']"
      ]
     },
     "execution_count": 112,
     "metadata": {},
     "output_type": "execute_result"
    }
   ],
   "source": [
    "order1.STATES"
   ]
  },
  {
   "cell_type": "code",
   "execution_count": 113,
   "metadata": {},
   "outputs": [
    {
     "data": {
      "text/plain": [
       "True"
      ]
     },
     "execution_count": 113,
     "metadata": {},
     "output_type": "execute_result"
    }
   ],
   "source": [
    "order1.can_pay()"
   ]
  },
  {
   "cell_type": "code",
   "execution_count": 114,
   "metadata": {},
   "outputs": [
    {
     "data": {
      "text/plain": [
       "'created'"
      ]
     },
     "execution_count": 114,
     "metadata": {},
     "output_type": "execute_result"
    }
   ],
   "source": [
    "order1.state"
   ]
  },
  {
   "cell_type": "code",
   "execution_count": 115,
   "metadata": {},
   "outputs": [
    {
     "name": "stdout",
     "output_type": "stream",
     "text": [
      "正在跳转支付页面\n"
     ]
    },
    {
     "data": {
      "text/plain": [
       "True"
      ]
     },
     "execution_count": 115,
     "metadata": {},
     "output_type": "execute_result"
    }
   ],
   "source": [
    "order1.pay()"
   ]
  },
  {
   "cell_type": "code",
   "execution_count": 116,
   "metadata": {},
   "outputs": [
    {
     "data": {
      "text/plain": [
       "True"
      ]
     },
     "execution_count": 116,
     "metadata": {},
     "output_type": "execute_result"
    }
   ],
   "source": [
    "order1.can_cancel()\n"
   ]
  },
  {
   "cell_type": "code",
   "execution_count": 117,
   "metadata": {},
   "outputs": [],
   "source": [
    "order1.cancel()"
   ]
  },
  {
   "cell_type": "code",
   "execution_count": 119,
   "metadata": {},
   "outputs": [
    {
     "data": {
      "text/plain": [
       "False"
      ]
     },
     "execution_count": 119,
     "metadata": {},
     "output_type": "execute_result"
    }
   ],
   "source": [
    "order1.can_cancel()"
   ]
  },
  {
   "cell_type": "code",
   "execution_count": 120,
   "metadata": {},
   "outputs": [
    {
     "ename": "ValueError",
     "evalue": "",
     "output_type": "error",
     "traceback": [
      "\u001b[1;31m---------------------------------------------------------------------------\u001b[0m",
      "\u001b[1;31mValueError\u001b[0m                                Traceback (most recent call last)",
      "\u001b[1;32mC:\\Users\\ADMINI~1\\AppData\\Local\\Temp/ipykernel_17156/2240800415.py\u001b[0m in \u001b[0;36m<module>\u001b[1;34m\u001b[0m\n\u001b[1;32m----> 1\u001b[1;33m \u001b[0morder1\u001b[0m\u001b[1;33m.\u001b[0m\u001b[0mcancel\u001b[0m\u001b[1;33m(\u001b[0m\u001b[1;33m)\u001b[0m\u001b[1;33m\u001b[0m\u001b[1;33m\u001b[0m\u001b[0m\n\u001b[0m",
      "\u001b[1;32mC:\\Users\\ADMINI~1\\AppData\\Local\\Temp/ipykernel_17156/3108424048.py\u001b[0m in \u001b[0;36mcancel\u001b[1;34m(self)\u001b[0m\n\u001b[0;32m     41\u001b[0m             \u001b[0mself\u001b[0m\u001b[1;33m.\u001b[0m\u001b[0mstate\u001b[0m \u001b[1;33m=\u001b[0m \u001b[1;34m'closed'\u001b[0m\u001b[1;33m\u001b[0m\u001b[1;33m\u001b[0m\u001b[0m\n\u001b[0;32m     42\u001b[0m         \u001b[1;32melse\u001b[0m\u001b[1;33m:\u001b[0m\u001b[1;33m\u001b[0m\u001b[1;33m\u001b[0m\u001b[0m\n\u001b[1;32m---> 43\u001b[1;33m             \u001b[1;32mraise\u001b[0m \u001b[0mValueError\u001b[0m\u001b[1;33m(\u001b[0m\u001b[1;33m)\u001b[0m\u001b[1;33m\u001b[0m\u001b[1;33m\u001b[0m\u001b[0m\n\u001b[0m\u001b[0;32m     44\u001b[0m \u001b[1;33m\u001b[0m\u001b[0m\n\u001b[0;32m     45\u001b[0m \u001b[1;33m\u001b[0m\u001b[0m\n",
      "\u001b[1;31mValueError\u001b[0m: "
     ]
    }
   ],
   "source": [
    "order1.cancel()"
   ]
  },
  {
   "cell_type": "markdown",
   "metadata": {},
   "source": [
    "这样的代码非常冗长和重复，难以维护且难以修改，设想一下，假设在上面的基础上再增加一个状态，要连带修改不确定几处地方，做完这样的修改还需要相应修改所有的测试用例，累就不说了，关键是容易出错。\n",
    "\n",
    "有限状态机实际上是这些“八股”的通用实现，然后提供一个非常简洁的接口供我们使用。有兴趣的话可以自己尝试用 Python 写一个 *FSM* 的实现出来，只做最基本功能的话也不是很难，但我们实际上没必要自己写，Python 有不少 *FSM* 的第三方实现，比如 [transitions](https://github.com/pytransitions/transitions) 这个库，我们下面就用它来演示一下上面的流程如何用 *FSM* 实现。\n",
    "\n",
    "运行下面的例子之前需要在命令行界面运行 `pip install transitions` 来安装这个库。也可以在 *notebook* 里打开一个新的 *cell* 直接输入 `!pip install transitions`，和在命令行运行的效果是一样的。"
   ]
  },
  {
   "cell_type": "code",
   "execution_count": 168,
   "metadata": {},
   "outputs": [],
   "source": [
    "# 请在这里输入代码\n",
    "from transitions import Machine\n",
    "\n",
    "class Order:\n",
    "    # 定义状态集\n",
    "    states = ['created', 'paid', 'delivering', 'received', 'done', 'cancelling', 'returning', 'closed']\n",
    "    \n",
    "    def __init__(self, order_id):\n",
    "        self.order_id = order_id\n",
    "        \n",
    "        # 创建 FSM\n",
    "        # 定义初始状态\n",
    "        self.machine = Machine(model=self, states=Order.states, initial='created')\n",
    "        \n",
    "        # 定义状态转换函数\n",
    "        self.machine.add_transition(trigger='t_pay', source='created', dest='paid', before='payment_service')\n",
    "        self.machine.add_transition(trigger='t_deliver', source='paid', dest='delivering', after='notify_delivering')\n",
    "        self.machine.add_transition(trigger='t_receive', source='delivering', dest='received')\n",
    "        self.machine.add_transition(trigger='t_confirm', source='received', dest='done')\n",
    "        \n",
    "        self.machine.add_transition(trigger='t_cancel', source=['created', 'paid'], dest='cancelling')\n",
    "        self.machine.add_transition(trigger='t_return', source=['delivering', 'received'], dest='returning')\n",
    "        self.machine.add_transition(trigger='t_close', source=['cancelling', 'returning'], dest='closed')\n",
    "        \n",
    "    def payment_service(self):\n",
    "        print(\"支付服务申请中……\")\n",
    "        #调用远程接口完成支付，如果失败可抛出异常，对应的状态会终止，即不会转换到 paid 的状态\n",
    "        #return\n",
    "        \n",
    "    def notify_delivering(self):\n",
    "        # 通知用户已发货在途\n",
    "        print(\"已通知用户，商品配送中\")\n",
    "        #return"
   ]
  },
  {
   "cell_type": "code",
   "execution_count": 180,
   "metadata": {},
   "outputs": [],
   "source": [
    "order1 = Order(1)"
   ]
  },
  {
   "cell_type": "code",
   "execution_count": 181,
   "metadata": {},
   "outputs": [
    {
     "data": {
      "text/plain": [
       "'created'"
      ]
     },
     "execution_count": 181,
     "metadata": {},
     "output_type": "execute_result"
    }
   ],
   "source": [
    "order1.state"
   ]
  },
  {
   "cell_type": "code",
   "execution_count": 182,
   "metadata": {},
   "outputs": [
    {
     "ename": "MachineError",
     "evalue": "\"Can't trigger event t_receive from state created!\"",
     "output_type": "error",
     "traceback": [
      "\u001b[1;31m---------------------------------------------------------------------------\u001b[0m",
      "\u001b[1;31mMachineError\u001b[0m                              Traceback (most recent call last)",
      "\u001b[1;32mC:\\Users\\ADMINI~1\\AppData\\Local\\Temp/ipykernel_17156/886901550.py\u001b[0m in \u001b[0;36m<module>\u001b[1;34m\u001b[0m\n\u001b[1;32m----> 1\u001b[1;33m \u001b[0morder1\u001b[0m\u001b[1;33m.\u001b[0m\u001b[0mt_receive\u001b[0m\u001b[1;33m(\u001b[0m\u001b[1;33m)\u001b[0m\u001b[1;33m\u001b[0m\u001b[1;33m\u001b[0m\u001b[0m\n\u001b[0m",
      "\u001b[1;32md:\\program_files\\conda\\lib\\site-packages\\transitions\\core.py\u001b[0m in \u001b[0;36mtrigger\u001b[1;34m(self, model, *args, **kwargs)\u001b[0m\n\u001b[0;32m    399\u001b[0m         \u001b[1;31m# Machine._process should not be called somewhere else. That's why it should not be exposed\u001b[0m\u001b[1;33m\u001b[0m\u001b[1;33m\u001b[0m\u001b[1;33m\u001b[0m\u001b[0m\n\u001b[0;32m    400\u001b[0m         \u001b[1;31m# to Machine users.\u001b[0m\u001b[1;33m\u001b[0m\u001b[1;33m\u001b[0m\u001b[1;33m\u001b[0m\u001b[0m\n\u001b[1;32m--> 401\u001b[1;33m         \u001b[1;32mreturn\u001b[0m \u001b[0mself\u001b[0m\u001b[1;33m.\u001b[0m\u001b[0mmachine\u001b[0m\u001b[1;33m.\u001b[0m\u001b[0m_process\u001b[0m\u001b[1;33m(\u001b[0m\u001b[0mfunc\u001b[0m\u001b[1;33m)\u001b[0m\u001b[1;33m\u001b[0m\u001b[1;33m\u001b[0m\u001b[0m\n\u001b[0m\u001b[0;32m    402\u001b[0m \u001b[1;33m\u001b[0m\u001b[0m\n\u001b[0;32m    403\u001b[0m     \u001b[1;32mdef\u001b[0m \u001b[0m_trigger\u001b[0m\u001b[1;33m(\u001b[0m\u001b[0mself\u001b[0m\u001b[1;33m,\u001b[0m \u001b[0mmodel\u001b[0m\u001b[1;33m,\u001b[0m \u001b[1;33m*\u001b[0m\u001b[0margs\u001b[0m\u001b[1;33m,\u001b[0m \u001b[1;33m**\u001b[0m\u001b[0mkwargs\u001b[0m\u001b[1;33m)\u001b[0m\u001b[1;33m:\u001b[0m\u001b[1;33m\u001b[0m\u001b[1;33m\u001b[0m\u001b[0m\n",
      "\u001b[1;32md:\\program_files\\conda\\lib\\site-packages\\transitions\\core.py\u001b[0m in \u001b[0;36m_process\u001b[1;34m(self, trigger)\u001b[0m\n\u001b[0;32m   1186\u001b[0m             \u001b[1;32mif\u001b[0m \u001b[1;32mnot\u001b[0m \u001b[0mself\u001b[0m\u001b[1;33m.\u001b[0m\u001b[0m_transition_queue\u001b[0m\u001b[1;33m:\u001b[0m\u001b[1;33m\u001b[0m\u001b[1;33m\u001b[0m\u001b[0m\n\u001b[0;32m   1187\u001b[0m                 \u001b[1;31m# if trigger raises an Error, it has to be handled by the Machine.process caller\u001b[0m\u001b[1;33m\u001b[0m\u001b[1;33m\u001b[0m\u001b[1;33m\u001b[0m\u001b[0m\n\u001b[1;32m-> 1188\u001b[1;33m                 \u001b[1;32mreturn\u001b[0m \u001b[0mtrigger\u001b[0m\u001b[1;33m(\u001b[0m\u001b[1;33m)\u001b[0m\u001b[1;33m\u001b[0m\u001b[1;33m\u001b[0m\u001b[0m\n\u001b[0m\u001b[0;32m   1189\u001b[0m             \u001b[1;32melse\u001b[0m\u001b[1;33m:\u001b[0m\u001b[1;33m\u001b[0m\u001b[1;33m\u001b[0m\u001b[0m\n\u001b[0;32m   1190\u001b[0m                 \u001b[1;32mraise\u001b[0m \u001b[0mMachineError\u001b[0m\u001b[1;33m(\u001b[0m\u001b[1;34m\"Attempt to process events synchronously while transition queue is not empty!\"\u001b[0m\u001b[1;33m)\u001b[0m\u001b[1;33m\u001b[0m\u001b[1;33m\u001b[0m\u001b[0m\n",
      "\u001b[1;32md:\\program_files\\conda\\lib\\site-packages\\transitions\\core.py\u001b[0m in \u001b[0;36m_trigger\u001b[1;34m(self, model, *args, **kwargs)\u001b[0m\n\u001b[0;32m    422\u001b[0m                 \u001b[1;32mreturn\u001b[0m \u001b[1;32mFalse\u001b[0m\u001b[1;33m\u001b[0m\u001b[1;33m\u001b[0m\u001b[0m\n\u001b[0;32m    423\u001b[0m             \u001b[1;32melse\u001b[0m\u001b[1;33m:\u001b[0m\u001b[1;33m\u001b[0m\u001b[1;33m\u001b[0m\u001b[0m\n\u001b[1;32m--> 424\u001b[1;33m                 \u001b[1;32mraise\u001b[0m \u001b[0mMachineError\u001b[0m\u001b[1;33m(\u001b[0m\u001b[0mmsg\u001b[0m\u001b[1;33m)\u001b[0m\u001b[1;33m\u001b[0m\u001b[1;33m\u001b[0m\u001b[0m\n\u001b[0m\u001b[0;32m    425\u001b[0m         \u001b[0mevent_data\u001b[0m \u001b[1;33m=\u001b[0m \u001b[0mEventData\u001b[0m\u001b[1;33m(\u001b[0m\u001b[0mstate\u001b[0m\u001b[1;33m,\u001b[0m \u001b[0mself\u001b[0m\u001b[1;33m,\u001b[0m \u001b[0mself\u001b[0m\u001b[1;33m.\u001b[0m\u001b[0mmachine\u001b[0m\u001b[1;33m,\u001b[0m \u001b[0mmodel\u001b[0m\u001b[1;33m,\u001b[0m \u001b[0margs\u001b[0m\u001b[1;33m=\u001b[0m\u001b[0margs\u001b[0m\u001b[1;33m,\u001b[0m \u001b[0mkwargs\u001b[0m\u001b[1;33m=\u001b[0m\u001b[0mkwargs\u001b[0m\u001b[1;33m)\u001b[0m\u001b[1;33m\u001b[0m\u001b[1;33m\u001b[0m\u001b[0m\n\u001b[0;32m    426\u001b[0m         \u001b[1;32mreturn\u001b[0m \u001b[0mself\u001b[0m\u001b[1;33m.\u001b[0m\u001b[0m_process\u001b[0m\u001b[1;33m(\u001b[0m\u001b[0mevent_data\u001b[0m\u001b[1;33m)\u001b[0m\u001b[1;33m\u001b[0m\u001b[1;33m\u001b[0m\u001b[0m\n",
      "\u001b[1;31mMachineError\u001b[0m: \"Can't trigger event t_receive from state created!\""
     ]
    }
   ],
   "source": [
    "order1.t_receive()"
   ]
  },
  {
   "cell_type": "code",
   "execution_count": 183,
   "metadata": {},
   "outputs": [
    {
     "name": "stdout",
     "output_type": "stream",
     "text": [
      "支付服务申请中……\n",
      "True\n"
     ]
    }
   ],
   "source": [
    "print(order1.t_pay())"
   ]
  },
  {
   "cell_type": "code",
   "execution_count": 184,
   "metadata": {},
   "outputs": [
    {
     "data": {
      "text/plain": [
       "'paid'"
      ]
     },
     "execution_count": 184,
     "metadata": {},
     "output_type": "execute_result"
    }
   ],
   "source": [
    "order1.state"
   ]
  },
  {
   "cell_type": "code",
   "execution_count": 185,
   "metadata": {},
   "outputs": [
    {
     "name": "stdout",
     "output_type": "stream",
     "text": [
      "已通知用户，商品配送中\n",
      "True\n"
     ]
    }
   ],
   "source": [
    "print(order1.t_deliver())"
   ]
  },
  {
   "cell_type": "code",
   "execution_count": 186,
   "metadata": {},
   "outputs": [
    {
     "data": {
      "text/plain": [
       "'delivering'"
      ]
     },
     "execution_count": 186,
     "metadata": {},
     "output_type": "execute_result"
    }
   ],
   "source": [
    "order1.state"
   ]
  },
  {
   "cell_type": "code",
   "execution_count": 187,
   "metadata": {},
   "outputs": [
    {
     "data": {
      "text/plain": [
       "True"
      ]
     },
     "execution_count": 187,
     "metadata": {},
     "output_type": "execute_result"
    }
   ],
   "source": [
    "order1.t_receive()"
   ]
  },
  {
   "cell_type": "code",
   "execution_count": 188,
   "metadata": {},
   "outputs": [
    {
     "data": {
      "text/plain": [
       "'received'"
      ]
     },
     "execution_count": 188,
     "metadata": {},
     "output_type": "execute_result"
    }
   ],
   "source": [
    "order1.state"
   ]
  },
  {
   "cell_type": "code",
   "execution_count": 189,
   "metadata": {},
   "outputs": [
    {
     "data": {
      "text/plain": [
       "True"
      ]
     },
     "execution_count": 189,
     "metadata": {},
     "output_type": "execute_result"
    }
   ],
   "source": [
    "order1.t_confirm()"
   ]
  },
  {
   "cell_type": "code",
   "execution_count": 190,
   "metadata": {},
   "outputs": [
    {
     "data": {
      "text/plain": [
       "'done'"
      ]
     },
     "execution_count": 190,
     "metadata": {},
     "output_type": "execute_result"
    }
   ],
   "source": [
    "order1.state"
   ]
  },
  {
   "cell_type": "markdown",
   "metadata": {},
   "source": [
    "除了具体业务执行的代码，上面基本上完整实现了流程控制的部分，值得注意的是，借助 *FSM* 的实现，不仅简洁易懂，而且易于维护，假定我们需要对流程规则进行修改，或者在某些状态转换的前后添加一些操作，我们通常都只需要修改一处代码，而不用到处找哪里还要改。\n",
    "\n",
    "顺便说一下， [transitions](https://github.com/pytransitions/transitions) 这个库还有不少强大的功能，有兴趣可以自行发掘下。"
   ]
  },
  {
   "cell_type": "code",
   "execution_count": null,
   "metadata": {},
   "outputs": [],
   "source": []
  },
  {
   "cell_type": "markdown",
   "metadata": {},
   "source": [
    "## 小结"
   ]
  },
  {
   "cell_type": "markdown",
   "metadata": {},
   "source": [
    "本章介绍了重要的数据模型“有限状态机（*FSM*）”，需要理解其背后的现实世界模型、具体应用及其带来的好处。\n",
    "* *FSM* 是对程序中一组的状态进行管理的工具；\n",
    "* *FSM* 能够精简程序里的逻辑判断，我们只需要陈述规则，*FSM* 自动管理什么可以什么不可以；\n",
    "* 尝试体会和理解 *FSM* 背后的抽象思维方式，如何从特定问题中抽象出可以普遍应用的通用工具。"
   ]
  }
 ],
 "metadata": {
  "kernelspec": {
   "display_name": "Python 3 (ipykernel)",
   "language": "python",
   "name": "python3"
  },
  "language_info": {
   "codemirror_mode": {
    "name": "ipython",
    "version": 3
   },
   "file_extension": ".py",
   "mimetype": "text/x-python",
   "name": "python",
   "nbconvert_exporter": "python",
   "pygments_lexer": "ipython3",
   "version": "3.9.12"
  },
  "toc": {
   "base_numbering": 1,
   "nav_menu": {},
   "number_sections": true,
   "sideBar": true,
   "skip_h1_title": false,
   "title_cell": "Table of Contents",
   "title_sidebar": "Contents",
   "toc_cell": false,
   "toc_position": {},
   "toc_section_display": true,
   "toc_window_display": false
  }
 },
 "nbformat": 4,
 "nbformat_minor": 4
}
