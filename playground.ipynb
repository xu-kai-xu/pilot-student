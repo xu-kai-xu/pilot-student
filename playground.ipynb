{
 "cells": [
  {
   "cell_type": "markdown",
   "id": "7d2ea13b",
   "metadata": {},
   "source": [
    "# 课程练习 聊天机器人\n",
    "\n",
    "## 理解问题和初步探索"
   ]
  },
  {
   "cell_type": "markdown",
   "id": "dc7c56cc",
   "metadata": {},
   "source": [
    "对话系统\n",
    "\n",
    "prologue 一门编程语言。做对话系统。\n",
    "\n",
    "计算机主动发问，可以把讨论的范围限定在指定的范围之内。"
   ]
  },
  {
   "cell_type": "code",
   "execution_count": null,
   "id": "a7f78999",
   "metadata": {},
   "outputs": [],
   "source": [
    "print(\"What's your name?\\n你叫什么名字呀？\")\n",
    "name = input()\n",
    "print(f\"Hello, {name}!\")\n",
    "# 一轮对话。"
   ]
  },
  {
   "cell_type": "markdown",
   "id": "b584985d",
   "metadata": {},
   "source": [
    "文本情感分析。"
   ]
  },
  {
   "cell_type": "code",
   "execution_count": null,
   "id": "13d38106",
   "metadata": {},
   "outputs": [],
   "source": [
    "import re\n",
    "\n",
    "print(\"How are you today?\\n你今天怎么样呀？\")\n",
    "feeling = input()\n",
    "feeling = feeling.lower()\n",
    "test = re.search('goo+d', feeling) or \\\n",
    "        re.search('nice', feeling) or \\\n",
    "        re.search('excellent', feeling)\n",
    "if test:\n",
    "    print(\"I am feeling good, too!\")\n",
    "else:\n",
    "    print(\"Sorry to hear that.\")"
   ]
  },
  {
   "cell_type": "code",
   "execution_count": null,
   "id": "aa34e700",
   "metadata": {},
   "outputs": [],
   "source": [
    "feeling = 'good'\n",
    "a = re.search(r'goo+d', feeling)\n",
    "a"
   ]
  },
  {
   "cell_type": "code",
   "execution_count": null,
   "id": "4119bbf0",
   "metadata": {},
   "outputs": [],
   "source": [
    "import random\n",
    "\n",
    "print(\"What's your favorite color?\")\n",
    "favcolor = input()\n",
    "\n",
    "colors = ['red', 'orange', 'yellow', 'green', 'blue', 'indigo', 'purple']\n",
    "print(f\"You like {favcolor}? Tha's greet color. My favorite color is {random.choice(colors)}\")"
   ]
  },
  {
   "cell_type": "markdown",
   "id": "263957cf",
   "metadata": {},
   "source": [
    "## 初步设计和责任分离\n",
    "\n",
    "把一轮对话写成一个类。"
   ]
  },
  {
   "cell_type": "code",
   "execution_count": null,
   "id": "24659aae",
   "metadata": {},
   "outputs": [],
   "source": [
    "class Hello:\n",
    "    def run(self):\n",
    "        print(\"What's your name?\")\n",
    "        name = input()\n",
    "        print(f\"Hello, {name}\")\n",
    "        \n",
    "a = Hello()\n",
    "a.run()"
   ]
  },
  {
   "cell_type": "code",
   "execution_count": null,
   "id": "a7f6c3ff",
   "metadata": {},
   "outputs": [],
   "source": [
    "import re\n",
    "\n",
    "class Greeting:\n",
    "    def run(self):\n",
    "        print(\"How are you today?\\n你今天怎么样呀？\")\n",
    "        feeling = input().lower()\n",
    "        test = re.search('goo+d', feeling) or \\\n",
    "               re.search('nice', feeling) or \\\n",
    "               re.search('excellent', feeling)\n",
    "        if test:\n",
    "            print(\"I am feeling good, too!\")\n",
    "        else:\n",
    "            print(\"Sorry to hear that.\")\n",
    "\n",
    "g = Greeting()\n",
    "g.run()"
   ]
  },
  {
   "cell_type": "markdown",
   "id": "14f208ba",
   "metadata": {},
   "source": [
    "抽象出基类 bot。"
   ]
  },
  {
   "cell_type": "code",
   "execution_count": 1,
   "id": "92e9cf38",
   "metadata": {},
   "outputs": [],
   "source": [
    "class Bot:\n",
    "    \n",
    "    def __init__(self):\n",
    "        self.q = ''\n",
    "        #self.a = ''\n",
    "    \n",
    "    def _think(self, s):\n",
    "        return s\n",
    "    \n",
    "    def run(self):\n",
    "        print(self.q)\n",
    "        self.a = input()\n",
    "        print(self._think(self.a))"
   ]
  },
  {
   "cell_type": "code",
   "execution_count": null,
   "id": "e5a8eb9c",
   "metadata": {},
   "outputs": [],
   "source": [
    "class HelloBot(Bot):\n",
    "    \n",
    "    def __init__(self):\n",
    "        self.q = \"Hi, what's your name?\"\n",
    "        \n",
    "    def _think(self, s):\n",
    "        return(f\"Hello, {s}!\")\n",
    "\n",
    "    \n",
    "h = HelloBot()\n",
    "h.run()"
   ]
  },
  {
   "cell_type": "code",
   "execution_count": null,
   "id": "7d49112c",
   "metadata": {},
   "outputs": [],
   "source": [
    "class GreetingBot(Bot):\n",
    "   \n",
    "    def __init__(self):\n",
    "        self.q = \"How are you today?\\n你今天怎么样呀？\"\n",
    " \n",
    "    def _think(self, s):\n",
    "        feeling = s.lower()\n",
    "        test = re.search('goo+d', feeling) or \\\n",
    "               re.search('nice', feeling) or \\\n",
    "               re.search('excellent', feeling)\n",
    "        if test:\n",
    "            return(\"I am feeling good, too!\")\n",
    "        else:\n",
    "            return(\"Sorry to hear that.\")\n",
    "\n",
    "g = GreetingBot()\n",
    "g.run()"
   ]
  },
  {
   "cell_type": "markdown",
   "id": "71137b6e",
   "metadata": {},
   "source": [
    "separation of concerns\n",
    "\n",
    "概念分离"
   ]
  },
  {
   "cell_type": "code",
   "execution_count": null,
   "id": "50672652",
   "metadata": {},
   "outputs": [],
   "source": [
    "print(\"What's your favorite color?\")\n",
    "favcolor = input()\n",
    "\n",
    "colors = ['red', 'orange', 'yellow', 'green', 'blue', 'indigo', 'purple']\n",
    "print(f\"You like {favcolor}? Tha's greet color. My favorite color is {random.choice(colors)}\")"
   ]
  },
  {
   "cell_type": "code",
   "execution_count": 4,
   "id": "4b712765",
   "metadata": {},
   "outputs": [
    {
     "name": "stdout",
     "output_type": "stream",
     "text": [
      "What is your favorite color？\n",
      "black\n",
      "You like black? Tha's great color. My favorite color is purple\n"
     ]
    }
   ],
   "source": [
    "import random\n",
    "\n",
    "class FavoriteColorBot(Bot):\n",
    "   \n",
    "    def __init__(self):\n",
    "        self.q = \"What is your favorite color？\"\n",
    " \n",
    "    def _think(self, s):\n",
    "        colors = ['red', 'orange', 'yellow', 'green', 'blue', 'indigo', 'purple']\n",
    "        return (f\"You like {s}? Tha's great color. My favorite color is {random.choice(colors)}\")\n",
    "    \n",
    "f = FavoriteColorBot()\n",
    "f.run()"
   ]
  },
  {
   "cell_type": "markdown",
   "id": "55b84aea",
   "metadata": {},
   "source": [
    "## 系统组装"
   ]
  },
  {
   "cell_type": "markdown",
   "id": "029e13d4",
   "metadata": {},
   "source": [
    "关于模仿人对话思考过程，采用 random 函数，随机停止一定的时间。不过这都是后话。是细枝末节。"
   ]
  },
  {
   "cell_type": "markdown",
   "id": "6b21b0f0",
   "metadata": {},
   "source": [
    "1. 重复的东西看起来很不爽。\n",
    "2. 不喜欢突然出现的数字，看不懂的数字。"
   ]
  },
  {
   "cell_type": "code",
   "execution_count": null,
   "id": "6c9511fb",
   "metadata": {
    "scrolled": false
   },
   "outputs": [
    {
     "name": "stdout",
     "output_type": "stream",
     "text": [
      "q\n"
     ]
    }
   ],
   "source": [
    "import random\n",
    "import re\n",
    "import time\n",
    "\n",
    "class Bot:\n",
    "    \n",
    "    wait = 1\n",
    "    \n",
    "    def __init__(self):\n",
    "        self.q = ''\n",
    "        #self.a = ''\n",
    "    \n",
    "    def _think(self, s):\n",
    "        return s\n",
    "    \n",
    "    def _say(self, s):\n",
    "        #time.sleep(wait)  # NameError: name 'wait' is not defined\n",
    "        time.sleep(Bot.wait)  \n",
    "        #print(s)\n",
    "        return s\n",
    "    \n",
    "    def run(self):\n",
    "        self._say(self.q)\n",
    "        self.a = input()\n",
    "        self._say(self._think(self.a))\n",
    "        \n",
    "class HelloBot(Bot):\n",
    "    \n",
    "    def __init__(self):\n",
    "        self.q = \"Hi, what's your name?\"\n",
    "        \n",
    "    def _think(self, s):\n",
    "        return(f\"Hello, {s}!\")\n",
    "\n",
    "\n",
    "class GreetingBot(Bot):\n",
    "   \n",
    "    def __init__(self):\n",
    "        self.q = \"How are you today?\\n你今天怎么样呀？\"\n",
    " \n",
    "    def _think(self, s):\n",
    "        feeling = s.lower()\n",
    "        test = re.search('goo+d', feeling) or \\\n",
    "               re.search('nice', feeling) or \\\n",
    "               re.search('excellent', feeling)\n",
    "        if test:\n",
    "            return(\"I am feeling good, too!\")\n",
    "        else:\n",
    "            return(\"Sorry to hear that.\")\n",
    "\n",
    "\n",
    "class FavoriteColorBot(Bot):\n",
    "   \n",
    "    def __init__(self):\n",
    "        self.q = \"What is your favorite color？\"\n",
    " \n",
    "    def _think(self, s):\n",
    "        colors = ['red', 'orange', 'yellow', 'green', 'blue', 'indigo', 'purple']\n",
    "        return (f\"You like {s}? Tha's great color. My favorite color is {random.choice(colors)}.\")\n",
    "    \n",
    "    \n",
    "h = HelloBot()\n",
    "g = GreetingBot()\n",
    "f = FavoriteColorBot()\n",
    "h.run() \n",
    "g.run()\n",
    "f.run()"
   ]
  },
  {
   "cell_type": "code",
   "execution_count": 3,
   "id": "ad164c5f",
   "metadata": {},
   "outputs": [
    {
     "data": {
      "text/plain": [
       "'How are you today?'"
      ]
     },
     "execution_count": 3,
     "metadata": {},
     "output_type": "execute_result"
    }
   ],
   "source": [
    "q = 'How are you today?'\n",
    "def say(s):\n",
    "    #return s\n",
    "    print(s)\n",
    "\n",
    "def run(a):\n",
    "    return say(a)\n",
    "\n",
    "run(q)"
   ]
  },
  {
   "cell_type": "code",
   "execution_count": 4,
   "id": "9d5fb241",
   "metadata": {},
   "outputs": [
    {
     "data": {
      "text/plain": [
       "'How are you today?'"
      ]
     },
     "execution_count": 4,
     "metadata": {},
     "output_type": "execute_result"
    }
   ],
   "source": [
    "q = 'How are you today?'\n",
    "def say(s):\n",
    "    return s\n",
    "\n",
    "say(q)"
   ]
  },
  {
   "cell_type": "code",
   "execution_count": 6,
   "id": "04c7d583",
   "metadata": {},
   "outputs": [
    {
     "data": {
      "text/plain": [
       "3"
      ]
     },
     "execution_count": 6,
     "metadata": {},
     "output_type": "execute_result"
    }
   ],
   "source": [
    "def a(b, c):\n",
    "    d = b + c\n",
    "    return d\n",
    "\n",
    "a(1, 2)"
   ]
  },
  {
   "cell_type": "markdown",
   "id": "f2a4bbf8",
   "metadata": {},
   "source": [
    "下一步构造对话系统"
   ]
  },
  {
   "cell_type": "code",
   "execution_count": 2,
   "id": "5bc12348",
   "metadata": {},
   "outputs": [],
   "source": [
    "class Garfield:\n",
    "    \n",
    "    def __init__(self):\n",
    "        self.bots = []\n",
    "    \n",
    "    def add(self, bot):\n",
    "        self.bots.append(bot)\n",
    "    \n",
    "    def run(self):\n",
    "        print(\"Welcome to Garfield dialog system. Let's Talk!\\n\")\n",
    "        \n",
    "        for bot in self. bots:\n",
    "            bot.run()"
   ]
  },
  {
   "cell_type": "code",
   "execution_count": 3,
   "id": "e8a016fe",
   "metadata": {},
   "outputs": [
    {
     "name": "stdout",
     "output_type": "stream",
     "text": [
      "Welcome to Garfield dialog system. Let's Talk!\n",
      "\n",
      "Hi, what's your name?\n",
      "xukkkkkkkkkk\n",
      "Hello, xukkkkkkkkkk!\n",
      "How are you today?\n",
      "你今天怎么样呀？\n",
      "nice\n",
      "I am feeling good, too!\n",
      "What is your favorite color？\n",
      "dark\n",
      "You like dark? Tha's great color. My favorite color is orange.\n"
     ]
    }
   ],
   "source": [
    "garfield = Garfield()\n",
    "garfield.add(HelloBot())\n",
    "garfield.add(GreetingBot())\n",
    "garfield.add(FavoriteColorBot())\n",
    "garfield.run()"
   ]
  },
  {
   "cell_type": "markdown",
   "id": "94b227e9",
   "metadata": {},
   "source": [
    "## 增量式改进"
   ]
  },
  {
   "cell_type": "markdown",
   "id": "e4b234bc",
   "metadata": {},
   "source": [
    "### 给文字上颜色\n",
    "\n",
    "99%，或绝大部分你能想象到的需求都有现成的解决方式。\n",
    "\n",
    "`termcolor` 库。"
   ]
  },
  {
   "cell_type": "code",
   "execution_count": null,
   "id": "00f2f661",
   "metadata": {},
   "outputs": [],
   "source": [
    "## bot.py\n",
    "import random\n",
    "import re\n",
    "import time\n",
    "from termcolor import colored\n",
    "\n",
    "class Bot:\n",
    "    \n",
    "    wait = 1\n",
    "    \n",
    "    def __init__(self):\n",
    "        self.q = ''\n",
    "        #self.a = ''\n",
    "    \n",
    "    def _think(self, s):\n",
    "        return s\n",
    "    \n",
    "    def _say(self, s):\n",
    "        #time.sleep(wait)  # NameError: name 'wait' is not defined\n",
    "        time.sleep(Bot.wait)  \n",
    "        print(colored(s, 'blue'))\n",
    "        #return s\n",
    "    \n",
    "    def run(self):\n",
    "        self._say(self.q)\n",
    "        self.a = input()\n",
    "        self._say(self._think(self.a))\n",
    "        \n",
    "class HelloBot(Bot):\n",
    "    \n",
    "    def __init__(self):\n",
    "        self.q = \"Hi, what's your name?\"\n",
    "        \n",
    "    def _think(self, s):\n",
    "        return(f\"Hello, {s}!\")\n",
    "\n",
    "\n",
    "class GreetingBot(Bot):\n",
    "   \n",
    "    def __init__(self):\n",
    "        self.q = \"How are you today?\\n你今天怎么样呀？\"\n",
    " \n",
    "    def _think(self, s):\n",
    "        feeling = s.lower()\n",
    "        test = re.search('goo+d', feeling) or \\\n",
    "               re.search('nice', feeling) or \\\n",
    "               re.search('excellent', feeling)\n",
    "        if test:\n",
    "            return(\"I am feeling good, too!\")\n",
    "        else:\n",
    "            return(\"Sorry to hear that.\")\n",
    "\n",
    "\n",
    "class FavoriteColorBot(Bot):\n",
    "   \n",
    "    def __init__(self):\n",
    "        self.q = \"What is your favorite color？\"\n",
    " \n",
    "    def _think(self, s):\n",
    "        colors = ['red', 'orange', 'yellow', 'green', 'blue', 'indigo', 'purple']\n",
    "        return (f\"You like {s}? Tha's great color. My favorite color is {random.choice(colors)}.\")\n",
    "    \n",
    "\n",
    "if __name__ == '__main__': \n",
    "    h = HelloBot()\n",
    "    g = GreetingBot()\n",
    "    f = FavoriteColorBot()\n",
    "    \n",
    "    h.run() \n",
    "    g.run()\n",
    "    f.run()"
   ]
  },
  {
   "cell_type": "code",
   "execution_count": null,
   "id": "a08996c8",
   "metadata": {},
   "outputs": [],
   "source": [
    "## garfield.py\n",
    "from bot import *\n",
    "\n",
    "class Garfield:\n",
    "    \n",
    "    def __init__(self):\n",
    "        self.bots = []\n",
    "    \n",
    "    def add(self, bot):\n",
    "        self.bots.append(bot)\n",
    "    \n",
    "    def run(self):\n",
    "        print(\"Welcome to Garfield dialog system. Let's Talk!\\n\")\n",
    "        \n",
    "        for bot in self. bots:\n",
    "            bot.run()\n",
    "\n",
    "if __name__ == '__main__':\n",
    "    garfield = Garfield()\n",
    "    garfield.add(HelloBot())\n",
    "    garfield.add(GreetingBot())\n",
    "    garfield.add(CalcBot())\n",
    "    garfield.add(FavoriteColorBot())\n",
    "    garfield.run()\n",
    "\n"
   ]
  },
  {
   "cell_type": "markdown",
   "id": "1ca19d2c",
   "metadata": {},
   "source": [
    "### 增加一个新的机器人\n",
    "\n",
    "能够计算表达式值的机器人。\n",
    "\n"
   ]
  },
  {
   "cell_type": "code",
   "execution_count": 4,
   "id": "d86ebbf0",
   "metadata": {},
   "outputs": [
    {
     "name": "stdout",
     "output_type": "stream",
     "text": [
      "\u001b[34mHi, what's your name?\u001b[0m\n",
      "xu\n",
      "\u001b[34mHello, xu!\u001b[0m\n",
      "\u001b[34mHow are you today?\n",
      "你今天怎么样呀？\u001b[0m\n",
      "gooooooooooooood\n",
      "\u001b[34mI am feeling good, too!\u001b[0m\n",
      "\u001b[34mWhat is your favorite color？\u001b[0m\n",
      "red\n",
      "\u001b[34mYou like red? Tha's great color. My favorite color is blue.\u001b[0m\n"
     ]
    }
   ],
   "source": [
    "## bot.py\n",
    "import random\n",
    "import re\n",
    "import time\n",
    "from termcolor import colored\n",
    "from simpleeval import simple_eval\n",
    "\n",
    "class Bot:\n",
    "    \n",
    "    wait = 1\n",
    "    \n",
    "    def __init__(self):\n",
    "        self.q = ''\n",
    "        #self.a = ''\n",
    "    \n",
    "    def _think(self, s):\n",
    "        return s\n",
    "    \n",
    "    def _say(self, s):\n",
    "        #time.sleep(wait)  # NameError: name 'wait' is not defined\n",
    "        time.sleep(Bot.wait)  \n",
    "        print(colored(s, 'blue'))\n",
    "        #return s\n",
    "    \n",
    "    def run(self):\n",
    "        self._say(self.q)\n",
    "        self.a = input()\n",
    "        self._say(self._think(self.a))\n",
    "        \n",
    "class HelloBot(Bot):\n",
    "    \n",
    "    def __init__(self):\n",
    "        self.q = \"Hi, what's your name?\"\n",
    "        \n",
    "    def _think(self, s):\n",
    "        return(f\"Hello, {s}!\")\n",
    "\n",
    "\n",
    "class GreetingBot(Bot):\n",
    "   \n",
    "    def __init__(self):\n",
    "        self.q = \"How are you today?\\n你今天怎么样呀？\"\n",
    " \n",
    "    def _think(self, s):\n",
    "        feeling = s.lower()\n",
    "        test = re.search('goo+d', feeling) or \\\n",
    "               re.search('nice', feeling) or \\\n",
    "               re.search('excellent', feeling)\n",
    "        if test:\n",
    "            return(\"I am feeling good, too!\")\n",
    "        else:\n",
    "            return(\"Sorry to hear that.\")\n",
    "\n",
    "\n",
    "class FavoriteColorBot(Bot):\n",
    "   \n",
    "    def __init__(self):\n",
    "        self.q = \"What is your favorite color？\"\n",
    " \n",
    "    def _think(self, s):\n",
    "        colors = ['red', 'orange', 'yellow', 'green', 'blue', 'indigo', 'purple']\n",
    "        return (f\"You like {s}? Tha's great color. My favorite color is {random.choice(colors)}.\")\n",
    "\n",
    "    \n",
    "class CalcBot(Bot):\n",
    "    \n",
    "    def __init__(self):\n",
    "        self.q = 'Through recent upgrade, I can do calculation now. Input some arithmetic expression to try.'\n",
    "    \n",
    "    def _think(self, s):\n",
    "        result = simple_eval(s)\n",
    "        return f\"Done. Result = {result}\"\n",
    "        \n",
    "\n",
    "    \n",
    "if __name__ == '__main__': \n",
    "    h = HelloBot()\n",
    "    g = GreetingBot()\n",
    "    f = FavoriteColorBot()\n",
    "    \n",
    "    h.run() \n",
    "    g.run()\n",
    "    f.run()"
   ]
  },
  {
   "cell_type": "markdown",
   "id": "d4261b9e",
   "metadata": {},
   "source": [
    "> 怎么实现一个四则运算表达式求值，实现一个计算器。"
   ]
  },
  {
   "cell_type": "markdown",
   "id": "474bdc9f",
   "metadata": {},
   "source": [
    "### 表达式更改为循环结构"
   ]
  },
  {
   "cell_type": "markdown",
   "id": "407c9113",
   "metadata": {},
   "source": [
    "1. 在 `CalcBot` 里面重写一个新的 `run` 的方法。"
   ]
  },
  {
   "cell_type": "code",
   "execution_count": 6,
   "id": "2a11be7f",
   "metadata": {},
   "outputs": [
    {
     "name": "stdout",
     "output_type": "stream",
     "text": [
      "\u001b[34m\n",
      "        Through recent upgrade, I can do calculation now. Input some arithmetic expression to try.\n",
      "        Type 'exit', 'quit', 'x', or 'q' to exit.\n",
      "        \u001b[0m\n",
      "x\n"
     ]
    }
   ],
   "source": [
    "## bot.py\n",
    "import random\n",
    "import re\n",
    "import time\n",
    "from termcolor import colored\n",
    "from simpleeval import simple_eval\n",
    "\n",
    "class Bot:\n",
    "    \n",
    "    wait = 1\n",
    "    \n",
    "    def __init__(self):\n",
    "        self.q = ''\n",
    "        #self.a = ''\n",
    "    \n",
    "    def _think(self, s):\n",
    "        return s\n",
    "    \n",
    "    def _say(self, s):\n",
    "        #time.sleep(wait)  # NameError: name 'wait' is not defined\n",
    "        time.sleep(Bot.wait)  \n",
    "        print(colored(s, 'blue'))\n",
    "        #return s\n",
    "    \n",
    "    def run(self):\n",
    "        self._say(self.q)\n",
    "        self.a = input()\n",
    "        self._say(self._think(self.a))\n",
    "        \n",
    "class HelloBot(Bot):\n",
    "    \n",
    "    def __init__(self):\n",
    "        self.q = \"Hi, what's your name?\"\n",
    "        \n",
    "    def _think(self, s):\n",
    "        return(f\"Hello, {s}!\")\n",
    "\n",
    "\n",
    "class GreetingBot(Bot):\n",
    "   \n",
    "    def __init__(self):\n",
    "        self.q = \"How are you today?\\n你今天怎么样呀？\"\n",
    " \n",
    "    def _think(self, s):\n",
    "        feeling = s.lower()\n",
    "        test = re.search('goo+d', feeling) or \\\n",
    "               re.search('nice', feeling) or \\\n",
    "               re.search('excellent', feeling)\n",
    "        if test:\n",
    "            return(\"I am feeling good, too!\")\n",
    "        else:\n",
    "            return(\"Sorry to hear that.\")\n",
    "\n",
    "\n",
    "class FavoriteColorBot(Bot):\n",
    "   \n",
    "    def __init__(self):\n",
    "        self.q = \"What is your favorite color？\"\n",
    " \n",
    "    def _think(self, s):\n",
    "        colors = ['red', 'orange', 'yellow', 'green', 'blue', 'indigo', 'purple']\n",
    "        return (f\"You like {s}? Tha's great color. My favorite color is {random.choice(colors)}.\")\n",
    "\n",
    "    \n",
    "class CalcBot(Bot):\n",
    "    \n",
    "    def __init__(self):\n",
    "        self.q = \"\"\"Through recent upgrade, I can do calculation now. Input some arithmetic expression to try.\\nType 'exit', 'quit', 'x', or 'q' to exit.\"\"\"\n",
    "    \n",
    "    def _think(self, s):\n",
    "        result = simple_eval(s)\n",
    "        return f\"Done. Result = {result}\"\n",
    "    \n",
    "    def run(self):\n",
    "        self._say(self.q)\n",
    "        while True:\n",
    "            self.a = input()\n",
    "            if self.a.lower() in ['q', 'x', 'exit', 'quit']:\n",
    "                break\n",
    "            self._say(self._think(self.a))\n",
    "\n",
    "            \n",
    "if __name__ == '__main__': \n",
    "#     h = HelloBot()\n",
    "#     g = GreetingBot()\n",
    "#     f = FavoriteColorBot()\n",
    "    c = CalcBot()\n",
    "    \n",
    "#     h.run() \n",
    "#     g.run()\n",
    "#     f.run()\n",
    "    c.run()"
   ]
  },
  {
   "cell_type": "code",
   "execution_count": 4,
   "id": "92b32680",
   "metadata": {},
   "outputs": [
    {
     "name": "stdout",
     "output_type": "stream",
     "text": [
      "Welcome to Garfield dialog system. Let's Talk!\n",
      "\n",
      "\u001b[34mHi, what's your name?\u001b[0m\n",
      "xukkkkkkkkkkkk\n",
      "\u001b[34mHello, xukkkkkkkkkkkk!\u001b[0m\n",
      "\u001b[34mHow are you today?\n",
      "你今天怎么样呀？\u001b[0m\n",
      "nice\n",
      "\u001b[34mI am feeling good, too!\u001b[0m\n",
      "\u001b[34mThrough recent upgrade, I can do calculation now. Input some arithmetic expression to try.\u001b[0m\n",
      "4*7+456/8954-7485+456\n",
      "\u001b[34mDone. Result = -7000.949073039982\u001b[0m\n",
      "\u001b[34mWhat is your favorite color？\u001b[0m\n",
      "dark\n",
      "\u001b[34mYou like dark? Tha's great color. My favorite color is blue.\u001b[0m\n"
     ]
    }
   ],
   "source": [
    "## garfield.py\n",
    "from bot import *\n",
    "\n",
    "class Garfield:\n",
    "    \n",
    "    def __init__(self):\n",
    "        self.bots = []\n",
    "    \n",
    "    def add(self, bot):\n",
    "        self.bots.append(bot)\n",
    "    \n",
    "    def run(self):\n",
    "        print(\"Welcome to Garfield dialog system. Let's Talk!\\n\")\n",
    "        \n",
    "        for bot in self. bots:\n",
    "            bot.run()\n",
    "\n",
    "if __name__ == '__main__':\n",
    "    garfield = Garfield()\n",
    "    garfield.add(HelloBot())\n",
    "    garfield.add(GreetingBot())\n",
    "    garfield.add(CalcBot())\n",
    "    garfield.add(FavoriteColorBot())\n",
    "    garfield.run()"
   ]
  },
  {
   "cell_type": "markdown",
   "id": "fc1a6d9c",
   "metadata": {},
   "source": [
    "2. 把这种循环结构的功能添加到 `Bot` 父类中。得到两种不同的 `run` 模式。"
   ]
  },
  {
   "cell_type": "code",
   "execution_count": 2,
   "id": "1e1880d6",
   "metadata": {},
   "outputs": [
    {
     "name": "stdout",
     "output_type": "stream",
     "text": [
      "\u001b[34mHi, what's your name?\u001b[0m\n",
      "xu\n",
      "\u001b[34mHello, xu!\u001b[0m\n",
      "\u001b[34mHow are you today?\n",
      "你今天怎么样呀？\u001b[0m\n",
      "dark\n",
      "\u001b[34mSorry to hear that.\u001b[0m\n",
      "\u001b[34mWhat is your favorite color？\u001b[0m\n",
      "dark\n",
      "\u001b[34mYou like dark? Tha's great color. My favorite color is yellow.\u001b[0m\n",
      "\u001b[34mThrough recent upgrade, I can do calculation now. Input some arithmetic expression to try.\n",
      "Type 'exit', 'quit', 'x', or 'q' to exit.\u001b[0m\n",
      "465466/848\n",
      "\u001b[34mDone. Result = 548.8985849056604\u001b[0m\n",
      "412-96587/55566\n",
      "\u001b[34mDone. Result = 410.2617607889717\u001b[0m\n",
      "q\n"
     ]
    }
   ],
   "source": [
    "## bot.py\n",
    "import random\n",
    "import re\n",
    "import time\n",
    "from termcolor import colored\n",
    "from simpleeval import simple_eval\n",
    "\n",
    "class Bot:\n",
    "    \n",
    "    wait = 1\n",
    "    \n",
    "    def __init__(self, runtype='once'):\n",
    "        self.q = ''\n",
    "        self.a = ''\n",
    "        self.runtype = runtype\n",
    "    \n",
    "    def _think(self, s):\n",
    "        return s\n",
    "    \n",
    "    def _say(self, s):\n",
    "        #time.sleep(wait)  # NameError: name 'wait' is not defined\n",
    "        time.sleep(Bot.wait)  \n",
    "        print(colored(s, 'blue'))\n",
    "        #return s\n",
    "\n",
    "    def _run_once(self):\n",
    "        self._say(self.q)\n",
    "        self.a = input()\n",
    "        self._say(self._think(self.a))\n",
    "    \n",
    "    def _run_looped(self):\n",
    "        self._say(self.q)\n",
    "        while True:\n",
    "            self.a = input()\n",
    "            if self.a.lower() in ['q', 'x', 'exit', 'quit']:\n",
    "                break\n",
    "            self._say(self._think(self.a))\n",
    "   \n",
    "    def run(self):\n",
    "        if self.runtype == 'once':\n",
    "            self._run_once()\n",
    "        elif self.runtype == 'loop':\n",
    "            self._run_looped()\n",
    "        # 这里用了 elif，而不是 else，可以保证代码准确定位可能出现的意外情况\n",
    "\n",
    "        \n",
    "class HelloBot(Bot):\n",
    "    \n",
    "    def __init__(self, runtype='once'):\n",
    "        super().__init__(runtype)\n",
    "        self.q = \"Hi, what's your name?\"\n",
    "        \n",
    "    def _think(self, s):\n",
    "        return(f\"Hello, {s}!\")\n",
    "\n",
    "\n",
    "class GreetingBot(Bot):\n",
    "   \n",
    "    def __init__(self, runtype='once'):\n",
    "        super().__init__(runtype)\n",
    "        self.q = \"How are you today?\\n你今天怎么样呀？\"\n",
    " \n",
    "    def _think(self, s):\n",
    "        feeling = s.lower()\n",
    "        test = re.search('goo+d', feeling) or \\\n",
    "               re.search('nice', feeling) or \\\n",
    "               re.search('excellent', feeling)\n",
    "        if test:\n",
    "            return(\"I am feeling good, too!\")\n",
    "        else:\n",
    "            return(\"Sorry to hear that.\")\n",
    "\n",
    "\n",
    "class FavoriteColorBot(Bot):\n",
    "   \n",
    "    def __init__(self, runtype='once'):\n",
    "        super().__init__(runtype)\n",
    "        self.q = \"What is your favorite color？\"\n",
    " \n",
    "    def _think(self, s):\n",
    "        colors = ['red', 'orange', 'yellow', 'green', 'blue', 'indigo', 'purple']\n",
    "        return (f\"You like {s}? Tha's great color. My favorite color is {random.choice(colors)}.\")\n",
    "\n",
    "    \n",
    "class CalcBot(Bot):\n",
    "    \n",
    "    def __init__(self, runtype='once'):\n",
    "        super().__init__(runtype)\n",
    "        self.q = \"\"\"Through recent upgrade, I can do calculation now. Input some arithmetic expression to try.\\nType 'exit', 'quit', 'x', or 'q' to exit.\"\"\"\n",
    "    \n",
    "    def _think(self, s):\n",
    "        result = simple_eval(s)\n",
    "        return f\"Done. Result = {result}\"\n",
    "\n",
    "            \n",
    "if __name__ == '__main__': \n",
    "    h = HelloBot()\n",
    "    g = GreetingBot()\n",
    "    f = FavoriteColorBot()\n",
    "    c = CalcBot('loop')\n",
    "    #c = CalcBot()\n",
    "    \n",
    "    h.run() \n",
    "    g.run()\n",
    "    f.run()\n",
    "    c.run()"
   ]
  },
  {
   "cell_type": "code",
   "execution_count": null,
   "id": "d2bafd13",
   "metadata": {},
   "outputs": [],
   "source": [
    "## garfield.py\n",
    "from bot import *\n",
    "\n",
    "class Garfield:\n",
    "    \n",
    "    def __init__(self):\n",
    "        self.bots = []\n",
    "    \n",
    "    def add(self, bot):\n",
    "        self.bots.append(bot)\n",
    "    \n",
    "    def run(self):\n",
    "        print(\"Welcome to Garfield dialog system. Let's Talk!\\n\")\n",
    "        \n",
    "        for bot in self. bots:\n",
    "            bot.run()\n",
    "\n",
    "if __name__ == '__main__':\n",
    "    garfield = Garfield()\n",
    "    garfield.add(HelloBot())\n",
    "    garfield.add(GreetingBot())\n",
    "    garfield.add(CalcBot())\n",
    "    garfield.add(FavoriteColorBot())\n",
    "    garfield.run()"
   ]
  }
 ],
 "metadata": {
  "kernelspec": {
   "display_name": "Python [conda env:root] *",
   "language": "python",
   "name": "conda-root-py"
  },
  "language_info": {
   "codemirror_mode": {
    "name": "ipython",
    "version": 3
   },
   "file_extension": ".py",
   "mimetype": "text/x-python",
   "name": "python",
   "nbconvert_exporter": "python",
   "pygments_lexer": "ipython3",
   "version": "3.7.3"
  },
  "latex_envs": {
   "LaTeX_envs_menu_present": true,
   "autoclose": false,
   "autocomplete": true,
   "bibliofile": "biblio.bib",
   "cite_by": "apalike",
   "current_citInitial": 1,
   "eqLabelWithNumbers": true,
   "eqNumInitial": 1,
   "hotkeys": {
    "equation": "Ctrl-E",
    "itemize": "Ctrl-I"
   },
   "labels_anchors": false,
   "latex_user_defs": false,
   "report_style_numbering": false,
   "user_envs_cfg": false
  },
  "toc": {
   "base_numbering": 1,
   "nav_menu": {},
   "number_sections": true,
   "sideBar": true,
   "skip_h1_title": true,
   "title_cell": "Table of Contents",
   "title_sidebar": "Contents",
   "toc_cell": false,
   "toc_position": {},
   "toc_section_display": true,
   "toc_window_display": false
  }
 },
 "nbformat": 4,
 "nbformat_minor": 5
}
