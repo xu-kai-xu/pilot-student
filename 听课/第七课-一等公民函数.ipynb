{
 "cells": [
  {
   "cell_type": "markdown",
   "id": "2590e7d5",
   "metadata": {},
   "source": [
    "# 进入编程世界第七课  一等公民函数\n",
    "\n",
    "课程时间 2019.12.10\n",
    "\n",
    "动手时间 2022.02.11"
   ]
  },
  {
   "cell_type": "markdown",
   "id": "23b762fd",
   "metadata": {},
   "source": [
    "列表输出的不同形式"
   ]
  },
  {
   "cell_type": "code",
   "execution_count": 1,
   "id": "8ad4d627",
   "metadata": {},
   "outputs": [
    {
     "data": {
      "text/plain": [
       "['False',\n",
       " 'None',\n",
       " 'True',\n",
       " 'and',\n",
       " 'as',\n",
       " 'assert',\n",
       " 'async',\n",
       " 'await',\n",
       " 'break',\n",
       " 'class',\n",
       " 'continue',\n",
       " 'def',\n",
       " 'del',\n",
       " 'elif',\n",
       " 'else',\n",
       " 'except',\n",
       " 'finally',\n",
       " 'for',\n",
       " 'from',\n",
       " 'global',\n",
       " 'if',\n",
       " 'import',\n",
       " 'in',\n",
       " 'is',\n",
       " 'lambda',\n",
       " 'nonlocal',\n",
       " 'not',\n",
       " 'or',\n",
       " 'pass',\n",
       " 'raise',\n",
       " 'return',\n",
       " 'try',\n",
       " 'while',\n",
       " 'with',\n",
       " 'yield']"
      ]
     },
     "execution_count": 1,
     "metadata": {},
     "output_type": "execute_result"
    }
   ],
   "source": [
    "import keyword\n",
    "\n",
    "keyword.kwlist"
   ]
  },
  {
   "cell_type": "code",
   "execution_count": 2,
   "id": "dd8caad2",
   "metadata": {},
   "outputs": [
    {
     "name": "stdout",
     "output_type": "stream",
     "text": [
      "['False', 'None', 'True', 'and', 'as', 'assert', 'async', 'await', 'break', 'class', 'continue', 'def', 'del', 'elif', 'else', 'except', 'finally', 'for', 'from', 'global', 'if', 'import', 'in', 'is', 'lambda', 'nonlocal', 'not', 'or', 'pass', 'raise', 'return', 'try', 'while', 'with', 'yield']\n"
     ]
    }
   ],
   "source": [
    "print(keyword.kwlist)"
   ]
  },
  {
   "cell_type": "markdown",
   "id": "4a4ff7f2",
   "metadata": {},
   "source": [
    "练习——如何让print函数像在jupyter notebook 那样打印输出。"
   ]
  },
  {
   "cell_type": "code",
   "execution_count": 5,
   "id": "a1ef6aa0",
   "metadata": {},
   "outputs": [
    {
     "name": "stdout",
     "output_type": "stream",
     "text": [
      "False\n",
      "\n",
      "None\n",
      "\n",
      "True\n",
      "\n",
      "and\n",
      "\n",
      "as\n",
      "\n",
      "assert\n",
      "\n",
      "async\n",
      "\n",
      "await\n",
      "\n",
      "break\n",
      "\n",
      "class\n",
      "\n",
      "continue\n",
      "\n",
      "def\n",
      "\n",
      "del\n",
      "\n",
      "elif\n",
      "\n",
      "else\n",
      "\n",
      "except\n",
      "\n",
      "finally\n",
      "\n",
      "for\n",
      "\n",
      "from\n",
      "\n",
      "global\n",
      "\n",
      "if\n",
      "\n",
      "import\n",
      "\n",
      "in\n",
      "\n",
      "is\n",
      "\n",
      "lambda\n",
      "\n",
      "nonlocal\n",
      "\n",
      "not\n",
      "\n",
      "or\n",
      "\n",
      "pass\n",
      "\n",
      "raise\n",
      "\n",
      "return\n",
      "\n",
      "try\n",
      "\n",
      "while\n",
      "\n",
      "with\n",
      "\n",
      "yield\n"
     ]
    }
   ],
   "source": [
    "import keyword\n",
    "\n",
    "keyword.kwlist\n",
    "\n",
    "\n",
    "def pprint(cont):\n",
    "    # 打印列表，使得每行一个列表元素\n",
    "    for item in cont:\n",
    "        if item == cont[-1]:\n",
    "            print(item)\n",
    "        else:\n",
    "            print(item+'\\n')\n",
    "\n",
    "\n",
    "if __name__ == '__main__':\n",
    "    pprint(keyword.kwlist)"
   ]
  },
  {
   "cell_type": "code",
   "execution_count": 9,
   "id": "b12c808a",
   "metadata": {},
   "outputs": [
    {
     "name": "stdout",
     "output_type": "stream",
     "text": [
      "['False',\n",
      "'None',\n",
      "'True',\n",
      "'and',\n",
      "'as',\n",
      "'assert',\n",
      "'async',\n",
      "'await',\n",
      "'break',\n",
      "'class',\n",
      "'continue',\n",
      "'def',\n",
      "'del',\n",
      "'elif',\n",
      "'else',\n",
      "'except',\n",
      "'finally',\n",
      "'for',\n",
      "'from',\n",
      "'global',\n",
      "'if',\n",
      "'import',\n",
      "'in',\n",
      "'is',\n",
      "'lambda',\n",
      "'nonlocal',\n",
      "'not',\n",
      "'or',\n",
      "'pass',\n",
      "'raise',\n",
      "'return',\n",
      "'try',\n",
      "'while',\n",
      "'with',\n",
      "'yield']\n"
     ]
    }
   ],
   "source": [
    "def pplist(list):\n",
    "    i = 0\n",
    "    y = len(list)\n",
    "    for line in list:\n",
    "        if i == 0:\n",
    "            print(\"[\"+\"'\"+line+\"'\"+\",\")\n",
    "        elif i < y-1:\n",
    "            print(\"'\"+line+\"'\"+\",\")\n",
    "        else:\n",
    "            print(\"'\"+line+\"'\"+\"]\")\n",
    "        i += 1\n",
    "    return None\n",
    "\n",
    "\n",
    "pplist(keyword.kwlist)"
   ]
  },
  {
   "cell_type": "code",
   "execution_count": 10,
   "id": "2e3ad472",
   "metadata": {},
   "outputs": [
    {
     "name": "stdout",
     "output_type": "stream",
     "text": [
      "['False',\n",
      "'None',\n",
      "'True',\n",
      "'and',\n",
      "'as',\n",
      "'assert',\n",
      "'async',\n",
      "'await',\n",
      "'break',\n",
      "'class',\n",
      "'continue',\n",
      "'def',\n",
      "'del',\n",
      "'elif',\n",
      "'else',\n",
      "'except',\n",
      "'finally',\n",
      "'for',\n",
      "'from',\n",
      "'global',\n",
      "'if',\n",
      "'import',\n",
      "'in',\n",
      "'is',\n",
      "'lambda',\n",
      "'nonlocal',\n",
      "'not',\n",
      "'or',\n",
      "'pass',\n",
      "'raise',\n",
      "'return',\n",
      "'try',\n",
      "'while',\n",
      "'with',\n",
      "'yield']\n",
      "['apple',\n",
      "'orange',\n",
      "'banana']\n"
     ]
    }
   ],
   "source": [
    "def pplist(lst):\n",
    "    for index, item in enumerate(lst):\n",
    "        if index == 0:\n",
    "            print(f\"['{item}',\")\n",
    "        elif index + 1 == len(lst):\n",
    "            print(f\"'{item}']\")\n",
    "        else:\n",
    "            print(f\"'{item}',\")\n",
    "\n",
    "\n",
    "if __name__ == '__main__':\n",
    "    import keyword\n",
    "    pplist(keyword.kwlist)\n",
    "    pplist(['apple', 'orange', 'banana'])"
   ]
  },
  {
   "cell_type": "markdown",
   "id": "68483fe8",
   "metadata": {},
   "source": [
    "windows 下处理日期时间类型的坑："
   ]
  },
  {
   "cell_type": "code",
   "execution_count": 18,
   "id": "2b5fe3f7",
   "metadata": {},
   "outputs": [
    {
     "name": "stdout",
     "output_type": "stream",
     "text": [
      "中国标准时间\n"
     ]
    }
   ],
   "source": [
    "from datetime import datetime\n",
    "\n",
    "t = datetime.now().astimezone()\n",
    "print(t.tzinfo)"
   ]
  },
  {
   "cell_type": "code",
   "execution_count": 23,
   "id": "9cd7101d",
   "metadata": {},
   "outputs": [
    {
     "ename": "ValueError",
     "evalue": "Invalid format string",
     "output_type": "error",
     "traceback": [
      "\u001b[1;31m------------------------------------------------------------\u001b[0m",
      "\u001b[1;31mValueError\u001b[0m                 Traceback (most recent call last)",
      "\u001b[1;32m~\\AppData\\Local\\Temp/ipykernel_9884/2242462932.py\u001b[0m in \u001b[0;36m<module>\u001b[1;34m\u001b[0m\n\u001b[1;32m----> 1\u001b[1;33m \u001b[0mprint\u001b[0m\u001b[1;33m(\u001b[0m\u001b[0mt\u001b[0m\u001b[1;33m.\u001b[0m\u001b[0mstrftime\u001b[0m\u001b[1;33m(\u001b[0m\u001b[1;34m\"%Y 年 %-m 月 %-d 日\"\u001b[0m\u001b[1;33m)\u001b[0m\u001b[1;33m)\u001b[0m\u001b[1;33m\u001b[0m\u001b[1;33m\u001b[0m\u001b[0m\n\u001b[0m",
      "\u001b[1;31mValueError\u001b[0m: Invalid format string"
     ]
    }
   ],
   "source": [
    "print(t.strftime(\"%Y 年 %-m 月 %-d 日\"))"
   ]
  },
  {
   "cell_type": "code",
   "execution_count": 24,
   "id": "892ae303",
   "metadata": {},
   "outputs": [
    {
     "name": "stdout",
     "output_type": "stream",
     "text": [
      "2022 年 02 月 11 日\n"
     ]
    }
   ],
   "source": [
    "print(t.strftime(\"%Y 年 %m 月 %d 日\"))"
   ]
  },
  {
   "cell_type": "code",
   "execution_count": 13,
   "id": "27bb9427",
   "metadata": {},
   "outputs": [
    {
     "data": {
      "text/plain": [
       "(None, None)"
      ]
     },
     "execution_count": 13,
     "metadata": {},
     "output_type": "execute_result"
    }
   ],
   "source": [
    "import locale\n",
    "locale.getlocale()"
   ]
  },
  {
   "cell_type": "code",
   "execution_count": 19,
   "id": "de78890f",
   "metadata": {},
   "outputs": [
    {
     "name": "stdout",
     "output_type": "stream",
     "text": [
      "中国标准时间\n"
     ]
    },
    {
     "data": {
      "text/plain": [
       "('Chinese_China', '936')"
      ]
     },
     "execution_count": 19,
     "metadata": {},
     "output_type": "execute_result"
    }
   ],
   "source": [
    "import locale\n",
    "locale.setlocale(locale.LC_CTYPE, 'chinese')\n",
    "print(t.tzinfo)\n",
    "locale.getlocale()"
   ]
  },
  {
   "cell_type": "markdown",
   "id": "2e625d8a",
   "metadata": {},
   "source": [
    "## 递归\n",
    "\n",
    "把一个规模较大的问题转换为一个规模更小的问题。重复这个操作。\n",
    "\n",
    "逐层递归到初始值，再一层一层地解递归。\n",
    "\n",
    "\n",
    "\n",
    "> 树是一种天生就很递归的概念。\n",
    "\n",
    "递归的弱点：特别占用资源。\n",
    "\n",
    "\n",
    "lisp 的方言。\n",
    "scalar\n",
    "rust 伪递归调用的优化。\n",
    "\n",
    "python 当中，尽量先用循环。\n",
    "\n"
   ]
  },
  {
   "cell_type": "code",
   "execution_count": 32,
   "id": "d7b5f7eb",
   "metadata": {},
   "outputs": [
    {
     "data": {
      "text/plain": [
       "1"
      ]
     },
     "execution_count": 32,
     "metadata": {},
     "output_type": "execute_result"
    }
   ],
   "source": [
    "# fibonacci 数列\n",
    "# 0 这一句不能少\n",
    "\n",
    "def fibonacci(n):\n",
    "    if n == 0:\n",
    "        return 0\n",
    "\n",
    "    elif n == 1:\n",
    "        return 1\n",
    "\n",
    "    return fibonacci(n-1) + fibonacci(n-2)\n",
    "\n",
    "fibonacci(1)"
   ]
  },
  {
   "cell_type": "code",
   "execution_count": 33,
   "id": "061c0891",
   "metadata": {},
   "outputs": [
    {
     "data": {
      "text/plain": [
       "1"
      ]
     },
     "execution_count": 33,
     "metadata": {},
     "output_type": "execute_result"
    }
   ],
   "source": [
    "fibonacci(2)"
   ]
  },
  {
   "cell_type": "code",
   "execution_count": 34,
   "id": "00918909",
   "metadata": {},
   "outputs": [
    {
     "data": {
      "text/plain": [
       "5"
      ]
     },
     "execution_count": 34,
     "metadata": {},
     "output_type": "execute_result"
    }
   ],
   "source": [
    "fibonacci(5)"
   ]
  },
  {
   "cell_type": "markdown",
   "id": "169bce9a",
   "metadata": {},
   "source": [
    "## 函数也是数据 \n",
    "\n",
    "\n",
    "函数作为二等公民，函数不能作为返回值。\n",
    "\n",
    "函数式编程语言 lisp，函数成为一等公民。\n",
    "\n",
    "\n",
    "\n",
    "同时具有面向对象和函数式编程的特征。\n",
    "\n",
    "多范型编程语言。——面向对象、函数式编程。\n",
    "\n"
   ]
  },
  {
   "cell_type": "code",
   "execution_count": 35,
   "id": "82bd0748",
   "metadata": {},
   "outputs": [
    {
     "data": {
      "text/plain": [
       "140726363986016"
      ]
     },
     "execution_count": 35,
     "metadata": {},
     "output_type": "execute_result"
    }
   ],
   "source": [
    "n = 42\n",
    "id(n)"
   ]
  },
  {
   "cell_type": "markdown",
   "id": "0c93ecc8",
   "metadata": {},
   "source": [
    "函数的别名。"
   ]
  },
  {
   "cell_type": "markdown",
   "id": "83a97679",
   "metadata": {},
   "source": [
    "### 匿名函数\n",
    "\n"
   ]
  },
  {
   "cell_type": "code",
   "execution_count": 36,
   "id": "7de01050",
   "metadata": {},
   "outputs": [
    {
     "data": {
      "text/plain": [
       "8"
      ]
     },
     "execution_count": 36,
     "metadata": {},
     "output_type": "execute_result"
    }
   ],
   "source": [
    "(lambda x, y: x + y)(3, 5)"
   ]
  },
  {
   "cell_type": "code",
   "execution_count": 62,
   "id": "88faf095",
   "metadata": {},
   "outputs": [],
   "source": [
    "fruits = ['kiwi', 'orange', 'apple', 'pear', 'banana', 'coconut']"
   ]
  },
  {
   "cell_type": "code",
   "execution_count": 61,
   "id": "da4a6f96",
   "metadata": {},
   "outputs": [],
   "source": [
    "fruits.sort(key=lambda s: s[-1])\n",
    "# 没有返回值，改变原函数"
   ]
  },
  {
   "cell_type": "code",
   "execution_count": 58,
   "id": "90ec5908",
   "metadata": {},
   "outputs": [
    {
     "data": {
      "text/plain": [
       "['banana', 'orange', 'apple', 'kiwi', 'pear', 'coconut']"
      ]
     },
     "execution_count": 58,
     "metadata": {},
     "output_type": "execute_result"
    }
   ],
   "source": [
    "fruits"
   ]
  },
  {
   "cell_type": "code",
   "execution_count": 65,
   "id": "c71d275e",
   "metadata": {},
   "outputs": [
    {
     "data": {
      "text/plain": [
       "['banana', 'orange', 'apple', 'kiwi', 'pear', 'coconut']"
      ]
     },
     "execution_count": 65,
     "metadata": {},
     "output_type": "execute_result"
    }
   ],
   "source": [
    "sorted(fruits, key=lambda s: s[-1])\n",
    "# 返回排序后的结果，不改变原始数组值"
   ]
  },
  {
   "cell_type": "code",
   "execution_count": 66,
   "id": "61333351",
   "metadata": {},
   "outputs": [
    {
     "data": {
      "text/plain": [
       "['kiwi', 'orange', 'apple', 'pear', 'banana', 'coconut']"
      ]
     },
     "execution_count": 66,
     "metadata": {},
     "output_type": "execute_result"
    }
   ],
   "source": [
    "fruits"
   ]
  },
  {
   "cell_type": "code",
   "execution_count": null,
   "id": "3736be41",
   "metadata": {},
   "outputs": [],
   "source": []
  }
 ],
 "metadata": {
  "kernelspec": {
   "display_name": "Python [conda env:root] *",
   "language": "python",
   "name": "conda-root-py"
  },
  "language_info": {
   "codemirror_mode": {
    "name": "ipython",
    "version": 3
   },
   "file_extension": ".py",
   "mimetype": "text/x-python",
   "name": "python",
   "nbconvert_exporter": "python",
   "pygments_lexer": "ipython3",
   "version": "3.7.3"
  },
  "latex_envs": {
   "LaTeX_envs_menu_present": true,
   "autoclose": false,
   "autocomplete": true,
   "bibliofile": "biblio.bib",
   "cite_by": "apalike",
   "current_citInitial": 1,
   "eqLabelWithNumbers": true,
   "eqNumInitial": 1,
   "hotkeys": {
    "equation": "Ctrl-E",
    "itemize": "Ctrl-I"
   },
   "labels_anchors": false,
   "latex_user_defs": false,
   "report_style_numbering": false,
   "user_envs_cfg": false
  },
  "toc": {
   "base_numbering": 1,
   "nav_menu": {},
   "number_sections": true,
   "sideBar": true,
   "skip_h1_title": true,
   "title_cell": "Table of Contents",
   "title_sidebar": "Contents",
   "toc_cell": false,
   "toc_position": {},
   "toc_section_display": true,
   "toc_window_display": false
  }
 },
 "nbformat": 4,
 "nbformat_minor": 5
}
