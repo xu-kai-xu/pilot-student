{
  "cells": [
    {
      "cell_type": "markdown",
      "source": [
        "# 第六课 字符串数据\n",
        "\n",
        "关键在于如何建立一组数据的模型，一组数据的结构。\n",
        "\n",
        "找到合适的方法来解决这个问题，寻找合适的数据结构，是问题最基础的部分。\n",
        "\n",
        "## python 基础数据类型\n",
        "\n",
        "基本数据类型：\n",
        "\n",
        "1. 整数 小数，浮点数。\n",
        "2. 逻辑变量，真假。\n",
        "3. 字符和字符串。\n",
        "\n",
        "datetime 日期时间。\n",
        "\n",
        "用字符串来表达数据。\n",
        "\n",
        "数据容器：list tuple dictionary set。\n",
        "\n",
        "自定义的数据结构。例如，树形图。树状结构。\n",
        "\n",
        "数据持久化。保存为数据文件或保存到数据库中。\n",
        "\n",
        "学完这一部分的目标：知道，面对一个现实世界的问题，如何去建立一个数据结构、数据模型，然后去处理它，得到我们想要的结果，解决问题。"
      ],
      "metadata": {},
      "id": "6a320a39"
    },
    {
      "cell_type": "markdown",
      "source": [
        "## 字符串数据\n",
        "\n",
        "> 一切都是字符串。\n",
        "\n",
        "字符串可以用来表达任何数据。\n",
        "\n",
        "脑中的思想，除了用文字表达出来，还能用什么表达出来？\n"
      ],
      "metadata": {},
      "id": "e72ad3ff"
    },
    {
      "cell_type": "markdown",
      "source": [
        "用字符串表达数据的好处：\n",
        "\n",
        "1. persistence。数据持久化。把内存中的数据保存在硬盘上。\n",
        "\n",
        "serialization：内存数据保存到数据文件。\n",
        "\n",
        "- **formating**：内存到字符串，需要自己设置、设计。\n",
        "- unicode encoding：字符串到二进制数据\n",
        "- saving：到文件\n",
        "\n",
        "deserialization：从数据文件读取数据到内存。\n",
        "\n",
        "- loading：载入数据文件到二进制数据\n",
        "- unicode decoding：二进制数据到字符串数据\n",
        "- **parsing**：解析，许村自己设计、设置。\n",
        "\n",
        "2. 互操作 interoperation。不同程序之间传递数据。不同程序之间，不同主机之间，同一个网络中不同主机之间。\n",
        "\n",
        "\n",
        "两个程序之间，互操作的时候本身是不同的。这时用字符串是最好的办法。\n",
        "\n",
        "\n",
        "内存数据和字符串数据转换的核心关键问题是格式/协议。format/protocol。\n",
        "\n"
      ],
      "metadata": {},
      "id": "2a2474a6"
    },
    {
      "cell_type": "markdown",
      "source": [
        "## 数值 <==> 字符串\n",
        "\n",
        "https://nteract.io/kernels\n",
        "\n",
        "一个工具，感觉和vscode加上插件差不多。"
      ],
      "metadata": {},
      "id": "b7fe9609"
    },
    {
      "cell_type": "markdown",
      "source": [
        "### 数值转换为字符串"
      ],
      "metadata": {},
      "id": "84dd6c1c"
    },
    {
      "cell_type": "code",
      "source": [
        "n = 42\n",
        "f = 3.14"
      ],
      "outputs": [],
      "execution_count": 1,
      "metadata": {},
      "id": "9d00d69d"
    },
    {
      "cell_type": "code",
      "source": [
        "s1 = f'{n}'\n",
        "s2 = f'{f}'\n",
        "\n",
        "print(s1, type(s1))\n",
        "print(s2, type(s2))"
      ],
      "outputs": [
        {
          "output_type": "stream",
          "name": "stdout",
          "text": [
            "42 <class 'str'>\n",
            "3.14 <class 'str'>\n"
          ]
        }
      ],
      "execution_count": 3,
      "metadata": {},
      "id": "1a065236"
    },
    {
      "cell_type": "code",
      "source": [
        "s1 = str(n)\n",
        "s2 = str(f)\n",
        "print(type(s1))\n",
        "print(type(s2))"
      ],
      "outputs": [
        {
          "output_type": "stream",
          "name": "stdout",
          "text": [
            "<class 'str'>\n",
            "<class 'str'>\n"
          ]
        }
      ],
      "execution_count": 4,
      "metadata": {},
      "id": "5fd9c0fb"
    },
    {
      "cell_type": "markdown",
      "source": [
        "### 读一个字符串转换为浮点数或整数\n",
        "\n",
        "麻烦很多"
      ],
      "metadata": {},
      "id": "44a36bb8"
    },
    {
      "cell_type": "code",
      "source": [
        "s1 = '42'\n",
        "s2 = '3.1415926'"
      ],
      "outputs": [],
      "execution_count": 5,
      "metadata": {},
      "id": "de6d9fc3"
    },
    {
      "cell_type": "code",
      "source": [
        "n = int(s1)\n",
        "print(type(n), n)"
      ],
      "outputs": [
        {
          "output_type": "stream",
          "name": "stdout",
          "text": [
            "<class 'int'> 42\n"
          ]
        }
      ],
      "execution_count": 9,
      "metadata": {},
      "id": "42396049"
    },
    {
      "cell_type": "code",
      "source": [
        "f = float(s2)\n",
        "print(type(f), f)"
      ],
      "outputs": [
        {
          "output_type": "stream",
          "name": "stdout",
          "text": [
            "<class 'float'> 3.1415926\n"
          ]
        }
      ],
      "execution_count": 10,
      "metadata": {},
      "id": "97958ad3"
    },
    {
      "cell_type": "code",
      "source": [
        "n = int(s2)\n",
        "print(type(n), n)"
      ],
      "outputs": [
        {
          "output_type": "error",
          "ename": "ValueError",
          "evalue": "invalid literal for int() with base 10: '3.1415926'",
          "traceback": [
            "\u001b[1;31m------------------------------------------------------------\u001b[0m",
            "\u001b[1;31mValueError\u001b[0m                 Traceback (most recent call last)",
            "\u001b[1;32m~\\AppData\\Local\\Temp/ipykernel_3772/2770408954.py\u001b[0m in \u001b[0;36m<module>\u001b[1;34m\u001b[0m\n\u001b[1;32m----> 1\u001b[1;33m \u001b[0mn\u001b[0m \u001b[1;33m=\u001b[0m \u001b[0mint\u001b[0m\u001b[1;33m(\u001b[0m\u001b[0ms2\u001b[0m\u001b[1;33m)\u001b[0m\u001b[1;33m\u001b[0m\u001b[1;33m\u001b[0m\u001b[0m\n\u001b[0m\u001b[0;32m      2\u001b[0m \u001b[0mprint\u001b[0m\u001b[1;33m(\u001b[0m\u001b[0mtype\u001b[0m\u001b[1;33m(\u001b[0m\u001b[0mn\u001b[0m\u001b[1;33m)\u001b[0m\u001b[1;33m,\u001b[0m \u001b[0mn\u001b[0m\u001b[1;33m)\u001b[0m\u001b[1;33m\u001b[0m\u001b[1;33m\u001b[0m\u001b[0m\n",
            "\u001b[1;31mValueError\u001b[0m: invalid literal for int() with base 10: '3.1415926'"
          ]
        }
      ],
      "execution_count": 11,
      "metadata": {},
      "id": "3d7a9d59"
    },
    {
      "cell_type": "code",
      "source": [
        "n = int(float(s2))  # 取整，直接把小数部分拿掉，不是四舍五入\n",
        "print(type(n), n)"
      ],
      "outputs": [
        {
          "output_type": "stream",
          "name": "stdout",
          "text": [
            "<class 'int'> 3\n"
          ]
        }
      ],
      "execution_count": 12,
      "metadata": {},
      "id": "4fe58624"
    },
    {
      "cell_type": "code",
      "source": [
        "s3 = '42ab42'\n",
        "s4 = '3.1415g26'"
      ],
      "outputs": [],
      "execution_count": 13,
      "metadata": {},
      "id": "6f682856"
    },
    {
      "cell_type": "code",
      "source": [
        "int(s3)"
      ],
      "outputs": [
        {
          "output_type": "error",
          "ename": "ValueError",
          "evalue": "invalid literal for int() with base 10: '42ab42'",
          "traceback": [
            "\u001b[1;31m------------------------------------------------------------\u001b[0m",
            "\u001b[1;31mValueError\u001b[0m                 Traceback (most recent call last)",
            "\u001b[1;32m~\\AppData\\Local\\Temp/ipykernel_3772/3150507651.py\u001b[0m in \u001b[0;36m<module>\u001b[1;34m\u001b[0m\n\u001b[1;32m----> 1\u001b[1;33m \u001b[0mint\u001b[0m\u001b[1;33m(\u001b[0m\u001b[0ms3\u001b[0m\u001b[1;33m)\u001b[0m\u001b[1;33m\u001b[0m\u001b[1;33m\u001b[0m\u001b[0m\n\u001b[0m",
            "\u001b[1;31mValueError\u001b[0m: invalid literal for int() with base 10: '42ab42'"
          ]
        }
      ],
      "execution_count": 14,
      "metadata": {},
      "id": "7a7979b3"
    },
    {
      "cell_type": "code",
      "source": [
        "float(s4)"
      ],
      "outputs": [
        {
          "output_type": "error",
          "ename": "ValueError",
          "evalue": "could not convert string to float: '3.1415g26'",
          "traceback": [
            "\u001b[1;31m------------------------------------------------------------\u001b[0m",
            "\u001b[1;31mValueError\u001b[0m                 Traceback (most recent call last)",
            "\u001b[1;32m~\\AppData\\Local\\Temp/ipykernel_3772/1987537344.py\u001b[0m in \u001b[0;36m<module>\u001b[1;34m\u001b[0m\n\u001b[1;32m----> 1\u001b[1;33m \u001b[0mfloat\u001b[0m\u001b[1;33m(\u001b[0m\u001b[0ms4\u001b[0m\u001b[1;33m)\u001b[0m\u001b[1;33m\u001b[0m\u001b[1;33m\u001b[0m\u001b[0m\n\u001b[0m",
            "\u001b[1;31mValueError\u001b[0m: could not convert string to float: '3.1415g26'"
          ]
        }
      ],
      "execution_count": 15,
      "metadata": {},
      "id": "8a1a9eba"
    },
    {
      "cell_type": "markdown",
      "source": [
        "使用异常处理判断字符串是不是合法的数字"
      ],
      "metadata": {},
      "id": "c98e7a81"
    },
    {
      "cell_type": "code",
      "source": [
        "def is_float(s):\n",
        "    try:\n",
        "        float(s)\n",
        "        return True\n",
        "    except ValueError:\n",
        "        return False\n",
        "\n",
        "def is_int(s):\n",
        "    try:\n",
        "        int(s)\n",
        "        return True\n",
        "    except ValueError:\n",
        "        return False"
      ],
      "outputs": [],
      "execution_count": 20,
      "metadata": {},
      "id": "16292606"
    },
    {
      "cell_type": "code",
      "source": [
        "is_float(s2)"
      ],
      "outputs": [
        {
          "output_type": "execute_result",
          "execution_count": 17,
          "data": {
            "text/plain": "True"
          },
          "metadata": {}
        }
      ],
      "execution_count": 17,
      "metadata": {},
      "id": "d08272d6"
    },
    {
      "cell_type": "code",
      "source": [
        "is_float(s3)"
      ],
      "outputs": [
        {
          "output_type": "execute_result",
          "execution_count": 18,
          "data": {
            "text/plain": "False"
          },
          "metadata": {}
        }
      ],
      "execution_count": 18,
      "metadata": {},
      "id": "14052603"
    },
    {
      "cell_type": "code",
      "source": [
        "is_float(s4)"
      ],
      "outputs": [
        {
          "output_type": "execute_result",
          "execution_count": 19,
          "data": {
            "text/plain": "False"
          },
          "metadata": {}
        }
      ],
      "execution_count": 19,
      "metadata": {},
      "id": "4e153de3"
    },
    {
      "cell_type": "code",
      "source": [
        "is_int(s1)"
      ],
      "outputs": [
        {
          "output_type": "execute_result",
          "execution_count": 21,
          "data": {
            "text/plain": "True"
          },
          "metadata": {}
        }
      ],
      "execution_count": 21,
      "metadata": {},
      "id": "2cee010f"
    },
    {
      "cell_type": "code",
      "source": [
        "is_int(s2)"
      ],
      "outputs": [
        {
          "output_type": "execute_result",
          "execution_count": 22,
          "data": {
            "text/plain": "False"
          },
          "metadata": {}
        }
      ],
      "execution_count": 22,
      "metadata": {},
      "id": "c39ccd42"
    },
    {
      "cell_type": "code",
      "source": [
        "is_int(s3)"
      ],
      "outputs": [
        {
          "output_type": "execute_result",
          "execution_count": 23,
          "data": {
            "text/plain": "False"
          },
          "metadata": {}
        }
      ],
      "execution_count": 23,
      "metadata": {},
      "id": "36e7dfa3"
    },
    {
      "cell_type": "code",
      "source": [
        "is_int(s4)"
      ],
      "outputs": [
        {
          "output_type": "execute_result",
          "execution_count": 24,
          "data": {
            "text/plain": "False"
          },
          "metadata": {}
        }
      ],
      "execution_count": 24,
      "metadata": {},
      "id": "edcb0bc6"
    },
    {
      "cell_type": "code",
      "source": [
        "# 一个相对安全的转化方法\n",
        "\n",
        "def parse_num(s):\n",
        "    if is_int(s):\n",
        "        return int(s)\n",
        "    elif is_float(s):\n",
        "        return float(s)\n",
        "    else:\n",
        "        return \"数据类型错误\""
      ],
      "outputs": [],
      "execution_count": 25,
      "metadata": {},
      "id": "21676237"
    },
    {
      "cell_type": "code",
      "source": [
        "parse_num(s1)"
      ],
      "outputs": [
        {
          "output_type": "execute_result",
          "execution_count": 27,
          "data": {
            "text/plain": "42"
          },
          "metadata": {}
        }
      ],
      "execution_count": 27,
      "metadata": {},
      "id": "51674418"
    },
    {
      "cell_type": "code",
      "source": [
        "parse_num(s2)"
      ],
      "outputs": [
        {
          "output_type": "execute_result",
          "execution_count": 28,
          "data": {
            "text/plain": "3.1415926"
          },
          "metadata": {}
        }
      ],
      "execution_count": 28,
      "metadata": {},
      "id": "1d58594e"
    },
    {
      "cell_type": "code",
      "source": [
        "parse_num(s3)"
      ],
      "outputs": [
        {
          "output_type": "execute_result",
          "execution_count": 29,
          "data": {
            "text/plain": "'数据类型错误'"
          },
          "metadata": {}
        }
      ],
      "execution_count": 29,
      "metadata": {},
      "id": "ac743e42"
    },
    {
      "cell_type": "code",
      "source": [
        "parse_num(s4)"
      ],
      "outputs": [
        {
          "output_type": "execute_result",
          "execution_count": 30,
          "data": {
            "text/plain": "'数据类型错误'"
          },
          "metadata": {}
        }
      ],
      "execution_count": 30,
      "metadata": {},
      "id": "e117b287"
    },
    {
      "cell_type": "markdown",
      "source": [
        "灵活性也有相应的麻烦。\n",
        "\n",
        "关注稳定性的话，可以用到第三方库。"
      ],
      "metadata": {},
      "id": "4cce6343"
    },
    {
      "cell_type": "code",
      "source": [
        "from fastnumbers import fast_float"
      ],
      "outputs": [],
      "execution_count": null,
      "metadata": {},
      "id": "f8b7dcfb"
    },
    {
      "cell_type": "markdown",
      "source": [
        "## 日期 时间的数据类型转换\n",
        "\n",
        "不同国家日期时间表示的顺序习惯。\n",
        "\n",
        "01022020\n",
        "\n",
        "时区 不同时区的同一个时间是不同的概念。\n",
        "\n",
        "历史原因，unix 和 C 语言。unix 时间戳。\n",
        "\n",
        "自1970年1月1日零时零分零秒开始流失的秒数。timestamp 时间戳。\n",
        "\n",
        "    1. 这个时间之前的时间成为负数。\n",
        "    2. 没有内置时区。\n",
        "    \n",
        "千年虫问题：用两位数存储年份的隐含问题。\n"
      ],
      "metadata": {},
      "id": "15cf8472"
    },
    {
      "cell_type": "code",
      "source": [
        "from datetime import datetime\n",
        "\n",
        "t = datetime.now()"
      ],
      "outputs": [],
      "execution_count": 31,
      "metadata": {},
      "id": "5190003e"
    },
    {
      "cell_type": "code",
      "source": [
        "t"
      ],
      "outputs": [
        {
          "output_type": "execute_result",
          "execution_count": 32,
          "data": {
            "text/plain": "datetime.datetime(2022, 2, 12, 12, 13, 44, 679649)"
          },
          "metadata": {}
        }
      ],
      "execution_count": 32,
      "metadata": {},
      "id": "cb45e4ad"
    },
    {
      "cell_type": "code",
      "source": [
        "print(t)"
      ],
      "outputs": [
        {
          "output_type": "stream",
          "name": "stdout",
          "text": [
            "2022-02-12 12:13:44.679649\n"
          ]
        }
      ],
      "execution_count": 33,
      "metadata": {},
      "id": "c135bbb2"
    },
    {
      "cell_type": "code",
      "source": [
        "type(t)"
      ],
      "outputs": [
        {
          "output_type": "execute_result",
          "execution_count": 34,
          "data": {
            "text/plain": "datetime.datetime"
          },
          "metadata": {}
        }
      ],
      "execution_count": 34,
      "metadata": {},
      "id": "9a9bd3a5"
    },
    {
      "cell_type": "code",
      "source": [
        "print(t.year)\n",
        "print(t.month)\n",
        "print(t.day)\n",
        "print(t.minute)\n",
        "print(t.second)\n",
        "print(t.hour)\n",
        "print(t.microsecond)\n",
        "print(t.tzinfo)"
      ],
      "outputs": [
        {
          "output_type": "stream",
          "name": "stdout",
          "text": [
            "2022\n",
            "2\n",
            "12\n",
            "13\n",
            "44\n",
            "12\n",
            "679649\n",
            "None\n"
          ]
        }
      ],
      "execution_count": 35,
      "metadata": {},
      "id": "993f9e52"
    },
    {
      "cell_type": "code",
      "source": [
        "t2 = datetime(1949, 10, 1, 0, 0)\n",
        "print(t2)"
      ],
      "outputs": [
        {
          "output_type": "stream",
          "name": "stdout",
          "text": [
            "1949-10-01 00:00:00\n"
          ]
        }
      ],
      "execution_count": 36,
      "metadata": {},
      "id": "d95832fc"
    },
    {
      "cell_type": "code",
      "source": [
        "t = datetime.now().astimezone()\n",
        "\n",
        "print(t.year)\n",
        "print(t.month)\n",
        "print(t.day)\n",
        "print(t.minute)\n",
        "print(t.second)\n",
        "print(t.hour)\n",
        "print(t.microsecond)\n",
        "print(t.tzinfo)"
      ],
      "outputs": [
        {
          "output_type": "stream",
          "name": "stdout",
          "text": [
            "2022\n",
            "2\n",
            "12\n",
            "52\n",
            "19\n",
            "17\n",
            "250931\n",
            "ÖÐ¹ú±ê×¼Ê±¼ä\n"
          ]
        }
      ],
      "execution_count": 37,
      "metadata": {},
      "id": "021a2bcc"
    },
    {
      "cell_type": "markdown",
      "source": [
        "### 把日期类型变成字符串"
      ],
      "metadata": {},
      "id": "fab36783"
    },
    {
      "cell_type": "code",
      "source": [
        "from datetime import datetime\n",
        "\n",
        "t = datetime.now().astimezone()"
      ],
      "outputs": [],
      "execution_count": 57,
      "metadata": {},
      "id": "76c9ebc7"
    },
    {
      "cell_type": "code",
      "source": [
        "t.strftime(\"%Y-%m-%d %H:%M:%S\")  \n",
        "#  百分号+字母 是一个格式码"
      ],
      "outputs": [
        {
          "output_type": "execute_result",
          "execution_count": 40,
          "data": {
            "text/plain": "'2022-02-12 17:59:36'"
          },
          "metadata": {}
        }
      ],
      "execution_count": 40,
      "metadata": {},
      "id": "246ecefb"
    },
    {
      "cell_type": "code",
      "source": [
        "t.strftime(\"%Y-%m-%d %a %H:%M:%S\")"
      ],
      "outputs": [
        {
          "output_type": "execute_result",
          "execution_count": 41,
          "data": {
            "text/plain": "'2022-02-12 Sat 17:59:36'"
          },
          "metadata": {}
        }
      ],
      "execution_count": 41,
      "metadata": {},
      "id": "44be6772"
    },
    {
      "cell_type": "code",
      "source": [
        "t.strftime(\"%Y-%m-%d %A %H:%M:%S\")"
      ],
      "outputs": [
        {
          "output_type": "execute_result",
          "execution_count": 42,
          "data": {
            "text/plain": "'2022-02-12 Saturday 17:59:36'"
          },
          "metadata": {}
        }
      ],
      "execution_count": 42,
      "metadata": {},
      "id": "788d20cf"
    },
    {
      "cell_type": "markdown",
      "source": [
        "platform specific\n",
        "\n",
        "代码对平台的依赖。不同平台的效果不同"
      ],
      "metadata": {},
      "id": "4d01fcba"
    },
    {
      "cell_type": "code",
      "source": [
        "t.strftime(\"%Y-%-m-%d %A %H:%M:%S\")\n",
        "# %-m"
      ],
      "outputs": [
        {
          "output_type": "error",
          "ename": "ValueError",
          "evalue": "Invalid format string",
          "traceback": [
            "\u001b[1;31m------------------------------------------------------------\u001b[0m",
            "\u001b[1;31mValueError\u001b[0m                 Traceback (most recent call last)",
            "\u001b[1;32m~\\AppData\\Local\\Temp/ipykernel_3772/4247109206.py\u001b[0m in \u001b[0;36m<module>\u001b[1;34m\u001b[0m\n\u001b[1;32m----> 1\u001b[1;33m \u001b[0mt\u001b[0m\u001b[1;33m.\u001b[0m\u001b[0mstrftime\u001b[0m\u001b[1;33m(\u001b[0m\u001b[1;34m\"%Y-%-m-%d %A %H:%M:%S\"\u001b[0m\u001b[1;33m)\u001b[0m\u001b[1;33m\u001b[0m\u001b[1;33m\u001b[0m\u001b[0m\n\u001b[0m\u001b[0;32m      2\u001b[0m \u001b[1;31m# %-m\u001b[0m\u001b[1;33m\u001b[0m\u001b[1;33m\u001b[0m\u001b[1;33m\u001b[0m\u001b[0m\n",
            "\u001b[1;31mValueError\u001b[0m: Invalid format string"
          ]
        }
      ],
      "execution_count": 44,
      "metadata": {},
      "id": "ca355d63"
    },
    {
      "cell_type": "code",
      "source": [
        "import locale\n",
        "\n",
        "locale.setlocale(locale.LC_CTYPE, \"chinese\")"
      ],
      "outputs": [
        {
          "output_type": "execute_result",
          "execution_count": 53,
          "data": {
            "text/plain": "'Chinese_China.936'"
          },
          "metadata": {}
        }
      ],
      "execution_count": 53,
      "metadata": {},
      "id": "8c1e0439"
    },
    {
      "cell_type": "code",
      "source": [
        "t.strftime(\"%Y年-%m月-%d日 %A %H:%M:%S\")"
      ],
      "outputs": [
        {
          "output_type": "execute_result",
          "execution_count": 54,
          "data": {
            "text/plain": "'2022年-02月-12日 Saturday 17:59:36'"
          },
          "metadata": {}
        }
      ],
      "execution_count": 54,
      "metadata": {},
      "id": "ec4012ff"
    },
    {
      "cell_type": "code",
      "source": [
        "t.tzinfo"
      ],
      "outputs": [
        {
          "output_type": "execute_result",
          "execution_count": 58,
          "data": {
            "text/plain": "datetime.timezone(datetime.timedelta(seconds=28800), '中国标准时间')"
          },
          "metadata": {}
        }
      ],
      "execution_count": 58,
      "metadata": {},
      "id": "a55a3525"
    },
    {
      "cell_type": "code",
      "source": [
        "\n",
        "t.strftime(\"%Y{year}-%m{month}-%d{day} %A %H:%M:%S\".format(year='年', month='月', day='日'))"
      ],
      "outputs": [
        {
          "output_type": "execute_result",
          "execution_count": 55,
          "data": {
            "text/plain": "'2022年-02月-12日 Saturday 17:59:36'"
          },
          "metadata": {}
        }
      ],
      "execution_count": 55,
      "metadata": {},
      "id": "c1e2e258"
    },
    {
      "cell_type": "code",
      "source": [
        "s = '2022年-02月-12日 Saturday 17:59:36'"
      ],
      "outputs": [],
      "execution_count": 59,
      "metadata": {},
      "id": "3d756b48"
    },
    {
      "cell_type": "code",
      "source": [
        "t3 = datetime.strptime(s, \"%Y年-%m月-%d日 %A %H:%M:%S\")\n",
        "t3"
      ],
      "outputs": [
        {
          "output_type": "execute_result",
          "execution_count": 61,
          "data": {
            "text/plain": "datetime.datetime(2022, 2, 12, 17, 59, 36)"
          },
          "metadata": {}
        }
      ],
      "execution_count": 61,
      "metadata": {},
      "id": "4bfdd74e"
    },
    {
      "cell_type": "markdown",
      "source": [
        "日期时间类型进行 互操作。尽量采用标准化格式。\n",
        "\n",
        "ISO8061 "
      ],
      "metadata": {},
      "id": "3479581f"
    },
    {
      "cell_type": "code",
      "source": [
        "s = t.isoformat()\n",
        "s"
      ],
      "outputs": [
        {
          "output_type": "execute_result",
          "execution_count": 62,
          "data": {
            "text/plain": "'2022-02-12T18:11:42.986005+08:00'"
          },
          "metadata": {}
        }
      ],
      "execution_count": 62,
      "metadata": {},
      "id": "4490719f"
    },
    {
      "cell_type": "code",
      "source": [
        "print(s)"
      ],
      "outputs": [
        {
          "output_type": "stream",
          "name": "stdout",
          "text": [
            "2022-02-12T18:11:42.986005+08:00\n"
          ]
        }
      ],
      "execution_count": 63,
      "metadata": {},
      "id": "f18f5af8"
    },
    {
      "cell_type": "code",
      "source": [
        "t5 = datetime.fromisoformat(s)\n",
        "print(t5)"
      ],
      "outputs": [
        {
          "output_type": "stream",
          "name": "stdout",
          "text": [
            "2022-02-12 18:11:42.986005+08:00\n"
          ]
        }
      ],
      "execution_count": 64,
      "metadata": {},
      "id": "da1e17b2"
    },
    {
      "cell_type": "code",
      "source": [
        "print(type(t5))"
      ],
      "outputs": [
        {
          "output_type": "stream",
          "name": "stdout",
          "text": [
            "<class 'datetime.datetime'>\n"
          ]
        }
      ],
      "execution_count": 65,
      "metadata": {},
      "id": "4a11bb48"
    },
    {
      "cell_type": "markdown",
      "source": [
        "## 第四节 用正则表达式验证特定格式数据\r\n",
        "https://www.bilibili.com/video/BV1CJ411r7j9?p=4"
      ],
      "metadata": {
        "nteract": {
          "transient": {
            "deleting": false
          }
        }
      },
      "id": "17bb8d79"
    },
    {
      "cell_type": "markdown",
      "source": [
        "正则表达式"
      ],
      "metadata": {
        "nteract": {
          "transient": {
            "deleting": false
          }
        }
      },
      "id": "2698d4ba-3d98-44ad-807d-f43d77bd944a"
    },
    {
      "cell_type": "code",
      "source": [
        "import re"
      ],
      "outputs": [],
      "execution_count": 1,
      "metadata": {
        "collapsed": true,
        "jupyter": {
          "source_hidden": false,
          "outputs_hidden": false
        },
        "nteract": {
          "transient": {
            "deleting": false
          }
        },
        "execution": {
          "iopub.status.busy": "2022-02-17T04:06:36.624Z",
          "iopub.execute_input": "2022-02-17T04:06:36.651Z",
          "shell.execute_reply": "2022-02-17T04:06:37.388Z",
          "iopub.status.idle": "2022-02-17T04:06:37.424Z"
        }
      },
      "id": "9327bf91-89e6-4252-8ac5-5fba74633a02"
    },
    {
      "cell_type": "code",
      "source": [
        "def is_valid_cellpone(s):\r\n",
        "    pattern = re.compile(r'^[1]([3-9])[0-9]{9}$')\r\n",
        "    if pattern.match(s):\r\n",
        "        return True\r\n",
        "    else:\r\n",
        "        return False\r\n",
        "\r\n",
        "# 一个八股格式"
      ],
      "outputs": [],
      "execution_count": 4,
      "metadata": {
        "collapsed": true,
        "jupyter": {
          "source_hidden": false,
          "outputs_hidden": false
        },
        "nteract": {
          "transient": {
            "deleting": false
          }
        },
        "execution": {
          "iopub.status.busy": "2022-02-17T04:13:09.438Z",
          "iopub.execute_input": "2022-02-17T04:13:09.467Z",
          "iopub.status.idle": "2022-02-17T04:13:09.519Z",
          "shell.execute_reply": "2022-02-17T04:13:09.545Z"
        }
      },
      "id": "357806ba-b16d-479a-85a4-1d7e423bc6a3"
    },
    {
      "cell_type": "code",
      "source": [
        "is_valid_cellpone('18146275556')"
      ],
      "outputs": [
        {
          "output_type": "execute_result",
          "execution_count": 5,
          "data": {
            "text/plain": "True"
          },
          "metadata": {}
        }
      ],
      "execution_count": 5,
      "metadata": {
        "collapsed": true,
        "jupyter": {
          "source_hidden": false,
          "outputs_hidden": false
        },
        "nteract": {
          "transient": {
            "deleting": false
          }
        },
        "execution": {
          "iopub.status.busy": "2022-02-17T04:13:10.016Z",
          "iopub.execute_input": "2022-02-17T04:13:10.041Z",
          "iopub.status.idle": "2022-02-17T04:13:10.100Z",
          "shell.execute_reply": "2022-02-17T04:13:10.121Z"
        }
      },
      "id": "3d15d16c-4ba1-468c-acb5-c18b5be74094"
    },
    {
      "cell_type": "code",
      "source": [
        "is_valid_cellpone('12146275556')"
      ],
      "outputs": [
        {
          "output_type": "execute_result",
          "execution_count": 6,
          "data": {
            "text/plain": "False"
          },
          "metadata": {}
        }
      ],
      "execution_count": 6,
      "metadata": {
        "collapsed": true,
        "jupyter": {
          "source_hidden": false,
          "outputs_hidden": false
        },
        "nteract": {
          "transient": {
            "deleting": false
          }
        },
        "execution": {
          "iopub.status.busy": "2022-02-17T04:13:52.262Z",
          "iopub.execute_input": "2022-02-17T04:13:52.291Z",
          "iopub.status.idle": "2022-02-17T04:13:52.350Z",
          "shell.execute_reply": "2022-02-17T04:13:52.380Z"
        }
      },
      "id": "a6e429c9-fa91-4184-b3ee-55005f84c97e"
    },
    {
      "cell_type": "code",
      "source": [
        "is_valid_cellpone('1814627s556')"
      ],
      "outputs": [
        {
          "output_type": "execute_result",
          "execution_count": 7,
          "data": {
            "text/plain": "False"
          },
          "metadata": {}
        }
      ],
      "execution_count": 7,
      "metadata": {
        "collapsed": true,
        "jupyter": {
          "source_hidden": false,
          "outputs_hidden": false
        },
        "nteract": {
          "transient": {
            "deleting": false
          }
        },
        "execution": {
          "iopub.status.busy": "2022-02-17T04:14:14.589Z",
          "iopub.execute_input": "2022-02-17T04:14:14.619Z",
          "iopub.status.idle": "2022-02-17T04:14:14.678Z",
          "shell.execute_reply": "2022-02-17T04:14:14.703Z"
        }
      },
      "id": "154b668d-3d95-417d-8291-6ffe0d1d06f2"
    },
    {
      "cell_type": "code",
      "source": [
        "def is_valid_email(s):\r\n",
        "    pattern = re.compile(r'(^[a-zA-Z0-9_.+-]+@[a-zA-Z0-9-]+\\.[a-zA-Z0-9-.]+$)')\r\n",
        "    if pattern.match(s):\r\n",
        "        return True\r\n",
        "    else:\r\n",
        "        return False\r\n",
        "\r\n",
        "# 一个八股格式"
      ],
      "outputs": [],
      "execution_count": 10,
      "metadata": {
        "collapsed": true,
        "jupyter": {
          "source_hidden": false,
          "outputs_hidden": false
        },
        "nteract": {
          "transient": {
            "deleting": false
          }
        },
        "execution": {
          "iopub.status.busy": "2022-02-17T04:19:57.050Z",
          "iopub.execute_input": "2022-02-17T04:19:57.073Z",
          "iopub.status.idle": "2022-02-17T04:19:57.111Z",
          "shell.execute_reply": "2022-02-17T04:19:57.135Z"
        }
      },
      "id": "c770d073-2a18-4098-8d91-34302c081134"
    },
    {
      "cell_type": "code",
      "source": [
        "is_valid_email('leeyy0711@pku.edu.cn')"
      ],
      "outputs": [
        {
          "output_type": "execute_result",
          "execution_count": 11,
          "data": {
            "text/plain": "True"
          },
          "metadata": {}
        }
      ],
      "execution_count": 11,
      "metadata": {
        "collapsed": true,
        "jupyter": {
          "source_hidden": false,
          "outputs_hidden": false
        },
        "nteract": {
          "transient": {
            "deleting": false
          }
        },
        "execution": {
          "iopub.status.busy": "2022-02-17T04:19:57.565Z",
          "iopub.execute_input": "2022-02-17T04:19:57.591Z",
          "iopub.status.idle": "2022-02-17T04:19:57.642Z",
          "shell.execute_reply": "2022-02-17T04:19:57.668Z"
        }
      },
      "id": "3cf0dd58-c1d0-4987-9e3b-113d159d4272"
    },
    {
      "cell_type": "code",
      "source": [
        "is_valid_email(\"foo@bar.com\")"
      ],
      "outputs": [
        {
          "output_type": "execute_result",
          "execution_count": 13,
          "data": {
            "text/plain": "True"
          },
          "metadata": {}
        }
      ],
      "execution_count": 13,
      "metadata": {
        "collapsed": true,
        "jupyter": {
          "source_hidden": false,
          "outputs_hidden": false
        },
        "nteract": {
          "transient": {
            "deleting": false
          }
        },
        "execution": {
          "iopub.status.busy": "2022-02-17T04:20:41.038Z",
          "iopub.execute_input": "2022-02-17T04:20:41.061Z",
          "iopub.status.idle": "2022-02-17T04:20:41.121Z",
          "shell.execute_reply": "2022-02-17T04:20:41.143Z"
        }
      },
      "id": "30ce9d6f-9ebb-477d-93b7-15aa68d3c7b3"
    },
    {
      "cell_type": "code",
      "source": [
        "# 处理用户输入邮件地址合法性的问题\r\n",
        "\r\n",
        "while True:\r\n",
        "    email = input(\"Please input your mail address: \")\r\n",
        "    \r\n",
        "    if is_valid_email(email):\r\n",
        "        break\r\n",
        "    else:\r\n",
        "        print(\"Not a valid email address, input again: \")\r\n",
        "\r\n",
        "print(f\"Your email address: {email}.\")"
      ],
      "outputs": [
        {
          "output_type": "stream",
          "name": "stdout",
          "text": [
            "Your email address: leeyy0711@pku.edu.cn.\n"
          ]
        }
      ],
      "execution_count": 16,
      "metadata": {
        "collapsed": true,
        "jupyter": {
          "source_hidden": false,
          "outputs_hidden": false
        },
        "nteract": {
          "transient": {
            "deleting": false
          }
        },
        "execution": {
          "iopub.status.busy": "2022-02-17T04:26:07.169Z",
          "iopub.execute_input": "2022-02-17T04:26:07.198Z",
          "iopub.status.idle": "2022-02-17T04:26:19.409Z",
          "shell.execute_reply": "2022-02-17T04:26:19.456Z"
        }
      },
      "id": "377bcc42-0ab6-4c59-a453-38e03e9c009b"
    }
  ],
  "metadata": {
    "kernelspec": {
      "display_name": "Python [conda env:root] *",
      "language": "python",
      "name": "conda-root-py"
    },
    "language_info": {
      "name": "python",
      "version": "3.7.3",
      "mimetype": "text/x-python",
      "codemirror_mode": {
        "name": "ipython",
        "version": 3
      },
      "pygments_lexer": "ipython3",
      "nbconvert_exporter": "python",
      "file_extension": ".py"
    },
    "latex_envs": {
      "report_style_numbering": false,
      "hotkeys": {
        "equation": "Ctrl-E",
        "itemize": "Ctrl-I"
      },
      "LaTeX_envs_menu_present": true,
      "autocomplete": true,
      "autoclose": false,
      "eqNumInitial": 1,
      "bibliofile": "biblio.bib",
      "latex_user_defs": false,
      "current_citInitial": 1,
      "eqLabelWithNumbers": true,
      "labels_anchors": false,
      "cite_by": "apalike",
      "user_envs_cfg": false
    },
    "toc": {
      "toc_position": {},
      "skip_h1_title": true,
      "number_sections": true,
      "title_cell": "Table of Contents",
      "toc_window_display": false,
      "base_numbering": 1,
      "toc_section_display": true,
      "title_sidebar": "Contents",
      "toc_cell": false,
      "nav_menu": {},
      "sideBar": true
    },
    "nteract": {
      "version": "0.28.0"
    }
  },
  "nbformat": 4,
  "nbformat_minor": 5
}